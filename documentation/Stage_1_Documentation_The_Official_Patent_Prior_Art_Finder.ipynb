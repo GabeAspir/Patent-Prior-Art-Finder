{
  "nbformat": 4,
  "nbformat_minor": 0,
  "metadata": {
    "colab": {
      "name": "Stage_1_Documentation_The_Official_Patent_Prior_Art_Finder.ipynb",
      "provenance": [],
      "authorship_tag": "ABX9TyP+Pi668ckIzUZHkkcWmshI",
      "include_colab_link": true
    },
    "kernelspec": {
      "display_name": "Python 3",
      "name": "python3"
    },
    "language_info": {
      "name": "python"
    }
  },
  "cells": [
    {
      "cell_type": "markdown",
      "metadata": {
        "id": "view-in-github",
        "colab_type": "text"
      },
      "source": [
        "<a href=\"https://colab.research.google.com/github/GabeAspir/Patent-Prior-Art-Finder/blob/main/documentation/Stage_1_Documentation_The_Official_Patent_Prior_Art_Finder.ipynb\" target=\"_parent\"><img src=\"https://colab.research.google.com/assets/colab-badge.svg\" alt=\"Open In Colab\"/></a>"
      ]
    },
    {
      "cell_type": "markdown",
      "metadata": {
        "id": "KMkF5nh1YzbR"
      },
      "source": [
        "#The Patent Prior Art Finder"
      ]
    },
    {
      "cell_type": "markdown",
      "metadata": {
        "id": "IJuR29rDYqk2"
      },
      "source": [
        "### By Gabriel Aspir, Zach Fish, Ephraim Meiri<br>\n",
        "### mentored by Dave Feltenberger"
      ]
    },
    {
      "cell_type": "markdown",
      "metadata": {
        "id": "s3NxFIr5ZAJ1"
      },
      "source": [
        "### Our Goal:<br>\n",
        "When given a huge dataset of patents, we want to be able to compare and contrast them in meaningful ways, as well as compare them to new patents.<br>\n",
        "Real World Example: Let's say somebody wants to get themselves their very own patent. They have to do research first to make sure that they're idea is patentable, and not similar to any other patents currently out there, for if it was, a possible lawsuit could occur."
      ]
    },
    {
      "cell_type": "markdown",
      "metadata": {
        "id": "zzG8UuNaaKk7"
      },
      "source": [
        "First, let's import our Patent-Prior-Art-Finder as an object. (Currently, only available to those with access to the github repo to download the file itself into Colab)"
      ]
    },
    {
      "cell_type": "code",
      "metadata": {
        "id": "bUSlC0xZYMmf"
      },
      "source": [
        "from _DevPatentPriorArtFinder import _DevPatentPriorArtFinder as d\n",
        "patentFinder = d()"
      ],
      "execution_count": 1,
      "outputs": []
    },
    {
      "cell_type": "markdown",
      "metadata": {
        "id": "ESwEPHJ6BE0S"
      },
      "source": [
        "Now let's see the types of things we can do with 100 patents"
      ]
    },
    {
      "cell_type": "code",
      "metadata": {
        "colab": {
          "base_uri": "https://localhost:8080/",
          "height": 1000
        },
        "id": "DKM2x2BI43T0",
        "outputId": "a35fcef9-0fc9-41b5-c080-7e0eb3fe4db5"
      },
      "source": [
        "url = 'https://drive.google.com/file/d/1WPm941QT8m0bYJwZd_eY3SHjgcD6k2Z_/view?usp=sharing'\n",
        "file_id = url.split('/')[-2]\n",
        "dwn_url='https://drive.google.com/uc?id=' + file_id\n",
        "\n",
        "dataframe = patentFinder.init(dwn_url, 'Publication_Number', 'Abstract')\n",
        "dataframe"
      ],
      "execution_count": 2,
      "outputs": [
        {
          "output_type": "execute_result",
          "data": {
            "text/html": [
              "<div>\n",
              "<style scoped>\n",
              "    .dataframe tbody tr th:only-of-type {\n",
              "        vertical-align: middle;\n",
              "    }\n",
              "\n",
              "    .dataframe tbody tr th {\n",
              "        vertical-align: top;\n",
              "    }\n",
              "\n",
              "    .dataframe thead th {\n",
              "        text-align: right;\n",
              "    }\n",
              "</style>\n",
              "<table border=\"1\" class=\"dataframe\">\n",
              "  <thead>\n",
              "    <tr style=\"text-align: right;\">\n",
              "      <th></th>\n",
              "      <th>Publication_Number</th>\n",
              "      <th>Abstract</th>\n",
              "      <th>description</th>\n",
              "      <th>claim</th>\n",
              "      <th>Tokens</th>\n",
              "      <th>BagOfWords</th>\n",
              "      <th>TF-IDF</th>\n",
              "    </tr>\n",
              "  </thead>\n",
              "  <tbody>\n",
              "    <tr>\n",
              "      <th>0</th>\n",
              "      <td>US-8524855-B1</td>\n",
              "      <td>Environmentally-friendly, biodegradable polyol...</td>\n",
              "      <td>CROSS-REFERENCE TO RELATED APPLICATIONS \\n    ...</td>\n",
              "      <td>We claim: \\n     \\n       1. A method for maki...</td>\n",
              "      <td>[environmentally, friendly, biodegradable, pol...</td>\n",
              "      <td>[1, 1, 1, 3, 1, 1, 1, 3, 1, 1, 1, 1, 1, 1, 1, ...</td>\n",
              "      <td>[0.08689000350920928, 0.08689000350920928, 0.0...</td>\n",
              "    </tr>\n",
              "    <tr>\n",
              "      <th>1</th>\n",
              "      <td>US-2017096783-A1</td>\n",
              "      <td>A light reference system includes a first, sec...</td>\n",
              "      <td>CROSS-REFERENCE TO RELATED APPLICATION \\n     ...</td>\n",
              "      <td>1 . A light reference system, comprising:\\n a ...</td>\n",
              "      <td>[light, reference, system, includes, first, se...</td>\n",
              "      <td>[0, 0, 0, 0, 0, 0, 0, 0, 0, 0, 0, 0, 0, 0, 0, ...</td>\n",
              "      <td>[0.0, 0.0, 0.0, 0.0, 0.0, 0.0, 0.0, 0.0, 0.0, ...</td>\n",
              "    </tr>\n",
              "    <tr>\n",
              "      <th>2</th>\n",
              "      <td>US-2019313201-A1</td>\n",
              "      <td>A system and method for externalizing sound. T...</td>\n",
              "      <td>BACKGROUND \\n     The disclosure relates to me...</td>\n",
              "      <td>1 . A sound externalization system, comprising...</td>\n",
              "      <td>[system, method, externalizing, sound, system,...</td>\n",
              "      <td>[0, 0, 0, 0, 0, 0, 0, 0, 0, 0, 0, 0, 0, 0, 0, ...</td>\n",
              "      <td>[0.0, 0.0, 0.0, 0.0, 0.0, 0.0, 0.0, 0.0, 0.0, ...</td>\n",
              "    </tr>\n",
              "    <tr>\n",
              "      <th>3</th>\n",
              "      <td>US-2011175459-A1</td>\n",
              "      <td>A method for controlling and supplying power t...</td>\n",
              "      <td>The invention relates to a method for controll...</td>\n",
              "      <td>1 . Method for controlling and supplying power...</td>\n",
              "      <td>[method, controlling, supplying, power, least,...</td>\n",
              "      <td>[0, 0, 0, 0, 0, 0, 0, 0, 0, 0, 0, 0, 0, 0, 0, ...</td>\n",
              "      <td>[0.0, 0.0, 0.0, 0.0, 0.0, 0.0, 0.0, 0.0, 0.0, ...</td>\n",
              "    </tr>\n",
              "    <tr>\n",
              "      <th>4</th>\n",
              "      <td>US-6692884-B2</td>\n",
              "      <td>A positive photoresist composition comprises: ...</td>\n",
              "      <td>FIELD OF THE INVENTION \\n     The present inve...</td>\n",
              "      <td>What is claimed is:  \\n     \\n       1. A posi...</td>\n",
              "      <td>[positive, photoresist, composition, comprises...</td>\n",
              "      <td>[0, 0, 0, 0, 0, 0, 0, 0, 0, 0, 0, 0, 0, 0, 0, ...</td>\n",
              "      <td>[0.0, 0.0, 0.0, 0.0, 0.0, 0.0, 0.0, 0.0, 0.0, ...</td>\n",
              "    </tr>\n",
              "    <tr>\n",
              "      <th>...</th>\n",
              "      <td>...</td>\n",
              "      <td>...</td>\n",
              "      <td>...</td>\n",
              "      <td>...</td>\n",
              "      <td>...</td>\n",
              "      <td>...</td>\n",
              "      <td>...</td>\n",
              "    </tr>\n",
              "    <tr>\n",
              "      <th>95</th>\n",
              "      <td>US-2017072818-A1</td>\n",
              "      <td>A seat reclining device includes a first brack...</td>\n",
              "      <td>TECHNICAL FIELD \\n     The present invention r...</td>\n",
              "      <td>1 . A seat reclining device comprising:\\n a fi...</td>\n",
              "      <td>[seat, reclining, device, includes, first, bra...</td>\n",
              "      <td>[0, 0, 0, 0, 0, 0, 0, 0, 0, 0, 0, 0, 0, 0, 0, ...</td>\n",
              "      <td>[0.0, 0.0, 0.0, 0.0, 0.0, 0.0, 0.0, 0.0, 0.0, ...</td>\n",
              "    </tr>\n",
              "    <tr>\n",
              "      <th>96</th>\n",
              "      <td>US-2020184075-A1</td>\n",
              "      <td>An image forming apparatus to which an externa...</td>\n",
              "      <td>The entire disclosure of Japanese patent Appli...</td>\n",
              "      <td>What is claimed is: \\n     \\n         1 . An i...</td>\n",
              "      <td>[image, forming, apparatus, external, storage,...</td>\n",
              "      <td>[0, 0, 0, 0, 0, 0, 0, 0, 0, 0, 0, 0, 0, 0, 0, ...</td>\n",
              "      <td>[0.0, 0.0, 0.0, 0.0, 0.0, 0.0, 0.0, 0.0, 0.0, ...</td>\n",
              "    </tr>\n",
              "    <tr>\n",
              "      <th>97</th>\n",
              "      <td>US-2010032961-A1</td>\n",
              "      <td>A wind turbine generator that allows for size ...</td>\n",
              "      <td>RELATED APPLICATIONS \\n     The present applic...</td>\n",
              "      <td>1 . A wind turbine generator that generates el...</td>\n",
              "      <td>[wind, turbine, generator, allows, size, weigh...</td>\n",
              "      <td>[0, 0, 0, 0, 0, 0, 0, 0, 0, 0, 0, 0, 0, 0, 0, ...</td>\n",
              "      <td>[0.0, 0.0, 0.0, 0.0, 0.0, 0.0, 0.0, 0.0, 0.0, ...</td>\n",
              "    </tr>\n",
              "    <tr>\n",
              "      <th>98</th>\n",
              "      <td>US-4040872-A</td>\n",
              "      <td>A process for the strengthening of carbon stee...</td>\n",
              "      <td>This invention is directed to a process for th...</td>\n",
              "      <td>I claim: \\n     \\n       1. A method for the s...</td>\n",
              "      <td>[process, strengthening, carbon, steels, where...</td>\n",
              "      <td>[0, 0, 0, 0, 0, 0, 0, 0, 0, 0, 0, 0, 0, 0, 0, ...</td>\n",
              "      <td>[0.0, 0.0, 0.0, 0.0, 0.0, 0.0, 0.0, 0.0, 0.0, ...</td>\n",
              "    </tr>\n",
              "    <tr>\n",
              "      <th>99</th>\n",
              "      <td>US-4122433-A</td>\n",
              "      <td>A fluid tight geophone case having a case nose...</td>\n",
              "      <td>BACKGROUND OF THE INVENTION \\n     1. Field of...</td>\n",
              "      <td>What is claimed is: \\n     \\n       1. A fluid...</td>\n",
              "      <td>[fluid, tight, geophone, case, case, nose, int...</td>\n",
              "      <td>[0, 0, 0, 0, 0, 0, 0, 0, 0, 0, 0, 0, 0, 0, 0, ...</td>\n",
              "      <td>[0.0, 0.0, 0.0, 0.0, 0.0, 0.0, 0.0, 0.0, 0.0, ...</td>\n",
              "    </tr>\n",
              "  </tbody>\n",
              "</table>\n",
              "<p>100 rows × 7 columns</p>\n",
              "</div>"
            ],
            "text/plain": [
              "   Publication_Number  ...                                             TF-IDF\n",
              "0       US-8524855-B1  ...  [0.08689000350920928, 0.08689000350920928, 0.0...\n",
              "1    US-2017096783-A1  ...  [0.0, 0.0, 0.0, 0.0, 0.0, 0.0, 0.0, 0.0, 0.0, ...\n",
              "2    US-2019313201-A1  ...  [0.0, 0.0, 0.0, 0.0, 0.0, 0.0, 0.0, 0.0, 0.0, ...\n",
              "3    US-2011175459-A1  ...  [0.0, 0.0, 0.0, 0.0, 0.0, 0.0, 0.0, 0.0, 0.0, ...\n",
              "4       US-6692884-B2  ...  [0.0, 0.0, 0.0, 0.0, 0.0, 0.0, 0.0, 0.0, 0.0, ...\n",
              "..                ...  ...                                                ...\n",
              "95   US-2017072818-A1  ...  [0.0, 0.0, 0.0, 0.0, 0.0, 0.0, 0.0, 0.0, 0.0, ...\n",
              "96   US-2020184075-A1  ...  [0.0, 0.0, 0.0, 0.0, 0.0, 0.0, 0.0, 0.0, 0.0, ...\n",
              "97   US-2010032961-A1  ...  [0.0, 0.0, 0.0, 0.0, 0.0, 0.0, 0.0, 0.0, 0.0, ...\n",
              "98       US-4040872-A  ...  [0.0, 0.0, 0.0, 0.0, 0.0, 0.0, 0.0, 0.0, 0.0, ...\n",
              "99       US-4122433-A  ...  [0.0, 0.0, 0.0, 0.0, 0.0, 0.0, 0.0, 0.0, 0.0, ...\n",
              "\n",
              "[100 rows x 7 columns]"
            ]
          },
          "metadata": {
            "tags": []
          },
          "execution_count": 2
        }
      ]
    },
    {
      "cell_type": "markdown",
      "metadata": {
        "id": "NIQqTb-8BSF0"
      },
      "source": [
        "We can create a table representing the Jaccard Similarity between each and every patent."
      ]
    },
    {
      "cell_type": "code",
      "metadata": {
        "colab": {
          "base_uri": "https://localhost:8080/",
          "height": 283
        },
        "id": "DjgFM2lYBLu3",
        "outputId": "e9a80e18-d608-4603-e0b1-e4487e111ece"
      },
      "source": [
        "patentFinder.jaccardTable(dataframe)"
      ],
      "execution_count": 3,
      "outputs": [
        {
          "output_type": "error",
          "ename": "TypeError",
          "evalue": "ignored",
          "traceback": [
            "\u001b[0;31m---------------------------------------------------------------------------\u001b[0m",
            "\u001b[0;31mTypeError\u001b[0m                                 Traceback (most recent call last)",
            "\u001b[0;32m<ipython-input-3-aa32d0b5b5cc>\u001b[0m in \u001b[0;36m<module>\u001b[0;34m()\u001b[0m\n\u001b[0;32m----> 1\u001b[0;31m \u001b[0mpatentFinder\u001b[0m\u001b[0;34m.\u001b[0m\u001b[0mjaccardTable\u001b[0m\u001b[0;34m(\u001b[0m\u001b[0mdataframe\u001b[0m\u001b[0;34m)\u001b[0m\u001b[0;34m\u001b[0m\u001b[0;34m\u001b[0m\u001b[0m\n\u001b[0m",
            "\u001b[0;32m/content/_DevPatentPriorArtFinder.py\u001b[0m in \u001b[0;36mjaccardTable\u001b[0;34m(self, dataframe)\u001b[0m\n\u001b[1;32m    210\u001b[0m                           ' Make sure this is the dataframe returned from init')\n\u001b[1;32m    211\u001b[0m         \u001b[0;32mfor\u001b[0m \u001b[0mrow\u001b[0m \u001b[0;32min\u001b[0m \u001b[0mdataframe\u001b[0m\u001b[0;34m[\u001b[0m\u001b[0;34m'BagOfWords'\u001b[0m\u001b[0;34m]\u001b[0m\u001b[0;34m:\u001b[0m\u001b[0;34m\u001b[0m\u001b[0;34m\u001b[0m\u001b[0m\n\u001b[0;32m--> 212\u001b[0;31m             \u001b[0;32mif\u001b[0m \u001b[0;32mnot\u001b[0m \u001b[0mall\u001b[0m\u001b[0;34m(\u001b[0m\u001b[0misinstance\u001b[0m\u001b[0;34m(\u001b[0m\u001b[0mrow\u001b[0m\u001b[0;34m,\u001b[0m\u001b[0mlist\u001b[0m\u001b[0;34m)\u001b[0m\u001b[0;34m)\u001b[0m\u001b[0;34m:\u001b[0m\u001b[0;34m\u001b[0m\u001b[0;34m\u001b[0m\u001b[0m\n\u001b[0m\u001b[1;32m    213\u001b[0m                 \u001b[0;32mraise\u001b[0m \u001b[0mIOError\u001b[0m\u001b[0;34m(\u001b[0m\u001b[0;34m'The contents of BagOfWords column were not all lists.'\u001b[0m\u001b[0;34m)\u001b[0m\u001b[0;34m\u001b[0m\u001b[0;34m\u001b[0m\u001b[0m\n\u001b[1;32m    214\u001b[0m             \u001b[0;32melif\u001b[0m \u001b[0mall\u001b[0m\u001b[0;34m(\u001b[0m\u001b[0misinstance\u001b[0m\u001b[0;34m(\u001b[0m\u001b[0mentry\u001b[0m\u001b[0;34m,\u001b[0m\u001b[0;34m(\u001b[0m\u001b[0mint\u001b[0m\u001b[0;34m,\u001b[0m\u001b[0mfloat\u001b[0m\u001b[0;34m)\u001b[0m\u001b[0;34m)\u001b[0m\u001b[0;32mfor\u001b[0m \u001b[0mentry\u001b[0m \u001b[0;32min\u001b[0m \u001b[0mrow\u001b[0m\u001b[0;34m)\u001b[0m \u001b[0;32mis\u001b[0m \u001b[0;32mFalse\u001b[0m\u001b[0;34m:\u001b[0m\u001b[0;34m\u001b[0m\u001b[0;34m\u001b[0m\u001b[0m\n",
            "\u001b[0;31mTypeError\u001b[0m: 'bool' object is not iterable"
          ]
        }
      ]
    },
    {
      "cell_type": "markdown",
      "metadata": {
        "id": "8NkQFnMpDEWq"
      },
      "source": [
        "Cosine Similarity Table"
      ]
    },
    {
      "cell_type": "code",
      "metadata": {
        "colab": {
          "base_uri": "https://localhost:8080/",
          "height": 300
        },
        "id": "ryeNiCNdDDeB",
        "outputId": "c97ed44d-0a21-4c20-8767-7e5de02e40d3"
      },
      "source": [
        "cosineTable1 = patentFinder.cosineTable(dataframe)\n",
        "cosineTable1"
      ],
      "execution_count": 4,
      "outputs": [
        {
          "output_type": "error",
          "ename": "TypeError",
          "evalue": "ignored",
          "traceback": [
            "\u001b[0;31m---------------------------------------------------------------------------\u001b[0m",
            "\u001b[0;31mTypeError\u001b[0m                                 Traceback (most recent call last)",
            "\u001b[0;32m<ipython-input-4-a60e3f4f020e>\u001b[0m in \u001b[0;36m<module>\u001b[0;34m()\u001b[0m\n\u001b[0;32m----> 1\u001b[0;31m \u001b[0mcosineTable1\u001b[0m \u001b[0;34m=\u001b[0m \u001b[0mpatentFinder\u001b[0m\u001b[0;34m.\u001b[0m\u001b[0mcosineTable\u001b[0m\u001b[0;34m(\u001b[0m\u001b[0mdataframe\u001b[0m\u001b[0;34m)\u001b[0m\u001b[0;34m\u001b[0m\u001b[0;34m\u001b[0m\u001b[0m\n\u001b[0m\u001b[1;32m      2\u001b[0m \u001b[0mcosineTable1\u001b[0m\u001b[0;34m\u001b[0m\u001b[0;34m\u001b[0m\u001b[0m\n",
            "\u001b[0;32m/content/_DevPatentPriorArtFinder.py\u001b[0m in \u001b[0;36mcosineTable\u001b[0;34m(self, dataframe)\u001b[0m\n\u001b[1;32m    300\u001b[0m                           ' Make sure this is the dataframe returned from init')\n\u001b[1;32m    301\u001b[0m         \u001b[0;32mfor\u001b[0m \u001b[0mrow\u001b[0m \u001b[0;32min\u001b[0m \u001b[0mdataframe\u001b[0m\u001b[0;34m[\u001b[0m\u001b[0;34m'BagOfWords'\u001b[0m\u001b[0;34m]\u001b[0m\u001b[0;34m:\u001b[0m\u001b[0;34m\u001b[0m\u001b[0;34m\u001b[0m\u001b[0m\n\u001b[0;32m--> 302\u001b[0;31m             \u001b[0;32mif\u001b[0m \u001b[0;32mnot\u001b[0m \u001b[0mall\u001b[0m\u001b[0;34m(\u001b[0m\u001b[0misinstance\u001b[0m\u001b[0;34m(\u001b[0m\u001b[0mrow\u001b[0m\u001b[0;34m,\u001b[0m\u001b[0mlist\u001b[0m\u001b[0;34m)\u001b[0m\u001b[0;34m)\u001b[0m\u001b[0;34m:\u001b[0m\u001b[0;34m\u001b[0m\u001b[0;34m\u001b[0m\u001b[0m\n\u001b[0m\u001b[1;32m    303\u001b[0m                 \u001b[0;32mraise\u001b[0m \u001b[0mIOError\u001b[0m\u001b[0;34m(\u001b[0m\u001b[0;34m'The contents of BagOfWords column were not all lists.'\u001b[0m\u001b[0;34m)\u001b[0m\u001b[0;34m\u001b[0m\u001b[0;34m\u001b[0m\u001b[0m\n\u001b[1;32m    304\u001b[0m             \u001b[0;32melif\u001b[0m \u001b[0mall\u001b[0m\u001b[0;34m(\u001b[0m\u001b[0misinstance\u001b[0m\u001b[0;34m(\u001b[0m\u001b[0mentry\u001b[0m\u001b[0;34m,\u001b[0m\u001b[0;34m(\u001b[0m\u001b[0mint\u001b[0m\u001b[0;34m,\u001b[0m\u001b[0mfloat\u001b[0m\u001b[0;34m)\u001b[0m\u001b[0;34m)\u001b[0m\u001b[0;32mfor\u001b[0m \u001b[0mentry\u001b[0m \u001b[0;32min\u001b[0m \u001b[0mrow\u001b[0m\u001b[0;34m)\u001b[0m \u001b[0;32mis\u001b[0m \u001b[0;32mFalse\u001b[0m\u001b[0;34m:\u001b[0m\u001b[0;34m\u001b[0m\u001b[0;34m\u001b[0m\u001b[0m\n",
            "\u001b[0;31mTypeError\u001b[0m: 'bool' object is not iterable"
          ]
        }
      ]
    },
    {
      "cell_type": "markdown",
      "metadata": {
        "id": "oDOG0933Dgek"
      },
      "source": [
        "Cosine and Jaccard Similarity between 2 unlike patents"
      ]
    },
    {
      "cell_type": "code",
      "metadata": {
        "id": "IhUy3lcQDrFM"
      },
      "source": [
        "patent1 = dataframe.at[76,'BagOfWords']\n",
        "patent2 = dataframe.at[34,'BagOfWords']"
      ],
      "execution_count": 5,
      "outputs": []
    },
    {
      "cell_type": "code",
      "metadata": {
        "colab": {
          "base_uri": "https://localhost:8080/"
        },
        "id": "Dea_3PIDDfoy",
        "outputId": "4ae9aa1c-7b15-4769-f1d5-41ea94bd7f98"
      },
      "source": [
        "patentFinder.cosineSimilarity(patent1,patent2)"
      ],
      "execution_count": 6,
      "outputs": [
        {
          "output_type": "execute_result",
          "data": {
            "text/plain": [
              "0.014712247158412491"
            ]
          },
          "metadata": {
            "tags": []
          },
          "execution_count": 6
        }
      ]
    },
    {
      "cell_type": "code",
      "metadata": {
        "colab": {
          "base_uri": "https://localhost:8080/"
        },
        "id": "ilPYTtkwEJlQ",
        "outputId": "1e3ea41e-d0e5-44d8-a809-bc776dd499cc"
      },
      "source": [
        "patentFinder.jaccardSimilarity(patent1, patent2)"
      ],
      "execution_count": 7,
      "outputs": [
        {
          "output_type": "execute_result",
          "data": {
            "text/plain": [
              "0.022988505747126436"
            ]
          },
          "metadata": {
            "tags": []
          },
          "execution_count": 7
        }
      ]
    }
  ]
}