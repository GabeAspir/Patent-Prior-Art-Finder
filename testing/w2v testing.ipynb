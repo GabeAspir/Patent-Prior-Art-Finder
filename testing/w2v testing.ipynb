{
 "cells": [
  {
   "cell_type": "code",
   "execution_count": 1,
   "metadata": {
    "collapsed": true
   },
   "outputs": [
    {
     "name": "stderr",
     "output_type": "stream",
     "text": [
      "C:\\Users\\mocka\\mambaforge\\lib\\site-packages\\gensim\\similarities\\__init__.py:15: UserWarning: The gensim.similarities.levenshtein submodule is disabled, because the optional Levenshtein package <https://pypi.org/project/python-Levenshtein/> is unavailable. Install Levenhstein (e.g. `pip install python-Levenshtein`) to suppress this warning.\n",
      "  warnings.warn(msg)\n"
     ]
    }
   ],
   "source": [
    "import scipy.spatial.distance\n",
    "import pandas as pd\n",
    "import numpy as np\n",
    "import re\n",
    "import os\n",
    "from nltk.tokenize import word_tokenize\n",
    "from nltk.corpus import stopwords\n",
    "from gensim.models import Word2Vec\n",
    "from gensim import models\n",
    "from gensim.corpora import Dictionary\n",
    "from timeit import default_timer as timer\n",
    "\n",
    "dictionary = Dictionary()\n",
    "tfidf_gensim = models.TfidfModel()\n",
    "model_words = None\n",
    "\n",
    "def tokenizeText(string):\n",
    "    #prepares the string for tokenization, to lowercase, then removes punctutation, then changes numbers to _NUM_\n",
    "    string = string.lower()\n",
    "    string = re.sub(r\"\\d+\\.?\\d*\", \" _NUM_ \", string)\n",
    "    string = re.sub(r'[^\\w\\s]', '',string)\n",
    "    stop_words = set(stopwords.words(\"english\"))\n",
    "    tokenized = word_tokenize(string)\n",
    "    return [word for word in tokenized if not word.lower() in stop_words]"
   ]
  },
  {
   "cell_type": "code",
   "execution_count": 2,
   "outputs": [],
   "source": [
    "fiveThsnd= r\"C:\\Users\\mocka\\PycharmProjects\\Patent-Prior-Art-Finder\\Patent Queries\\5000PatentsAbstractAndCitationsJson.json\"\n",
    "texts = pd.io.json.read_json(fiveThsnd)[\"Abstract\"]\n",
    "tokens=  texts.apply(tokenizeText)\n",
    "\n"
   ],
   "metadata": {
    "collapsed": false,
    "pycharm": {
     "name": "#%%\n"
    }
   }
  },
  {
   "cell_type": "code",
   "execution_count": 3,
   "outputs": [
    {
     "data": {
      "text/plain": "(1401012, 1658985)"
     },
     "execution_count": 3,
     "metadata": {},
     "output_type": "execute_result"
    }
   ],
   "source": [
    "# makeModel\n",
    "dictionary.add_documents(tokens)\n",
    "model_words = Word2Vec(tokens,vector_size=50)\n",
    "model_words = model_words\n",
    "model_words.build_vocab(tokens, update=True)\n",
    "model_words.train(tokens, total_examples=model_words.corpus_count,\n",
    "                       epochs=model_words.epochs)"
   ],
   "metadata": {
    "collapsed": false,
    "pycharm": {
     "name": "#%%\n"
    }
   }
  },
  {
   "cell_type": "code",
   "execution_count": 5,
   "outputs": [],
   "source": [
    "#def _makeEmbeddings(self, texts):\n",
    "corpus = [dictionary.doc2bow(line) for line in tokens]\n",
    "tfidf_gensim = models.TfidfModel(corpus)\n",
    "tfidfs = [tfidf_gensim[corpus[x]] for x in range(0, len(corpus))]\n",
    "\n",
    "for (tokenList, tfidfList) in zip(tokens, tfidfs):\n",
    "    sum_words = np.empty(50)\n",
    "    tfidfDict = dict(tfidfList)\n",
    "    passed = []\n",
    "    for word in tokenList:\n",
    "        index = dictionary.token2id.get(word)\n",
    "        tfidfValue = tfidfDict.get(index)\n",
    "        try:\n",
    "            print(\"Old sum: \"+str(sum_words))\n",
    "            print(\"Add vec:\"+str(model_words.wv[word]))\n",
    "            sum_words= np.add(sum_words ,model_words.wv[word])\n",
    "            # sum_tfidf= np.add(sum_tfidf,np.multiply(tfidfValue,model_words[word]))\n",
    "        except: # In case the model does not have a given word, ignore it.\n",
    "            passed.append(word)\n",
    "            pass"
   ],
   "metadata": {
    "collapsed": false,
    "pycharm": {
     "name": "#%%\n"
    }
   }
  }
 ],
 "metadata": {
  "kernelspec": {
   "name": "pycharm-3ce039d3",
   "language": "python",
   "display_name": "PyCharm (Patent-Prior-Art-Finder)"
  },
  "language_info": {
   "codemirror_mode": {
    "name": "ipython",
    "version": 2
   },
   "file_extension": ".py",
   "mimetype": "text/x-python",
   "name": "python",
   "nbconvert_exporter": "python",
   "pygments_lexer": "ipython2",
   "version": "2.7.6"
  }
 },
 "nbformat": 4,
 "nbformat_minor": 0
}