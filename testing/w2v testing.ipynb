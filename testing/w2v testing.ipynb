{
 "cells": [
  {
   "cell_type": "code",
   "execution_count": 2,
   "metadata": {
    "collapsed": true
   },
   "outputs": [
    {
     "name": "stderr",
     "output_type": "stream",
     "text": [
      "C:\\Users\\mocka\\mambaforge\\lib\\site-packages\\gensim\\similarities\\__init__.py:15: UserWarning: The gensim.similarities.levenshtein submodule is disabled, because the optional Levenshtein package <https://pypi.org/project/python-Levenshtein/> is unavailable. Install Levenhstein (e.g. `pip install python-Levenshtein`) to suppress this warning.\n",
      "  warnings.warn(msg)\n"
     ]
    }
   ],
   "source": [
    "import scipy.spatial.distance\n",
    "import pandas as pd\n",
    "import numpy as np\n",
    "import re\n",
    "import os\n",
    "from nltk.tokenize import word_tokenize\n",
    "from nltk.corpus import stopwords\n",
    "from gensim.models import Word2Vec\n",
    "from gensim import models\n",
    "from gensim.corpora import Dictionary\n",
    "from timeit import default_timer as timer\n",
    "\n",
    "dictionary = Dictionary()\n",
    "tfidf_gensim = models.TfidfModel()\n",
    "model_words = None\n",
    "\n",
    "def tokenizeText(string):\n",
    "    #prepares the string for tokenization, to lowercase, then removes punctutation, then changes numbers to _NUM_\n",
    "    string = string.lower()\n",
    "    string = re.sub(r\"\\d+\\.?\\d*\", \" _NUM_ \", string)\n",
    "    string = re.sub(r'[^\\w\\s]', '',string)\n",
    "    stop_words = set(stopwords.words(\"english\"))\n",
    "    tokenized = word_tokenize(string)\n",
    "    return [word for word in tokenized if not word.lower() in stop_words]"
   ]
  },
  {
   "cell_type": "code",
   "execution_count": 3,
   "outputs": [],
   "source": [
    "fiveThsnd= r\"C:\\Users\\mocka\\PycharmProjects\\Patent-Prior-Art-Finder\\Patent Queries\\5000PatentsAbstractAndCitationsJson.json\"\n",
    "texts = pd.io.json.read_json(fiveThsnd)[\"Abstract\"]\n",
    "tokens=  texts.apply(tokenizeText)\n",
    "\n"
   ],
   "metadata": {
    "collapsed": false,
    "pycharm": {
     "name": "#%%\n"
    }
   }
  },
  {
   "cell_type": "code",
   "execution_count": 4,
   "outputs": [
    {
     "data": {
      "text/plain": "(1400397, 1658985)"
     },
     "execution_count": 4,
     "metadata": {},
     "output_type": "execute_result"
    }
   ],
   "source": [
    "# makeModel\n",
    "dictionary.add_documents(tokens)\n",
    "model_words = Word2Vec(tokens,vector_size=50)\n",
    "model_words = model_words\n",
    "model_words.build_vocab(tokens, update=True)\n",
    "model_words.train(tokens, total_examples=model_words.corpus_count,\n",
    "                       epochs=model_words.epochs)"
   ],
   "metadata": {
    "collapsed": false,
    "pycharm": {
     "name": "#%%\n"
    }
   }
  },
  {
   "cell_type": "code",
   "execution_count": 5,
   "outputs": [],
   "source": [
    "#def _makeEmbeddings(self, texts):\n",
    "corpus = [dictionary.doc2bow(line) for line in tokens]\n",
    "tfidf_gensim = models.TfidfModel(corpus)\n",
    "tfidfs = [tfidf_gensim[corpus[x]] for x in range(0, len(corpus))]\n",
    "print(tfidfs)\n",
    "for (tokenList, tfidfList) in zip(tokens, tfidfs):\n",
    "    sum_words = np.empty(50)\n",
    "    tfidfDict = dict(tfidfList)\n",
    "    passed = []\n",
    "    for word in tokenList:\n",
    "        index = dictionary.token2id.get(word)\n",
    "        tfidfValue = tfidfDict.get(index)\n",
    "        try:\n",
    "            # print(\"Old sum: \"+str(sum_words))\n",
    "            # print(\"Add vec:\"+str(model_words.wv[word]))\n",
    "            sum_words= np.add(sum_words ,model_words.wv[word])\n",
    "            # sum_tfidf= np.add(sum_tfidf,np.multiply(tfidfValue,model_words[word]))\n",
    "        except: # In case the model does not have a given word, ignore it.\n",
    "            # passed.append(word)\n",
    "            pass"
   ],
   "metadata": {
    "collapsed": false,
    "pycharm": {
     "name": "#%%\n"
    }
   }
  },
  {
   "cell_type": "code",
   "execution_count": 6,
   "outputs": [
    {
     "name": "stdout",
     "output_type": "stream",
     "text": [
      "[  26823.95824092   87917.07700482  -31000.18015315   -3837.62837662\n",
      "  -66693.49937803 -167775.54740636  163713.01905292  169371.18769634\n",
      " -239843.15263559 -126935.59131568  -40969.99876656  -83896.51712935\n",
      "  153097.09607382   -9548.09797845   22372.57646579  130595.95710454\n",
      "  119992.849142      8554.89321494 -112015.46578098 -195798.18403545\n",
      "   22455.25981647  110577.530933    183451.68448647   24752.24633699\n",
      "   87433.45837898  -57138.65418347  -71492.57394365   28184.22833259\n",
      "  -63177.31899117    9517.86552159  -89365.10699338   46658.22958924\n",
      "   -1772.65675238  -86130.60062513  -41313.36659045  130814.46232528\n",
      "  219936.54811237   62720.5547332    79150.55704734  -71548.02752986\n",
      "  194168.93131773  -10045.05468765   28976.1038082   -21952.03224302\n",
      "  274404.75067883  -50379.90663195  -12035.41209057  -29473.38974775\n",
      "   47924.64787452  110093.40681841]\n"
     ]
    }
   ],
   "source": [
    "print(sum_words)"
   ],
   "metadata": {
    "collapsed": false,
    "pycharm": {
     "name": "#%%\n"
    }
   }
  },
  {
   "cell_type": "code",
   "execution_count": 8,
   "outputs": [
    {
     "name": "stderr",
     "output_type": "stream",
     "text": [
      "IOPub data rate exceeded.\n",
      "The notebook server will temporarily stop sending output\n",
      "to the client in order to avoid crashing it.\n",
      "To change this limit, set the config variable\n",
      "`--NotebookApp.iopub_data_rate_limit`.\n",
      "\n",
      "Current values:\n",
      "NotebookApp.iopub_data_rate_limit=1000000.0 (bytes/sec)\n",
      "NotebookApp.rate_limit_window=3.0 (secs)\n",
      "\n"
     ]
    }
   ],
   "source": [
    "print(tfidfs)"
   ],
   "metadata": {
    "collapsed": false,
    "pycharm": {
     "name": "#%%\n"
    }
   }
  }
 ],
 "metadata": {
  "kernelspec": {
   "name": "pycharm-3ce039d3",
   "language": "python",
   "display_name": "PyCharm (Patent-Prior-Art-Finder)"
  },
  "language_info": {
   "codemirror_mode": {
    "name": "ipython",
    "version": 2
   },
   "file_extension": ".py",
   "mimetype": "text/x-python",
   "name": "python",
   "nbconvert_exporter": "python",
   "pygments_lexer": "ipython2",
   "version": "2.7.6"
  }
 },
 "nbformat": 4,
 "nbformat_minor": 0
}