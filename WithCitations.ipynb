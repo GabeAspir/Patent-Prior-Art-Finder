{
  "nbformat": 4,
  "nbformat_minor": 0,
  "metadata": {
    "colab": {
      "name": "WithCitations.ipynb",
      "provenance": [],
      "authorship_tag": "ABX9TyMX9NvBwrybF/l4IsC+oPY4",
      "include_colab_link": true
    },
    "kernelspec": {
      "name": "python3",
      "display_name": "Python 3"
    },
    "language_info": {
      "name": "python"
    }
  },
  "cells": [
    {
      "cell_type": "markdown",
      "metadata": {
        "id": "view-in-github",
        "colab_type": "text"
      },
      "source": [
        "<a href=\"https://colab.research.google.com/github/GabeAspir/Patent-Prior-Art-Finder/blob/main/WithCitations.ipynb\" target=\"_parent\"><img src=\"https://colab.research.google.com/assets/colab-badge.svg\" alt=\"Open In Colab\"/></a>"
      ]
    },
    {
      "cell_type": "code",
      "metadata": {
        "id": "Rf1Phg-53OjD"
      },
      "source": [
        "from gensim.models import Word2Vec\n",
        "from _DevNLTKPatentPriorArtFinder import _DevNLTKPatentPriorArtFinder as paf\n",
        "import numpy as np\n",
        "import pandas as pd\n",
        "import nltk\n",
        "from nltk.tokenize import word_tokenize\n",
        "from sklearn.metrics.pairwise import cosine_similarity"
      ],
      "execution_count": 13,
      "outputs": []
    },
    {
      "cell_type": "code",
      "metadata": {
        "colab": {
          "base_uri": "https://localhost:8080/",
          "height": 419
        },
        "id": "orSLviQB4zuI",
        "outputId": "ad28855b-a7a5-4f5d-cb8f-a72d0ad9d6c4"
      },
      "source": [
        "#Will read the .json to a dataframe\n",
        "jsonObject1 = pd.io.json.read_json('/content/JsonTTPatentsWithcitations.json')\n",
        "jsonObject1"
      ],
      "execution_count": 14,
      "outputs": [
        {
          "output_type": "execute_result",
          "data": {
            "text/html": [
              "<div>\n",
              "<style scoped>\n",
              "    .dataframe tbody tr th:only-of-type {\n",
              "        vertical-align: middle;\n",
              "    }\n",
              "\n",
              "    .dataframe tbody tr th {\n",
              "        vertical-align: top;\n",
              "    }\n",
              "\n",
              "    .dataframe thead th {\n",
              "        text-align: right;\n",
              "    }\n",
              "</style>\n",
              "<table border=\"1\" class=\"dataframe\">\n",
              "  <thead>\n",
              "    <tr style=\"text-align: right;\">\n",
              "      <th></th>\n",
              "      <th>publication_number</th>\n",
              "      <th>abstract_en</th>\n",
              "      <th>citations</th>\n",
              "      <th>CPCs</th>\n",
              "    </tr>\n",
              "  </thead>\n",
              "  <tbody>\n",
              "    <tr>\n",
              "      <th>0</th>\n",
              "      <td>US-2018343744-A1</td>\n",
              "      <td>A hybrid microelectronic substrate may be form...</td>\n",
              "      <td>US-7294529-B2,US-7842541-B1,US-7935893-B2,US-9...</td>\n",
              "      <td>H05K1/183,H05K1/183,H05K1/183,H05K1/183,H05K1/...</td>\n",
              "    </tr>\n",
              "    <tr>\n",
              "      <th>1</th>\n",
              "      <td>US-2019038230-A1</td>\n",
              "      <td>A composite monitoring apparatus includes a bi...</td>\n",
              "      <td>US-6533184-B1,US-2011133919-A1,US-2011132136-A...</td>\n",
              "      <td>B60W2540/221,B60W2540/221,B60W2540/221,B60W254...</td>\n",
              "    </tr>\n",
              "    <tr>\n",
              "      <th>2</th>\n",
              "      <td>US-2018254686-A1</td>\n",
              "      <td>A magnetic sensor includes a magnetic detectio...</td>\n",
              "      <td>US-2003080442-A1,US-2010219822-A1,US-201120488...</td>\n",
              "      <td>G01R33/091,G01R33/091,G01R33/091,G01R33/091,G0...</td>\n",
              "    </tr>\n",
              "    <tr>\n",
              "      <th>3</th>\n",
              "      <td>US-2017338526-A1</td>\n",
              "      <td>A battery pack according to an exemplary aspec...</td>\n",
              "      <td>US-6621244-B1,US-2012065826-A1,US-2012225331-A...</td>\n",
              "      <td>H01M10/4207,H01M10/4207,H01M10/4207,H01M10/420...</td>\n",
              "    </tr>\n",
              "    <tr>\n",
              "      <th>4</th>\n",
              "      <td>US-2017160890-A1</td>\n",
              "      <td>A terminal apparatus configured to provide a c...</td>\n",
              "      <td>US-5848373-A,US-6321158-B1,US-2002130904-A1,US...</td>\n",
              "      <td>G06F3/04847,G06F3/04847,G06F3/04847,G06F3/0484...</td>\n",
              "    </tr>\n",
              "    <tr>\n",
              "      <th>...</th>\n",
              "      <td>...</td>\n",
              "      <td>...</td>\n",
              "      <td>...</td>\n",
              "      <td>...</td>\n",
              "    </tr>\n",
              "    <tr>\n",
              "      <th>65</th>\n",
              "      <td>US-2020049406-A1</td>\n",
              "      <td>Methods and apparatuses for drying electronic ...</td>\n",
              "      <td>US-9816757-B1,US-10240867-B2,US-2019219332-A1,...</td>\n",
              "      <td>F26B3/20,F26B3/20,F26B3/20,F26B5/04,F26B5/04,F...</td>\n",
              "    </tr>\n",
              "    <tr>\n",
              "      <th>66</th>\n",
              "      <td>US-2017010186-A1</td>\n",
              "      <td>The present invention discloses a inspection d...</td>\n",
              "      <td>US-3951563-A,US-3951563-A,US-3951563-A,US-3951...</td>\n",
              "      <td>G01N2291/2696,G01N2291/106,G01N29/24,G01N29/04...</td>\n",
              "    </tr>\n",
              "    <tr>\n",
              "      <th>67</th>\n",
              "      <td>US-2019317829-A1</td>\n",
              "      <td>Computational methods and systems that proacti...</td>\n",
              "      <td>US-2010083248-A1,US-2015308938-A1,US-201008324...</td>\n",
              "      <td>G06N7/08,G06N7/08,G06F11/3006,G06F11/3006,G06F...</td>\n",
              "    </tr>\n",
              "    <tr>\n",
              "      <th>68</th>\n",
              "      <td>US-2019089374-A1</td>\n",
              "      <td>A method for performing low-density parity che...</td>\n",
              "      <td>US-9235467-B2,US-9235467-B2,US-9235467-B2,US-9...</td>\n",
              "      <td>H03M13/1125,H03M13/3707,H03M13/1125,H03M13/110...</td>\n",
              "    </tr>\n",
              "    <tr>\n",
              "      <th>69</th>\n",
              "      <td>US-2020119805-A1</td>\n",
              "      <td>A highly robust communication system capable o...</td>\n",
              "      <td>US-2006009262-A1,US-7501979-B1,US-2012302160-A...</td>\n",
              "      <td>H04W16/26,H04W16/26,H04W16/26,H04W16/26,H04W84...</td>\n",
              "    </tr>\n",
              "  </tbody>\n",
              "</table>\n",
              "<p>70 rows × 4 columns</p>\n",
              "</div>"
            ],
            "text/plain": [
              "   publication_number  ...                                               CPCs\n",
              "0    US-2018343744-A1  ...  H05K1/183,H05K1/183,H05K1/183,H05K1/183,H05K1/...\n",
              "1    US-2019038230-A1  ...  B60W2540/221,B60W2540/221,B60W2540/221,B60W254...\n",
              "2    US-2018254686-A1  ...  G01R33/091,G01R33/091,G01R33/091,G01R33/091,G0...\n",
              "3    US-2017338526-A1  ...  H01M10/4207,H01M10/4207,H01M10/4207,H01M10/420...\n",
              "4    US-2017160890-A1  ...  G06F3/04847,G06F3/04847,G06F3/04847,G06F3/0484...\n",
              "..                ...  ...                                                ...\n",
              "65   US-2020049406-A1  ...  F26B3/20,F26B3/20,F26B3/20,F26B5/04,F26B5/04,F...\n",
              "66   US-2017010186-A1  ...  G01N2291/2696,G01N2291/106,G01N29/24,G01N29/04...\n",
              "67   US-2019317829-A1  ...  G06N7/08,G06N7/08,G06F11/3006,G06F11/3006,G06F...\n",
              "68   US-2019089374-A1  ...  H03M13/1125,H03M13/3707,H03M13/1125,H03M13/110...\n",
              "69   US-2020119805-A1  ...  H04W16/26,H04W16/26,H04W16/26,H04W16/26,H04W84...\n",
              "\n",
              "[70 rows x 4 columns]"
            ]
          },
          "metadata": {
            "tags": []
          },
          "execution_count": 14
        }
      ]
    },
    {
      "cell_type": "code",
      "metadata": {
        "id": "hSa2EbI-3pj5"
      },
      "source": [
        "myPaf = paf()\n",
        "dframe = myPaf.init(jsonObject1,\"publication_number\", \"abstract_en\")"
      ],
      "execution_count": 15,
      "outputs": []
    },
    {
      "cell_type": "code",
      "metadata": {
        "colab": {
          "base_uri": "https://localhost:8080/",
          "height": 827
        },
        "id": "uclWdi6xPxWw",
        "outputId": "e249bbe9-99cc-4c3f-a975-afd177875576"
      },
      "source": [
        "dframe"
      ],
      "execution_count": 16,
      "outputs": [
        {
          "output_type": "execute_result",
          "data": {
            "text/html": [
              "<div>\n",
              "<style scoped>\n",
              "    .dataframe tbody tr th:only-of-type {\n",
              "        vertical-align: middle;\n",
              "    }\n",
              "\n",
              "    .dataframe tbody tr th {\n",
              "        vertical-align: top;\n",
              "    }\n",
              "\n",
              "    .dataframe thead th {\n",
              "        text-align: right;\n",
              "    }\n",
              "</style>\n",
              "<table border=\"1\" class=\"dataframe\">\n",
              "  <thead>\n",
              "    <tr style=\"text-align: right;\">\n",
              "      <th></th>\n",
              "      <th>publication_number</th>\n",
              "      <th>abstract_en</th>\n",
              "      <th>citations</th>\n",
              "      <th>CPCs</th>\n",
              "      <th>Tokens</th>\n",
              "      <th>BagOfWords</th>\n",
              "      <th>TF-IDF</th>\n",
              "    </tr>\n",
              "  </thead>\n",
              "  <tbody>\n",
              "    <tr>\n",
              "      <th>0</th>\n",
              "      <td>US-2018343744-A1</td>\n",
              "      <td>A hybrid microelectronic substrate may be form...</td>\n",
              "      <td>US-7294529-B2,US-7842541-B1,US-7935893-B2,US-9...</td>\n",
              "      <td>H05K1/183,H05K1/183,H05K1/183,H05K1/183,H05K1/...</td>\n",
              "      <td>[hybrid, microelectronic, substrate, may, form...</td>\n",
              "      <td>[0, 0, 0, 0, 0, 0, 0, 0, 0, 0, 0, 0, 0, 0, 0, ...</td>\n",
              "      <td>[0.0, 0.0, 0.0, 0.0, 0.0, 0.0, 0.0, 0.0, 0.0, ...</td>\n",
              "    </tr>\n",
              "    <tr>\n",
              "      <th>1</th>\n",
              "      <td>US-2019038230-A1</td>\n",
              "      <td>A composite monitoring apparatus includes a bi...</td>\n",
              "      <td>US-6533184-B1,US-2011133919-A1,US-2011132136-A...</td>\n",
              "      <td>B60W2540/221,B60W2540/221,B60W2540/221,B60W254...</td>\n",
              "      <td>[composite, monitoring, apparatus, includes, b...</td>\n",
              "      <td>[0, 0, 0, 0, 0, 0, 0, 0, 0, 0, 0, 0, 0, 0, 0, ...</td>\n",
              "      <td>[0.0, 0.0, 0.0, 0.0, 0.0, 0.0, 0.0, 0.0, 0.0, ...</td>\n",
              "    </tr>\n",
              "    <tr>\n",
              "      <th>2</th>\n",
              "      <td>US-2018254686-A1</td>\n",
              "      <td>A magnetic sensor includes a magnetic detectio...</td>\n",
              "      <td>US-2003080442-A1,US-2010219822-A1,US-201120488...</td>\n",
              "      <td>G01R33/091,G01R33/091,G01R33/091,G01R33/091,G0...</td>\n",
              "      <td>[magnetic, sensor, includes, magnetic, detecti...</td>\n",
              "      <td>[0, 0, 0, 0, 0, 0, 0, 0, 0, 0, 0, 0, 0, 0, 0, ...</td>\n",
              "      <td>[0.0, 0.0, 0.0, 0.0, 0.0, 0.0, 0.0, 0.0, 0.0, ...</td>\n",
              "    </tr>\n",
              "    <tr>\n",
              "      <th>3</th>\n",
              "      <td>US-2017338526-A1</td>\n",
              "      <td>A battery pack according to an exemplary aspec...</td>\n",
              "      <td>US-6621244-B1,US-2012065826-A1,US-2012225331-A...</td>\n",
              "      <td>H01M10/4207,H01M10/4207,H01M10/4207,H01M10/420...</td>\n",
              "      <td>[battery, pack, according, exemplary, aspect, ...</td>\n",
              "      <td>[0, 0, 0, 0, 0, 0, 0, 0, 0, 140, 0, 0, 0, 0, 0...</td>\n",
              "      <td>[0.0, 0.0, 0.0, 0.0, 0.0, 0.0, 0.0, 0.0, 0.0, ...</td>\n",
              "    </tr>\n",
              "    <tr>\n",
              "      <th>4</th>\n",
              "      <td>US-2017160890-A1</td>\n",
              "      <td>A terminal apparatus configured to provide a c...</td>\n",
              "      <td>US-5848373-A,US-6321158-B1,US-2002130904-A1,US...</td>\n",
              "      <td>G06F3/04847,G06F3/04847,G06F3/04847,G06F3/0484...</td>\n",
              "      <td>[terminal, apparatus, configured, provide, cha...</td>\n",
              "      <td>[1105, 0, 0, 0, 0, 0, 0, 0, 0, 1105, 0, 0, 0, ...</td>\n",
              "      <td>[0.0523973747783371, 0.0, 0.0, 0.0, 0.0, 0.0, ...</td>\n",
              "    </tr>\n",
              "    <tr>\n",
              "      <th>...</th>\n",
              "      <td>...</td>\n",
              "      <td>...</td>\n",
              "      <td>...</td>\n",
              "      <td>...</td>\n",
              "      <td>...</td>\n",
              "      <td>...</td>\n",
              "      <td>...</td>\n",
              "    </tr>\n",
              "    <tr>\n",
              "      <th>65</th>\n",
              "      <td>US-2020049406-A1</td>\n",
              "      <td>Methods and apparatuses for drying electronic ...</td>\n",
              "      <td>US-9816757-B1,US-10240867-B2,US-2019219332-A1,...</td>\n",
              "      <td>F26B3/20,F26B3/20,F26B3/20,F26B5/04,F26B5/04,F...</td>\n",
              "      <td>[methods, apparatuses, drying, electronic, dev...</td>\n",
              "      <td>[0, 0, 0, 0, 0, 0, 0, 0, 0, 0, 0, 0, 0, 0, 0, ...</td>\n",
              "      <td>[0.0, 0.0, 0.0, 0.0, 0.0, 0.0, 0.0, 0.0, 0.0, ...</td>\n",
              "    </tr>\n",
              "    <tr>\n",
              "      <th>66</th>\n",
              "      <td>US-2017010186-A1</td>\n",
              "      <td>The present invention discloses a inspection d...</td>\n",
              "      <td>US-3951563-A,US-3951563-A,US-3951563-A,US-3951...</td>\n",
              "      <td>G01N2291/2696,G01N2291/106,G01N29/24,G01N29/04...</td>\n",
              "      <td>[present, invention, discloses, inspection, de...</td>\n",
              "      <td>[0, 0, 0, 0, 0, 0, 0, 0, 0, 0, 0, 0, 0, 0, 0, ...</td>\n",
              "      <td>[0.0, 0.0, 0.0, 0.0, 0.0, 0.0, 0.0, 0.0, 0.0, ...</td>\n",
              "    </tr>\n",
              "    <tr>\n",
              "      <th>67</th>\n",
              "      <td>US-2019317829-A1</td>\n",
              "      <td>Computational methods and systems that proacti...</td>\n",
              "      <td>US-2010083248-A1,US-2015308938-A1,US-201008324...</td>\n",
              "      <td>G06N7/08,G06N7/08,G06F11/3006,G06F11/3006,G06F...</td>\n",
              "      <td>[computational, methods, systems, proactively,...</td>\n",
              "      <td>[0, 0, 0, 0, 0, 0, 0, 0, 0, 0, 108, 0, 0, 0, 0...</td>\n",
              "      <td>[0.0, 0.0, 0.0, 0.0, 0.0, 0.0, 0.0, 0.0, 0.0, ...</td>\n",
              "    </tr>\n",
              "    <tr>\n",
              "      <th>68</th>\n",
              "      <td>US-2019089374-A1</td>\n",
              "      <td>A method for performing low-density parity che...</td>\n",
              "      <td>US-9235467-B2,US-9235467-B2,US-9235467-B2,US-9...</td>\n",
              "      <td>H03M13/1125,H03M13/3707,H03M13/1125,H03M13/110...</td>\n",
              "      <td>[method, performing, lowdensity, parity, check...</td>\n",
              "      <td>[0, 0, 0, 0, 0, 0, 0, 0, 0, 0, 0, 0, 0, 0, 0, ...</td>\n",
              "      <td>[0.0, 0.0, 0.0, 0.0, 0.0, 0.0, 0.0, 0.0, 0.0, ...</td>\n",
              "    </tr>\n",
              "    <tr>\n",
              "      <th>69</th>\n",
              "      <td>US-2020119805-A1</td>\n",
              "      <td>A highly robust communication system capable o...</td>\n",
              "      <td>US-2006009262-A1,US-7501979-B1,US-2012302160-A...</td>\n",
              "      <td>H04W16/26,H04W16/26,H04W16/26,H04W16/26,H04W84...</td>\n",
              "      <td>[highly, robust, communication, system, capabl...</td>\n",
              "      <td>[320, 0, 0, 0, 0, 0, 0, 0, 0, 0, 0, 0, 0, 0, 0...</td>\n",
              "      <td>[0.07003803262052116, 0.0, 0.0, 0.0, 0.0, 0.0,...</td>\n",
              "    </tr>\n",
              "  </tbody>\n",
              "</table>\n",
              "<p>70 rows × 7 columns</p>\n",
              "</div>"
            ],
            "text/plain": [
              "   publication_number  ...                                             TF-IDF\n",
              "0    US-2018343744-A1  ...  [0.0, 0.0, 0.0, 0.0, 0.0, 0.0, 0.0, 0.0, 0.0, ...\n",
              "1    US-2019038230-A1  ...  [0.0, 0.0, 0.0, 0.0, 0.0, 0.0, 0.0, 0.0, 0.0, ...\n",
              "2    US-2018254686-A1  ...  [0.0, 0.0, 0.0, 0.0, 0.0, 0.0, 0.0, 0.0, 0.0, ...\n",
              "3    US-2017338526-A1  ...  [0.0, 0.0, 0.0, 0.0, 0.0, 0.0, 0.0, 0.0, 0.0, ...\n",
              "4    US-2017160890-A1  ...  [0.0523973747783371, 0.0, 0.0, 0.0, 0.0, 0.0, ...\n",
              "..                ...  ...                                                ...\n",
              "65   US-2020049406-A1  ...  [0.0, 0.0, 0.0, 0.0, 0.0, 0.0, 0.0, 0.0, 0.0, ...\n",
              "66   US-2017010186-A1  ...  [0.0, 0.0, 0.0, 0.0, 0.0, 0.0, 0.0, 0.0, 0.0, ...\n",
              "67   US-2019317829-A1  ...  [0.0, 0.0, 0.0, 0.0, 0.0, 0.0, 0.0, 0.0, 0.0, ...\n",
              "68   US-2019089374-A1  ...  [0.0, 0.0, 0.0, 0.0, 0.0, 0.0, 0.0, 0.0, 0.0, ...\n",
              "69   US-2020119805-A1  ...  [0.07003803262052116, 0.0, 0.0, 0.0, 0.0, 0.0,...\n",
              "\n",
              "[70 rows x 7 columns]"
            ]
          },
          "metadata": {
            "tags": []
          },
          "execution_count": 16
        }
      ]
    },
    {
      "cell_type": "code",
      "metadata": {
        "colab": {
          "base_uri": "https://localhost:8080/"
        },
        "id": "JJhzd2xMBHYC",
        "outputId": "ddd8ccb1-e89e-45d0-8769-36091ab62adb"
      },
      "source": [
        "print(dframe.at[0,'BagOfWords'])"
      ],
      "execution_count": 35,
      "outputs": [
        {
          "output_type": "stream",
          "text": [
            "[0, 0, 0, 0, 0, 0, 0, 0, 0, 0, 0, 0, 0, 0, 0, 0, 0, 0, 0, 0, 0, 0, 0, 0, 0, 0, 0, 0, 0, 0, 0, 0, 0, 0, 0, 0, 0, 0, 0, 0, 0, 0, 0, 364, 364, 0, 0, 0, 0, 0, 0, 0, 0, 0, 0, 0, 0, 0, 0, 0, 0, 0, 0, 0, 0, 0, 0, 0, 0, 0, 0, 0, 0, 0, 0, 0, 0, 0, 0, 0, 0, 364, 0, 0, 0, 0, 0, 0, 0, 0, 0, 0, 0, 0, 0, 364, 0, 0, 0, 0, 0, 0, 0, 0, 0, 0, 0, 0, 0, 0, 0, 0, 0, 0, 0, 0, 0, 0, 0, 0, 0, 0, 0, 0, 0, 0, 0, 0, 0, 0, 0, 0, 0, 0, 0, 0, 0, 0, 0, 0, 0, 0, 0, 0, 0, 0, 0, 0, 0, 0, 0, 0, 0, 0, 0, 0, 0, 0, 0, 0, 0, 0, 0, 0, 0, 0, 0, 0, 0, 0, 0, 0, 0, 0, 0, 0, 0, 0, 0, 0, 0, 364, 0, 0, 0, 0, 0, 0, 0, 0, 0, 0, 0, 0, 0, 0, 0, 0, 0, 0, 0, 0, 0, 0, 0, 0, 0, 0, 0, 0, 0, 0, 0, 0, 0, 0, 0, 0, 0, 0, 0, 0, 0, 0, 0, 0, 0, 0, 0, 0, 0, 0, 0, 0, 0, 0, 0, 0, 0, 0, 0, 0, 0, 0, 0, 0, 0, 0, 0, 0, 0, 0, 0, 0, 0, 0, 0, 0, 0, 0, 0, 0, 0, 0, 0, 0, 0, 0, 0, 0, 0, 0, 0, 0, 0, 0, 0, 0, 0, 0, 0, 0, 0, 0, 0, 0, 0, 0, 0, 0, 0, 0, 0, 0, 0, 0, 0, 0, 0, 0, 0, 0, 0, 0, 0, 0, 2184, 0, 0, 0, 0, 0, 0, 0, 0, 0, 0, 0, 0, 0, 0, 0, 0, 0, 0, 0, 0, 0, 364, 0, 0, 0, 0, 0, 0, 0, 0, 0, 0, 0, 0, 364, 0, 0, 0, 0, 0, 0, 0, 0, 0, 0, 0, 0, 0, 0, 0, 0, 0, 0, 0, 0, 0, 0, 0, 0, 0, 0, 0, 0, 0, 0, 0, 0, 0, 0, 0, 0, 0, 0, 0, 0, 0, 0, 0, 0, 0, 0, 0, 0, 0, 0, 0, 0, 0, 0, 0, 0, 0, 0, 0, 0, 0, 0, 0, 364, 0, 0, 0, 0, 0, 0, 0, 0, 0, 0, 0, 0, 0, 0, 0, 0, 0, 0, 0, 0, 0, 0, 0, 0, 0, 0, 0, 0, 0, 0, 0, 0, 0, 0, 0, 0, 0, 0, 0, 0, 0, 0, 0, 0, 0, 0, 0, 0, 0, 0, 0, 0, 0, 0, 0, 0, 0, 0, 0, 0, 0, 0, 0, 0, 0, 0, 0, 0, 0, 0, 0, 0, 0, 0, 0, 0, 0, 0, 0, 0, 0, 0, 0, 0, 0, 0, 0, 0, 0, 0, 0, 0, 0, 0, 0, 0, 0, 364, 0, 0, 0, 0, 0, 0, 0, 0, 0, 0, 0, 0, 0, 0, 0, 364, 0, 0, 0, 0, 0, 0, 0, 0, 0, 0, 0, 0, 0, 0, 0, 0, 0, 0, 0, 0, 0, 0, 0, 0, 0, 0, 0, 0, 0, 0, 0, 0, 0, 0, 0, 0, 0, 0, 0, 0, 0, 0, 0, 0, 0, 0, 0, 0, 0, 0, 0, 1456, 0, 0, 0, 0, 0, 0, 0, 0, 0, 0, 0, 1092, 0, 0, 0, 0, 0, 0, 0, 0, 0, 0, 0, 0, 0, 0, 0, 0, 0, 0, 0, 0, 0, 0, 0, 0, 0, 0, 0, 364, 0, 0, 0, 0, 0, 0, 0, 0, 0, 0, 0, 0, 0, 0, 0, 0, 0, 0, 0, 0, 0, 0, 0, 0, 0, 0, 0, 0, 0, 0, 0, 0, 0, 364, 728, 0, 0, 0, 0, 0, 0, 0, 0, 0, 0, 0, 0, 0, 0, 0, 0, 0, 0, 0, 0, 0, 0, 0, 0, 0, 0, 0, 0, 0, 0, 0, 0, 0, 0, 0, 0, 0, 0, 0, 0, 0, 0, 0, 0, 0, 0, 0, 0, 0, 0, 0, 0, 0, 0, 0, 0, 0, 0, 0, 0, 0, 0, 0, 0, 0, 0, 0, 0, 0, 0, 0, 0, 0, 728, 0, 0, 0, 0, 0, 0, 0, 0, 0, 0, 0, 0, 0, 0, 0, 0, 0, 0, 0, 0, 728, 0, 0, 0, 0, 0, 0, 0, 0, 0, 0, 0, 0, 0, 0, 0, 0, 0, 2548, 0, 0, 0, 0, 0, 0, 0, 0, 0, 0, 0, 0, 0, 0, 0, 0, 0, 0, 0, 0, 0, 0, 0, 0, 0, 0, 0, 0, 0, 0, 0, 0, 0, 0, 0, 0, 0, 0, 0, 0, 0, 0, 0, 0, 0, 0, 0, 0, 0, 0, 0, 0, 0, 0, 0, 0, 0, 0, 0, 0, 0, 0, 0, 0, 0, 0, 0, 0, 0, 0, 0, 0, 0, 0, 0, 0, 0, 0, 0, 0, 0, 0, 0, 0, 0, 0, 0, 0, 0, 0, 0, 0, 0, 0, 0, 0, 0, 0, 0, 0, 0, 0, 0, 0, 0, 0, 0, 0, 728, 0, 0, 0, 0, 0, 0, 0, 0, 0, 0, 0, 0, 0, 0, 0, 0, 0, 0, 0, 0, 0, 0, 0, 0, 0, 0, 0, 0, 0, 0, 0, 0, 0, 0, 0, 0, 0, 0, 0, 0, 0, 0, 0, 0, 0, 0, 0, 0, 0, 0, 0, 364, 0, 0, 0, 0, 0, 0, 0, 0, 0, 0, 0, 0, 0, 0, 0, 0, 0, 0, 0, 0, 0, 0, 0, 0, 0, 0, 0, 0, 0, 0, 0, 0, 0, 0, 0, 0, 0, 0, 0, 0, 0, 0, 0, 0, 0, 0, 0, 0, 0, 0, 0, 0, 0, 0, 0, 0, 0, 0, 0, 0, 0, 0, 0, 0, 0, 0, 0, 0, 0, 0, 0, 0, 0, 0, 0, 0, 0, 0, 0, 0, 0, 0, 0, 0, 0, 0, 0, 0, 0, 0, 0, 0, 0, 0, 0, 0, 0, 0, 0, 0, 0, 0, 0, 0, 0, 0, 0, 0, 0, 0, 0, 0, 0, 0, 0, 0, 1, 363, 0, 0, 0, 0, 0, 0, 0, 0, 0, 0, 0, 0, 0, 0, 0, 0, 0, 0, 0, 0, 0, 0, 0, 0, 0, 0, 0, 0, 0, 0, 0, 0, 0, 0, 0, 0, 0, 0, 364, 0, 0, 0, 0, 0, 0, 0, 0, 0, 0, 0, 0, 0, 0, 0, 0, 0, 0, 0, 0, 0, 0, 0, 0, 0, 0, 0, 0, 0, 0, 0, 0, 0, 0, 0, 0, 0, 0, 0, 0, 0, 0, 0, 0, 0, 0, 0, 0, 0, 0, 0, 0, 0, 0, 0, 0, 0, 0, 0, 0, 0, 0, 0, 0, 0, 0, 0, 0, 0, 0, 0, 0, 0, 0, 0, 0, 0, 0, 0, 0, 0, 0, 0, 0, 0, 0, 0, 0, 0, 0, 0, 0, 0, 0, 0, 0, 0, 0, 0, 0, 0, 0, 0, 0, 0, 0, 0, 0, 0, 0, 0, 0, 0, 0, 0, 0, 0, 0, 0, 0, 0, 2184, 0, 0, 0, 0, 0, 0, 0, 0, 0, 0, 0, 0, 0, 0, 0, 0, 0, 0, 0, 0, 0, 0, 0, 0, 0, 0, 0, 0, 0, 0, 0, 0, 0, 0, 0, 0, 0, 0, 0, 0, 0, 0, 0, 0, 0, 0, 0, 0, 0, 0, 0, 0, 0, 0, 0, 0, 0, 0, 0, 0, 0, 0, 0, 0, 0, 0, 0, 0, 0, 0, 0, 0, 0, 0, 0, 0, 0, 0, 0, 0, 0, 0, 0, 0, 0, 0, 0, 0, 0, 0, 0, 0, 0, 0, 0, 0, 0, 0, 0, 0, 0, 0, 0, 0, 0, 0, 0, 0, 0, 0, 0, 0, 0, 0, 0, 0, 0, 0, 0, 0, 0, 0, 0, 0, 0, 0, 0, 0, 0, 0, 0, 0, 0, 0, 0, 0, 0, 0, 0, 0, 0, 0, 0, 0, 0, 0, 0, 0, 0, 0, 0, 0, 0, 0, 0, 0, 0, 0, 0, 0, 0, 0, 0, 0, 0, 0, 0, 364, 0, 0, 0, 0, 0, 0, 0, 0]\n"
          ],
          "name": "stdout"
        }
      ]
    },
    {
      "cell_type": "markdown",
      "metadata": {
        "id": "1T4zIpUGBvCW"
      },
      "source": [
        "For some reason in the BagOfWords function, it's not showing how many times the word is in the abstract correctly, i.e. 364 instead of 1, in this particular example. Or 1105 instead of 1 in Patent 4."
      ]
    },
    {
      "cell_type": "markdown",
      "metadata": {
        "id": "8CIX4vNnCCYq"
      },
      "source": [
        "Anyways, the rest of the demonstration only needs the tokens, which is accurate info."
      ]
    },
    {
      "cell_type": "code",
      "metadata": {
        "id": "wZ46dN-mQNp0"
      },
      "source": [
        "#First model is created with the tokens in sentences\n",
        "sentences= dframe['Tokens']\n",
        "model = Word2Vec(sentences)"
      ],
      "execution_count": 17,
      "outputs": []
    },
    {
      "cell_type": "code",
      "metadata": {
        "colab": {
          "base_uri": "https://localhost:8080/"
        },
        "id": "fQiWUSL3QyoI",
        "outputId": "13a249fc-2dab-4392-9f26-0988a26955fc"
      },
      "source": [
        "#Just an example to show that it's working\n",
        "print(model.wv.most_similar(positive=['device']))"
      ],
      "execution_count": 18,
      "outputs": [
        {
          "output_type": "stream",
          "text": [
            "[('output', 0.5668588876724243), ('coupling', 0.5625364184379578), ('content', 0.5518147945404053), ('displayed', 0.5491979718208313), ('detects', 0.541864812374115), ('also', 0.5363319516181946), ('reliable', 0.5307567119598389), ('causing', 0.5193239450454712), ('alters', 0.48386865854263306), ('stable', 0.47696295380592346)]\n"
          ],
          "name": "stdout"
        }
      ]
    },
    {
      "cell_type": "code",
      "metadata": {
        "id": "N8DqvgEXRExu"
      },
      "source": [
        "#Tokenizing all the citations and displaying it's header/column in the next codeblock\n",
        "def tokenizeCitations(citationsString):\n",
        "  string1 = citationsString.replace(',',' ')\n",
        "  tokenized = word_tokenize(string1)\n",
        "  return list(set(tokenized))\n",
        "\n",
        "def allTokenizeCitations(dataframe):\n",
        "  dataframe['TokenizedCitations'] = dataframe['citations'].apply(tokenizeCitations)"
      ],
      "execution_count": 26,
      "outputs": []
    },
    {
      "cell_type": "code",
      "metadata": {
        "colab": {
          "base_uri": "https://localhost:8080/",
          "height": 1000
        },
        "id": "eTornca5l60U",
        "outputId": "319ba026-dc6e-4b4d-c903-9f5f50048b71"
      },
      "source": [
        "allTokenizeCitations(dframe)\n",
        "dframe"
      ],
      "execution_count": 27,
      "outputs": [
        {
          "output_type": "execute_result",
          "data": {
            "text/html": [
              "<div>\n",
              "<style scoped>\n",
              "    .dataframe tbody tr th:only-of-type {\n",
              "        vertical-align: middle;\n",
              "    }\n",
              "\n",
              "    .dataframe tbody tr th {\n",
              "        vertical-align: top;\n",
              "    }\n",
              "\n",
              "    .dataframe thead th {\n",
              "        text-align: right;\n",
              "    }\n",
              "</style>\n",
              "<table border=\"1\" class=\"dataframe\">\n",
              "  <thead>\n",
              "    <tr style=\"text-align: right;\">\n",
              "      <th></th>\n",
              "      <th>publication_number</th>\n",
              "      <th>abstract_en</th>\n",
              "      <th>citations</th>\n",
              "      <th>CPCs</th>\n",
              "      <th>Tokens</th>\n",
              "      <th>BagOfWords</th>\n",
              "      <th>TF-IDF</th>\n",
              "      <th>TokenizedCitations</th>\n",
              "    </tr>\n",
              "  </thead>\n",
              "  <tbody>\n",
              "    <tr>\n",
              "      <th>0</th>\n",
              "      <td>US-2018343744-A1</td>\n",
              "      <td>A hybrid microelectronic substrate may be form...</td>\n",
              "      <td>US-7294529-B2,US-7842541-B1,US-7935893-B2,US-9...</td>\n",
              "      <td>H05K1/183,H05K1/183,H05K1/183,H05K1/183,H05K1/...</td>\n",
              "      <td>[hybrid, microelectronic, substrate, may, form...</td>\n",
              "      <td>[0, 0, 0, 0, 0, 0, 0, 0, 0, 0, 0, 0, 0, 0, 0, ...</td>\n",
              "      <td>[0.0, 0.0, 0.0, 0.0, 0.0, 0.0, 0.0, 0.0, 0.0, ...</td>\n",
              "      <td>[US-7294529-B2, US-2019057915-A1, US-7935893-B...</td>\n",
              "    </tr>\n",
              "    <tr>\n",
              "      <th>1</th>\n",
              "      <td>US-2019038230-A1</td>\n",
              "      <td>A composite monitoring apparatus includes a bi...</td>\n",
              "      <td>US-6533184-B1,US-2011133919-A1,US-2011132136-A...</td>\n",
              "      <td>B60W2540/221,B60W2540/221,B60W2540/221,B60W254...</td>\n",
              "      <td>[composite, monitoring, apparatus, includes, b...</td>\n",
              "      <td>[0, 0, 0, 0, 0, 0, 0, 0, 0, 0, 0, 0, 0, 0, 0, ...</td>\n",
              "      <td>[0.0, 0.0, 0.0, 0.0, 0.0, 0.0, 0.0, 0.0, 0.0, ...</td>\n",
              "      <td>[US-2011132136-A1, US-2013070043-A1, US-201807...</td>\n",
              "    </tr>\n",
              "    <tr>\n",
              "      <th>2</th>\n",
              "      <td>US-2018254686-A1</td>\n",
              "      <td>A magnetic sensor includes a magnetic detectio...</td>\n",
              "      <td>US-2003080442-A1,US-2010219822-A1,US-201120488...</td>\n",
              "      <td>G01R33/091,G01R33/091,G01R33/091,G01R33/091,G0...</td>\n",
              "      <td>[magnetic, sensor, includes, magnetic, detecti...</td>\n",
              "      <td>[0, 0, 0, 0, 0, 0, 0, 0, 0, 0, 0, 0, 0, 0, 0, ...</td>\n",
              "      <td>[0.0, 0.0, 0.0, 0.0, 0.0, 0.0, 0.0, 0.0, 0.0, ...</td>\n",
              "      <td>[US-2016282144-A1, US-2011204887-A1, US-201021...</td>\n",
              "    </tr>\n",
              "    <tr>\n",
              "      <th>3</th>\n",
              "      <td>US-2017338526-A1</td>\n",
              "      <td>A battery pack according to an exemplary aspec...</td>\n",
              "      <td>US-6621244-B1,US-2012065826-A1,US-2012225331-A...</td>\n",
              "      <td>H01M10/4207,H01M10/4207,H01M10/4207,H01M10/420...</td>\n",
              "      <td>[battery, pack, according, exemplary, aspect, ...</td>\n",
              "      <td>[0, 0, 0, 0, 0, 0, 0, 0, 0, 140, 0, 0, 0, 0, 0...</td>\n",
              "      <td>[0.0, 0.0, 0.0, 0.0, 0.0, 0.0, 0.0, 0.0, 0.0, ...</td>\n",
              "      <td>[US-2012065826-A1, US-2016329545-A1, US-201302...</td>\n",
              "    </tr>\n",
              "    <tr>\n",
              "      <th>4</th>\n",
              "      <td>US-2017160890-A1</td>\n",
              "      <td>A terminal apparatus configured to provide a c...</td>\n",
              "      <td>US-5848373-A,US-6321158-B1,US-2002130904-A1,US...</td>\n",
              "      <td>G06F3/04847,G06F3/04847,G06F3/04847,G06F3/0484...</td>\n",
              "      <td>[terminal, apparatus, configured, provide, cha...</td>\n",
              "      <td>[1105, 0, 0, 0, 0, 0, 0, 0, 0, 1105, 0, 0, 0, ...</td>\n",
              "      <td>[0.0523973747783371, 0.0, 0.0, 0.0, 0.0, 0.0, ...</td>\n",
              "      <td>[US-2002130904-A1, US-2012226757-A1, US-201110...</td>\n",
              "    </tr>\n",
              "    <tr>\n",
              "      <th>...</th>\n",
              "      <td>...</td>\n",
              "      <td>...</td>\n",
              "      <td>...</td>\n",
              "      <td>...</td>\n",
              "      <td>...</td>\n",
              "      <td>...</td>\n",
              "      <td>...</td>\n",
              "      <td>...</td>\n",
              "    </tr>\n",
              "    <tr>\n",
              "      <th>65</th>\n",
              "      <td>US-2020049406-A1</td>\n",
              "      <td>Methods and apparatuses for drying electronic ...</td>\n",
              "      <td>US-9816757-B1,US-10240867-B2,US-2019219332-A1,...</td>\n",
              "      <td>F26B3/20,F26B3/20,F26B3/20,F26B5/04,F26B5/04,F...</td>\n",
              "      <td>[methods, apparatuses, drying, electronic, dev...</td>\n",
              "      <td>[0, 0, 0, 0, 0, 0, 0, 0, 0, 0, 0, 0, 0, 0, 0, ...</td>\n",
              "      <td>[0.0, 0.0, 0.0, 0.0, 0.0, 0.0, 0.0, 0.0, 0.0, ...</td>\n",
              "      <td>[US-10240867-B2, US-9816757-B1, US-2019219332-A1]</td>\n",
              "    </tr>\n",
              "    <tr>\n",
              "      <th>66</th>\n",
              "      <td>US-2017010186-A1</td>\n",
              "      <td>The present invention discloses a inspection d...</td>\n",
              "      <td>US-3951563-A,US-3951563-A,US-3951563-A,US-3951...</td>\n",
              "      <td>G01N2291/2696,G01N2291/106,G01N29/24,G01N29/04...</td>\n",
              "      <td>[present, invention, discloses, inspection, de...</td>\n",
              "      <td>[0, 0, 0, 0, 0, 0, 0, 0, 0, 0, 0, 0, 0, 0, 0, ...</td>\n",
              "      <td>[0.0, 0.0, 0.0, 0.0, 0.0, 0.0, 0.0, 0.0, 0.0, ...</td>\n",
              "      <td>[US-3951563-A]</td>\n",
              "    </tr>\n",
              "    <tr>\n",
              "      <th>67</th>\n",
              "      <td>US-2019317829-A1</td>\n",
              "      <td>Computational methods and systems that proacti...</td>\n",
              "      <td>US-2010083248-A1,US-2015308938-A1,US-201008324...</td>\n",
              "      <td>G06N7/08,G06N7/08,G06F11/3006,G06F11/3006,G06F...</td>\n",
              "      <td>[computational, methods, systems, proactively,...</td>\n",
              "      <td>[0, 0, 0, 0, 0, 0, 0, 0, 0, 0, 108, 0, 0, 0, 0...</td>\n",
              "      <td>[0.0, 0.0, 0.0, 0.0, 0.0, 0.0, 0.0, 0.0, 0.0, ...</td>\n",
              "      <td>[US-2010083248-A1, US-2015308938-A1]</td>\n",
              "    </tr>\n",
              "    <tr>\n",
              "      <th>68</th>\n",
              "      <td>US-2019089374-A1</td>\n",
              "      <td>A method for performing low-density parity che...</td>\n",
              "      <td>US-9235467-B2,US-9235467-B2,US-9235467-B2,US-9...</td>\n",
              "      <td>H03M13/1125,H03M13/3707,H03M13/1125,H03M13/110...</td>\n",
              "      <td>[method, performing, lowdensity, parity, check...</td>\n",
              "      <td>[0, 0, 0, 0, 0, 0, 0, 0, 0, 0, 0, 0, 0, 0, 0, ...</td>\n",
              "      <td>[0.0, 0.0, 0.0, 0.0, 0.0, 0.0, 0.0, 0.0, 0.0, ...</td>\n",
              "      <td>[US-9235467-B2]</td>\n",
              "    </tr>\n",
              "    <tr>\n",
              "      <th>69</th>\n",
              "      <td>US-2020119805-A1</td>\n",
              "      <td>A highly robust communication system capable o...</td>\n",
              "      <td>US-2006009262-A1,US-7501979-B1,US-2012302160-A...</td>\n",
              "      <td>H04W16/26,H04W16/26,H04W16/26,H04W16/26,H04W84...</td>\n",
              "      <td>[highly, robust, communication, system, capabl...</td>\n",
              "      <td>[320, 0, 0, 0, 0, 0, 0, 0, 0, 0, 0, 0, 0, 0, 0...</td>\n",
              "      <td>[0.07003803262052116, 0.0, 0.0, 0.0, 0.0, 0.0,...</td>\n",
              "      <td>[US-2012302160-A1, US-2006009262-A1, US-201828...</td>\n",
              "    </tr>\n",
              "  </tbody>\n",
              "</table>\n",
              "<p>70 rows × 8 columns</p>\n",
              "</div>"
            ],
            "text/plain": [
              "   publication_number  ...                                 TokenizedCitations\n",
              "0    US-2018343744-A1  ...  [US-7294529-B2, US-2019057915-A1, US-7935893-B...\n",
              "1    US-2019038230-A1  ...  [US-2011132136-A1, US-2013070043-A1, US-201807...\n",
              "2    US-2018254686-A1  ...  [US-2016282144-A1, US-2011204887-A1, US-201021...\n",
              "3    US-2017338526-A1  ...  [US-2012065826-A1, US-2016329545-A1, US-201302...\n",
              "4    US-2017160890-A1  ...  [US-2002130904-A1, US-2012226757-A1, US-201110...\n",
              "..                ...  ...                                                ...\n",
              "65   US-2020049406-A1  ...  [US-10240867-B2, US-9816757-B1, US-2019219332-A1]\n",
              "66   US-2017010186-A1  ...                                     [US-3951563-A]\n",
              "67   US-2019317829-A1  ...               [US-2010083248-A1, US-2015308938-A1]\n",
              "68   US-2019089374-A1  ...                                    [US-9235467-B2]\n",
              "69   US-2020119805-A1  ...  [US-2012302160-A1, US-2006009262-A1, US-201828...\n",
              "\n",
              "[70 rows x 8 columns]"
            ]
          },
          "metadata": {
            "tags": []
          },
          "execution_count": 27
        }
      ]
    },
    {
      "cell_type": "code",
      "metadata": {
        "colab": {
          "base_uri": "https://localhost:8080/"
        },
        "id": "_eHinpTGolFG",
        "outputId": "56b1db36-9c69-4ae6-d24b-54ccbf5f2d1c"
      },
      "source": [
        "#Showing that both sentences and sentences2 are tokenized correctly\n",
        "sentences"
      ],
      "execution_count": 28,
      "outputs": [
        {
          "output_type": "execute_result",
          "data": {
            "text/plain": [
              "0     [hybrid, microelectronic, substrate, may, form...\n",
              "1     [composite, monitoring, apparatus, includes, b...\n",
              "2     [magnetic, sensor, includes, magnetic, detecti...\n",
              "3     [battery, pack, according, exemplary, aspect, ...\n",
              "4     [terminal, apparatus, configured, provide, cha...\n",
              "                            ...                        \n",
              "65    [methods, apparatuses, drying, electronic, dev...\n",
              "66    [present, invention, discloses, inspection, de...\n",
              "67    [computational, methods, systems, proactively,...\n",
              "68    [method, performing, lowdensity, parity, check...\n",
              "69    [highly, robust, communication, system, capabl...\n",
              "Name: Tokens, Length: 70, dtype: object"
            ]
          },
          "metadata": {
            "tags": []
          },
          "execution_count": 28
        }
      ]
    },
    {
      "cell_type": "code",
      "metadata": {
        "colab": {
          "base_uri": "https://localhost:8080/"
        },
        "id": "5hI896BuQ88x",
        "outputId": "3333ff9f-0319-43da-e569-aebe2ced7d8a"
      },
      "source": [
        "sentences2 = dframe['TokenizedCitations']\n",
        "sentences2"
      ],
      "execution_count": 29,
      "outputs": [
        {
          "output_type": "execute_result",
          "data": {
            "text/plain": [
              "0     [US-7294529-B2, US-2019057915-A1, US-7935893-B...\n",
              "1     [US-2011132136-A1, US-2013070043-A1, US-201807...\n",
              "2     [US-2016282144-A1, US-2011204887-A1, US-201021...\n",
              "3     [US-2012065826-A1, US-2016329545-A1, US-201302...\n",
              "4     [US-2002130904-A1, US-2012226757-A1, US-201110...\n",
              "                            ...                        \n",
              "65    [US-10240867-B2, US-9816757-B1, US-2019219332-A1]\n",
              "66                                       [US-3951563-A]\n",
              "67                 [US-2010083248-A1, US-2015308938-A1]\n",
              "68                                      [US-9235467-B2]\n",
              "69    [US-2012302160-A1, US-2006009262-A1, US-201828...\n",
              "Name: TokenizedCitations, Length: 70, dtype: object"
            ]
          },
          "metadata": {
            "tags": []
          },
          "execution_count": 29
        }
      ]
    },
    {
      "cell_type": "code",
      "metadata": {
        "colab": {
          "base_uri": "https://localhost:8080/"
        },
        "id": "ShfnvWqko2qv",
        "outputId": "7a850562-d71b-4d30-a536-bfb09f287302"
      },
      "source": [
        "# Created the 2nd model based on the citations, and an example\n",
        "model2 = Word2Vec(sentences2, min_count=1)\n",
        "model2.wv.most_similar(positive=['US-7294529-B2'])"
      ],
      "execution_count": 36,
      "outputs": [
        {
          "output_type": "execute_result",
          "data": {
            "text/plain": [
              "[('US-2013267153-A1', 0.33723217248916626),\n",
              " ('US-2014076795-A1', 0.3185223340988159),\n",
              " ('US-2010033371-A1', 0.2665988504886627),\n",
              " ('US-5783077-A', 0.24466368556022644),\n",
              " ('US-5897011-A', 0.2397015392780304),\n",
              " ('US-2010164733-A1', 0.2306135594844818),\n",
              " ('US-2016110965-A1', 0.22854644060134888),\n",
              " ('US-9066619-B2', 0.2245655655860901),\n",
              " ('US-2012167154-A1', 0.22268284857273102),\n",
              " ('US-2012290950-A1', 0.21999993920326233)]"
            ]
          },
          "metadata": {
            "tags": []
          },
          "execution_count": 36
        }
      ]
    },
    {
      "cell_type": "code",
      "metadata": {
        "id": "roJgxfqRqY0h"
      },
      "source": [
        "#Finally the code for all patents that we have, to combine both the abstract and the citations in one document into a document Vector.\n",
        "#Disclaimer - hasnt been tested yet\n",
        "\n",
        "vecs= []\n",
        "\n",
        "for (doc,citationList) in zip(sentences,sentences2):\n",
        "  sum=np.empty(100)\n",
        "  for word in doc:\n",
        "    try:\n",
        "      sum += model.wv[word]\n",
        "    except:\n",
        "      pass\n",
        "  for citation in citationList:\n",
        "    try:\n",
        "      sum += model2.wv[citation]\n",
        "    except:\n",
        "      pass\n",
        "  vecs.append(sum)"
      ],
      "execution_count": null,
      "outputs": []
    }
  ]
}