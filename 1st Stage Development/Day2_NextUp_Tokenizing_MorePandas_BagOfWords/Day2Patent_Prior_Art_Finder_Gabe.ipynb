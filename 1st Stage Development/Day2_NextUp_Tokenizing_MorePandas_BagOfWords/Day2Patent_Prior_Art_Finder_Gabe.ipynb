{
  "nbformat": 4,
  "nbformat_minor": 0,
  "metadata": {
    "colab": {
      "name": "Day2Patent-Prior-Art-Finder_Gabe.ipynb",
      "provenance": [],
      "authorship_tag": "ABX9TyOGuWuoA5AYf0z23WXW2WEW",
      "include_colab_link": true
    },
    "kernelspec": {
      "name": "python3",
      "display_name": "Python 3"
    },
    "language_info": {
      "name": "python"
    }
  },
  "cells": [
    {
      "cell_type": "markdown",
      "metadata": {
        "id": "view-in-github",
        "colab_type": "text"
      },
      "source": [
        "<a href=\"https://colab.research.google.com/github/GabeAspir/Patent-Prior-Art-Finder/blob/main/Day2_NextUp_Tokenizing_MorePandas_BagOfWords/Day2Patent_Prior_Art_Finder_Gabe.ipynb\" target=\"_parent\"><img src=\"https://colab.research.google.com/assets/colab-badge.svg\" alt=\"Open In Colab\"/></a>"
      ]
    },
    {
      "cell_type": "markdown",
      "metadata": {
        "id": "2ZJWOZJAegI5"
      },
      "source": [
        "# Goal -- To start tokenizing!"
      ]
    },
    {
      "cell_type": "code",
      "metadata": {
        "id": "o3t7jhXcedDF",
        "colab": {
          "base_uri": "https://localhost:8080/",
          "height": 35
        },
        "outputId": "1e513860-dac0-4c95-e776-79b630d4ab25"
      },
      "source": [
        "import pandas as pd\n",
        "import re\n",
        "pd.__version__"
      ],
      "execution_count": 3,
      "outputs": [
        {
          "output_type": "execute_result",
          "data": {
            "application/vnd.google.colaboratory.intrinsic+json": {
              "type": "string"
            },
            "text/plain": [
              "'1.1.5'"
            ]
          },
          "metadata": {
            "tags": []
          },
          "execution_count": 3
        }
      ]
    },
    {
      "cell_type": "markdown",
      "metadata": {
        "id": "pktUyASfeeT8"
      },
      "source": [
        "Pandas and Regex has been imported"
      ]
    },
    {
      "cell_type": "code",
      "metadata": {
        "id": "2ZgESRqHe82b"
      },
      "source": [
        "url = 'https://drive.google.com/file/d/18DdQd4ZPbcvOeZ6x2KRJHmvpGarnw9Qx/view?usp=sharing'\n",
        "file_id = url.split('/')[-2]\n",
        "dwn_url='https://drive.google.com/uc?id=' + file_id\n",
        "dataframe = pd.read_csv(dwn_url)\n"
      ],
      "execution_count": 4,
      "outputs": []
    },
    {
      "cell_type": "markdown",
      "metadata": {
        "id": "5JC89fFMZvsY"
      },
      "source": [
        "We now have a data set (of 10 patents) containing three alike patents - liquid Laundry detergent Patents."
      ]
    },
    {
      "cell_type": "code",
      "metadata": {
        "colab": {
          "base_uri": "https://localhost:8080/",
          "height": 190
        },
        "id": "g4Zo3qxBZobw",
        "outputId": "b3d8dc81-139e-4530-dc17-909504fbf315"
      },
      "source": [
        "dataframe.describe()"
      ],
      "execution_count": 5,
      "outputs": [
        {
          "output_type": "execute_result",
          "data": {
            "text/html": [
              "<div>\n",
              "<style scoped>\n",
              "    .dataframe tbody tr th:only-of-type {\n",
              "        vertical-align: middle;\n",
              "    }\n",
              "\n",
              "    .dataframe tbody tr th {\n",
              "        vertical-align: top;\n",
              "    }\n",
              "\n",
              "    .dataframe thead th {\n",
              "        text-align: right;\n",
              "    }\n",
              "</style>\n",
              "<table border=\"1\" class=\"dataframe\">\n",
              "  <thead>\n",
              "    <tr style=\"text-align: right;\">\n",
              "      <th></th>\n",
              "      <th>Publication_Number</th>\n",
              "      <th>Abstract</th>\n",
              "      <th>Description</th>\n",
              "      <th>Claim</th>\n",
              "    </tr>\n",
              "  </thead>\n",
              "  <tbody>\n",
              "    <tr>\n",
              "      <th>count</th>\n",
              "      <td>10</td>\n",
              "      <td>10</td>\n",
              "      <td>10</td>\n",
              "      <td>10</td>\n",
              "    </tr>\n",
              "    <tr>\n",
              "      <th>unique</th>\n",
              "      <td>10</td>\n",
              "      <td>10</td>\n",
              "      <td>10</td>\n",
              "      <td>10</td>\n",
              "    </tr>\n",
              "    <tr>\n",
              "      <th>top</th>\n",
              "      <td>US-6910186-B2</td>\n",
              "      <td>A liquid laundry detergent composition contain...</td>\n",
              "      <td>CROSS-REFERENCE TO APPENDICES ATTACHED HERETO ...</td>\n",
              "      <td>What is claimed is: \\n     \\n         1 . A li...</td>\n",
              "    </tr>\n",
              "    <tr>\n",
              "      <th>freq</th>\n",
              "      <td>1</td>\n",
              "      <td>1</td>\n",
              "      <td>1</td>\n",
              "      <td>1</td>\n",
              "    </tr>\n",
              "  </tbody>\n",
              "</table>\n",
              "</div>"
            ],
            "text/plain": [
              "       Publication_Number  ...                                              Claim\n",
              "count                  10  ...                                                 10\n",
              "unique                 10  ...                                                 10\n",
              "top         US-6910186-B2  ...  What is claimed is: \\n     \\n         1 . A li...\n",
              "freq                    1  ...                                                  1\n",
              "\n",
              "[4 rows x 4 columns]"
            ]
          },
          "metadata": {
            "tags": []
          },
          "execution_count": 5
        }
      ]
    },
    {
      "cell_type": "code",
      "metadata": {
        "colab": {
          "base_uri": "https://localhost:8080/",
          "height": 529
        },
        "id": "fJ7hJW5dgq1o",
        "outputId": "9178ed45-6f6e-41f4-b910-4b4f303bad61"
      },
      "source": [
        "dataframe"
      ],
      "execution_count": 7,
      "outputs": [
        {
          "output_type": "execute_result",
          "data": {
            "text/html": [
              "<div>\n",
              "<style scoped>\n",
              "    .dataframe tbody tr th:only-of-type {\n",
              "        vertical-align: middle;\n",
              "    }\n",
              "\n",
              "    .dataframe tbody tr th {\n",
              "        vertical-align: top;\n",
              "    }\n",
              "\n",
              "    .dataframe thead th {\n",
              "        text-align: right;\n",
              "    }\n",
              "</style>\n",
              "<table border=\"1\" class=\"dataframe\">\n",
              "  <thead>\n",
              "    <tr style=\"text-align: right;\">\n",
              "      <th></th>\n",
              "      <th>Publication_Number</th>\n",
              "      <th>Abstract</th>\n",
              "      <th>Description</th>\n",
              "      <th>Claim</th>\n",
              "    </tr>\n",
              "  </thead>\n",
              "  <tbody>\n",
              "    <tr>\n",
              "      <th>0</th>\n",
              "      <td>US-7365259-B2</td>\n",
              "      <td>A keyboard apparatus is including a plurality ...</td>\n",
              "      <td>BACKGROUND OF THE INVENTION \\n   1. Field of t...</td>\n",
              "      <td>1. A keyboard apparatus comprising:\\n a suppor...</td>\n",
              "    </tr>\n",
              "    <tr>\n",
              "      <th>1</th>\n",
              "      <td>US-7556524-B2</td>\n",
              "      <td>An easy-pull type swivel plug includes a body,...</td>\n",
              "      <td>BACKGROUND OF THE INVENTION \\n   1. Field of t...</td>\n",
              "      <td>1. An easy-pull type swivel plug, comprising:\\...</td>\n",
              "    </tr>\n",
              "    <tr>\n",
              "      <th>2</th>\n",
              "      <td>US-7338315-B2</td>\n",
              "      <td>The invention relates to a closure device comp...</td>\n",
              "      <td>FIELD OF THE INVENTION \\n   The invention rela...</td>\n",
              "      <td>1. A closure device comprising:\\n a wall havin...</td>\n",
              "    </tr>\n",
              "    <tr>\n",
              "      <th>3</th>\n",
              "      <td>US-6843642-B2</td>\n",
              "      <td>An air compressor with shock-absorption rubber...</td>\n",
              "      <td>BACKGROUND OF THE INVENTION \\n   (a) Field of ...</td>\n",
              "      <td>1. An air compressor with shock-absorption rub...</td>\n",
              "    </tr>\n",
              "    <tr>\n",
              "      <th>4</th>\n",
              "      <td>US-9433212-B2</td>\n",
              "      <td>Provided is a novel plant growth regulator. Th...</td>\n",
              "      <td>TECHNICAL FIELD \\n     The present invention r...</td>\n",
              "      <td>The invention claimed is: \\n     \\n       1. A...</td>\n",
              "    </tr>\n",
              "    <tr>\n",
              "      <th>5</th>\n",
              "      <td>US-5536436-A</td>\n",
              "      <td>A liquid laundry detergent composition contain...</td>\n",
              "      <td>FIELD OF THE INVENTION \\n     The present inve...</td>\n",
              "      <td>What is claimed is: \\n     \\n       1. A heavy...</td>\n",
              "    </tr>\n",
              "    <tr>\n",
              "      <th>6</th>\n",
              "      <td>US-2015111807-A1</td>\n",
              "      <td>A liquid laundry detergent composition compris...</td>\n",
              "      <td>FIELD OF THE INVENTION \\n     The present inve...</td>\n",
              "      <td>What is claimed is: \\n     \\n         1 . A li...</td>\n",
              "    </tr>\n",
              "    <tr>\n",
              "      <th>7</th>\n",
              "      <td>US-7605322-B2</td>\n",
              "      <td>As a player inputs a performance of a music pi...</td>\n",
              "      <td>TECHNICAL FIELD \\n   The present invention rel...</td>\n",
              "      <td>1. An apparatus for automatically starting an ...</td>\n",
              "    </tr>\n",
              "    <tr>\n",
              "      <th>8</th>\n",
              "      <td>US-7205268-B2</td>\n",
              "      <td>A low-foaming aqueous liquid laundry detergent...</td>\n",
              "      <td>FIELD OF THE INVENTION \\n     The present inve...</td>\n",
              "      <td>1. A low-foaming aqueous liquid laundry deterg...</td>\n",
              "    </tr>\n",
              "    <tr>\n",
              "      <th>9</th>\n",
              "      <td>US-6910186-B2</td>\n",
              "      <td>A new class of avatars (“organizational avatar...</td>\n",
              "      <td>CROSS-REFERENCE TO APPENDICES ATTACHED HERETO ...</td>\n",
              "      <td>1. A method of communicating between users, th...</td>\n",
              "    </tr>\n",
              "  </tbody>\n",
              "</table>\n",
              "</div>"
            ],
            "text/plain": [
              "  Publication_Number  ...                                              Claim\n",
              "0      US-7365259-B2  ...  1. A keyboard apparatus comprising:\\n a suppor...\n",
              "1      US-7556524-B2  ...  1. An easy-pull type swivel plug, comprising:\\...\n",
              "2      US-7338315-B2  ...  1. A closure device comprising:\\n a wall havin...\n",
              "3      US-6843642-B2  ...  1. An air compressor with shock-absorption rub...\n",
              "4      US-9433212-B2  ...  The invention claimed is: \\n     \\n       1. A...\n",
              "5       US-5536436-A  ...  What is claimed is: \\n     \\n       1. A heavy...\n",
              "6   US-2015111807-A1  ...  What is claimed is: \\n     \\n         1 . A li...\n",
              "7      US-7605322-B2  ...  1. An apparatus for automatically starting an ...\n",
              "8      US-7205268-B2  ...  1. A low-foaming aqueous liquid laundry deterg...\n",
              "9      US-6910186-B2  ...  1. A method of communicating between users, th...\n",
              "\n",
              "[10 rows x 4 columns]"
            ]
          },
          "metadata": {
            "tags": []
          },
          "execution_count": 7
        }
      ]
    },
    {
      "cell_type": "markdown",
      "metadata": {
        "id": "e23MNQEqZ_qC"
      },
      "source": [
        "Here's code for tokenizing a string with these restrictions - <br/> For each row, <br/>\n",
        "1. split on whitespace, punctuation, apostrophes, etc.\n",
        "2. Set everything to lowercase\n",
        "3. Replace numbers with some unique token (e.g., “_NUM_”) -- the number 1, 100, and 1000 should all map to the same token.\n",
        "4. Remove all one-letter “words”\n"
      ]
    },
    {
      "cell_type": "code",
      "metadata": {
        "id": "RjeFQCpOS2tl"
      },
      "source": [
        "def tokenize(string):\n",
        "    lowercasedString = string.lower()\n",
        "    #To split based on white space and random charactars\n",
        "    stringArray = re.split('\\W+', lowercasedString)\n",
        "    #Will substitute numbers for _NUM_\n",
        "    stringArray[:]= [re.sub(r\"[0-9]+\",\"_NUM_\",s) for s in stringArray]\n",
        "    #Will filter out 1 letter words like \"I\" and \"a\"\n",
        "    stringArray = list(filter (lambda s: len (s) > 1, stringArray))\n",
        "    #Will return a List/Array\n",
        "    return stringArray"
      ],
      "execution_count": 9,
      "outputs": []
    },
    {
      "cell_type": "markdown",
      "metadata": {
        "id": "UOXQqez_iW6o"
      },
      "source": [
        "Now, we have to take the abstract of each patent,<br/>\n",
        "and create a new column in the dataframe to put the tokenized<br/> abstract data -<br/>\n",
        "This is actually really simple using Pandas!"
      ]
    },
    {
      "cell_type": "code",
      "metadata": {
        "id": "CpoCB41jivBW"
      },
      "source": [
        "dataframe['Tokenized_Abstract'] = dataframe['Abstract'].apply(tokenize)"
      ],
      "execution_count": 12,
      "outputs": []
    },
    {
      "cell_type": "code",
      "metadata": {
        "colab": {
          "base_uri": "https://localhost:8080/",
          "height": 529
        },
        "id": "NheQq2Lzkd7f",
        "outputId": "49d9f0c1-c6ea-4969-c73e-ac9b9c3ad067"
      },
      "source": [
        "dataframe"
      ],
      "execution_count": 13,
      "outputs": [
        {
          "output_type": "execute_result",
          "data": {
            "text/html": [
              "<div>\n",
              "<style scoped>\n",
              "    .dataframe tbody tr th:only-of-type {\n",
              "        vertical-align: middle;\n",
              "    }\n",
              "\n",
              "    .dataframe tbody tr th {\n",
              "        vertical-align: top;\n",
              "    }\n",
              "\n",
              "    .dataframe thead th {\n",
              "        text-align: right;\n",
              "    }\n",
              "</style>\n",
              "<table border=\"1\" class=\"dataframe\">\n",
              "  <thead>\n",
              "    <tr style=\"text-align: right;\">\n",
              "      <th></th>\n",
              "      <th>Publication_Number</th>\n",
              "      <th>Abstract</th>\n",
              "      <th>Description</th>\n",
              "      <th>Claim</th>\n",
              "      <th>Tokenized_Abstract</th>\n",
              "    </tr>\n",
              "  </thead>\n",
              "  <tbody>\n",
              "    <tr>\n",
              "      <th>0</th>\n",
              "      <td>US-7365259-B2</td>\n",
              "      <td>A keyboard apparatus is including a plurality ...</td>\n",
              "      <td>BACKGROUND OF THE INVENTION \\n   1. Field of t...</td>\n",
              "      <td>1. A keyboard apparatus comprising:\\n a suppor...</td>\n",
              "      <td>[keyboard, apparatus, is, including, plurality...</td>\n",
              "    </tr>\n",
              "    <tr>\n",
              "      <th>1</th>\n",
              "      <td>US-7556524-B2</td>\n",
              "      <td>An easy-pull type swivel plug includes a body,...</td>\n",
              "      <td>BACKGROUND OF THE INVENTION \\n   1. Field of t...</td>\n",
              "      <td>1. An easy-pull type swivel plug, comprising:\\...</td>\n",
              "      <td>[an, easy, pull, type, swivel, plug, includes,...</td>\n",
              "    </tr>\n",
              "    <tr>\n",
              "      <th>2</th>\n",
              "      <td>US-7338315-B2</td>\n",
              "      <td>The invention relates to a closure device comp...</td>\n",
              "      <td>FIELD OF THE INVENTION \\n   The invention rela...</td>\n",
              "      <td>1. A closure device comprising:\\n a wall havin...</td>\n",
              "      <td>[the, invention, relates, to, closure, device,...</td>\n",
              "    </tr>\n",
              "    <tr>\n",
              "      <th>3</th>\n",
              "      <td>US-6843642-B2</td>\n",
              "      <td>An air compressor with shock-absorption rubber...</td>\n",
              "      <td>BACKGROUND OF THE INVENTION \\n   (a) Field of ...</td>\n",
              "      <td>1. An air compressor with shock-absorption rub...</td>\n",
              "      <td>[an, air, compressor, with, shock, absorption,...</td>\n",
              "    </tr>\n",
              "    <tr>\n",
              "      <th>4</th>\n",
              "      <td>US-9433212-B2</td>\n",
              "      <td>Provided is a novel plant growth regulator. Th...</td>\n",
              "      <td>TECHNICAL FIELD \\n     The present invention r...</td>\n",
              "      <td>The invention claimed is: \\n     \\n       1. A...</td>\n",
              "      <td>[provided, is, novel, plant, growth, regulator...</td>\n",
              "    </tr>\n",
              "    <tr>\n",
              "      <th>5</th>\n",
              "      <td>US-5536436-A</td>\n",
              "      <td>A liquid laundry detergent composition contain...</td>\n",
              "      <td>FIELD OF THE INVENTION \\n     The present inve...</td>\n",
              "      <td>What is claimed is: \\n     \\n       1. A heavy...</td>\n",
              "      <td>[liquid, laundry, detergent, composition, cont...</td>\n",
              "    </tr>\n",
              "    <tr>\n",
              "      <th>6</th>\n",
              "      <td>US-2015111807-A1</td>\n",
              "      <td>A liquid laundry detergent composition compris...</td>\n",
              "      <td>FIELD OF THE INVENTION \\n     The present inve...</td>\n",
              "      <td>What is claimed is: \\n     \\n         1 . A li...</td>\n",
              "      <td>[liquid, laundry, detergent, composition, comp...</td>\n",
              "    </tr>\n",
              "    <tr>\n",
              "      <th>7</th>\n",
              "      <td>US-7605322-B2</td>\n",
              "      <td>As a player inputs a performance of a music pi...</td>\n",
              "      <td>TECHNICAL FIELD \\n   The present invention rel...</td>\n",
              "      <td>1. An apparatus for automatically starting an ...</td>\n",
              "      <td>[as, player, inputs, performance, of, music, p...</td>\n",
              "    </tr>\n",
              "    <tr>\n",
              "      <th>8</th>\n",
              "      <td>US-7205268-B2</td>\n",
              "      <td>A low-foaming aqueous liquid laundry detergent...</td>\n",
              "      <td>FIELD OF THE INVENTION \\n     The present inve...</td>\n",
              "      <td>1. A low-foaming aqueous liquid laundry deterg...</td>\n",
              "      <td>[low, foaming, aqueous, liquid, laundry, deter...</td>\n",
              "    </tr>\n",
              "    <tr>\n",
              "      <th>9</th>\n",
              "      <td>US-6910186-B2</td>\n",
              "      <td>A new class of avatars (“organizational avatar...</td>\n",
              "      <td>CROSS-REFERENCE TO APPENDICES ATTACHED HERETO ...</td>\n",
              "      <td>1. A method of communicating between users, th...</td>\n",
              "      <td>[new, class, of, avatars, organizational, avat...</td>\n",
              "    </tr>\n",
              "  </tbody>\n",
              "</table>\n",
              "</div>"
            ],
            "text/plain": [
              "  Publication_Number  ...                                 Tokenized_Abstract\n",
              "0      US-7365259-B2  ...  [keyboard, apparatus, is, including, plurality...\n",
              "1      US-7556524-B2  ...  [an, easy, pull, type, swivel, plug, includes,...\n",
              "2      US-7338315-B2  ...  [the, invention, relates, to, closure, device,...\n",
              "3      US-6843642-B2  ...  [an, air, compressor, with, shock, absorption,...\n",
              "4      US-9433212-B2  ...  [provided, is, novel, plant, growth, regulator...\n",
              "5       US-5536436-A  ...  [liquid, laundry, detergent, composition, cont...\n",
              "6   US-2015111807-A1  ...  [liquid, laundry, detergent, composition, comp...\n",
              "7      US-7605322-B2  ...  [as, player, inputs, performance, of, music, p...\n",
              "8      US-7205268-B2  ...  [low, foaming, aqueous, liquid, laundry, deter...\n",
              "9      US-6910186-B2  ...  [new, class, of, avatars, organizational, avat...\n",
              "\n",
              "[10 rows x 5 columns]"
            ]
          },
          "metadata": {
            "tags": []
          },
          "execution_count": 13
        }
      ]
    }
  ]
}