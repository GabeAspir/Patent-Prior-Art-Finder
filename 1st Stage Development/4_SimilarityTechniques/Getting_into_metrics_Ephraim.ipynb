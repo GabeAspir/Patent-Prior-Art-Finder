{
  "nbformat": 4,
  "nbformat_minor": 0,
  "metadata": {
    "colab": {
      "name": "Getting into metrics_Ephraim",
      "provenance": [],
      "collapsed_sections": [],
      "authorship_tag": "ABX9TyMN6ITZZdaJcURK+WOgWbLe",
      "include_colab_link": true
    },
    "kernelspec": {
      "name": "python3",
      "display_name": "Python 3"
    },
    "language_info": {
      "name": "python"
    }
  },
  "cells": [
    {
      "cell_type": "markdown",
      "metadata": {
        "id": "view-in-github",
        "colab_type": "text"
      },
      "source": [
        "<a href=\"https://colab.research.google.com/github/GabeAspir/Patent-Prior-Art-Finder/blob/main/4_SimilarityTechniques/Getting_into_metrics_Ephraim.ipynb\" target=\"_parent\"><img src=\"https://colab.research.google.com/assets/colab-badge.svg\" alt=\"Open In Colab\"/></a>"
      ]
    },
    {
      "cell_type": "markdown",
      "metadata": {
        "id": "tQEiaS5FFSPE"
      },
      "source": [
        "# Text methodologies\n",
        "* Importing new data\n",
        "* Tokenizing\n",
        "\n"
      ]
    },
    {
      "cell_type": "code",
      "metadata": {
        "id": "xThAs2IpRLoS"
      },
      "source": [
        "import pandas\n",
        "from google.colab import files\n",
        "from google.colab import drive\n",
        "from sklearn.metrics.pairwise import pairwise_distances\n",
        "from sklearn.metrics.pairwise import cosine_similarity\n",
        "from sklearn.metrics import jaccard_score\n",
        "from numpy import dot\n",
        "from numpy.linalg import norm\n",
        "import io\n",
        "import re\n",
        "import typing\n",
        "\n",
        "# I added '' to the stopwords to avoid the case where a short first word turns into an empty list item\n",
        "stop_words= {'','i', 'me', 'my', 'myself', 'we', 'our', 'ours', 'ourselves', 'you', \"you're\", \"you've\", \"you'll\", \"you'd\", 'your', 'yours', 'yourself', 'yourselves', 'he', 'him', 'his', 'himself', 'she', \"she's\", 'her', 'hers', 'herself', 'it', \"it's\", 'its', 'itself', 'they', 'them', 'their', 'theirs', 'themselves', 'what', 'which', 'who', 'whom', 'this', 'that', \"that'll\", 'these', 'those', 'am', 'is', 'are', 'was', 'were', 'be', 'been', 'being', 'have', 'has', 'had', 'having', 'do', 'does', 'did', 'doing', 'a', 'an', 'the', 'and', 'but', 'if', 'or', 'because', 'as', 'until', 'while', 'of', 'at', 'by', 'for', 'with', 'about', 'against', 'between', 'into', 'through', 'during', 'before', 'after', 'above', 'below', 'to', 'from', 'up', 'down', 'in', 'out', 'on', 'off', 'over', 'under', 'again', 'further', 'then', 'once', 'here', 'there', 'when', 'where', 'why', 'how', 'all', 'any', 'both', 'each', 'few', 'more', 'most', 'other', 'some', 'such', 'no', 'nor', 'not', 'only', 'own', 'same', 'so', 'than', 'too', 'very', 's', 't', 'can', 'will', 'just', 'don', \"don't\", 'should', \"should've\", 'now', 'd', 'll', 'm', 'o', 're', 've', 'y', 'ain', 'aren', \"aren't\", 'couldn', \"couldn't\", 'didn', \"didn't\", 'doesn', \"doesn't\", 'hadn', \"hadn't\", 'hasn', \"hasn't\", 'haven', \"haven't\", 'isn', \"isn't\", 'ma', 'mightn', \"mightn't\", 'mustn', \"mustn't\", 'needn', \"needn't\", 'shan', \"shan't\", 'shouldn', \"shouldn't\", 'wasn', \"wasn't\", 'weren', \"weren't\", 'won', \"won't\", 'wouldn', \"wouldn't\"}"
      ],
      "execution_count": 21,
      "outputs": []
    },
    {
      "cell_type": "code",
      "metadata": {
        "colab": {
          "resources": {
            "http://localhost:8080/nbextensions/google.colab/files.js": {
              "data": "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",
              "ok": true,
              "headers": [
                [
                  "content-type",
                  "application/javascript"
                ]
              ],
              "status": 200,
              "status_text": "OK"
            }
          },
          "base_uri": "https://localhost:8080/",
          "height": 91
        },
        "id": "ZelbTsixq2ca",
        "outputId": "b7092204-ce51-4efd-91dc-2716edb4ab01"
      },
      "source": [
        "uploaded = files.upload()\n",
        "\n",
        "for fn in uploaded.keys():\n",
        "  print('User uploaded file \"{name}\" with length {length} bytes'.format(\n",
        "      name=fn, length=len(uploaded[fn])))\n",
        "pt = pandas.read_csv(io.BytesIO(uploaded['tenmatch.csv']))"
      ],
      "execution_count": 3,
      "outputs": [
        {
          "output_type": "display_data",
          "data": {
            "text/html": [
              "\n",
              "     <input type=\"file\" id=\"files-0f7a0dd6-dd56-418d-bd22-3f0454609f50\" name=\"files[]\" multiple disabled\n",
              "        style=\"border:none\" />\n",
              "     <output id=\"result-0f7a0dd6-dd56-418d-bd22-3f0454609f50\">\n",
              "      Upload widget is only available when the cell has been executed in the\n",
              "      current browser session. Please rerun this cell to enable.\n",
              "      </output>\n",
              "      <script src=\"/nbextensions/google.colab/files.js\"></script> "
            ],
            "text/plain": [
              "<IPython.core.display.HTML object>"
            ]
          },
          "metadata": {
            "tags": []
          }
        },
        {
          "output_type": "stream",
          "text": [
            "Saving tenmatch.csv to tenmatch (1).csv\n",
            "User uploaded file \"tenmatch.csv\" with length 492072 bytes\n"
          ],
          "name": "stdout"
        }
      ]
    },
    {
      "cell_type": "markdown",
      "metadata": {
        "id": "4vWMegeE7JM6"
      },
      "source": [
        "#Tokenization"
      ]
    },
    {
      "cell_type": "code",
      "metadata": {
        "id": "MHdZ5YlF7RX8"
      },
      "source": [
        "def tokenize(input):\n",
        "  out = input.lower()\n",
        "  out= re.sub(r'\\b\\w{1,2}\\b','',out) #remove anything not a word of length 2+\n",
        "  out= re.sub(r\"[0-9]+\",\"_NUM_\",out) #substitute _NUM_ for any block of consecutive number chars\n",
        "  words= re.split('\\W+', out) #Might need to change to pandas split at some point\n",
        "                            # Note capital W is \"Not word\"= [a-zA-Z0-9_]\n",
        "  words= list(filter(lambda s: s not in stop_words,words)) # why list not set?  ¯\\_(ツ)_/¯\n",
        "  return words"
      ],
      "execution_count": 4,
      "outputs": []
    },
    {
      "cell_type": "code",
      "metadata": {
        "id": "1OzMfMAUSIW3"
      },
      "source": [
        "def pTokenize(input): #Now bec pandas series are slightly different, and apparantly not itterating over the lists as strings is better (see: https://stackoverflow.com/questions/16476924/how-to-iterate-over-rows-in-a-dataframe-in-pandas) \n",
        "  out = input.str.lower()\n",
        "  out= out.str.replace(r\"[0-9]+\",\"_NUM_\") #substitute _NUM_ for any block of consecutive number chars\n",
        "  out= out.str.replace(r'\\b\\w{1,2}\\b',\"\") #remove anything not a word of length 2+\n",
        "  out= out.str.split('\\W+') # Note capital W is \"Not word\"= [a-zA-Z0-9_]\n",
        "  r= [s for s in r if not s in stop_words]\n",
        "  return out"
      ],
      "execution_count": 5,
      "outputs": []
    },
    {
      "cell_type": "code",
      "metadata": {
        "id": "WkPA2ghc7kNQ"
      },
      "source": [
        "def bow(series,corpus =None): # Takes a tokenized series\n",
        "  if corpus is None:\n",
        "    corpus = getCorpus(series)\n",
        "  counts=[]\n",
        "  for r in series:\n",
        "    count={}\n",
        "    for w in corpus:\n",
        "      count[w]=r.count(w)\n",
        "    counts.append(count)\n",
        "  return counts\n",
        "def getCorpus(series):\n",
        "  corpus=set()\n",
        "  for r in series:\n",
        "    corpus.update(r)\n",
        "  #print(\"corpus: \"+str(corpus) )\n",
        "  return corpus"
      ],
      "execution_count": 6,
      "outputs": []
    },
    {
      "cell_type": "markdown",
      "metadata": {
        "id": "-fApJQvoAqyl"
      },
      "source": [
        "It seems like for Jaccard it will be way simpler to use a binary BOW, so lets set that up."
      ]
    },
    {
      "cell_type": "code",
      "metadata": {
        "id": "2OQlhSY6TVqx"
      },
      "source": [
        "def bbow(input,corpus =None): #Binary bag of words \n",
        "  if corpus is None:\n",
        "    corpus = getCorpus(input)\n",
        "  output=[]\n",
        "  for r in input:\n",
        "    out= [s in r for s in corpus]\n",
        "    output.append(out)\n",
        "  return output "
      ],
      "execution_count": 8,
      "outputs": []
    },
    {
      "cell_type": "code",
      "metadata": {
        "colab": {
          "base_uri": "https://localhost:8080/"
        },
        "id": "gPoQ6hk6a1PL",
        "outputId": "b1d7fd7d-8f18-481a-bdcf-a288841e33b1"
      },
      "source": [
        "def func_Jaccard(thingOne,thingTwo): # Binary Jaccard index of 2 lists\n",
        "  #output=[one is two for one,two in zip(thingOne,thingTwo)]\n",
        "  output=0\n",
        "  for one,two in zip(thingOne,thingTwo):\n",
        "    if one is two:\n",
        "      output +=1\n",
        "  output= output / len(thingOne)\n",
        "  return output\n",
        "textA= [True, True, False]\n",
        "textB= [False, True, True]\n",
        "print(func_Jaccard(textA,textB))\n",
        "textC= [True,True,True,True]\n",
        "textD=[False,False,False,False]\n",
        "print(func_Jaccard(textD,textC))"
      ],
      "execution_count": 9,
      "outputs": [
        {
          "output_type": "stream",
          "text": [
            "0.3333333333333333\n",
            "0.0\n"
          ],
          "name": "stdout"
        }
      ]
    },
    {
      "cell_type": "code",
      "metadata": {
        "id": "IQNY0kRSWZm4"
      },
      "source": [
        "def bJac(input_series,index_series): # Binary Jaccard index for a Series against itself\n",
        "  fintable=pandas.DataFrame(index_series)\n",
        "  for r,name in zip(input_series,index_series):\n",
        "    mysim=[]\n",
        "    for rr in input_series:\n",
        "      mysim.append(func_Jaccard(r,rr))\n",
        "    fintable[name]=mysim\n",
        "  return fintable"
      ],
      "execution_count": 10,
      "outputs": []
    },
    {
      "cell_type": "code",
      "metadata": {
        "id": "fE5srK7d9dVd"
      },
      "source": [
        "def prep(frame):\n",
        "  frame['tokenized']=frame['Publication_Number']\n",
        "  for index, row in pt.iterrows():\n",
        "    frame['tokenized'][index]= tokenize(frame['Abstract'][index])\n",
        "  frame['Bagged']= bow(frame['tokenized'])\n",
        "  temp_sim_Table=  bJac(bbow(frame['tokenized']),frame['Publication_Number'])\n",
        "  return temp_sim_Table"
      ],
      "execution_count": 11,
      "outputs": []
    },
    {
      "cell_type": "markdown",
      "metadata": {
        "id": "khYWPqYPmmCH"
      },
      "source": [
        "Now Lets try that again with a random sample"
      ]
    },
    {
      "cell_type": "code",
      "metadata": {
        "id": "Xm6VKD6LyFlb"
      },
      "source": [
        "uploaded = files.upload()\n",
        "\n",
        "for fn in uploaded.keys():\n",
        "  print('User uploaded file \"{name}\" with length {length} bytes'.format(\n",
        "      name=fn, length=len(uploaded[fn])))"
      ],
      "execution_count": null,
      "outputs": []
    },
    {
      "cell_type": "code",
      "metadata": {
        "id": "iyjNlPkJ2OYE"
      },
      "source": [
        "sim_Table = prep(pt)"
      ],
      "execution_count": 12,
      "outputs": []
    },
    {
      "cell_type": "markdown",
      "metadata": {
        "id": "zEu-Zgqf92pz"
      },
      "source": [
        "# SciKit\n",
        "ok now we'll actually have to use sciKit"
      ]
    },
    {
      "cell_type": "code",
      "metadata": {
        "id": "Cf-gyfu7_iUL"
      },
      "source": [
        "def bCos(input_series,index_series): # Binary cosine index for a Series against itself\n",
        "  fintable=pandas.DataFrame(index_series)\n",
        "  for a,name in zip(input_series,index_series):\n",
        "    mysim=[]\n",
        "    for b in input_series:\n",
        "      sim=dot(a, b)/(norm(a)*norm(b))\n",
        "      mysim.append(sim)\n",
        "      #mysim.append(cosine_similarity(r)) #<< Once again, didn't get input to work\n",
        "    fintable[name]=mysim\n",
        "  return fintable"
      ],
      "execution_count": 13,
      "outputs": []
    },
    {
      "cell_type": "code",
      "metadata": {
        "id": "Zb0voBQiAvKz"
      },
      "source": [
        "temp_sim_Table=  bCos(bbow(pt['tokenized']),pt['Publication_Number'])"
      ],
      "execution_count": 15,
      "outputs": []
    },
    {
      "cell_type": "code",
      "metadata": {
        "colab": {
          "base_uri": "https://localhost:8080/",
          "height": 374
        },
        "id": "mw8w8jkGBwrm",
        "outputId": "e99eb591-bf63-458e-8698-d80e6da9d43d"
      },
      "source": [
        "temp_sim_Table"
      ],
      "execution_count": 16,
      "outputs": [
        {
          "output_type": "execute_result",
          "data": {
            "text/html": [
              "<div>\n",
              "<style scoped>\n",
              "    .dataframe tbody tr th:only-of-type {\n",
              "        vertical-align: middle;\n",
              "    }\n",
              "\n",
              "    .dataframe tbody tr th {\n",
              "        vertical-align: top;\n",
              "    }\n",
              "\n",
              "    .dataframe thead th {\n",
              "        text-align: right;\n",
              "    }\n",
              "</style>\n",
              "<table border=\"1\" class=\"dataframe\">\n",
              "  <thead>\n",
              "    <tr style=\"text-align: right;\">\n",
              "      <th></th>\n",
              "      <th>Publication_Number</th>\n",
              "      <th>US-9428454-B2</th>\n",
              "      <th>US-9437520-B2</th>\n",
              "      <th>US-9447236-B2</th>\n",
              "      <th>US-9449736-B2</th>\n",
              "      <th>US-2008199533-A1</th>\n",
              "      <th>US-PP25006-P3</th>\n",
              "      <th>US-2001032345-A1</th>\n",
              "      <th>US-2003195014-A1</th>\n",
              "      <th>US-2003009852-A1</th>\n",
              "      <th>US-2005155182-A1</th>\n",
              "    </tr>\n",
              "  </thead>\n",
              "  <tbody>\n",
              "    <tr>\n",
              "      <th>0</th>\n",
              "      <td>US-9428454-B2</td>\n",
              "      <td>0.022222</td>\n",
              "      <td>0.034199</td>\n",
              "      <td>0.025565</td>\n",
              "      <td>0.000000</td>\n",
              "      <td>0.017568</td>\n",
              "      <td>0.000000</td>\n",
              "      <td>0.019087</td>\n",
              "      <td>0.024183</td>\n",
              "      <td>0.024183</td>\n",
              "      <td>0.000000</td>\n",
              "    </tr>\n",
              "    <tr>\n",
              "      <th>1</th>\n",
              "      <td>US-9437520-B2</td>\n",
              "      <td>0.034199</td>\n",
              "      <td>0.052632</td>\n",
              "      <td>0.039344</td>\n",
              "      <td>0.051299</td>\n",
              "      <td>0.027037</td>\n",
              "      <td>0.000000</td>\n",
              "      <td>0.029374</td>\n",
              "      <td>0.037216</td>\n",
              "      <td>0.037216</td>\n",
              "      <td>0.043355</td>\n",
              "    </tr>\n",
              "    <tr>\n",
              "      <th>2</th>\n",
              "      <td>US-9447236-B2</td>\n",
              "      <td>0.025565</td>\n",
              "      <td>0.039344</td>\n",
              "      <td>0.029412</td>\n",
              "      <td>0.038348</td>\n",
              "      <td>0.020211</td>\n",
              "      <td>0.000000</td>\n",
              "      <td>0.021958</td>\n",
              "      <td>0.027821</td>\n",
              "      <td>0.027821</td>\n",
              "      <td>0.032410</td>\n",
              "    </tr>\n",
              "    <tr>\n",
              "      <th>3</th>\n",
              "      <td>US-9449736-B2</td>\n",
              "      <td>0.000000</td>\n",
              "      <td>0.051299</td>\n",
              "      <td>0.038348</td>\n",
              "      <td>0.050000</td>\n",
              "      <td>0.000000</td>\n",
              "      <td>0.000000</td>\n",
              "      <td>0.000000</td>\n",
              "      <td>0.036274</td>\n",
              "      <td>0.000000</td>\n",
              "      <td>0.042258</td>\n",
              "    </tr>\n",
              "    <tr>\n",
              "      <th>4</th>\n",
              "      <td>US-2008199533-A1</td>\n",
              "      <td>0.017568</td>\n",
              "      <td>0.027037</td>\n",
              "      <td>0.020211</td>\n",
              "      <td>0.000000</td>\n",
              "      <td>0.013889</td>\n",
              "      <td>0.023113</td>\n",
              "      <td>0.015089</td>\n",
              "      <td>0.019118</td>\n",
              "      <td>0.000000</td>\n",
              "      <td>0.000000</td>\n",
              "    </tr>\n",
              "    <tr>\n",
              "      <th>5</th>\n",
              "      <td>US-PP25006-P3</td>\n",
              "      <td>0.000000</td>\n",
              "      <td>0.000000</td>\n",
              "      <td>0.000000</td>\n",
              "      <td>0.000000</td>\n",
              "      <td>0.023113</td>\n",
              "      <td>0.038462</td>\n",
              "      <td>0.025110</td>\n",
              "      <td>0.000000</td>\n",
              "      <td>0.000000</td>\n",
              "      <td>0.000000</td>\n",
              "    </tr>\n",
              "    <tr>\n",
              "      <th>6</th>\n",
              "      <td>US-2001032345-A1</td>\n",
              "      <td>0.019087</td>\n",
              "      <td>0.029374</td>\n",
              "      <td>0.021958</td>\n",
              "      <td>0.000000</td>\n",
              "      <td>0.015089</td>\n",
              "      <td>0.025110</td>\n",
              "      <td>0.016393</td>\n",
              "      <td>0.020770</td>\n",
              "      <td>0.020770</td>\n",
              "      <td>0.000000</td>\n",
              "    </tr>\n",
              "    <tr>\n",
              "      <th>7</th>\n",
              "      <td>US-2003195014-A1</td>\n",
              "      <td>0.024183</td>\n",
              "      <td>0.037216</td>\n",
              "      <td>0.027821</td>\n",
              "      <td>0.036274</td>\n",
              "      <td>0.019118</td>\n",
              "      <td>0.000000</td>\n",
              "      <td>0.020770</td>\n",
              "      <td>0.026316</td>\n",
              "      <td>0.026316</td>\n",
              "      <td>0.030657</td>\n",
              "    </tr>\n",
              "    <tr>\n",
              "      <th>8</th>\n",
              "      <td>US-2003009852-A1</td>\n",
              "      <td>0.024183</td>\n",
              "      <td>0.037216</td>\n",
              "      <td>0.027821</td>\n",
              "      <td>0.000000</td>\n",
              "      <td>0.000000</td>\n",
              "      <td>0.000000</td>\n",
              "      <td>0.020770</td>\n",
              "      <td>0.026316</td>\n",
              "      <td>0.026316</td>\n",
              "      <td>0.030657</td>\n",
              "    </tr>\n",
              "    <tr>\n",
              "      <th>9</th>\n",
              "      <td>US-2005155182-A1</td>\n",
              "      <td>0.000000</td>\n",
              "      <td>0.043355</td>\n",
              "      <td>0.032410</td>\n",
              "      <td>0.042258</td>\n",
              "      <td>0.000000</td>\n",
              "      <td>0.000000</td>\n",
              "      <td>0.000000</td>\n",
              "      <td>0.030657</td>\n",
              "      <td>0.030657</td>\n",
              "      <td>0.035714</td>\n",
              "    </tr>\n",
              "  </tbody>\n",
              "</table>\n",
              "</div>"
            ],
            "text/plain": [
              "  Publication_Number  US-9428454-B2  ...  US-2003009852-A1  US-2005155182-A1\n",
              "0      US-9428454-B2       0.022222  ...          0.024183          0.000000\n",
              "1      US-9437520-B2       0.034199  ...          0.037216          0.043355\n",
              "2      US-9447236-B2       0.025565  ...          0.027821          0.032410\n",
              "3      US-9449736-B2       0.000000  ...          0.000000          0.042258\n",
              "4   US-2008199533-A1       0.017568  ...          0.000000          0.000000\n",
              "5      US-PP25006-P3       0.000000  ...          0.000000          0.000000\n",
              "6   US-2001032345-A1       0.019087  ...          0.020770          0.000000\n",
              "7   US-2003195014-A1       0.024183  ...          0.026316          0.030657\n",
              "8   US-2003009852-A1       0.024183  ...          0.026316          0.030657\n",
              "9   US-2005155182-A1       0.000000  ...          0.030657          0.035714\n",
              "\n",
              "[10 rows x 11 columns]"
            ]
          },
          "metadata": {
            "tags": []
          },
          "execution_count": 16
        }
      ]
    },
    {
      "cell_type": "markdown",
      "metadata": {
        "id": "fhPnXO1k1gOQ"
      },
      "source": [
        "#SciKit Cosine (Actually Working)"
      ]
    },
    {
      "cell_type": "code",
      "metadata": {
        "id": "mD3ure4v05Y7"
      },
      "source": [
        "scicos= cosine_similarity(bbow(pt['tokenized']))"
      ],
      "execution_count": 17,
      "outputs": []
    },
    {
      "cell_type": "code",
      "metadata": {
        "colab": {
          "base_uri": "https://localhost:8080/",
          "height": 357
        },
        "id": "q07gtiJ41OQr",
        "outputId": "ec9f027f-a1b5-443d-bb4f-642e97fddcce"
      },
      "source": [
        "costb= pandas.DataFrame(scicos)\n",
        "costb"
      ],
      "execution_count": 19,
      "outputs": [
        {
          "output_type": "execute_result",
          "data": {
            "text/html": [
              "<div>\n",
              "<style scoped>\n",
              "    .dataframe tbody tr th:only-of-type {\n",
              "        vertical-align: middle;\n",
              "    }\n",
              "\n",
              "    .dataframe tbody tr th {\n",
              "        vertical-align: top;\n",
              "    }\n",
              "\n",
              "    .dataframe thead th {\n",
              "        text-align: right;\n",
              "    }\n",
              "</style>\n",
              "<table border=\"1\" class=\"dataframe\">\n",
              "  <thead>\n",
              "    <tr style=\"text-align: right;\">\n",
              "      <th></th>\n",
              "      <th>0</th>\n",
              "      <th>1</th>\n",
              "      <th>2</th>\n",
              "      <th>3</th>\n",
              "      <th>4</th>\n",
              "      <th>5</th>\n",
              "      <th>6</th>\n",
              "      <th>7</th>\n",
              "      <th>8</th>\n",
              "      <th>9</th>\n",
              "    </tr>\n",
              "  </thead>\n",
              "  <tbody>\n",
              "    <tr>\n",
              "      <th>0</th>\n",
              "      <td>1.000000</td>\n",
              "      <td>0.034199</td>\n",
              "      <td>0.076696</td>\n",
              "      <td>0.000000</td>\n",
              "      <td>0.052705</td>\n",
              "      <td>0.000000</td>\n",
              "      <td>0.019087</td>\n",
              "      <td>0.024183</td>\n",
              "      <td>0.024183</td>\n",
              "      <td>0.000000</td>\n",
              "    </tr>\n",
              "    <tr>\n",
              "      <th>1</th>\n",
              "      <td>0.034199</td>\n",
              "      <td>1.000000</td>\n",
              "      <td>0.039344</td>\n",
              "      <td>0.051299</td>\n",
              "      <td>0.027037</td>\n",
              "      <td>0.000000</td>\n",
              "      <td>0.058747</td>\n",
              "      <td>0.074432</td>\n",
              "      <td>0.074432</td>\n",
              "      <td>0.130066</td>\n",
              "    </tr>\n",
              "    <tr>\n",
              "      <th>2</th>\n",
              "      <td>0.076696</td>\n",
              "      <td>0.039344</td>\n",
              "      <td>1.000000</td>\n",
              "      <td>0.115045</td>\n",
              "      <td>0.060634</td>\n",
              "      <td>0.000000</td>\n",
              "      <td>0.087833</td>\n",
              "      <td>0.027821</td>\n",
              "      <td>0.027821</td>\n",
              "      <td>0.032410</td>\n",
              "    </tr>\n",
              "    <tr>\n",
              "      <th>3</th>\n",
              "      <td>0.000000</td>\n",
              "      <td>0.051299</td>\n",
              "      <td>0.115045</td>\n",
              "      <td>1.000000</td>\n",
              "      <td>0.000000</td>\n",
              "      <td>0.000000</td>\n",
              "      <td>0.000000</td>\n",
              "      <td>0.036274</td>\n",
              "      <td>0.000000</td>\n",
              "      <td>0.042258</td>\n",
              "    </tr>\n",
              "    <tr>\n",
              "      <th>4</th>\n",
              "      <td>0.052705</td>\n",
              "      <td>0.027037</td>\n",
              "      <td>0.060634</td>\n",
              "      <td>0.000000</td>\n",
              "      <td>1.000000</td>\n",
              "      <td>0.069338</td>\n",
              "      <td>0.105625</td>\n",
              "      <td>0.038236</td>\n",
              "      <td>0.000000</td>\n",
              "      <td>0.000000</td>\n",
              "    </tr>\n",
              "    <tr>\n",
              "      <th>5</th>\n",
              "      <td>0.000000</td>\n",
              "      <td>0.000000</td>\n",
              "      <td>0.000000</td>\n",
              "      <td>0.000000</td>\n",
              "      <td>0.069338</td>\n",
              "      <td>1.000000</td>\n",
              "      <td>0.075330</td>\n",
              "      <td>0.000000</td>\n",
              "      <td>0.000000</td>\n",
              "      <td>0.000000</td>\n",
              "    </tr>\n",
              "    <tr>\n",
              "      <th>6</th>\n",
              "      <td>0.019087</td>\n",
              "      <td>0.058747</td>\n",
              "      <td>0.087833</td>\n",
              "      <td>0.000000</td>\n",
              "      <td>0.105625</td>\n",
              "      <td>0.075330</td>\n",
              "      <td>1.000000</td>\n",
              "      <td>0.020770</td>\n",
              "      <td>0.041541</td>\n",
              "      <td>0.000000</td>\n",
              "    </tr>\n",
              "    <tr>\n",
              "      <th>7</th>\n",
              "      <td>0.024183</td>\n",
              "      <td>0.074432</td>\n",
              "      <td>0.027821</td>\n",
              "      <td>0.036274</td>\n",
              "      <td>0.038236</td>\n",
              "      <td>0.000000</td>\n",
              "      <td>0.020770</td>\n",
              "      <td>1.000000</td>\n",
              "      <td>0.052632</td>\n",
              "      <td>0.153285</td>\n",
              "    </tr>\n",
              "    <tr>\n",
              "      <th>8</th>\n",
              "      <td>0.024183</td>\n",
              "      <td>0.074432</td>\n",
              "      <td>0.027821</td>\n",
              "      <td>0.000000</td>\n",
              "      <td>0.000000</td>\n",
              "      <td>0.000000</td>\n",
              "      <td>0.041541</td>\n",
              "      <td>0.052632</td>\n",
              "      <td>1.000000</td>\n",
              "      <td>0.030657</td>\n",
              "    </tr>\n",
              "    <tr>\n",
              "      <th>9</th>\n",
              "      <td>0.000000</td>\n",
              "      <td>0.130066</td>\n",
              "      <td>0.032410</td>\n",
              "      <td>0.042258</td>\n",
              "      <td>0.000000</td>\n",
              "      <td>0.000000</td>\n",
              "      <td>0.000000</td>\n",
              "      <td>0.153285</td>\n",
              "      <td>0.030657</td>\n",
              "      <td>1.000000</td>\n",
              "    </tr>\n",
              "  </tbody>\n",
              "</table>\n",
              "</div>"
            ],
            "text/plain": [
              "          0         1         2  ...         7         8         9\n",
              "0  1.000000  0.034199  0.076696  ...  0.024183  0.024183  0.000000\n",
              "1  0.034199  1.000000  0.039344  ...  0.074432  0.074432  0.130066\n",
              "2  0.076696  0.039344  1.000000  ...  0.027821  0.027821  0.032410\n",
              "3  0.000000  0.051299  0.115045  ...  0.036274  0.000000  0.042258\n",
              "4  0.052705  0.027037  0.060634  ...  0.038236  0.000000  0.000000\n",
              "5  0.000000  0.000000  0.000000  ...  0.000000  0.000000  0.000000\n",
              "6  0.019087  0.058747  0.087833  ...  0.020770  0.041541  0.000000\n",
              "7  0.024183  0.074432  0.027821  ...  1.000000  0.052632  0.153285\n",
              "8  0.024183  0.074432  0.027821  ...  0.052632  1.000000  0.030657\n",
              "9  0.000000  0.130066  0.032410  ...  0.153285  0.030657  1.000000\n",
              "\n",
              "[10 rows x 10 columns]"
            ]
          },
          "metadata": {
            "tags": []
          },
          "execution_count": 19
        }
      ]
    },
    {
      "cell_type": "markdown",
      "metadata": {
        "id": "vHYmz7kG3Xrc"
      },
      "source": [
        "# SciKit Jaccard (In-progress)"
      ]
    },
    {
      "cell_type": "code",
      "metadata": {
        "id": "PXUafuFl1tKc"
      },
      "source": [
        "myBag= bbow(pt['tokenized']) # Better late than never\n",
        "jacsci = pandas.DataFrame(jaccard_score(myBag,myBag, average=None))"
      ],
      "execution_count": 29,
      "outputs": []
    },
    {
      "cell_type": "code",
      "metadata": {
        "id": "JNWAMkrW3O7U",
        "outputId": "4892ea73-5fd2-4cc3-8d49-1fc85c979d2b",
        "colab": {
          "base_uri": "https://localhost:8080/",
          "height": 417
        }
      },
      "source": [
        "jacsci"
      ],
      "execution_count": 30,
      "outputs": [
        {
          "output_type": "execute_result",
          "data": {
            "text/html": [
              "<div>\n",
              "<style scoped>\n",
              "    .dataframe tbody tr th:only-of-type {\n",
              "        vertical-align: middle;\n",
              "    }\n",
              "\n",
              "    .dataframe tbody tr th {\n",
              "        vertical-align: top;\n",
              "    }\n",
              "\n",
              "    .dataframe thead th {\n",
              "        text-align: right;\n",
              "    }\n",
              "</style>\n",
              "<table border=\"1\" class=\"dataframe\">\n",
              "  <thead>\n",
              "    <tr style=\"text-align: right;\">\n",
              "      <th></th>\n",
              "      <th>0</th>\n",
              "    </tr>\n",
              "  </thead>\n",
              "  <tbody>\n",
              "    <tr>\n",
              "      <th>0</th>\n",
              "      <td>1.0</td>\n",
              "    </tr>\n",
              "    <tr>\n",
              "      <th>1</th>\n",
              "      <td>1.0</td>\n",
              "    </tr>\n",
              "    <tr>\n",
              "      <th>2</th>\n",
              "      <td>1.0</td>\n",
              "    </tr>\n",
              "    <tr>\n",
              "      <th>3</th>\n",
              "      <td>1.0</td>\n",
              "    </tr>\n",
              "    <tr>\n",
              "      <th>4</th>\n",
              "      <td>1.0</td>\n",
              "    </tr>\n",
              "    <tr>\n",
              "      <th>...</th>\n",
              "      <td>...</td>\n",
              "    </tr>\n",
              "    <tr>\n",
              "      <th>330</th>\n",
              "      <td>1.0</td>\n",
              "    </tr>\n",
              "    <tr>\n",
              "      <th>331</th>\n",
              "      <td>1.0</td>\n",
              "    </tr>\n",
              "    <tr>\n",
              "      <th>332</th>\n",
              "      <td>1.0</td>\n",
              "    </tr>\n",
              "    <tr>\n",
              "      <th>333</th>\n",
              "      <td>1.0</td>\n",
              "    </tr>\n",
              "    <tr>\n",
              "      <th>334</th>\n",
              "      <td>1.0</td>\n",
              "    </tr>\n",
              "  </tbody>\n",
              "</table>\n",
              "<p>335 rows × 1 columns</p>\n",
              "</div>"
            ],
            "text/plain": [
              "       0\n",
              "0    1.0\n",
              "1    1.0\n",
              "2    1.0\n",
              "3    1.0\n",
              "4    1.0\n",
              "..   ...\n",
              "330  1.0\n",
              "331  1.0\n",
              "332  1.0\n",
              "333  1.0\n",
              "334  1.0\n",
              "\n",
              "[335 rows x 1 columns]"
            ]
          },
          "metadata": {
            "tags": []
          },
          "execution_count": 30
        }
      ]
    }
  ]
}