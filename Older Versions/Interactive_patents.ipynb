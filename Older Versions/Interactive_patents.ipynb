{
  "nbformat": 4,
  "nbformat_minor": 0,
  "metadata": {
    "colab": {
      "name": "Interactive patents",
      "provenance": [],
      "collapsed_sections": [],
      "authorship_tag": "ABX9TyPUiyYEkY7Rud5QUdw3X3rG",
      "include_colab_link": true
    },
    "kernelspec": {
      "name": "python3",
      "display_name": "Python 3"
    },
    "language_info": {
      "name": "python"
    }
  },
  "cells": [
    {
      "cell_type": "markdown",
      "metadata": {
        "id": "view-in-github",
        "colab_type": "text"
      },
      "source": [
        "<a href=\"https://colab.research.google.com/github/GabeAspir/Patent-Prior-Art-Finder/blob/main/Interactive_patents.ipynb\" target=\"_parent\"><img src=\"https://colab.research.google.com/assets/colab-badge.svg\" alt=\"Open In Colab\"/></a>"
      ]
    },
    {
      "cell_type": "code",
      "metadata": {
        "colab": {
          "base_uri": "https://localhost:8080/"
        },
        "id": "6yWovmBXOhCx",
        "outputId": "3871fe66-d1dc-453f-d3ec-3dcb223d54b5"
      },
      "source": [
        "#@title Click the play button to begin, then continue to option 1 or 2\n",
        "import pandas as pd\n",
        "import gdown\n",
        "import requests\n",
        "import nltk\n",
        "nltk.download('punkt')\n",
        "\n",
        "# From https://changhsinlee.com/colab-import-python/\n",
        "# If you are using GitHub, make sure you get the \"Raw\" version of the code\n",
        "url = 'https://raw.githubusercontent.com/GabeAspir/Patent-Prior-Art-Finder/main/_DevFilesPatentPriorArtFinder.py'\n",
        "r = requests.get(url)\n",
        " \n",
        "# make sure your filename is the same as how you want to import \n",
        "with open('_DevFilesPatentPriorArtFinder.py', 'w') as f:\n",
        "    f.write(r.text)\n",
        " \n",
        "# now we can import\n",
        "from _DevFilesPatentPriorArtFinder import _DevFilesPatentPriorArtFinder as paf\n",
        "\n",
        "print(\"You may now proceed to option 1 or 2 below\")"
      ],
      "execution_count": 33,
      "outputs": [
        {
          "output_type": "stream",
          "text": [
            "[nltk_data] Downloading package punkt to /root/nltk_data...\n",
            "[nltk_data]   Package punkt is already up-to-date!\n",
            "You may now proceed to option 1 or 2 below\n"
          ],
          "name": "stdout"
        }
      ]
    },
    {
      "cell_type": "markdown",
      "metadata": {
        "id": "_ZOIzE8SR865"
      },
      "source": [
        "# Option 1: Compare an existing patent  "
      ]
    },
    {
      "cell_type": "code",
      "metadata": {
        "id": "eClH_0_7OkK1",
        "colab": {
          "base_uri": "https://localhost:8080/"
        },
        "outputId": "e4ca4ce0-66c7-4324-a9ca-6c5269a22e6f"
      },
      "source": [
        "#@title Enter a patent number for comparison\n",
        "patent_Number = 'US-2018356996-A1' #@param {type:\"string\"}\n",
        "print(patent_Number)\n",
        "#pat= {\"patent_Number\": patent_Number}\n",
        "# Need to validate the patent number\n",
        "project_id = \"semiotic-garden-315802\"\n",
        "\n",
        "pt = pd.io.gbq.read_gbq(f'''\n",
        "  SELECT\n",
        "    pub.publication_number as Publication_Number,\n",
        "    ab.text as Abstract,\n",
        "    STRING_AGG(citations.publication_number) as Citations\n",
        "  FROM\n",
        "    patents-public-data.patents.publications as pub,\n",
        "    UNNEST (abstract_localized) AS ab,\n",
        "    UNNEST (citation) as citations\n",
        "  WHERE\n",
        "    pub.publication_number IN (\"{{}}\")\n",
        "  GROUP BY pub.publication_number, ab.text\n",
        "  LIMIT\n",
        "      1\n",
        "'''.format(patent_Number), project_id=project_id)\n",
        "pt= pt.iloc[0]\n"
      ],
      "execution_count": null,
      "outputs": [
        {
          "output_type": "stream",
          "text": [
            "WARNING:google.auth.compute_engine._metadata:Compute Engine Metadata server unavailable onattempt 1 of 3. Reason: [Errno 115] Operation now in progress\n",
            "WARNING:google.auth.compute_engine._metadata:Compute Engine Metadata server unavailable onattempt 2 of 3. Reason: [Errno 115] Operation now in progress\n",
            "WARNING:google.auth.compute_engine._metadata:Compute Engine Metadata server unavailable onattempt 3 of 3. Reason: [Errno 115] Operation now in progress\n",
            "WARNING:google.auth._default:Authentication failed using Compute Engine authentication due to unavailable metadata server.\n"
          ],
          "name": "stderr"
        },
        {
          "output_type": "stream",
          "text": [
            "US-2018356996-A1\n",
            "Please visit this URL to authorize this application: https://accounts.google.com/o/oauth2/auth?response_type=code&client_id=725825577420-unm2gnkiprugilg743tkbig250f4sfsj.apps.googleusercontent.com&redirect_uri=urn%3Aietf%3Awg%3Aoauth%3A2.0%3Aoob&scope=https%3A%2F%2Fwww.googleapis.com%2Fauth%2Fbigquery&state=MsIs1b15RSV8UzH3e3J6OQzRRM7KW1&prompt=consent&access_type=offline\n",
            "Enter the authorization code: 4/1AX4XfWjN5rezm8KWNBIzYrpmnFB5_7LhFSMQsnCfRBzmXOqB1s_Obx71dW0\n"
          ],
          "name": "stdout"
        }
      ]
    },
    {
      "cell_type": "code",
      "metadata": {
        "id": "-ZnspkcgDTI5",
        "colab": {
          "base_uri": "https://localhost:8080/"
        },
        "outputId": "46d56703-fb98-48b1-a185-9a256475f0d4"
      },
      "source": [
        "#@title\n",
        "from google.colab import auth\n",
        "auth.authenticate_user()\n",
        "print('Authenticated')"
      ],
      "execution_count": null,
      "outputs": [
        {
          "output_type": "stream",
          "text": [
            "Authenticated\n"
          ],
          "name": "stdout"
        }
      ]
    },
    {
      "cell_type": "code",
      "metadata": {
        "colab": {
          "base_uri": "https://localhost:8080/"
        },
        "id": "-cKjYD3Eteve",
        "outputId": "06cac02f-b421-4cc6-924a-740c8bf24f6c"
      },
      "source": [
        "print(pt)"
      ],
      "execution_count": null,
      "outputs": [
        {
          "output_type": "stream",
          "text": [
            "  Publication_Number  ...                                          Citations\n",
            "0   US-2018356996-A1  ...  US-2004143710-A1,US-2004193397-A1,US-201204731...\n",
            "\n",
            "[1 rows x 3 columns]\n"
          ],
          "name": "stdout"
        }
      ]
    },
    {
      "cell_type": "markdown",
      "metadata": {
        "id": "nKEsQQPqSJjX"
      },
      "source": [
        "# Option 2: Compare a new text"
      ]
    },
    {
      "cell_type": "code",
      "metadata": {
        "colab": {
          "base_uri": "https://localhost:8080/"
        },
        "id": "NIJUF-YKSqt6",
        "outputId": "641c92fb-935d-4600-9705-e8dd2e3676f1"
      },
      "source": [
        "import pandas as pd\n",
        "new_text = 'A manufacturing process to produce a controllable integral membrane (28) in sheet-like photosensitive laminates (20), said photosensitive laminate being adapted to adhere to the surface to be etched (36). By the use of the present invention the revealed image (33) washes out without detail roots leaving the substrate (22), transfers easily, even if it is very fine, and can be etched on said surface to be etched very nicely.' #@param {type:\"string\"}\n",
        "print(new_text)\n",
        "new_cit = 'US-3916050-A,US-4371602-A,US-4430416-A,US-4511640-A,US-4587186-A,US-4716096-A,US-4764449-A,US-4801490-A'#@param {type:\"string\"}\n",
        "print(new_cit)\n",
        "pt= pd.Series([new_text,new_cit],index=[\"Abstract\",\"Citations\"])\n",
        "print(pt)"
      ],
      "execution_count": null,
      "outputs": [
        {
          "output_type": "stream",
          "text": [
            "A manufacturing process to produce a controllable integral membrane (28) in sheet-like photosensitive laminates (20), said photosensitive laminate being adapted to adhere to the surface to be etched (36). By the use of the present invention the revealed image (33) washes out without detail roots leaving the substrate (22), transfers easily, even if it is very fine, and can be etched on said surface to be etched very nicely.\n",
            "US-3916050-A,US-4371602-A,US-4430416-A,US-4511640-A,US-4587186-A,US-4716096-A,US-4764449-A,US-4801490-A\n",
            "Abstract     A manufacturing process to produce a controlla...\n",
            "Citations    US-3916050-A,US-4371602-A,US-4430416-A,US-4511...\n",
            "dtype: object\n"
          ],
          "name": "stdout"
        }
      ]
    },
    {
      "cell_type": "markdown",
      "metadata": {
        "id": "a59jqEliSSsg"
      },
      "source": [
        "# Run the comparison\n",
        "This will use a prepared set of 4 million patents. If you wish to load and train a new set for your comparison, click [here](https://colab.research.google.com/drive/1DrKOIpQIOMqTJ-jcAd0amhtBOXY9wQv3?usp=sharing)."
      ]
    },
    {
      "cell_type": "code",
      "metadata": {
        "colab": {
          "base_uri": "https://localhost:8080/"
        },
        "id": "--b4So53wEwy",
        "outputId": "ae9b0f7d-aa30-4771-d342-75f1bea5e76d"
      },
      "source": [
        "import gdown\n",
        "import ssl\n",
        "ssl._create_default_https_context = ssl._create_unverified_context\n",
        "\n",
        "# Load w2v Files\n",
        "embed_files= [\"1IOv-XTS5Q-FL7Wju09cE8nU65X6MmhKU\",\n",
        "              \"1AUwg7UeBlCX0DN9AZM1URXl2cQXUmxeb\"]\n",
        "# TODO: Add dict and actual files\n",
        "!mkdir -p \"ppaf_files/emb\"\n",
        "directory= \"ppaf_files\"\n",
        "for index in range(0,2):\n",
        "  url = 'https://drive.google.com/uc?id='+ embed_files[index]\n",
        "  output = 'ppaf_files/emb/file'+str(index)+'.json.gz'\n",
        "  gdown.download(url, output, quiet=False)"
      ],
      "execution_count": null,
      "outputs": [
        {
          "output_type": "stream",
          "text": [
            "Downloading...\n",
            "From: https://drive.google.com/uc?id=1IOv-XTS5Q-FL7Wju09cE8nU65X6MmhKU\n",
            "To: /content/ppaf_files/emb/file0.json.gz\n",
            "81.9MB [00:01, 61.9MB/s]\n",
            "Downloading...\n",
            "From: https://drive.google.com/uc?id=1AUwg7UeBlCX0DN9AZM1URXl2cQXUmxeb\n",
            "To: /content/ppaf_files/emb/file1.json.gz\n",
            "81.9MB [00:01, 74.1MB/s]\n"
          ],
          "name": "stderr"
        }
      ]
    },
    {
      "cell_type": "markdown",
      "metadata": {
        "id": "Dge7fT0bZYWF"
      },
      "source": [
        "# For the next step \n",
        "you must save the folders contained [here](https://drive.google.com/drive/folders/1TSjyNgCdvAIX92WF4BAMNeY5Ri4haANM?usp=sharing) In a folder of the root of your google drive called \"ppaf_files\". \n",
        "You should have a single folder ppaf_files that contians the other folders such as \"meta\" and \"other\""
      ]
    },
    {
      "cell_type": "code",
      "metadata": {
        "colab": {
          "base_uri": "https://localhost:8080/"
        },
        "id": "NcXXKBMfXW2J",
        "outputId": "ab73bff9-e5c1-483e-8111-d4e8d0b6875a"
      },
      "source": [
        "from google.colab import drive\n",
        "drive.mount('/content/drive')"
      ],
      "execution_count": null,
      "outputs": [
        {
          "output_type": "stream",
          "text": [
            "Mounted at /content/drive\n"
          ],
          "name": "stdout"
        }
      ]
    },
    {
      "cell_type": "code",
      "metadata": {
        "id": "IMDRlfqCOLuP"
      },
      "source": [
        "directory= \"/content/drive/MyDrive/ppaf_files\""
      ],
      "execution_count": null,
      "outputs": []
    },
    {
      "cell_type": "markdown",
      "metadata": {
        "id": "HXrkrpFRNDZA"
      },
      "source": [
        "Use the check box to try running the comparison with and without tfidf (gives less frequent words more importance)"
      ]
    },
    {
      "cell_type": "code",
      "metadata": {
        "id": "U3sq12O33D6W",
        "colab": {
          "base_uri": "https://localhost:8080/",
          "height": 913
        },
        "outputId": "aa3d9786-cb83-4eb2-d974-575c218d1d7c"
      },
      "source": [
        "use_tfidf = False #@param {type:\"boolean\"}\n",
        "artFinder = paf(directory)\n",
        "print(artFinder.compareNewPatent(pt,directory,\".9\"))"
      ],
      "execution_count": 34,
      "outputs": [
        {
          "output_type": "stream",
          "text": [
            "Didn't make directories\n",
            "Initialization complete T=2845.417324657\n"
          ],
          "name": "stdout"
        },
        {
          "output_type": "error",
          "ename": "FileNotFoundError",
          "evalue": "ignored",
          "traceback": [
            "\u001b[0;31m---------------------------------------------------------------------------\u001b[0m",
            "\u001b[0;31mFileNotFoundError\u001b[0m                         Traceback (most recent call last)",
            "\u001b[0;32m<ipython-input-34-68c4b9d197bd>\u001b[0m in \u001b[0;36m<module>\u001b[0;34m()\u001b[0m\n\u001b[1;32m      1\u001b[0m \u001b[0muse_tfidf\u001b[0m \u001b[0;34m=\u001b[0m \u001b[0;32mFalse\u001b[0m \u001b[0;31m#@param {type:\"boolean\"}\u001b[0m\u001b[0;34m\u001b[0m\u001b[0;34m\u001b[0m\u001b[0m\n\u001b[1;32m      2\u001b[0m \u001b[0martFinder\u001b[0m \u001b[0;34m=\u001b[0m \u001b[0mpaf\u001b[0m\u001b[0;34m(\u001b[0m\u001b[0mdirectory\u001b[0m\u001b[0;34m)\u001b[0m\u001b[0;34m\u001b[0m\u001b[0;34m\u001b[0m\u001b[0m\n\u001b[0;32m----> 3\u001b[0;31m \u001b[0mprint\u001b[0m\u001b[0;34m(\u001b[0m\u001b[0martFinder\u001b[0m\u001b[0;34m.\u001b[0m\u001b[0mcompareNewPatent\u001b[0m\u001b[0;34m(\u001b[0m\u001b[0mpt\u001b[0m\u001b[0;34m,\u001b[0m\u001b[0mdirectory\u001b[0m\u001b[0;34m,\u001b[0m\u001b[0;34m\".5\"\u001b[0m\u001b[0;34m)\u001b[0m\u001b[0;34m)\u001b[0m\u001b[0;34m\u001b[0m\u001b[0;34m\u001b[0m\u001b[0m\n\u001b[0m",
            "\u001b[0;32m/content/_DevFilesPatentPriorArtFinder.py\u001b[0m in \u001b[0;36mcompareNewPatent\u001b[0;34m(self, newPatentSeries, dirPath, threshold)\u001b[0m\n\u001b[1;32m    198\u001b[0m         \u001b[0;32mif\u001b[0m \u001b[0mself\u001b[0m\u001b[0;34m.\u001b[0m\u001b[0mold\u001b[0m\u001b[0;34m:\u001b[0m\u001b[0;34m\u001b[0m\u001b[0;34m\u001b[0m\u001b[0m\n\u001b[1;32m    199\u001b[0m             \u001b[0mdictFile\u001b[0m \u001b[0;34m=\u001b[0m \u001b[0mdirPath\u001b[0m \u001b[0;34m+\u001b[0m \u001b[0;34m\"/other/dict.txt\"\u001b[0m\u001b[0;34m\u001b[0m\u001b[0;34m\u001b[0m\u001b[0m\n\u001b[0;32m--> 200\u001b[0;31m             \u001b[0mself\u001b[0m\u001b[0;34m.\u001b[0m\u001b[0mdictionary\u001b[0m \u001b[0;34m=\u001b[0m \u001b[0mDictionary\u001b[0m\u001b[0;34m.\u001b[0m\u001b[0mload_from_text\u001b[0m\u001b[0;34m(\u001b[0m\u001b[0mdictFile\u001b[0m\u001b[0;34m)\u001b[0m\u001b[0;34m\u001b[0m\u001b[0;34m\u001b[0m\u001b[0m\n\u001b[0m\u001b[1;32m    201\u001b[0m             \u001b[0;31m#self.tfidf_gensim = models.TfidfModel(dictionary=self.dictionary)\u001b[0m\u001b[0;34m\u001b[0m\u001b[0;34m\u001b[0m\u001b[0;34m\u001b[0m\u001b[0m\n\u001b[1;32m    202\u001b[0m             \u001b[0mself\u001b[0m\u001b[0;34m.\u001b[0m\u001b[0mtfidf_model\u001b[0m \u001b[0;34m=\u001b[0m \u001b[0mmodels\u001b[0m\u001b[0;34m.\u001b[0m\u001b[0mTfidfModel\u001b[0m\u001b[0;34m(\u001b[0m\u001b[0mdictionary\u001b[0m\u001b[0;34m=\u001b[0m\u001b[0mself\u001b[0m\u001b[0;34m.\u001b[0m\u001b[0mdictionary\u001b[0m\u001b[0;34m)\u001b[0m\u001b[0;34m\u001b[0m\u001b[0;34m\u001b[0m\u001b[0m\n",
            "\u001b[0;32m/usr/local/lib/python3.7/dist-packages/gensim/corpora/dictionary.py\u001b[0m in \u001b[0;36mload_from_text\u001b[0;34m(fname)\u001b[0m\n\u001b[1;32m    604\u001b[0m         \"\"\"\n\u001b[1;32m    605\u001b[0m         \u001b[0mresult\u001b[0m \u001b[0;34m=\u001b[0m \u001b[0mDictionary\u001b[0m\u001b[0;34m(\u001b[0m\u001b[0;34m)\u001b[0m\u001b[0;34m\u001b[0m\u001b[0;34m\u001b[0m\u001b[0m\n\u001b[0;32m--> 606\u001b[0;31m         \u001b[0;32mwith\u001b[0m \u001b[0mutils\u001b[0m\u001b[0;34m.\u001b[0m\u001b[0msmart_open\u001b[0m\u001b[0;34m(\u001b[0m\u001b[0mfname\u001b[0m\u001b[0;34m)\u001b[0m \u001b[0;32mas\u001b[0m \u001b[0mf\u001b[0m\u001b[0;34m:\u001b[0m\u001b[0;34m\u001b[0m\u001b[0;34m\u001b[0m\u001b[0m\n\u001b[0m\u001b[1;32m    607\u001b[0m             \u001b[0;32mfor\u001b[0m \u001b[0mlineno\u001b[0m\u001b[0;34m,\u001b[0m \u001b[0mline\u001b[0m \u001b[0;32min\u001b[0m \u001b[0menumerate\u001b[0m\u001b[0;34m(\u001b[0m\u001b[0mf\u001b[0m\u001b[0;34m)\u001b[0m\u001b[0;34m:\u001b[0m\u001b[0;34m\u001b[0m\u001b[0;34m\u001b[0m\u001b[0m\n\u001b[1;32m    608\u001b[0m                 \u001b[0mline\u001b[0m \u001b[0;34m=\u001b[0m \u001b[0mutils\u001b[0m\u001b[0;34m.\u001b[0m\u001b[0mto_unicode\u001b[0m\u001b[0;34m(\u001b[0m\u001b[0mline\u001b[0m\u001b[0;34m)\u001b[0m\u001b[0;34m\u001b[0m\u001b[0;34m\u001b[0m\u001b[0m\n",
            "\u001b[0;32m/usr/local/lib/python3.7/dist-packages/smart_open/smart_open_lib.py\u001b[0m in \u001b[0;36msmart_open\u001b[0;34m(***failed resolving arguments***)\u001b[0m\n\u001b[1;32m    496\u001b[0m     \u001b[0mignore_ext\u001b[0m \u001b[0;34m=\u001b[0m \u001b[0mignore_extension\u001b[0m\u001b[0;34m\u001b[0m\u001b[0;34m\u001b[0m\u001b[0m\n\u001b[1;32m    497\u001b[0m     \u001b[0;32mdel\u001b[0m \u001b[0mkwargs\u001b[0m\u001b[0;34m,\u001b[0m \u001b[0murl\u001b[0m\u001b[0;34m,\u001b[0m \u001b[0mmessage\u001b[0m\u001b[0;34m,\u001b[0m \u001b[0mignore_extension\u001b[0m\u001b[0;34m\u001b[0m\u001b[0;34m\u001b[0m\u001b[0m\n\u001b[0;32m--> 498\u001b[0;31m     \u001b[0;32mreturn\u001b[0m \u001b[0mopen\u001b[0m\u001b[0;34m(\u001b[0m\u001b[0;34m**\u001b[0m\u001b[0mlocals\u001b[0m\u001b[0;34m(\u001b[0m\u001b[0;34m)\u001b[0m\u001b[0;34m)\u001b[0m\u001b[0;34m\u001b[0m\u001b[0;34m\u001b[0m\u001b[0m\n\u001b[0m\u001b[1;32m    499\u001b[0m \u001b[0;34m\u001b[0m\u001b[0m\n\u001b[1;32m    500\u001b[0m \u001b[0;34m\u001b[0m\u001b[0m\n",
            "\u001b[0;32m/usr/local/lib/python3.7/dist-packages/smart_open/smart_open_lib.py\u001b[0m in \u001b[0;36mopen\u001b[0;34m(uri, mode, buffering, encoding, errors, newline, closefd, opener, ignore_ext, compression, transport_params)\u001b[0m\n\u001b[1;32m    193\u001b[0m         \u001b[0mencoding\u001b[0m\u001b[0;34m=\u001b[0m\u001b[0mencoding\u001b[0m\u001b[0;34m,\u001b[0m\u001b[0;34m\u001b[0m\u001b[0;34m\u001b[0m\u001b[0m\n\u001b[1;32m    194\u001b[0m         \u001b[0merrors\u001b[0m\u001b[0;34m=\u001b[0m\u001b[0merrors\u001b[0m\u001b[0;34m,\u001b[0m\u001b[0;34m\u001b[0m\u001b[0;34m\u001b[0m\u001b[0m\n\u001b[0;32m--> 195\u001b[0;31m         \u001b[0mnewline\u001b[0m\u001b[0;34m=\u001b[0m\u001b[0mnewline\u001b[0m\u001b[0;34m,\u001b[0m\u001b[0;34m\u001b[0m\u001b[0;34m\u001b[0m\u001b[0m\n\u001b[0m\u001b[1;32m    196\u001b[0m     )\n\u001b[1;32m    197\u001b[0m     \u001b[0;32mif\u001b[0m \u001b[0mfobj\u001b[0m \u001b[0;32mis\u001b[0m \u001b[0;32mnot\u001b[0m \u001b[0;32mNone\u001b[0m\u001b[0;34m:\u001b[0m\u001b[0;34m\u001b[0m\u001b[0;34m\u001b[0m\u001b[0m\n",
            "\u001b[0;32m/usr/local/lib/python3.7/dist-packages/smart_open/smart_open_lib.py\u001b[0m in \u001b[0;36m_shortcut_open\u001b[0;34m(uri, mode, compression, buffering, encoding, errors, newline)\u001b[0m\n\u001b[1;32m    359\u001b[0m         \u001b[0mopen_kwargs\u001b[0m\u001b[0;34m[\u001b[0m\u001b[0;34m'errors'\u001b[0m\u001b[0;34m]\u001b[0m \u001b[0;34m=\u001b[0m \u001b[0merrors\u001b[0m\u001b[0;34m\u001b[0m\u001b[0;34m\u001b[0m\u001b[0m\n\u001b[1;32m    360\u001b[0m \u001b[0;34m\u001b[0m\u001b[0m\n\u001b[0;32m--> 361\u001b[0;31m     \u001b[0;32mreturn\u001b[0m \u001b[0m_builtin_open\u001b[0m\u001b[0;34m(\u001b[0m\u001b[0mlocal_path\u001b[0m\u001b[0;34m,\u001b[0m \u001b[0mmode\u001b[0m\u001b[0;34m,\u001b[0m \u001b[0mbuffering\u001b[0m\u001b[0;34m=\u001b[0m\u001b[0mbuffering\u001b[0m\u001b[0;34m,\u001b[0m \u001b[0;34m**\u001b[0m\u001b[0mopen_kwargs\u001b[0m\u001b[0;34m)\u001b[0m\u001b[0;34m\u001b[0m\u001b[0;34m\u001b[0m\u001b[0m\n\u001b[0m\u001b[1;32m    362\u001b[0m \u001b[0;34m\u001b[0m\u001b[0m\n\u001b[1;32m    363\u001b[0m \u001b[0;34m\u001b[0m\u001b[0m\n",
            "\u001b[0;31mFileNotFoundError\u001b[0m: [Errno 2] No such file or directory: '/content/drive/MyDrive/ppaf_files\\\\other\\\\dict.txt'"
          ]
        }
      ]
    },
    {
      "cell_type": "code",
      "metadata": {
        "id": "6LBJIaHyWqmV",
        "colab": {
          "base_uri": "https://localhost:8080/"
        },
        "cellView": "form",
        "outputId": "b8c1504c-af1a-40f7-d46e-db4d032bdbd3"
      },
      "source": [
        "#@title Inspect a patent match\n",
        "patent_Number = 'US-2018356996-A1' #@param {type:\"string\"}\n",
        "print(patent_Number)\n",
        "\n",
        "text = pd.io.gbq.read_gbq(f'''\n",
        "  SELECT\n",
        "    pub.publication_number as Publication_Number,\n",
        "    ab.text as abstract_en,\n",
        "    STRING_AGG(citations.publication_number) as Citations\n",
        "  FROM\n",
        "    patents-public-data.patents.publications as pub,\n",
        "    UNNEST (abstract_localized) AS ab,\n",
        "    UNNEST (citation) as citations\n",
        "  WHERE\n",
        "    pub.publication_number IN (\"{{}}\")\n",
        "  GROUP BY pub.publication_number, ab.text\n",
        "  LIMIT\n",
        "      1\n",
        "'''.format(patent_Number), project_id=project_id)\n",
        "print(text[\"abstract_en\"][0])"
      ],
      "execution_count": null,
      "outputs": [
        {
          "output_type": "stream",
          "text": [
            "US-2018356996-A1\n",
            "A storage system having an adaptive workload-based command processing clock is provided. In one embodiment, a storage system has a memory, a command processing path, and a controller in communication with the memory and the command processing path. The controller is configured to adapt an input clock signal based on a current workload of the controller and provide the adapted clock signal to the command processing path in the controller.\n"
          ],
          "name": "stdout"
        }
      ]
    },
    {
      "cell_type": "markdown",
      "metadata": {
        "id": "G6d3eip9BJHQ"
      },
      "source": [
        ""
      ]
    },
    {
      "cell_type": "code",
      "metadata": {
        "id": "sDUpcswvi2XR"
      },
      "source": [
        ""
      ],
      "execution_count": null,
      "outputs": []
    }
  ]
}