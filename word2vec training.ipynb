{
 "cells": [
  {
   "cell_type": "code",
   "execution_count": 1,
   "id": "0c6f7848",
   "metadata": {},
   "outputs": [
    {
     "name": "stderr",
     "output_type": "stream",
     "text": [
      "C:\\Users\\mocka\\mambaforge\\lib\\site-packages\\gensim\\similarities\\__init__.py:15: UserWarning: The gensim.similarities.levenshtein submodule is disabled, because the optional Levenshtein package <https://pypi.org/project/python-Levenshtein/> is unavailable. Install Levenhstein (e.g. `pip install python-Levenshtein`) to suppress this warning.\n",
      "  warnings.warn(msg)\n"
     ]
    }
   ],
   "source": [
    "from gensim.models import Word2Vec\n",
    "from _DevPatentPriorArtFinder import _DevPatentPriorArtFinder as paf"
   ]
  },
  {
   "cell_type": "code",
   "execution_count": 2,
   "outputs": [
    {
     "name": "stdout",
     "output_type": "stream",
     "text": [
      "    Publication_Number                                           Abstract  \\\n",
      "0        US-8916903-B2  A light emitting device that includes a substr...   \n",
      "1     US-2019286073-A1  A method for training parameters of a first do...   \n",
      "2     US-2018336391-A1  An electronic device is provided and includes ...   \n",
      "3     US-2011163923-A1  An apparatus including a wireless communicatio...   \n",
      "4         US-4125546-A  Prostaglandin analogs with the following cyclo...   \n",
      "..                 ...                                                ...   \n",
      "995       US-4658503-A  A movable working head carries a pair of drive...   \n",
      "996      US-7919186-B2  A method to produce thin-layer lignocellulosic...   \n",
      "997   US-2005126753-A1  A heat dissipation assembly includes a heat si...   \n",
      "998     US-10445185-B1  A method to create a version map to represent ...   \n",
      "999   US-2004266575-A1  A crank shaft assembly includes a socket, a cr...   \n",
      "\n",
      "                                           description  \\\n",
      "0    CROSS-REFERENCE TO RELATED APPLICATIONS \\n    ...   \n",
      "1    RELATED APPLICATIONS \\n     This application i...   \n",
      "2    CROSS-REFERENCE TO RELATED APPLICATION \\n     ...   \n",
      "3    CROSS-REFERENCE TO RELATED APPLICATIONS \\n    ...   \n",
      "4    The present application is a divisional applic...   \n",
      "..                                                 ...   \n",
      "995  BACKGROUND OF THE INVENTION \\n     The present...   \n",
      "996  RELATED APPLICATIONS \\n     This application i...   \n",
      "997  BACKGROUND OF THE INVENTION  \\n      1. Field ...   \n",
      "998  CROSS-REFERENCE TO RELATED APPLICATIONS \\n    ...   \n",
      "999  BACKGROUND OF THE INVENTION  \\n       [0001] 1...   \n",
      "\n",
      "                                                 claim  \\\n",
      "0    What is claimed is: \\n     \\n       1. A light...   \n",
      "1    What is claimed is: \\n     \\n         1 . A me...   \n",
      "2    What is claimed is: \\n     \\n         1 . An e...   \n",
      "3    1 . A multi-band antenna including:\\n at least...   \n",
      "4    I claim: \\n     \\n       1. A prostaglandin an...   \n",
      "..                                                 ...   \n",
      "995  I claim: \\n     \\n       1. A method of insert...   \n",
      "996  1. A door skin, comprising:\\n a lignocellulosi...   \n",
      "997  1 . A heat dissipation assembly comprising: \\n...   \n",
      "998  What is claimed is: \\n     \\n       1. A metho...   \n",
      "999  What is claimed is:  \\n     \\n         1 . A c...   \n",
      "\n",
      "                                                Tokens  \\\n",
      "0    [light, emitting, device, includes, substrate,...   \n",
      "1    [method, training, parameters, first, domain, ...   \n",
      "2    [electronic, device, provided, includes, flexi...   \n",
      "3    [apparatus, including, wireless, communication...   \n",
      "4    [prostaglandin, analogs, following, cyclopenta...   \n",
      "..                                                 ...   \n",
      "995  [movable, working, head, carries, pair, drive,...   \n",
      "996  [method, produce, thin, layer, lignocellulosic...   \n",
      "997  [heat, dissipation, assembly, includes, heat, ...   \n",
      "998  [method, create, version, map, represent, data...   \n",
      "999  [crank, shaft, assembly, includes, socket, cra...   \n",
      "\n",
      "                                            BagOfWords  \\\n",
      "0    [4, 1, 4, 1, 1, 1, 2, 1, 1, 1, 1, 4, 1, 3, 1, ...   \n",
      "1    [0, 0, 0, 0, 0, 0, 0, 0, 0, 0, 0, 0, 9, 0, 0, ...   \n",
      "2    [0, 0, 0, 0, 1, 0, 4, 0, 1, 0, 0, 0, 0, 0, 0, ...   \n",
      "3    [0, 0, 0, 0, 2, 0, 0, 0, 0, 0, 0, 0, 0, 0, 0, ...   \n",
      "4    [0, 0, 0, 0, 0, 0, 0, 0, 0, 0, 0, 0, 0, 0, 0, ...   \n",
      "..                                                 ...   \n",
      "995  [0, 0, 0, 0, 0, 0, 0, 0, 0, 0, 0, 0, 3, 0, 0, ...   \n",
      "996  [0, 0, 0, 0, 0, 0, 0, 1, 0, 0, 0, 0, 0, 0, 0, ...   \n",
      "997  [0, 0, 0, 0, 0, 0, 0, 0, 0, 1, 0, 0, 0, 0, 1, ...   \n",
      "998  [0, 0, 0, 0, 0, 0, 0, 0, 0, 0, 0, 0, 0, 0, 0, ...   \n",
      "999  [0, 0, 0, 0, 0, 0, 0, 0, 0, 0, 0, 0, 0, 0, 0, ...   \n",
      "\n",
      "                                                TF-IDF  \n",
      "0    [0.2944779156193198, 0.04589359168243214, 0.15...  \n",
      "1    [0.0, 0.0, 0.0, 0.0, 0.0, 0.0, 0.0, 0.0, 0.0, ...  \n",
      "2    [0.0, 0.0, 0.0, 0.0, 0.018581208606294537, 0.0...  \n",
      "3    [0.0, 0.0, 0.0, 0.0, 0.03500181156069437, 0.0,...  \n",
      "4    [0.0, 0.0, 0.0, 0.0, 0.0, 0.0, 0.0, 0.0, 0.0, ...  \n",
      "..                                                 ...  \n",
      "995  [0.0, 0.0, 0.0, 0.0, 0.0, 0.0, 0.0, 0.0, 0.0, ...  \n",
      "996  [0.0, 0.0, 0.0, 0.0, 0.0, 0.0, 0.0, 0.03243079...  \n",
      "997  [0.0, 0.0, 0.0, 0.0, 0.0, 0.0, 0.0, 0.0, 0.0, ...  \n",
      "998  [0.0, 0.0, 0.0, 0.0, 0.0, 0.0, 0.0, 0.0, 0.0, ...  \n",
      "999  [0.0, 0.0, 0.0, 0.0, 0.0, 0.0, 0.0, 0.0, 0.0, ...  \n",
      "\n",
      "[1000 rows x 7 columns]\n"
     ]
    }
   ],
   "source": [
    "thsnd= \"thsnd.csv\"\n",
    "myPaf = paf()\n",
    "frame=myPaf.init(thsnd,\"Publication_Number\")\n",
    "print(frame)"
   ],
   "metadata": {
    "collapsed": false,
    "pycharm": {
     "name": "#%%\n"
    }
   }
  },
  {
   "cell_type": "code",
   "execution_count": 7,
   "id": "003540a8",
   "metadata": {
    "pycharm": {
     "name": "#%%\n"
    }
   },
   "outputs": [],
   "source": [
    "sentences= frame['Tokens']\n",
    "model = Word2Vec(sentences)"
   ]
  },
  {
   "cell_type": "code",
   "execution_count": 8,
   "outputs": [
    {
     "name": "stdout",
     "output_type": "stream",
     "text": [
      "[('system', 0.9997072815895081), ('configured', 0.9996570348739624), ('storage', 0.9996556043624878), ('based', 0.9996512532234192), ('different', 0.9996220469474792), ('receiving', 0.9996198415756226), ('value', 0.9996129870414734), ('using', 0.9996108412742615), ('response', 0.9996020793914795), ('selected', 0.999600887298584)]\n"
     ]
    }
   ],
   "source": [
    "print(model.wv.most_similar(positive=['device']))\n"
   ],
   "metadata": {
    "collapsed": false,
    "pycharm": {
     "name": "#%%\n"
    }
   }
  }
 ],
 "metadata": {
  "kernelspec": {
   "display_name": "Python 3 (ipykernel)",
   "language": "python",
   "name": "python3"
  },
  "language_info": {
   "codemirror_mode": {
    "name": "ipython",
    "version": 3
   },
   "file_extension": ".py",
   "mimetype": "text/x-python",
   "name": "python",
   "nbconvert_exporter": "python",
   "pygments_lexer": "ipython3",
   "version": "3.9.5"
  }
 },
 "nbformat": 4,
 "nbformat_minor": 5
}