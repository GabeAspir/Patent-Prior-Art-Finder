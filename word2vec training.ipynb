{
 "cells": [
  {
   "cell_type": "code",
   "execution_count": 11,
   "id": "0c6f7848",
   "metadata": {},
   "outputs": [],
   "source": [
    "from gensim.models import Word2Vec\n",
    "from _DevPatentPriorArtFinder import _DevPatentPriorArtFinder as paf\n",
    "import numpy as np\n",
    "import pandas as pd\n",
    "from sklearn.metrics.pairwise import cosine_similarity"
   ]
  },
  {
   "cell_type": "code",
   "execution_count": null,
   "outputs": [],
   "source": [
    "# noinspection JupyterKernel\n",
    "thsnd= \"Patents/10000Patents.csv\"\n",
    "myPaf = paf()\n",
    "frame=myPaf.init(thsnd,\"Publication_Number\")"
   ],
   "metadata": {
    "collapsed": false,
    "pycharm": {
     "name": "#%%\n",
     "is_executing": true
    }
   }
  },
  {
   "cell_type": "code",
   "execution_count": 20,
   "outputs": [
    {
     "name": "stdout",
     "output_type": "stream",
     "text": [
      "     Publication_Number                                           Abstract  \\\n",
      "0        US-10882341-B2  A recording apparatus includes a recording hea...   \n",
      "1      US-2002019782-A1  A method including placing an order of at leas...   \n",
      "2      US-2002141886-A1  The displacement machine for compressible medi...   \n",
      "3      US-2003014729-A1  A database, in which data is stored in a flexi...   \n",
      "4      US-2003077538-A1  A thermally imagable article comprises a subst...   \n",
      "...                 ...                                                ...   \n",
      "9995   US-2010114198-A1  Electrical crosstalk between two implantable m...   \n",
      "9996   US-2010093703-A1  The present invention relates to substituted a...   \n",
      "9997      US-6367027-B1  A pointer generation circuit, in accordance wi...   \n",
      "9998       US-5792019-A  A continuously variable automatic transmission...   \n",
      "9999       US-5683585-A  Wastewaters resulting from preparation or use ...   \n",
      "\n",
      "                                                 Tokens  \\\n",
      "0     [recording, apparatus, includes, recording, he...   \n",
      "1     [method, including, placing, order, least, one...   \n",
      "2     [displacement, machine, compressible, media, r...   \n",
      "3     [database, data, stored, flexibly, usable, sta...   \n",
      "4     [thermally, imagable, article, comprises, subs...   \n",
      "...                                                 ...   \n",
      "9995  [electrical, crosstalk, two, implantable, medi...   \n",
      "9996  [present, invention, relates, substituted, ary...   \n",
      "9997  [pointer, generation, circuit, accordance, inv...   \n",
      "9998  [continuously, variable, automatic, transmissi...   \n",
      "9999  [wastewaters, resulting, preparation, use, pai...   \n",
      "\n",
      "                                             BagOfWords  \\\n",
      "0     [3, 10, 1, 1, 1, 7, 1, 4, 1, 2, 3, 1, 3, 2, 4,...   \n",
      "1     [0, 0, 0, 0, 0, 0, 0, 0, 0, 0, 0, 0, 0, 0, 0, ...   \n",
      "2     [0, 0, 0, 0, 0, 1, 0, 0, 0, 0, 0, 0, 0, 1, 0, ...   \n",
      "3     [0, 0, 0, 0, 0, 0, 0, 0, 0, 0, 0, 1, 0, 0, 0, ...   \n",
      "4     [0, 0, 0, 0, 0, 0, 0, 0, 0, 0, 0, 0, 0, 0, 0, ...   \n",
      "...                                                 ...   \n",
      "9995  [0, 0, 0, 0, 0, 0, 0, 0, 0, 0, 0, 0, 0, 0, 0, ...   \n",
      "9996  [0, 0, 0, 0, 0, 0, 0, 0, 0, 0, 0, 0, 0, 0, 0, ...   \n",
      "9997  [0, 0, 0, 0, 0, 0, 0, 0, 0, 0, 0, 0, 5, 0, 0, ...   \n",
      "9998  [0, 0, 0, 0, 0, 0, 0, 0, 0, 0, 8, 0, 4, 0, 0, ...   \n",
      "9999  [0, 0, 0, 0, 0, 0, 0, 0, 0, 0, 0, 0, 0, 0, 0, ...   \n",
      "\n",
      "                                                 TF-IDF  \n",
      "0     [0.18710963515291706, 0.6471508727048788, 0.06...  \n",
      "1     [0.0, 0.0, 0.0, 0.0, 0.0, 0.0, 0.0, 0.0, 0.0, ...  \n",
      "2     [0.0, 0.0, 0.0, 0.0, 0.0, 0.044071444172995966...  \n",
      "3     [0.0, 0.0, 0.0, 0.0, 0.0, 0.0, 0.0, 0.0, 0.0, ...  \n",
      "4     [0.0, 0.0, 0.0, 0.0, 0.0, 0.0, 0.0, 0.0, 0.0, ...  \n",
      "...                                                 ...  \n",
      "9995  [0.0, 0.0, 0.0, 0.0, 0.0, 0.0, 0.0, 0.0, 0.0, ...  \n",
      "9996  [0.0, 0.0, 0.0, 0.0, 0.0, 0.0, 0.0, 0.0, 0.0, ...  \n",
      "9997  [0.0, 0.0, 0.0, 0.0, 0.0, 0.0, 0.0, 0.0, 0.0, ...  \n",
      "9998  [0.0, 0.0, 0.0, 0.0, 0.0, 0.0, 0.0, 0.0, 0.0, ...  \n",
      "9999  [0.0, 0.0, 0.0, 0.0, 0.0, 0.0, 0.0, 0.0, 0.0, ...  \n",
      "\n",
      "[10000 rows x 5 columns]\n"
     ]
    }
   ],
   "source": [
    "print(frame)"
   ],
   "metadata": {
    "collapsed": false,
    "pycharm": {
     "name": "#%%\n"
    }
   }
  },
  {
   "cell_type": "code",
   "execution_count": 17,
   "id": "003540a8",
   "metadata": {
    "pycharm": {
     "name": "#%%\n"
    }
   },
   "outputs": [],
   "source": [
    "sentences= frame['Tokens']\n",
    "model = Word2Vec(sentences=sentences,vector_size=100)"
   ]
  },
  {
   "cell_type": "code",
   "execution_count": 14,
   "outputs": [
    {
     "name": "stdout",
     "output_type": "stream",
     "text": [
      "[('electronic', 0.8764793276786804), ('printer', 0.8464930653572083), ('apparatus', 0.839255154132843), ('interface', 0.8265234231948853), ('portable', 0.8210580348968506), ('processing', 0.8099461793899536), ('equipment', 0.804104208946228), ('controller', 0.800828218460083), ('speaker', 0.7927687168121338), ('pbx', 0.7891175746917725)]\n"
     ]
    }
   ],
   "source": [
    "print(model.wv.most_similar(positive=['device']))"
   ],
   "metadata": {
    "collapsed": false,
    "pycharm": {
     "name": "#%%\n"
    }
   }
  },
  {
   "cell_type": "code",
   "execution_count": 6,
   "outputs": [
    {
     "name": "stdout",
     "output_type": "stream",
     "text": [
      "(10,)\n"
     ]
    }
   ],
   "source": [
    "print(model.wv['device'].shape)"
   ],
   "metadata": {
    "collapsed": false,
    "pycharm": {
     "name": "#%%\n"
    }
   }
  },
  {
   "cell_type": "code",
   "execution_count": 7,
   "outputs": [
    {
     "name": "stdout",
     "output_type": "stream",
     "text": [
      "[ 0.51830107 -0.38418722  2.309962    0.16668624  0.78258246  0.58677197\n",
      "  1.0604565   1.5911666  -2.3860445  -1.4484968 ]\n"
     ]
    }
   ],
   "source": [
    "print(model.wv['device'])"
   ],
   "metadata": {
    "collapsed": false,
    "pycharm": {
     "name": "#%%\n"
    }
   }
  },
  {
   "cell_type": "code",
   "execution_count": 18,
   "outputs": [],
   "source": [
    "vecs= []\n",
    "docCount=0\n",
    "for doc in sentences:\n",
    "    docCount+=1\n",
    "    sum= np.empty(model.wv['device'].shape)\n",
    "    wordcount =0\n",
    "    for word in doc:\n",
    "        wordcount+=1\n",
    "        #print(str(docCount)+\":\"+str(wordcount))\n",
    "        try:\n",
    "            sum += model.wv[word]\n",
    "        except:\n",
    "            pass\n",
    "            #print(\"error on \"+word)\n",
    "    vecs.append(sum)\n",
    "#print(vecs)"
   ],
   "metadata": {
    "collapsed": false,
    "pycharm": {
     "name": "#%%\n"
    }
   }
  },
  {
   "cell_type": "code",
   "execution_count": 19,
   "outputs": [
    {
     "data": {
      "text/plain": "                  US-10882341-B2  US-2002019782-A1  US-2002141886-A1  \\\nUS-10882341-B2          1.000000          0.356756          0.679519   \nUS-2002019782-A1        0.356756          1.000000          0.551870   \nUS-2002141886-A1        0.679519          0.551870          1.000000   \nUS-2003014729-A1        0.575169          0.663498          0.522831   \nUS-2003077538-A1        0.361915          0.452649          0.329833   \n...                          ...               ...               ...   \nUS-2010114198-A1        0.426988          0.676135          0.574835   \nUS-2010093703-A1        0.055740          0.468993          0.223848   \nUS-6367027-B1           0.625133          0.564628          0.724966   \nUS-5792019-A            0.731494          0.423318          0.921034   \nUS-5683585-A            0.247237          0.591353          0.339285   \n\n                  US-2003014729-A1  US-2003077538-A1  US-2002099227-A1  \\\nUS-10882341-B2            0.575169          0.361915          0.127677   \nUS-2002019782-A1          0.663498          0.452649          0.488445   \nUS-2002141886-A1          0.522831          0.329833          0.277217   \nUS-2003014729-A1          1.000000          0.326954          0.318857   \nUS-2003077538-A1          0.326954          1.000000          0.866561   \n...                            ...               ...               ...   \nUS-2010114198-A1          0.804896          0.541591          0.567493   \nUS-2010093703-A1          0.369281          0.784164          0.969594   \nUS-6367027-B1             0.817166          0.118974          0.107534   \nUS-5792019-A              0.452025          0.279418          0.145523   \nUS-5683585-A              0.353258          0.944902          0.885110   \n\n                  US-2003008942-A1  US-2003122793-A1  US-2011105988-A1  \\\nUS-10882341-B2            0.383924          0.688391          0.535923   \nUS-2002019782-A1          0.610037          0.619692          0.458184   \nUS-2002141886-A1          0.373918          0.609780          0.599291   \nUS-2003014729-A1          0.312053          0.912551          0.609849   \nUS-2003077538-A1          0.911259          0.246745          0.792579   \n...                            ...               ...               ...   \nUS-2010114198-A1          0.423512          0.745509          0.750055   \nUS-2010093703-A1          0.658194          0.237990          0.772361   \nUS-6367027-B1             0.194511          0.833641          0.444060   \nUS-5792019-A              0.350525          0.563422          0.490729   \nUS-5683585-A              0.926121          0.250092          0.777836   \n\n                  US-2012075228-A1  ...  US-2012081502-A1  US-2010164807-A1  \\\nUS-10882341-B2            0.699203  ...          0.489898          0.739894   \nUS-2002019782-A1          0.743952  ...          0.655423          0.578340   \nUS-2002141886-A1          0.667192  ...          0.551965          0.676268   \nUS-2003014729-A1          0.869093  ...          0.916102          0.837745   \nUS-2003077538-A1          0.387412  ...          0.243247          0.295187   \n...                            ...  ...               ...               ...   \nUS-2010114198-A1          0.754527  ...          0.871264          0.746960   \nUS-2010093703-A1          0.385701  ...          0.354661          0.276646   \nUS-6367027-B1             0.803452  ...          0.709965          0.760122   \nUS-5792019-A              0.592266  ...          0.443187          0.592670   \nUS-5683585-A              0.438971  ...          0.263275          0.260361   \n\n                  US-2011299478-A1  US-2010169622-A1  US-2010227965-A1  \\\nUS-10882341-B2            0.427865          0.500813          0.271872   \nUS-2002019782-A1          0.770191          0.667018          0.527756   \nUS-2002141886-A1          0.579078          0.510057          0.312017   \nUS-2003014729-A1          0.865378          0.955811          0.394564   \nUS-2003077538-A1          0.236493          0.245896          0.930943   \n...                            ...               ...               ...   \nUS-2010114198-A1          0.840037          0.805142          0.527795   \nUS-2010093703-A1          0.366875          0.342864          0.865004   \nUS-6367027-B1             0.701233          0.760776          0.206465   \nUS-5792019-A              0.459969          0.389435          0.220862   \nUS-5683585-A              0.309488          0.301416          0.966219   \n\n                  US-2010114198-A1  US-2010093703-A1  US-6367027-B1  \\\nUS-10882341-B2            0.426988          0.055740       0.625133   \nUS-2002019782-A1          0.676135          0.468993       0.564628   \nUS-2002141886-A1          0.574835          0.223848       0.724966   \nUS-2003014729-A1          0.804896          0.369281       0.817166   \nUS-2003077538-A1          0.541591          0.784164       0.118974   \n...                            ...               ...            ...   \nUS-2010114198-A1          1.000000          0.603644       0.533402   \nUS-2010093703-A1          0.603644          1.000000       0.111533   \nUS-6367027-B1             0.533402          0.111533       1.000000   \nUS-5792019-A              0.400428          0.060646       0.757352   \nUS-5683585-A              0.541480          0.836975       0.172275   \n\n                  US-5792019-A  US-5683585-A  \nUS-10882341-B2        0.731494      0.247237  \nUS-2002019782-A1      0.423318      0.591353  \nUS-2002141886-A1      0.921034      0.339285  \nUS-2003014729-A1      0.452025      0.353258  \nUS-2003077538-A1      0.279418      0.944902  \n...                        ...           ...  \nUS-2010114198-A1      0.400428      0.541480  \nUS-2010093703-A1      0.060646      0.836975  \nUS-6367027-B1         0.757352      0.172275  \nUS-5792019-A          1.000000      0.263170  \nUS-5683585-A          0.263170      1.000000  \n\n[10000 rows x 10000 columns]",
      "text/html": "<div>\n<style scoped>\n    .dataframe tbody tr th:only-of-type {\n        vertical-align: middle;\n    }\n\n    .dataframe tbody tr th {\n        vertical-align: top;\n    }\n\n    .dataframe thead th {\n        text-align: right;\n    }\n</style>\n<table border=\"1\" class=\"dataframe\">\n  <thead>\n    <tr style=\"text-align: right;\">\n      <th></th>\n      <th>US-10882341-B2</th>\n      <th>US-2002019782-A1</th>\n      <th>US-2002141886-A1</th>\n      <th>US-2003014729-A1</th>\n      <th>US-2003077538-A1</th>\n      <th>US-2002099227-A1</th>\n      <th>US-2003008942-A1</th>\n      <th>US-2003122793-A1</th>\n      <th>US-2011105988-A1</th>\n      <th>US-2012075228-A1</th>\n      <th>...</th>\n      <th>US-2012081502-A1</th>\n      <th>US-2010164807-A1</th>\n      <th>US-2011299478-A1</th>\n      <th>US-2010169622-A1</th>\n      <th>US-2010227965-A1</th>\n      <th>US-2010114198-A1</th>\n      <th>US-2010093703-A1</th>\n      <th>US-6367027-B1</th>\n      <th>US-5792019-A</th>\n      <th>US-5683585-A</th>\n    </tr>\n  </thead>\n  <tbody>\n    <tr>\n      <th>US-10882341-B2</th>\n      <td>1.000000</td>\n      <td>0.356756</td>\n      <td>0.679519</td>\n      <td>0.575169</td>\n      <td>0.361915</td>\n      <td>0.127677</td>\n      <td>0.383924</td>\n      <td>0.688391</td>\n      <td>0.535923</td>\n      <td>0.699203</td>\n      <td>...</td>\n      <td>0.489898</td>\n      <td>0.739894</td>\n      <td>0.427865</td>\n      <td>0.500813</td>\n      <td>0.271872</td>\n      <td>0.426988</td>\n      <td>0.055740</td>\n      <td>0.625133</td>\n      <td>0.731494</td>\n      <td>0.247237</td>\n    </tr>\n    <tr>\n      <th>US-2002019782-A1</th>\n      <td>0.356756</td>\n      <td>1.000000</td>\n      <td>0.551870</td>\n      <td>0.663498</td>\n      <td>0.452649</td>\n      <td>0.488445</td>\n      <td>0.610037</td>\n      <td>0.619692</td>\n      <td>0.458184</td>\n      <td>0.743952</td>\n      <td>...</td>\n      <td>0.655423</td>\n      <td>0.578340</td>\n      <td>0.770191</td>\n      <td>0.667018</td>\n      <td>0.527756</td>\n      <td>0.676135</td>\n      <td>0.468993</td>\n      <td>0.564628</td>\n      <td>0.423318</td>\n      <td>0.591353</td>\n    </tr>\n    <tr>\n      <th>US-2002141886-A1</th>\n      <td>0.679519</td>\n      <td>0.551870</td>\n      <td>1.000000</td>\n      <td>0.522831</td>\n      <td>0.329833</td>\n      <td>0.277217</td>\n      <td>0.373918</td>\n      <td>0.609780</td>\n      <td>0.599291</td>\n      <td>0.667192</td>\n      <td>...</td>\n      <td>0.551965</td>\n      <td>0.676268</td>\n      <td>0.579078</td>\n      <td>0.510057</td>\n      <td>0.312017</td>\n      <td>0.574835</td>\n      <td>0.223848</td>\n      <td>0.724966</td>\n      <td>0.921034</td>\n      <td>0.339285</td>\n    </tr>\n    <tr>\n      <th>US-2003014729-A1</th>\n      <td>0.575169</td>\n      <td>0.663498</td>\n      <td>0.522831</td>\n      <td>1.000000</td>\n      <td>0.326954</td>\n      <td>0.318857</td>\n      <td>0.312053</td>\n      <td>0.912551</td>\n      <td>0.609849</td>\n      <td>0.869093</td>\n      <td>...</td>\n      <td>0.916102</td>\n      <td>0.837745</td>\n      <td>0.865378</td>\n      <td>0.955811</td>\n      <td>0.394564</td>\n      <td>0.804896</td>\n      <td>0.369281</td>\n      <td>0.817166</td>\n      <td>0.452025</td>\n      <td>0.353258</td>\n    </tr>\n    <tr>\n      <th>US-2003077538-A1</th>\n      <td>0.361915</td>\n      <td>0.452649</td>\n      <td>0.329833</td>\n      <td>0.326954</td>\n      <td>1.000000</td>\n      <td>0.866561</td>\n      <td>0.911259</td>\n      <td>0.246745</td>\n      <td>0.792579</td>\n      <td>0.387412</td>\n      <td>...</td>\n      <td>0.243247</td>\n      <td>0.295187</td>\n      <td>0.236493</td>\n      <td>0.245896</td>\n      <td>0.930943</td>\n      <td>0.541591</td>\n      <td>0.784164</td>\n      <td>0.118974</td>\n      <td>0.279418</td>\n      <td>0.944902</td>\n    </tr>\n    <tr>\n      <th>...</th>\n      <td>...</td>\n      <td>...</td>\n      <td>...</td>\n      <td>...</td>\n      <td>...</td>\n      <td>...</td>\n      <td>...</td>\n      <td>...</td>\n      <td>...</td>\n      <td>...</td>\n      <td>...</td>\n      <td>...</td>\n      <td>...</td>\n      <td>...</td>\n      <td>...</td>\n      <td>...</td>\n      <td>...</td>\n      <td>...</td>\n      <td>...</td>\n      <td>...</td>\n      <td>...</td>\n    </tr>\n    <tr>\n      <th>US-2010114198-A1</th>\n      <td>0.426988</td>\n      <td>0.676135</td>\n      <td>0.574835</td>\n      <td>0.804896</td>\n      <td>0.541591</td>\n      <td>0.567493</td>\n      <td>0.423512</td>\n      <td>0.745509</td>\n      <td>0.750055</td>\n      <td>0.754527</td>\n      <td>...</td>\n      <td>0.871264</td>\n      <td>0.746960</td>\n      <td>0.840037</td>\n      <td>0.805142</td>\n      <td>0.527795</td>\n      <td>1.000000</td>\n      <td>0.603644</td>\n      <td>0.533402</td>\n      <td>0.400428</td>\n      <td>0.541480</td>\n    </tr>\n    <tr>\n      <th>US-2010093703-A1</th>\n      <td>0.055740</td>\n      <td>0.468993</td>\n      <td>0.223848</td>\n      <td>0.369281</td>\n      <td>0.784164</td>\n      <td>0.969594</td>\n      <td>0.658194</td>\n      <td>0.237990</td>\n      <td>0.772361</td>\n      <td>0.385701</td>\n      <td>...</td>\n      <td>0.354661</td>\n      <td>0.276646</td>\n      <td>0.366875</td>\n      <td>0.342864</td>\n      <td>0.865004</td>\n      <td>0.603644</td>\n      <td>1.000000</td>\n      <td>0.111533</td>\n      <td>0.060646</td>\n      <td>0.836975</td>\n    </tr>\n    <tr>\n      <th>US-6367027-B1</th>\n      <td>0.625133</td>\n      <td>0.564628</td>\n      <td>0.724966</td>\n      <td>0.817166</td>\n      <td>0.118974</td>\n      <td>0.107534</td>\n      <td>0.194511</td>\n      <td>0.833641</td>\n      <td>0.444060</td>\n      <td>0.803452</td>\n      <td>...</td>\n      <td>0.709965</td>\n      <td>0.760122</td>\n      <td>0.701233</td>\n      <td>0.760776</td>\n      <td>0.206465</td>\n      <td>0.533402</td>\n      <td>0.111533</td>\n      <td>1.000000</td>\n      <td>0.757352</td>\n      <td>0.172275</td>\n    </tr>\n    <tr>\n      <th>US-5792019-A</th>\n      <td>0.731494</td>\n      <td>0.423318</td>\n      <td>0.921034</td>\n      <td>0.452025</td>\n      <td>0.279418</td>\n      <td>0.145523</td>\n      <td>0.350525</td>\n      <td>0.563422</td>\n      <td>0.490729</td>\n      <td>0.592266</td>\n      <td>...</td>\n      <td>0.443187</td>\n      <td>0.592670</td>\n      <td>0.459969</td>\n      <td>0.389435</td>\n      <td>0.220862</td>\n      <td>0.400428</td>\n      <td>0.060646</td>\n      <td>0.757352</td>\n      <td>1.000000</td>\n      <td>0.263170</td>\n    </tr>\n    <tr>\n      <th>US-5683585-A</th>\n      <td>0.247237</td>\n      <td>0.591353</td>\n      <td>0.339285</td>\n      <td>0.353258</td>\n      <td>0.944902</td>\n      <td>0.885110</td>\n      <td>0.926121</td>\n      <td>0.250092</td>\n      <td>0.777836</td>\n      <td>0.438971</td>\n      <td>...</td>\n      <td>0.263275</td>\n      <td>0.260361</td>\n      <td>0.309488</td>\n      <td>0.301416</td>\n      <td>0.966219</td>\n      <td>0.541480</td>\n      <td>0.836975</td>\n      <td>0.172275</td>\n      <td>0.263170</td>\n      <td>1.000000</td>\n    </tr>\n  </tbody>\n</table>\n<p>10000 rows × 10000 columns</p>\n</div>"
     },
     "execution_count": 19,
     "metadata": {},
     "output_type": "execute_result"
    }
   ],
   "source": [
    "def vecCos(vectors, names):\n",
    "    newTable = pd.DataFrame(cosine_similarity(vectors))\n",
    "    newTable.columns = names\n",
    "    newTable.index = names\n",
    "\n",
    "    return newTable\n",
    "vecTable = vecCos(vecs,frame['Publication_Number'].tolist())\n",
    "vecTable"
   ],
   "metadata": {
    "collapsed": false,
    "pycharm": {
     "name": "#%%\n"
    }
   }
  }
 ],
 "metadata": {
  "kernelspec": {
   "name": "pycharm-3ce039d3",
   "language": "python",
   "display_name": "PyCharm (Patent-Prior-Art-Finder)"
  },
  "language_info": {
   "codemirror_mode": {
    "name": "ipython",
    "version": 3
   },
   "file_extension": ".py",
   "mimetype": "text/x-python",
   "name": "python",
   "nbconvert_exporter": "python",
   "pygments_lexer": "ipython3",
   "version": "3.9.5"
  }
 },
 "nbformat": 4,
 "nbformat_minor": 5
}