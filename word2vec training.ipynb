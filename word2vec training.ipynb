{
 "cells": [
  {
   "cell_type": "code",
   "execution_count": 2,
   "id": "0c6f7848",
   "metadata": {},
   "outputs": [
    {
     "name": "stderr",
     "output_type": "stream",
     "text": [
      "C:\\Users\\mocka\\mambaforge\\lib\\site-packages\\gensim\\similarities\\__init__.py:15: UserWarning: The gensim.similarities.levenshtein submodule is disabled, because the optional Levenshtein package <https://pypi.org/project/python-Levenshtein/> is unavailable. Install Levenhstein (e.g. `pip install python-Levenshtein`) to suppress this warning.\n",
      "  warnings.warn(msg)\n"
     ]
    }
   ],
   "source": [
    "from gensim.models import Word2Vec\n",
    "from _DevPatentPriorArtFinder import _DevPatentPriorArtFinder as paf\n",
    "import numpy as np\n",
    "import pandas as pd\n",
    "from sklearn.metrics.pairwise import cosine_similarity"
   ]
  },
  {
   "cell_type": "code",
   "execution_count": 3,
   "outputs": [
    {
     "name": "stdout",
     "output_type": "stream",
     "text": [
      "    Publication_Number                                           Abstract  \\\n",
      "0        US-8916903-B2  A light emitting device that includes a substr...   \n",
      "1     US-2019286073-A1  A method for training parameters of a first do...   \n",
      "2     US-2018336391-A1  An electronic device is provided and includes ...   \n",
      "3     US-2011163923-A1  An apparatus including a wireless communicatio...   \n",
      "4         US-4125546-A  Prostaglandin analogs with the following cyclo...   \n",
      "..                 ...                                                ...   \n",
      "995       US-4658503-A  A movable working head carries a pair of drive...   \n",
      "996      US-7919186-B2  A method to produce thin-layer lignocellulosic...   \n",
      "997   US-2005126753-A1  A heat dissipation assembly includes a heat si...   \n",
      "998     US-10445185-B1  A method to create a version map to represent ...   \n",
      "999   US-2004266575-A1  A crank shaft assembly includes a socket, a cr...   \n",
      "\n",
      "                                           description  \\\n",
      "0    CROSS-REFERENCE TO RELATED APPLICATIONS \\n    ...   \n",
      "1    RELATED APPLICATIONS \\n     This application i...   \n",
      "2    CROSS-REFERENCE TO RELATED APPLICATION \\n     ...   \n",
      "3    CROSS-REFERENCE TO RELATED APPLICATIONS \\n    ...   \n",
      "4    The present application is a divisional applic...   \n",
      "..                                                 ...   \n",
      "995  BACKGROUND OF THE INVENTION \\n     The present...   \n",
      "996  RELATED APPLICATIONS \\n     This application i...   \n",
      "997  BACKGROUND OF THE INVENTION  \\n      1. Field ...   \n",
      "998  CROSS-REFERENCE TO RELATED APPLICATIONS \\n    ...   \n",
      "999  BACKGROUND OF THE INVENTION  \\n       [0001] 1...   \n",
      "\n",
      "                                                 claim  \\\n",
      "0    What is claimed is: \\n     \\n       1. A light...   \n",
      "1    What is claimed is: \\n     \\n         1 . A me...   \n",
      "2    What is claimed is: \\n     \\n         1 . An e...   \n",
      "3    1 . A multi-band antenna including:\\n at least...   \n",
      "4    I claim: \\n     \\n       1. A prostaglandin an...   \n",
      "..                                                 ...   \n",
      "995  I claim: \\n     \\n       1. A method of insert...   \n",
      "996  1. A door skin, comprising:\\n a lignocellulosi...   \n",
      "997  1 . A heat dissipation assembly comprising: \\n...   \n",
      "998  What is claimed is: \\n     \\n       1. A metho...   \n",
      "999  What is claimed is:  \\n     \\n         1 . A c...   \n",
      "\n",
      "                                                Tokens  \\\n",
      "0    [light, emitting, device, includes, substrate,...   \n",
      "1    [method, training, parameters, first, domain, ...   \n",
      "2    [electronic, device, provided, includes, flexi...   \n",
      "3    [apparatus, including, wireless, communication...   \n",
      "4    [prostaglandin, analogs, following, cyclopenta...   \n",
      "..                                                 ...   \n",
      "995  [movable, working, head, carries, pair, drive,...   \n",
      "996  [method, produce, thin, layer, lignocellulosic...   \n",
      "997  [heat, dissipation, assembly, includes, heat, ...   \n",
      "998  [method, create, version, map, represent, data...   \n",
      "999  [crank, shaft, assembly, includes, socket, cra...   \n",
      "\n",
      "                                            BagOfWords  \\\n",
      "0    [3, 4, 1, 4, 1, 4, 3, 1, 4, 5, 1, 4, 2, 4, 1, ...   \n",
      "1    [0, 0, 0, 0, 0, 0, 0, 0, 0, 0, 0, 0, 2, 0, 0, ...   \n",
      "2    [0, 0, 0, 0, 1, 2, 0, 0, 0, 0, 0, 0, 2, 0, 0, ...   \n",
      "3    [0, 0, 0, 0, 0, 0, 0, 0, 0, 0, 0, 0, 1, 0, 0, ...   \n",
      "4    [0, 0, 0, 0, 0, 0, 0, 0, 0, 0, 0, 0, 0, 0, 0, ...   \n",
      "..                                                 ...   \n",
      "995  [0, 0, 0, 0, 0, 0, 0, 0, 0, 0, 0, 0, 0, 0, 0, ...   \n",
      "996  [0, 0, 0, 0, 0, 0, 3, 0, 0, 0, 0, 0, 1, 0, 1, ...   \n",
      "997  [0, 0, 0, 0, 0, 0, 0, 0, 0, 0, 1, 0, 2, 0, 0, ...   \n",
      "998  [0, 0, 0, 0, 0, 0, 0, 0, 0, 0, 0, 0, 0, 0, 0, ...   \n",
      "999  [0, 0, 2, 0, 0, 0, 0, 0, 0, 0, 0, 0, 1, 1, 0, ...   \n",
      "\n",
      "                                                TF-IDF  \n",
      "0    [0.12316455529972169, 0.2944779156193198, 0.03...  \n",
      "1    [0.0, 0.0, 0.0, 0.0, 0.0, 0.0, 0.0, 0.0, 0.0, ...  \n",
      "2    [0.0, 0.0, 0.0, 0.0, 0.03884636004059968, 0.12...  \n",
      "3    [0.0, 0.0, 0.0, 0.0, 0.0, 0.0, 0.0, 0.0, 0.0, ...  \n",
      "4    [0.0, 0.0, 0.0, 0.0, 0.0, 0.0, 0.0, 0.0, 0.0, ...  \n",
      "..                                                 ...  \n",
      "995  [0.0, 0.0, 0.0, 0.0, 0.0, 0.0, 0.0, 0.0, 0.0, ...  \n",
      "996  [0.0, 0.0, 0.0, 0.0, 0.0, 0.0, 0.1358180644975...  \n",
      "997  [0.0, 0.0, 0.0, 0.0, 0.0, 0.0, 0.0, 0.0, 0.0, ...  \n",
      "998  [0.0, 0.0, 0.0, 0.0, 0.0, 0.0, 0.0, 0.0, 0.0, ...  \n",
      "999  [0.0, 0.0, 0.0922429743200012, 0.0, 0.0, 0.0, ...  \n",
      "\n",
      "[1000 rows x 7 columns]\n"
     ]
    }
   ],
   "source": [
    "thsnd= \"thsnd.csv\"\n",
    "myPaf = paf()\n",
    "frame=myPaf.init(thsnd,\"Publication_Number\")\n",
    "print(frame)"
   ],
   "metadata": {
    "collapsed": false,
    "pycharm": {
     "name": "#%%\n"
    }
   }
  },
  {
   "cell_type": "code",
   "execution_count": 4,
   "id": "003540a8",
   "metadata": {
    "pycharm": {
     "name": "#%%\n"
    }
   },
   "outputs": [],
   "source": [
    "sentences= frame['Tokens']\n",
    "model = Word2Vec(sentences=sentences,vector_size=10)"
   ]
  },
  {
   "cell_type": "code",
   "execution_count": 5,
   "outputs": [
    {
     "name": "stdout",
     "output_type": "stream",
     "text": [
      "[('based', 0.9986826181411743), ('information', 0.998609721660614), ('configured', 0.9983689785003662), ('wireless', 0.9980231523513794), ('one', 0.9980115294456482), ('applications', 0.9977525472640991), ('determining', 0.9976407885551453), ('processing', 0.9975725412368774), ('frequency', 0.9974058866500854), ('receiving', 0.9972801208496094)]\n"
     ]
    }
   ],
   "source": [
    "print(model.wv.most_similar(positive=['device']))"
   ],
   "metadata": {
    "collapsed": false,
    "pycharm": {
     "name": "#%%\n"
    }
   }
  },
  {
   "cell_type": "code",
   "execution_count": 6,
   "outputs": [
    {
     "name": "stdout",
     "output_type": "stream",
     "text": [
      "(10,)\n"
     ]
    }
   ],
   "source": [
    "print(model.wv['device'].shape)"
   ],
   "metadata": {
    "collapsed": false,
    "pycharm": {
     "name": "#%%\n"
    }
   }
  },
  {
   "cell_type": "code",
   "execution_count": 7,
   "outputs": [
    {
     "name": "stdout",
     "output_type": "stream",
     "text": [
      "[ 0.51830107 -0.38418722  2.309962    0.16668624  0.78258246  0.58677197\n",
      "  1.0604565   1.5911666  -2.3860445  -1.4484968 ]\n"
     ]
    }
   ],
   "source": [
    "print(model.wv['device'])"
   ],
   "metadata": {
    "collapsed": false,
    "pycharm": {
     "name": "#%%\n"
    }
   }
  },
  {
   "cell_type": "code",
   "execution_count": 8,
   "outputs": [],
   "source": [
    "vecs= []\n",
    "docCount=0\n",
    "for doc in sentences:\n",
    "    docCount+=1\n",
    "    sum= np.empty(model.wv['device'].shape)\n",
    "    wordcount =0\n",
    "    for word in doc:\n",
    "        wordcount+=1\n",
    "        #print(str(docCount)+\":\"+str(wordcount))\n",
    "        try:\n",
    "            sum += model.wv[word]\n",
    "        except:\n",
    "            pass\n",
    "            #print(\"error on \"+word)\n",
    "    vecs.append(sum)\n",
    "#print(vecs)"
   ],
   "metadata": {
    "collapsed": false,
    "pycharm": {
     "name": "#%%\n"
    }
   }
  },
  {
   "cell_type": "code",
   "execution_count": 9,
   "outputs": [
    {
     "data": {
      "text/plain": "                  US-8916903-B2  US-2019286073-A1  US-2018336391-A1  \\\nUS-8916903-B2          1.000000          0.999203          0.999241   \nUS-2019286073-A1       0.999203          1.000000          0.999503   \nUS-2018336391-A1       0.999241          0.999503          1.000000   \nUS-2011163923-A1       0.992542          0.995293          0.995369   \nUS-4125546-A           0.993297          0.996145          0.996465   \n...                         ...               ...               ...   \nUS-4658503-A           0.998163          0.999138          0.999368   \nUS-7919186-B2          0.994229          0.996724          0.996690   \nUS-2005126753-A1       0.999445          0.999204          0.999200   \nUS-10445185-B1         0.985954          0.989786          0.990021   \nUS-2004266575-A1       0.996429          0.997744          0.998201   \n\n                  US-2011163923-A1  US-4125546-A  US-9975053-B1  \\\nUS-8916903-B2             0.992542      0.993297       0.998952   \nUS-2019286073-A1          0.995293      0.996145       0.998121   \nUS-2018336391-A1          0.995369      0.996465       0.997863   \nUS-2011163923-A1          1.000000      0.999219       0.988543   \nUS-4125546-A              0.999219      1.000000       0.990442   \n...                            ...           ...            ...   \nUS-4658503-A              0.997475      0.998066       0.995971   \nUS-7919186-B2             0.999190      0.999322       0.991195   \nUS-2005126753-A1          0.994018      0.994775       0.998336   \nUS-10445185-B1            0.998586      0.997303       0.980678   \nUS-2004266575-A1          0.998811      0.998812       0.993009   \n\n                  US-2003205646-A1  US-2014357079-A1  US-2019292123-A1  \\\nUS-8916903-B2             0.998210          0.996339          0.993573   \nUS-2019286073-A1          0.999218          0.998182          0.996069   \nUS-2018336391-A1          0.999051          0.997211          0.995989   \nUS-2011163923-A1          0.997422          0.995477          0.999339   \nUS-4125546-A              0.997479          0.996724          0.999205   \n...                            ...               ...               ...   \nUS-4658503-A              0.999496          0.997365          0.997846   \nUS-7919186-B2             0.997912          0.997904          0.999473   \nUS-2005126753-A1          0.999124          0.996734          0.995082   \nUS-10445185-B1            0.992860          0.991843          0.997656   \nUS-2004266575-A1          0.998682          0.997249          0.999200   \n\n                  US-3860861-A  ...  US-8693405-B2  US-4790289-A  \\\nUS-8916903-B2         0.995345  ...       0.996998      0.999124   \nUS-2019286073-A1      0.996981  ...       0.998633      0.999387   \nUS-2018336391-A1      0.997348  ...       0.998507      0.999724   \nUS-2011163923-A1      0.999362  ...       0.998796      0.996053   \nUS-4125546-A          0.998867  ...       0.998551      0.996831   \n...                        ...  ...            ...           ...   \nUS-4658503-A          0.998799  ...       0.999479      0.999448   \nUS-7919186-B2         0.998868  ...       0.998808      0.997311   \nUS-2005126753-A1      0.996751  ...       0.997637      0.999541   \nUS-10445185-B1        0.996719  ...       0.995126      0.991123   \nUS-2004266575-A1      0.999326  ...       0.999240      0.998683   \n\n                  US-2019258645-A1  US-2002130825-A1  US-2002157569-A1  \\\nUS-8916903-B2             0.988131          0.992665          0.992668   \nUS-2019286073-A1          0.991649          0.995170          0.995317   \nUS-2018336391-A1          0.991739          0.995714          0.995666   \nUS-2011163923-A1          0.999284          0.999729          0.999721   \nUS-4125546-A              0.998091          0.999560          0.999421   \n...                            ...               ...               ...   \nUS-4658503-A              0.994433          0.997641          0.997534   \nUS-7919186-B2             0.998178          0.999332          0.999372   \nUS-2005126753-A1          0.990041          0.994078          0.994334   \nUS-10445185-B1            0.999841          0.998286          0.998242   \nUS-2004266575-A1          0.997072          0.999148          0.999132   \n\n                  US-4658503-A  US-7919186-B2  US-2005126753-A1  \\\nUS-8916903-B2         0.998163       0.994229          0.999445   \nUS-2019286073-A1      0.999138       0.996724          0.999204   \nUS-2018336391-A1      0.999368       0.996690          0.999200   \nUS-2011163923-A1      0.997475       0.999190          0.994018   \nUS-4125546-A          0.998066       0.999322          0.994775   \n...                        ...            ...               ...   \nUS-4658503-A          1.000000       0.997833          0.998573   \nUS-7919186-B2         0.997833       1.000000          0.995507   \nUS-2005126753-A1      0.998573       0.995507          1.000000   \nUS-10445185-B1        0.992761       0.997462          0.987916   \nUS-2004266575-A1      0.999014       0.999323          0.997097   \n\n                  US-10445185-B1  US-2004266575-A1  \nUS-8916903-B2           0.985954          0.996429  \nUS-2019286073-A1        0.989786          0.997744  \nUS-2018336391-A1        0.990021          0.998201  \nUS-2011163923-A1        0.998586          0.998811  \nUS-4125546-A            0.997303          0.998812  \n...                          ...               ...  \nUS-4658503-A            0.992761          0.999014  \nUS-7919186-B2           0.997462          0.999323  \nUS-2005126753-A1        0.987916          0.997097  \nUS-10445185-B1          1.000000          0.996005  \nUS-2004266575-A1        0.996005          1.000000  \n\n[1000 rows x 1000 columns]",
      "text/html": "<div>\n<style scoped>\n    .dataframe tbody tr th:only-of-type {\n        vertical-align: middle;\n    }\n\n    .dataframe tbody tr th {\n        vertical-align: top;\n    }\n\n    .dataframe thead th {\n        text-align: right;\n    }\n</style>\n<table border=\"1\" class=\"dataframe\">\n  <thead>\n    <tr style=\"text-align: right;\">\n      <th></th>\n      <th>US-8916903-B2</th>\n      <th>US-2019286073-A1</th>\n      <th>US-2018336391-A1</th>\n      <th>US-2011163923-A1</th>\n      <th>US-4125546-A</th>\n      <th>US-9975053-B1</th>\n      <th>US-2003205646-A1</th>\n      <th>US-2014357079-A1</th>\n      <th>US-2019292123-A1</th>\n      <th>US-3860861-A</th>\n      <th>...</th>\n      <th>US-8693405-B2</th>\n      <th>US-4790289-A</th>\n      <th>US-2019258645-A1</th>\n      <th>US-2002130825-A1</th>\n      <th>US-2002157569-A1</th>\n      <th>US-4658503-A</th>\n      <th>US-7919186-B2</th>\n      <th>US-2005126753-A1</th>\n      <th>US-10445185-B1</th>\n      <th>US-2004266575-A1</th>\n    </tr>\n  </thead>\n  <tbody>\n    <tr>\n      <th>US-8916903-B2</th>\n      <td>1.000000</td>\n      <td>0.999203</td>\n      <td>0.999241</td>\n      <td>0.992542</td>\n      <td>0.993297</td>\n      <td>0.998952</td>\n      <td>0.998210</td>\n      <td>0.996339</td>\n      <td>0.993573</td>\n      <td>0.995345</td>\n      <td>...</td>\n      <td>0.996998</td>\n      <td>0.999124</td>\n      <td>0.988131</td>\n      <td>0.992665</td>\n      <td>0.992668</td>\n      <td>0.998163</td>\n      <td>0.994229</td>\n      <td>0.999445</td>\n      <td>0.985954</td>\n      <td>0.996429</td>\n    </tr>\n    <tr>\n      <th>US-2019286073-A1</th>\n      <td>0.999203</td>\n      <td>1.000000</td>\n      <td>0.999503</td>\n      <td>0.995293</td>\n      <td>0.996145</td>\n      <td>0.998121</td>\n      <td>0.999218</td>\n      <td>0.998182</td>\n      <td>0.996069</td>\n      <td>0.996981</td>\n      <td>...</td>\n      <td>0.998633</td>\n      <td>0.999387</td>\n      <td>0.991649</td>\n      <td>0.995170</td>\n      <td>0.995317</td>\n      <td>0.999138</td>\n      <td>0.996724</td>\n      <td>0.999204</td>\n      <td>0.989786</td>\n      <td>0.997744</td>\n    </tr>\n    <tr>\n      <th>US-2018336391-A1</th>\n      <td>0.999241</td>\n      <td>0.999503</td>\n      <td>1.000000</td>\n      <td>0.995369</td>\n      <td>0.996465</td>\n      <td>0.997863</td>\n      <td>0.999051</td>\n      <td>0.997211</td>\n      <td>0.995989</td>\n      <td>0.997348</td>\n      <td>...</td>\n      <td>0.998507</td>\n      <td>0.999724</td>\n      <td>0.991739</td>\n      <td>0.995714</td>\n      <td>0.995666</td>\n      <td>0.999368</td>\n      <td>0.996690</td>\n      <td>0.999200</td>\n      <td>0.990021</td>\n      <td>0.998201</td>\n    </tr>\n    <tr>\n      <th>US-2011163923-A1</th>\n      <td>0.992542</td>\n      <td>0.995293</td>\n      <td>0.995369</td>\n      <td>1.000000</td>\n      <td>0.999219</td>\n      <td>0.988543</td>\n      <td>0.997422</td>\n      <td>0.995477</td>\n      <td>0.999339</td>\n      <td>0.999362</td>\n      <td>...</td>\n      <td>0.998796</td>\n      <td>0.996053</td>\n      <td>0.999284</td>\n      <td>0.999729</td>\n      <td>0.999721</td>\n      <td>0.997475</td>\n      <td>0.999190</td>\n      <td>0.994018</td>\n      <td>0.998586</td>\n      <td>0.998811</td>\n    </tr>\n    <tr>\n      <th>US-4125546-A</th>\n      <td>0.993297</td>\n      <td>0.996145</td>\n      <td>0.996465</td>\n      <td>0.999219</td>\n      <td>1.000000</td>\n      <td>0.990442</td>\n      <td>0.997479</td>\n      <td>0.996724</td>\n      <td>0.999205</td>\n      <td>0.998867</td>\n      <td>...</td>\n      <td>0.998551</td>\n      <td>0.996831</td>\n      <td>0.998091</td>\n      <td>0.999560</td>\n      <td>0.999421</td>\n      <td>0.998066</td>\n      <td>0.999322</td>\n      <td>0.994775</td>\n      <td>0.997303</td>\n      <td>0.998812</td>\n    </tr>\n    <tr>\n      <th>...</th>\n      <td>...</td>\n      <td>...</td>\n      <td>...</td>\n      <td>...</td>\n      <td>...</td>\n      <td>...</td>\n      <td>...</td>\n      <td>...</td>\n      <td>...</td>\n      <td>...</td>\n      <td>...</td>\n      <td>...</td>\n      <td>...</td>\n      <td>...</td>\n      <td>...</td>\n      <td>...</td>\n      <td>...</td>\n      <td>...</td>\n      <td>...</td>\n      <td>...</td>\n      <td>...</td>\n    </tr>\n    <tr>\n      <th>US-4658503-A</th>\n      <td>0.998163</td>\n      <td>0.999138</td>\n      <td>0.999368</td>\n      <td>0.997475</td>\n      <td>0.998066</td>\n      <td>0.995971</td>\n      <td>0.999496</td>\n      <td>0.997365</td>\n      <td>0.997846</td>\n      <td>0.998799</td>\n      <td>...</td>\n      <td>0.999479</td>\n      <td>0.999448</td>\n      <td>0.994433</td>\n      <td>0.997641</td>\n      <td>0.997534</td>\n      <td>1.000000</td>\n      <td>0.997833</td>\n      <td>0.998573</td>\n      <td>0.992761</td>\n      <td>0.999014</td>\n    </tr>\n    <tr>\n      <th>US-7919186-B2</th>\n      <td>0.994229</td>\n      <td>0.996724</td>\n      <td>0.996690</td>\n      <td>0.999190</td>\n      <td>0.999322</td>\n      <td>0.991195</td>\n      <td>0.997912</td>\n      <td>0.997904</td>\n      <td>0.999473</td>\n      <td>0.998868</td>\n      <td>...</td>\n      <td>0.998808</td>\n      <td>0.997311</td>\n      <td>0.998178</td>\n      <td>0.999332</td>\n      <td>0.999372</td>\n      <td>0.997833</td>\n      <td>1.000000</td>\n      <td>0.995507</td>\n      <td>0.997462</td>\n      <td>0.999323</td>\n    </tr>\n    <tr>\n      <th>US-2005126753-A1</th>\n      <td>0.999445</td>\n      <td>0.999204</td>\n      <td>0.999200</td>\n      <td>0.994018</td>\n      <td>0.994775</td>\n      <td>0.998336</td>\n      <td>0.999124</td>\n      <td>0.996734</td>\n      <td>0.995082</td>\n      <td>0.996751</td>\n      <td>...</td>\n      <td>0.997637</td>\n      <td>0.999541</td>\n      <td>0.990041</td>\n      <td>0.994078</td>\n      <td>0.994334</td>\n      <td>0.998573</td>\n      <td>0.995507</td>\n      <td>1.000000</td>\n      <td>0.987916</td>\n      <td>0.997097</td>\n    </tr>\n    <tr>\n      <th>US-10445185-B1</th>\n      <td>0.985954</td>\n      <td>0.989786</td>\n      <td>0.990021</td>\n      <td>0.998586</td>\n      <td>0.997303</td>\n      <td>0.980678</td>\n      <td>0.992860</td>\n      <td>0.991843</td>\n      <td>0.997656</td>\n      <td>0.996719</td>\n      <td>...</td>\n      <td>0.995126</td>\n      <td>0.991123</td>\n      <td>0.999841</td>\n      <td>0.998286</td>\n      <td>0.998242</td>\n      <td>0.992761</td>\n      <td>0.997462</td>\n      <td>0.987916</td>\n      <td>1.000000</td>\n      <td>0.996005</td>\n    </tr>\n    <tr>\n      <th>US-2004266575-A1</th>\n      <td>0.996429</td>\n      <td>0.997744</td>\n      <td>0.998201</td>\n      <td>0.998811</td>\n      <td>0.998812</td>\n      <td>0.993009</td>\n      <td>0.998682</td>\n      <td>0.997249</td>\n      <td>0.999200</td>\n      <td>0.999326</td>\n      <td>...</td>\n      <td>0.999240</td>\n      <td>0.998683</td>\n      <td>0.997072</td>\n      <td>0.999148</td>\n      <td>0.999132</td>\n      <td>0.999014</td>\n      <td>0.999323</td>\n      <td>0.997097</td>\n      <td>0.996005</td>\n      <td>1.000000</td>\n    </tr>\n  </tbody>\n</table>\n<p>1000 rows × 1000 columns</p>\n</div>"
     },
     "execution_count": 9,
     "metadata": {},
     "output_type": "execute_result"
    }
   ],
   "source": [
    "def vecCos(vectors, names):\n",
    "    newTable = pd.DataFrame(cosine_similarity(vectors))\n",
    "    newTable.columns = names\n",
    "    newTable.index = names\n",
    "\n",
    "    return newTable\n",
    "vecTable = vecCos(vecs,frame['Publication_Number'].tolist())\n",
    "vecTable"
   ],
   "metadata": {
    "collapsed": false,
    "pycharm": {
     "name": "#%%\n"
    }
   }
  }
 ],
 "metadata": {
  "kernelspec": {
   "display_name": "Python 3 (ipykernel)",
   "language": "python",
   "name": "python3"
  },
  "language_info": {
   "codemirror_mode": {
    "name": "ipython",
    "version": 3
   },
   "file_extension": ".py",
   "mimetype": "text/x-python",
   "name": "python",
   "nbconvert_exporter": "python",
   "pygments_lexer": "ipython3",
   "version": "3.9.5"
  }
 },
 "nbformat": 4,
 "nbformat_minor": 5
}