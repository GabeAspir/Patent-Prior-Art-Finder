{
 "cells": [
  {
   "cell_type": "code",
   "execution_count": 2,
   "id": "0c6f7848",
   "metadata": {},
   "outputs": [
    {
     "name": "stderr",
     "output_type": "stream",
     "text": [
      "C:\\Users\\mocka\\mambaforge\\lib\\site-packages\\gensim\\similarities\\__init__.py:15: UserWarning: The gensim.similarities.levenshtein submodule is disabled, because the optional Levenshtein package <https://pypi.org/project/python-Levenshtein/> is unavailable. Install Levenhstein (e.g. `pip install python-Levenshtein`) to suppress this warning.\n",
      "  warnings.warn(msg)\n",
      "[nltk_data] Downloading package punkt to\n",
      "[nltk_data]     C:\\Users\\mocka\\AppData\\Roaming\\nltk_data...\n",
      "[nltk_data]   Package punkt is already up-to-date!\n",
      "[nltk_data] Downloading package stopwords to\n",
      "[nltk_data]     C:\\Users\\mocka\\AppData\\Roaming\\nltk_data...\n",
      "[nltk_data]   Package stopwords is already up-to-date!\n"
     ]
    }
   ],
   "source": [
    "from gensim.models import Word2Vec\n",
    "from _DevNLTKPatentPriorArtFinder import _DevNLTKPatentPriorArtFinder as paf\n",
    "import numpy as np\n",
    "import pandas as pd\n",
    "from sklearn.metrics.pairwise import cosine_similarity"
   ]
  },
  {
   "cell_type": "code",
   "execution_count": 3,
   "id": "dd2c6835",
   "metadata": {
    "pycharm": {
     "name": "#%%\n"
    }
   },
   "outputs": [],
   "source": [
    "# noinspection JupyterKernel\n",
    "pats= \"resourcesZF/1000patents.csv\" # 1,000\n",
    "#pats= \"Patents/10000Patents.csv\"    # 10,000\n",
    "myPaf = paf()\n",
    "frame=myPaf.init(pats,\"Publication_Number\")"
   ]
  },
  {
   "cell_type": "code",
   "execution_count": null,
   "id": "cc117f5c",
   "metadata": {
    "pycharm": {
     "name": "#%%\n"
    }
   },
   "outputs": [],
   "source": [
    "print(frame)"
   ]
  },
  {
   "cell_type": "code",
   "execution_count": 4,
   "id": "003540a8",
   "metadata": {
    "pycharm": {
     "name": "#%%\n"
    }
   },
   "outputs": [
    {
     "data": {
      "text/plain": "100"
     },
     "execution_count": 4,
     "metadata": {},
     "output_type": "execute_result"
    }
   ],
   "source": [
    "sentences= frame['Tokens']\n",
    "model = Word2Vec(sentences=sentences,vector_size=100)\n",
    "model.vector_size"
   ]
  },
  {
   "cell_type": "code",
   "execution_count": null,
   "id": "5012092b",
   "metadata": {
    "pycharm": {
     "name": "#%%\n"
    }
   },
   "outputs": [],
   "source": [
    "#print(model.wv.most_similar(positive=['device']))"
   ]
  },
  {
   "cell_type": "code",
   "execution_count": null,
   "id": "41853539",
   "metadata": {
    "pycharm": {
     "name": "#%%\n"
    }
   },
   "outputs": [],
   "source": [
    "#print(model.wv['device'].shape)"
   ]
  },
  {
   "cell_type": "code",
   "execution_count": null,
   "id": "fc7f8f09",
   "metadata": {
    "pycharm": {
     "name": "#%%\n"
    }
   },
   "outputs": [],
   "source": [
    "#print(model.wv['device'])"
   ]
  },
  {
   "cell_type": "code",
   "execution_count": 6,
   "id": "3ee77dd1",
   "metadata": {
    "pycharm": {
     "name": "#%%\n"
    }
   },
   "outputs": [],
   "source": [
    "vecs= []\n",
    "docCount=0\n",
    "for doc in sentences:\n",
    "    docCount+=1\n",
    "    sum= np.empty(model.vector_size)\n",
    "    wordcount =0\n",
    "    for word in doc:\n",
    "        wordcount+=1\n",
    "        #print(str(docCount)+\":\"+str(wordcount))\n",
    "        try:\n",
    "            sum += model.wv[word]\n",
    "        except:\n",
    "            pass\n",
    "            #print(\"error on \"+word)\n",
    "    vecs.append(sum)\n",
    "#print(vecs)"
   ]
  },
  {
   "cell_type": "code",
   "execution_count": 7,
   "id": "3490f57b",
   "metadata": {
    "pycharm": {
     "name": "#%%\n"
    }
   },
   "outputs": [
    {
     "data": {
      "text/html": [
       "<div>\n",
       "<style scoped>\n",
       "    .dataframe tbody tr th:only-of-type {\n",
       "        vertical-align: middle;\n",
       "    }\n",
       "\n",
       "    .dataframe tbody tr th {\n",
       "        vertical-align: top;\n",
       "    }\n",
       "\n",
       "    .dataframe thead th {\n",
       "        text-align: right;\n",
       "    }\n",
       "</style>\n",
       "<table border=\"1\" class=\"dataframe\">\n",
       "  <thead>\n",
       "    <tr style=\"text-align: right;\">\n",
       "      <th></th>\n",
       "      <th>US-10882341-B2</th>\n",
       "      <th>US-2002019782-A1</th>\n",
       "      <th>US-2002141886-A1</th>\n",
       "      <th>US-2003014729-A1</th>\n",
       "      <th>US-2003077538-A1</th>\n",
       "      <th>US-2002099227-A1</th>\n",
       "      <th>US-2003008942-A1</th>\n",
       "      <th>US-2003122793-A1</th>\n",
       "      <th>US-2011105988-A1</th>\n",
       "      <th>US-2012075228-A1</th>\n",
       "      <th>...</th>\n",
       "      <th>US-2012081502-A1</th>\n",
       "      <th>US-2010164807-A1</th>\n",
       "      <th>US-2011299478-A1</th>\n",
       "      <th>US-2010169622-A1</th>\n",
       "      <th>US-2010227965-A1</th>\n",
       "      <th>US-2010114198-A1</th>\n",
       "      <th>US-2010093703-A1</th>\n",
       "      <th>US-6367027-B1</th>\n",
       "      <th>US-5792019-A</th>\n",
       "      <th>US-5683585-A</th>\n",
       "    </tr>\n",
       "  </thead>\n",
       "  <tbody>\n",
       "    <tr>\n",
       "      <th>US-10882341-B2</th>\n",
       "      <td>1.000000</td>\n",
       "      <td>0.484115</td>\n",
       "      <td>0.595854</td>\n",
       "      <td>0.731144</td>\n",
       "      <td>0.408243</td>\n",
       "      <td>0.262835</td>\n",
       "      <td>0.400870</td>\n",
       "      <td>0.784854</td>\n",
       "      <td>0.700513</td>\n",
       "      <td>0.823965</td>\n",
       "      <td>...</td>\n",
       "      <td>0.709134</td>\n",
       "      <td>0.862251</td>\n",
       "      <td>0.637075</td>\n",
       "      <td>0.676386</td>\n",
       "      <td>0.374842</td>\n",
       "      <td>0.705173</td>\n",
       "      <td>0.232834</td>\n",
       "      <td>0.670702</td>\n",
       "      <td>0.692427</td>\n",
       "      <td>0.334504</td>\n",
       "    </tr>\n",
       "    <tr>\n",
       "      <th>US-2002019782-A1</th>\n",
       "      <td>0.484115</td>\n",
       "      <td>1.000000</td>\n",
       "      <td>0.493387</td>\n",
       "      <td>0.656985</td>\n",
       "      <td>0.500031</td>\n",
       "      <td>0.499992</td>\n",
       "      <td>0.609990</td>\n",
       "      <td>0.590753</td>\n",
       "      <td>0.476710</td>\n",
       "      <td>0.699537</td>\n",
       "      <td>...</td>\n",
       "      <td>0.640443</td>\n",
       "      <td>0.572706</td>\n",
       "      <td>0.775636</td>\n",
       "      <td>0.650447</td>\n",
       "      <td>0.541885</td>\n",
       "      <td>0.660006</td>\n",
       "      <td>0.489360</td>\n",
       "      <td>0.562797</td>\n",
       "      <td>0.421795</td>\n",
       "      <td>0.576007</td>\n",
       "    </tr>\n",
       "    <tr>\n",
       "      <th>US-2002141886-A1</th>\n",
       "      <td>0.595854</td>\n",
       "      <td>0.493387</td>\n",
       "      <td>1.000000</td>\n",
       "      <td>0.377911</td>\n",
       "      <td>0.392366</td>\n",
       "      <td>0.618351</td>\n",
       "      <td>0.508659</td>\n",
       "      <td>0.473664</td>\n",
       "      <td>0.546222</td>\n",
       "      <td>0.547392</td>\n",
       "      <td>...</td>\n",
       "      <td>0.401787</td>\n",
       "      <td>0.516006</td>\n",
       "      <td>0.474376</td>\n",
       "      <td>0.381168</td>\n",
       "      <td>0.418399</td>\n",
       "      <td>0.412990</td>\n",
       "      <td>0.592203</td>\n",
       "      <td>0.614124</td>\n",
       "      <td>0.861049</td>\n",
       "      <td>0.553308</td>\n",
       "    </tr>\n",
       "    <tr>\n",
       "      <th>US-2003014729-A1</th>\n",
       "      <td>0.731144</td>\n",
       "      <td>0.656985</td>\n",
       "      <td>0.377911</td>\n",
       "      <td>1.000000</td>\n",
       "      <td>0.336336</td>\n",
       "      <td>0.256951</td>\n",
       "      <td>0.277626</td>\n",
       "      <td>0.910498</td>\n",
       "      <td>0.647127</td>\n",
       "      <td>0.883152</td>\n",
       "      <td>...</td>\n",
       "      <td>0.926780</td>\n",
       "      <td>0.843016</td>\n",
       "      <td>0.878649</td>\n",
       "      <td>0.961103</td>\n",
       "      <td>0.395611</td>\n",
       "      <td>0.814071</td>\n",
       "      <td>0.273849</td>\n",
       "      <td>0.810250</td>\n",
       "      <td>0.437169</td>\n",
       "      <td>0.312258</td>\n",
       "    </tr>\n",
       "    <tr>\n",
       "      <th>US-2003077538-A1</th>\n",
       "      <td>0.408243</td>\n",
       "      <td>0.500031</td>\n",
       "      <td>0.392366</td>\n",
       "      <td>0.336336</td>\n",
       "      <td>1.000000</td>\n",
       "      <td>0.857364</td>\n",
       "      <td>0.876098</td>\n",
       "      <td>0.268191</td>\n",
       "      <td>0.748124</td>\n",
       "      <td>0.382617</td>\n",
       "      <td>...</td>\n",
       "      <td>0.261539</td>\n",
       "      <td>0.299231</td>\n",
       "      <td>0.304810</td>\n",
       "      <td>0.268744</td>\n",
       "      <td>0.936224</td>\n",
       "      <td>0.533125</td>\n",
       "      <td>0.834483</td>\n",
       "      <td>0.140029</td>\n",
       "      <td>0.225160</td>\n",
       "      <td>0.929302</td>\n",
       "    </tr>\n",
       "    <tr>\n",
       "      <th>...</th>\n",
       "      <td>...</td>\n",
       "      <td>...</td>\n",
       "      <td>...</td>\n",
       "      <td>...</td>\n",
       "      <td>...</td>\n",
       "      <td>...</td>\n",
       "      <td>...</td>\n",
       "      <td>...</td>\n",
       "      <td>...</td>\n",
       "      <td>...</td>\n",
       "      <td>...</td>\n",
       "      <td>...</td>\n",
       "      <td>...</td>\n",
       "      <td>...</td>\n",
       "      <td>...</td>\n",
       "      <td>...</td>\n",
       "      <td>...</td>\n",
       "      <td>...</td>\n",
       "      <td>...</td>\n",
       "      <td>...</td>\n",
       "      <td>...</td>\n",
       "    </tr>\n",
       "    <tr>\n",
       "      <th>US-2010114198-A1</th>\n",
       "      <td>0.705173</td>\n",
       "      <td>0.660006</td>\n",
       "      <td>0.412990</td>\n",
       "      <td>0.814071</td>\n",
       "      <td>0.533125</td>\n",
       "      <td>0.406702</td>\n",
       "      <td>0.357173</td>\n",
       "      <td>0.720530</td>\n",
       "      <td>0.775318</td>\n",
       "      <td>0.730630</td>\n",
       "      <td>...</td>\n",
       "      <td>0.873149</td>\n",
       "      <td>0.758241</td>\n",
       "      <td>0.843205</td>\n",
       "      <td>0.800508</td>\n",
       "      <td>0.502879</td>\n",
       "      <td>1.000000</td>\n",
       "      <td>0.409481</td>\n",
       "      <td>0.520001</td>\n",
       "      <td>0.376765</td>\n",
       "      <td>0.459036</td>\n",
       "    </tr>\n",
       "    <tr>\n",
       "      <th>US-2010093703-A1</th>\n",
       "      <td>0.232834</td>\n",
       "      <td>0.489360</td>\n",
       "      <td>0.592203</td>\n",
       "      <td>0.273849</td>\n",
       "      <td>0.834483</td>\n",
       "      <td>0.990313</td>\n",
       "      <td>0.739831</td>\n",
       "      <td>0.233763</td>\n",
       "      <td>0.655325</td>\n",
       "      <td>0.366357</td>\n",
       "      <td>...</td>\n",
       "      <td>0.237648</td>\n",
       "      <td>0.226474</td>\n",
       "      <td>0.344641</td>\n",
       "      <td>0.272485</td>\n",
       "      <td>0.856501</td>\n",
       "      <td>0.409481</td>\n",
       "      <td>1.000000</td>\n",
       "      <td>0.230981</td>\n",
       "      <td>0.286124</td>\n",
       "      <td>0.907050</td>\n",
       "    </tr>\n",
       "    <tr>\n",
       "      <th>US-6367027-B1</th>\n",
       "      <td>0.670702</td>\n",
       "      <td>0.562797</td>\n",
       "      <td>0.614124</td>\n",
       "      <td>0.810250</td>\n",
       "      <td>0.140029</td>\n",
       "      <td>0.228759</td>\n",
       "      <td>0.244283</td>\n",
       "      <td>0.833123</td>\n",
       "      <td>0.493199</td>\n",
       "      <td>0.809320</td>\n",
       "      <td>...</td>\n",
       "      <td>0.717451</td>\n",
       "      <td>0.755735</td>\n",
       "      <td>0.713671</td>\n",
       "      <td>0.766543</td>\n",
       "      <td>0.261369</td>\n",
       "      <td>0.520001</td>\n",
       "      <td>0.230981</td>\n",
       "      <td>1.000000</td>\n",
       "      <td>0.759125</td>\n",
       "      <td>0.223951</td>\n",
       "    </tr>\n",
       "    <tr>\n",
       "      <th>US-5792019-A</th>\n",
       "      <td>0.692427</td>\n",
       "      <td>0.421795</td>\n",
       "      <td>0.861049</td>\n",
       "      <td>0.437169</td>\n",
       "      <td>0.225160</td>\n",
       "      <td>0.327564</td>\n",
       "      <td>0.392595</td>\n",
       "      <td>0.542708</td>\n",
       "      <td>0.491617</td>\n",
       "      <td>0.571156</td>\n",
       "      <td>...</td>\n",
       "      <td>0.450815</td>\n",
       "      <td>0.582255</td>\n",
       "      <td>0.476876</td>\n",
       "      <td>0.393239</td>\n",
       "      <td>0.252972</td>\n",
       "      <td>0.376765</td>\n",
       "      <td>0.286124</td>\n",
       "      <td>0.759125</td>\n",
       "      <td>1.000000</td>\n",
       "      <td>0.335119</td>\n",
       "    </tr>\n",
       "    <tr>\n",
       "      <th>US-5683585-A</th>\n",
       "      <td>0.334504</td>\n",
       "      <td>0.576007</td>\n",
       "      <td>0.553308</td>\n",
       "      <td>0.312258</td>\n",
       "      <td>0.929302</td>\n",
       "      <td>0.916115</td>\n",
       "      <td>0.912008</td>\n",
       "      <td>0.253015</td>\n",
       "      <td>0.712387</td>\n",
       "      <td>0.414755</td>\n",
       "      <td>...</td>\n",
       "      <td>0.226929</td>\n",
       "      <td>0.250548</td>\n",
       "      <td>0.327547</td>\n",
       "      <td>0.275565</td>\n",
       "      <td>0.948534</td>\n",
       "      <td>0.459036</td>\n",
       "      <td>0.907050</td>\n",
       "      <td>0.223951</td>\n",
       "      <td>0.335119</td>\n",
       "      <td>1.000000</td>\n",
       "    </tr>\n",
       "  </tbody>\n",
       "</table>\n",
       "<p>10000 rows × 10000 columns</p>\n",
       "</div>"
      ],
      "text/plain": [
       "                  US-10882341-B2  US-2002019782-A1  US-2002141886-A1  \\\n",
       "US-10882341-B2          1.000000          0.484115          0.595854   \n",
       "US-2002019782-A1        0.484115          1.000000          0.493387   \n",
       "US-2002141886-A1        0.595854          0.493387          1.000000   \n",
       "US-2003014729-A1        0.731144          0.656985          0.377911   \n",
       "US-2003077538-A1        0.408243          0.500031          0.392366   \n",
       "...                          ...               ...               ...   \n",
       "US-2010114198-A1        0.705173          0.660006          0.412990   \n",
       "US-2010093703-A1        0.232834          0.489360          0.592203   \n",
       "US-6367027-B1           0.670702          0.562797          0.614124   \n",
       "US-5792019-A            0.692427          0.421795          0.861049   \n",
       "US-5683585-A            0.334504          0.576007          0.553308   \n",
       "\n",
       "                  US-2003014729-A1  US-2003077538-A1  US-2002099227-A1  \\\n",
       "US-10882341-B2            0.731144          0.408243          0.262835   \n",
       "US-2002019782-A1          0.656985          0.500031          0.499992   \n",
       "US-2002141886-A1          0.377911          0.392366          0.618351   \n",
       "US-2003014729-A1          1.000000          0.336336          0.256951   \n",
       "US-2003077538-A1          0.336336          1.000000          0.857364   \n",
       "...                            ...               ...               ...   \n",
       "US-2010114198-A1          0.814071          0.533125          0.406702   \n",
       "US-2010093703-A1          0.273849          0.834483          0.990313   \n",
       "US-6367027-B1             0.810250          0.140029          0.228759   \n",
       "US-5792019-A              0.437169          0.225160          0.327564   \n",
       "US-5683585-A              0.312258          0.929302          0.916115   \n",
       "\n",
       "                  US-2003008942-A1  US-2003122793-A1  US-2011105988-A1  \\\n",
       "US-10882341-B2            0.400870          0.784854          0.700513   \n",
       "US-2002019782-A1          0.609990          0.590753          0.476710   \n",
       "US-2002141886-A1          0.508659          0.473664          0.546222   \n",
       "US-2003014729-A1          0.277626          0.910498          0.647127   \n",
       "US-2003077538-A1          0.876098          0.268191          0.748124   \n",
       "...                            ...               ...               ...   \n",
       "US-2010114198-A1          0.357173          0.720530          0.775318   \n",
       "US-2010093703-A1          0.739831          0.233763          0.655325   \n",
       "US-6367027-B1             0.244283          0.833123          0.493199   \n",
       "US-5792019-A              0.392595          0.542708          0.491617   \n",
       "US-5683585-A              0.912008          0.253015          0.712387   \n",
       "\n",
       "                  US-2012075228-A1  ...  US-2012081502-A1  US-2010164807-A1  \\\n",
       "US-10882341-B2            0.823965  ...          0.709134          0.862251   \n",
       "US-2002019782-A1          0.699537  ...          0.640443          0.572706   \n",
       "US-2002141886-A1          0.547392  ...          0.401787          0.516006   \n",
       "US-2003014729-A1          0.883152  ...          0.926780          0.843016   \n",
       "US-2003077538-A1          0.382617  ...          0.261539          0.299231   \n",
       "...                            ...  ...               ...               ...   \n",
       "US-2010114198-A1          0.730630  ...          0.873149          0.758241   \n",
       "US-2010093703-A1          0.366357  ...          0.237648          0.226474   \n",
       "US-6367027-B1             0.809320  ...          0.717451          0.755735   \n",
       "US-5792019-A              0.571156  ...          0.450815          0.582255   \n",
       "US-5683585-A              0.414755  ...          0.226929          0.250548   \n",
       "\n",
       "                  US-2011299478-A1  US-2010169622-A1  US-2010227965-A1  \\\n",
       "US-10882341-B2            0.637075          0.676386          0.374842   \n",
       "US-2002019782-A1          0.775636          0.650447          0.541885   \n",
       "US-2002141886-A1          0.474376          0.381168          0.418399   \n",
       "US-2003014729-A1          0.878649          0.961103          0.395611   \n",
       "US-2003077538-A1          0.304810          0.268744          0.936224   \n",
       "...                            ...               ...               ...   \n",
       "US-2010114198-A1          0.843205          0.800508          0.502879   \n",
       "US-2010093703-A1          0.344641          0.272485          0.856501   \n",
       "US-6367027-B1             0.713671          0.766543          0.261369   \n",
       "US-5792019-A              0.476876          0.393239          0.252972   \n",
       "US-5683585-A              0.327547          0.275565          0.948534   \n",
       "\n",
       "                  US-2010114198-A1  US-2010093703-A1  US-6367027-B1  \\\n",
       "US-10882341-B2            0.705173          0.232834       0.670702   \n",
       "US-2002019782-A1          0.660006          0.489360       0.562797   \n",
       "US-2002141886-A1          0.412990          0.592203       0.614124   \n",
       "US-2003014729-A1          0.814071          0.273849       0.810250   \n",
       "US-2003077538-A1          0.533125          0.834483       0.140029   \n",
       "...                            ...               ...            ...   \n",
       "US-2010114198-A1          1.000000          0.409481       0.520001   \n",
       "US-2010093703-A1          0.409481          1.000000       0.230981   \n",
       "US-6367027-B1             0.520001          0.230981       1.000000   \n",
       "US-5792019-A              0.376765          0.286124       0.759125   \n",
       "US-5683585-A              0.459036          0.907050       0.223951   \n",
       "\n",
       "                  US-5792019-A  US-5683585-A  \n",
       "US-10882341-B2        0.692427      0.334504  \n",
       "US-2002019782-A1      0.421795      0.576007  \n",
       "US-2002141886-A1      0.861049      0.553308  \n",
       "US-2003014729-A1      0.437169      0.312258  \n",
       "US-2003077538-A1      0.225160      0.929302  \n",
       "...                        ...           ...  \n",
       "US-2010114198-A1      0.376765      0.459036  \n",
       "US-2010093703-A1      0.286124      0.907050  \n",
       "US-6367027-B1         0.759125      0.223951  \n",
       "US-5792019-A          1.000000      0.335119  \n",
       "US-5683585-A          0.335119      1.000000  \n",
       "\n",
       "[10000 rows x 10000 columns]"
      ]
     },
     "execution_count": 7,
     "metadata": {},
     "output_type": "execute_result"
    }
   ],
   "source": [
    "def vecCos(vectors, names):\n",
    "    newTable = pd.DataFrame(cosine_similarity(vectors))\n",
    "    newTable.columns = names\n",
    "    newTable.index = names\n",
    "\n",
    "    return newTable\n",
    "vecTable = vecCos(vecs,frame['Publication_Number'].tolist()) #,frame['PublicationNumber'].tolist()\n",
    "vecTable"
   ]
  },
  {
   "cell_type": "code",
   "execution_count": null,
   "id": "dd942948",
   "metadata": {
    "scrolled": true
   },
   "outputs": [],
   "source": []
  },
  {
   "cell_type": "markdown",
   "id": "8bb27e04",
   "metadata": {},
   "source": [
    "# Working with TSNE\n",
    "http://csmoon-ml.com/index.php/2019/02/15/tutorial-doc2vec-and-t-sne/"
   ]
  },
  {
   "cell_type": "code",
   "execution_count": null,
   "id": "04e313bb",
   "metadata": {
    "pycharm": {
     "name": "#%%\n"
    }
   },
   "outputs": [],
   "source": [
    "model"
   ]
  },
  {
   "cell_type": "code",
   "execution_count": 8,
   "id": "78a0ec20",
   "metadata": {
    "pycharm": {
     "name": "#%%\n"
    }
   },
   "outputs": [
    {
     "name": "stdout",
     "output_type": "stream",
     "text": [
      "Using matplotlib backend: Qt5Agg\n"
     ]
    }
   ],
   "source": [
    "from sklearn.manifold import TSNE\n",
    "import matplotlib.pyplot as plt\n",
    "\n",
    "%matplotlib\n",
    "# doc_tags = list(model.docvecs.doctags.keys())\n",
    "# X = model[doc_tags]\n",
    "word_tags= list(model.wv.key_to_index.keys())\n",
    "X= model.wv[word_tags]\n",
    "tsne = TSNE(n_components=2)\n",
    "X_tsne = tsne.fit_transform(X)\n",
    "df = pd.DataFrame(X_tsne, index=word_tags, columns=['x', 'y'])"
   ]
  },
  {
   "cell_type": "code",
   "execution_count": 9,
   "id": "0f9aea32",
   "metadata": {
    "pycharm": {
     "name": "#%%\n"
    }
   },
   "outputs": [],
   "source": [
    "plt.scatter(X_tsne[:, 0], X_tsne[:, 1])\n",
    "for index, row in df.iterrows():\n",
    "    plt.text(df[\"x\"][index],df[\"y\"][index],index)\n",
    "plt.show()"
   ]
  },
  {
   "cell_type": "code",
   "execution_count": null,
   "id": "e4fb7e56",
   "metadata": {},
   "outputs": [],
   "source": []
  },
  {
   "cell_type": "code",
   "execution_count": null,
   "id": "0e22bc98",
   "metadata": {},
   "outputs": [],
   "source": []
  }
 ],
 "metadata": {
  "kernelspec": {
   "display_name": "PyCharm (Patent-Prior-Art-Finder)",
   "language": "python",
   "name": "pycharm-3ce039d3"
  },
  "language_info": {
   "codemirror_mode": {
    "name": "ipython",
    "version": 3
   },
   "file_extension": ".py",
   "mimetype": "text/x-python",
   "name": "python",
   "nbconvert_exporter": "python",
   "pygments_lexer": "ipython3",
   "version": "3.9.5"
  }
 },
 "nbformat": 4,
 "nbformat_minor": 5
}