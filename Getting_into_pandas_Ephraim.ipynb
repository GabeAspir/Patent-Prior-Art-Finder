{
  "nbformat": 4,
  "nbformat_minor": 0,
  "metadata": {
    "colab": {
      "name": "Getting into pandas_Ephraim",
      "provenance": [],
      "authorship_tag": "ABX9TyOEFhlncKeizU8zLFVjSrCE",
      "include_colab_link": true
    },
    "kernelspec": {
      "name": "python3",
      "display_name": "Python 3"
    },
    "language_info": {
      "name": "python"
    }
  },
  "cells": [
    {
      "cell_type": "markdown",
      "metadata": {
        "id": "view-in-github",
        "colab_type": "text"
      },
      "source": [
        "<a href=\"https://colab.research.google.com/github/GabeAspir/Patent-Prior-Art-Finder/blob/main/Getting_into_pandas_Ephraim.ipynb\" target=\"_parent\"><img src=\"https://colab.research.google.com/assets/colab-badge.svg\" alt=\"Open In Colab\"/></a>"
      ]
    },
    {
      "cell_type": "markdown",
      "metadata": {
        "id": "R9V-5L75CRi4"
      },
      "source": [
        "#First steps in Pands\n",
        "Importing local csv data exported from Google Patents and using pandas to filter the data by apearance of keywords o "
      ]
    },
    {
      "cell_type": "code",
      "metadata": {
        "id": "_f4E1mgf-u3I"
      },
      "source": [
        "import pandas\n",
        "from google.colab import files\n",
        "import io"
      ],
      "execution_count": 7,
      "outputs": []
    },
    {
      "cell_type": "markdown",
      "metadata": {
        "id": "aoJFccgtEURb"
      },
      "source": [
        "Use the upload code from Google's tutorial on external data to upload the csv file.\n",
        "\n"
      ]
    },
    {
      "cell_type": "code",
      "metadata": {
        "colab": {
          "resources": {
            "http://localhost:8080/nbextensions/google.colab/files.js": {
              "data": "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",
              "ok": true,
              "headers": [
                [
                  "content-type",
                  "application/javascript"
                ]
              ],
              "status": 200,
              "status_text": "OK"
            }
          },
          "base_uri": "https://localhost:8080/",
          "height": 91
        },
        "id": "4idz8wAPDHSY",
        "outputId": "56d08b08-8c43-4e3b-fa5b-74935ab34ecf"
      },
      "source": [
        "uploaded = files.upload()\n",
        "\n",
        "for fn in uploaded.keys():\n",
        "  print('User uploaded file \"{name}\" with length {length} bytes'.format(\n",
        "      name=fn, length=len(uploaded[fn])))"
      ],
      "execution_count": 2,
      "outputs": [
        {
          "output_type": "display_data",
          "data": {
            "text/html": [
              "\n",
              "     <input type=\"file\" id=\"files-f2f3195c-834d-47f1-94eb-61ac95509552\" name=\"files[]\" multiple disabled\n",
              "        style=\"border:none\" />\n",
              "     <output id=\"result-f2f3195c-834d-47f1-94eb-61ac95509552\">\n",
              "      Upload widget is only available when the cell has been executed in the\n",
              "      current browser session. Please rerun this cell to enable.\n",
              "      </output>\n",
              "      <script src=\"/nbextensions/google.colab/files.js\"></script> "
            ],
            "text/plain": [
              "<IPython.core.display.HTML object>"
            ]
          },
          "metadata": {
            "tags": []
          }
        },
        {
          "output_type": "stream",
          "text": [
            "Saving bq-results-20210614-101306-uybbgfv0jf8q.csv to bq-results-20210614-101306-uybbgfv0jf8q.csv\n",
            "User uploaded file \"bq-results-20210614-101306-uybbgfv0jf8q.csv\" with length 50842 bytes\n"
          ],
          "name": "stdout"
        }
      ]
    },
    {
      "cell_type": "code",
      "metadata": {
        "id": "oF70CnfHETOo"
      },
      "source": [
        "patents = pandas.read_csv(io.BytesIO(uploaded['bq-results-20210614-101306-uybbgfv0jf8q.csv']))\n"
      ],
      "execution_count": 9,
      "outputs": []
    },
    {
      "cell_type": "markdown",
      "metadata": {
        "id": "l6Moft8tLAQa"
      },
      "source": [
        "approach 1: "
      ]
    },
    {
      "cell_type": "code",
      "metadata": {
        "colab": {
          "base_uri": "https://localhost:8080/",
          "height": 1000
        },
        "id": "4KhDUfeUGeXC",
        "outputId": "874683a0-32fb-4a84-ec65-ac1da88b2450"
      },
      "source": [
        "patents.set_index('claim_txt').filter(like='floor',axis=0)"
      ],
      "execution_count": 15,
      "outputs": [
        {
          "output_type": "execute_result",
          "data": {
            "text/html": [
              "<div>\n",
              "<style scoped>\n",
              "    .dataframe tbody tr th:only-of-type {\n",
              "        vertical-align: middle;\n",
              "    }\n",
              "\n",
              "    .dataframe tbody tr th {\n",
              "        vertical-align: top;\n",
              "    }\n",
              "\n",
              "    .dataframe thead th {\n",
              "        text-align: right;\n",
              "    }\n",
              "</style>\n",
              "<table border=\"1\" class=\"dataframe\">\n",
              "  <thead>\n",
              "    <tr style=\"text-align: right;\">\n",
              "      <th></th>\n",
              "      <th>pat_no</th>\n",
              "      <th>claim_no</th>\n",
              "    </tr>\n",
              "    <tr>\n",
              "      <th>claim_txt</th>\n",
              "      <th></th>\n",
              "      <th></th>\n",
              "    </tr>\n",
              "  </thead>\n",
              "  <tbody>\n",
              "    <tr>\n",
              "      <th>6. In a floor sweeper having a rotatable cylindrical brush mounted on a mobile chassis, lever and rod means for raising and lowering said brush, means associated with said lever and rod means for adjustably moving one end portion of said brush relative to the other end, the improvement in said associated means, said improvement includinga. said means associated with said lever and rod means including first and second rod members in axial alignment and carried by said mobile chassis,b. a second arm rigidly secured to said second rod means at the inner end,c. said second rod rigidly secured at the outer end tod. a second bar connected to said brush,e. a first arm rigidly secured to said first rod means at the inner end,f. said first rod rigidly secured at the outer end to,g. a first bar connected to said brush,h. means for changing the relative positions of said second and first arms to cause the end portion of said brush connected to said first bar to move relative to the chassis.</th>\n",
              "      <td>3930277</td>\n",
              "      <td>6</td>\n",
              "    </tr>\n",
              "    <tr>\n",
              "      <th>1. In a floor sweeper having a rotatable cylindrical brush mounted on a mobile chassis, a receiver for receiving debris delivered from said brush, means for raising and lowering said brush, a plate adjacent said brush for the direction of debris, the improvement in said plate said improvement includinga. plate means carried by said sweeper and adjacent said brush, andb. means for moving said plate means relative to said brush as said brush is moved relative to said chassis whereby the plate means maintains the same position relative to the brush,said means for moving said plate means including link means connected to said plate means and said means for raising and lowering said brush whereby the plate means automatically moves relative to the brush when the brush is raised and lowered.</th>\n",
              "      <td>3930277</td>\n",
              "      <td>1</td>\n",
              "    </tr>\n",
              "    <tr>\n",
              "      <th>4. In a floor sweeper having a rotatable cylindrical brush mounted on a mobile chassis comprising in combination:a. means for raising and lowering said brush relative to the chassis,b. plate means,c. means pivotally mounting said plate means on said chassis, adjacent said brush,d. lever means connecting said plate means with said means for raising and lowering said brush whereby the plate means follows the brush as it is raised and lowered, andf. means for adjustably positioning one end of said brush relative to the chassis.</th>\n",
              "      <td>3930277</td>\n",
              "      <td>4</td>\n",
              "    </tr>\n",
              "    <tr>\n",
              "      <th>8. The floor cleaning machine as defined in claim 1 further including means for urging the marginal edge of the portable soiled water container into contact against the seal at the intermediate element and sealingly enclosing the suction compartment opening when the housing cover which closes the machine housing compartment containing the soiled water container is closed, and wherein when the housing cover is open the seal is relieved of the contact pressure and the soiled water container in the compartment can be removed from therein.</th>\n",
              "      <td>3930281</td>\n",
              "      <td>8</td>\n",
              "    </tr>\n",
              "    <tr>\n",
              "      <th>6. The floor cleaning machine as defined in claim 1, wherein the machine housing includes a compartment in which there is accommodated the soiled water container when it assumes its work position, a cover for selectively closing and exposing said machine housing compartment, means for mounting said cover to be pivotable towards the outside of said housing about a substantially horizontal axis, said pivotable cover in its pivoted-out position forming a platform which is located at least approximately at the height of the floor of the machine housing compartment, the soiled water container being removable from the machine housing compartment via the said platform and again being introducable into the machine housing compartment through the agency of said platform.</th>\n",
              "      <td>3930281</td>\n",
              "      <td>6</td>\n",
              "    </tr>\n",
              "    <tr>\n",
              "      <th>14. The floor cleaning machine as defined in claim 1, further including a large surface filter body mounted in the air flow path through the flow direction changing members and serving to separate out residual portions of water particles from the suction air.</th>\n",
              "      <td>3930281</td>\n",
              "      <td>14</td>\n",
              "    </tr>\n",
              "    <tr>\n",
              "      <th>4. The floor cleaning machine as defined in claim 3, wherein the ascending float cooperates with a valve body to shift the same out of a rest position, and wherein after a starting displacement of the valve body out of the rest position the remaining path of the stroke of the valve body until completely closing a valve opening is undertaken by the action of the suction air current independently of the float.</th>\n",
              "      <td>3930281</td>\n",
              "      <td>4</td>\n",
              "    </tr>\n",
              "    <tr>\n",
              "      <th>12. The floor cleaning machine as defined in claim 1, wherein said collar sub-divides the soiled water stream flowing into the suction compartment into partial streams which collectively flush the entire periphery of an annular compartment between the collar and the outer wall of the suction compartment, so that such soiled water stream is distributed over the entire periphery and drops along the outer wall into the soiled water container.</th>\n",
              "      <td>3930281</td>\n",
              "      <td>12</td>\n",
              "    </tr>\n",
              "    <tr>\n",
              "      <th>1. A floor cleaning machine constructed as a carriage equipped with a guide pole, at least one motor-driven cleaning tool for wet cleaning the floor and rotating about a substantially vertical axis, a regulatable quantity of fresh water admixed with a cleaning agent being delivered per unit of time from a fresh water supply to the region of the cleaning tool, the cleaning tool processing the delivered fresh water admixed with the cleaning agent at the floor and the resultant soiled water being sucked-up from the floor and collected in a separate soiled water container, the improvement comprising: a machine housing, a suction blower mounted on said housing, a fresh water container formed by part of the machine housing, the soiled water container comprising a loose portable container which is enclosed in the floor cleaning machine when it assumes a working position within the floor cleaning machine, a suction compartment having an air entrance aperture, the soiled water container being connected via a seal with said suction compartment, said seal comprising a marginal edge formed on said soiled water container, the edge of said suction compartment aperture, and a detachable intermediate element engaging both said suction chamber aperture edge and said marginal edge, an automatically-operating level limiting device for preventing the soiled water container from over filling, a downwardly inclined collar extending within said suction chamber, the incoming air and soiled water sucked-up from the floor by said suction blower being directed against said inclined collar, the soiled water flowing downwardly on the surface of said collar and into the said soiled water container, and a plurality of flow direction changing members mounted above said suction compartment for changing the direction of travel of the air and entrained water particles therein to thereby prevent said entrained water particles from entering said suction blower.</th>\n",
              "      <td>3930281</td>\n",
              "      <td>1</td>\n",
              "    </tr>\n",
              "    <tr>\n",
              "      <th>5. The floor cleaning machine as defined in claim 1, wherein the intermediate element is constructed such that when the intermediate element is not installed on the floor cleaning machine there is formed an auxiliary flow branch of a size sufficient to prevent the suction blower from further sucking-up soiled water from the floor.</th>\n",
              "      <td>3930281</td>\n",
              "      <td>5</td>\n",
              "    </tr>\n",
              "    <tr>\n",
              "      <th>7. The floor cleaning machine as defined in claim 6, wherein the pivotable cover comprises a floor support for the said soiled water container which is located in a recessed position at the outer surface of the machine housing when the machine is ready for use.</th>\n",
              "      <td>3930281</td>\n",
              "      <td>7</td>\n",
              "    </tr>\n",
              "    <tr>\n",
              "      <th>11. The floor cleaning machine as defined in claim 10, wherein said collar widens in its inner dimension from the top towards the bottom and with its lower drip edge extending in spaced relationship with respect to said outer wall, and wherein any splashing water from the soiled water container impacts against an inner surface of the collar and again falls back via the collar drip edge into the soiled water container.</th>\n",
              "      <td>3930281</td>\n",
              "      <td>11</td>\n",
              "    </tr>\n",
              "    <tr>\n",
              "      <th>9. The floor cleaning machine as defined in claim 8, wherein upon closing of the pivotable cover of the soiled water compartment the compartment floor which supports the soiled water container together with the container are raised and thereby compresses the seal, and upon opening the pivotable cover the compartment floor is sufficiently lowered to permit removal of the container from within the housing.</th>\n",
              "      <td>3930281</td>\n",
              "      <td>9</td>\n",
              "    </tr>\n",
              "    <tr>\n",
              "      <th>3. The floor cleaning machine as defined in claim 1, wherein the level limiting device comprises a float elevationally movably guided and supported by the intermediate element and at the region of the maximum permissible level of the soiled water said float comes into contact with and displaces a valve body which closes a suction opening in the suction compartment and thus suppresses the inflow of further mixture of air and soiled water into the said housing.</th>\n",
              "      <td>3930281</td>\n",
              "      <td>3</td>\n",
              "    </tr>\n",
              "    <tr>\n",
              "      <th>10. The floor cleaning machine as defined in claim 1, further including a floor suction nozzle means for sucking up the water from on the surface of the floor and suction conduit extending from said floor suction nozzle means, said suction conduit opening at least approximately horizontally at a lateral location into the suction compartment which spans over the soiled water container, said collar being annular and having a drip edge which extends downwardly from the ceiling of the suction compartment spanning the soiled water container.</th>\n",
              "      <td>3930281</td>\n",
              "      <td>10</td>\n",
              "    </tr>\n",
              "  </tbody>\n",
              "</table>\n",
              "</div>"
            ],
            "text/plain": [
              "                                                     pat_no  claim_no\n",
              "claim_txt                                                            \n",
              "6. In a floor sweeper having a rotatable cylind...  3930277         6\n",
              "1. In a floor sweeper having a rotatable cylind...  3930277         1\n",
              "4. In a floor sweeper having a rotatable cylind...  3930277         4\n",
              "8. The floor cleaning machine as defined in cla...  3930281         8\n",
              "6. The floor cleaning machine as defined in cla...  3930281         6\n",
              "14. The floor cleaning machine as defined in cl...  3930281        14\n",
              "4. The floor cleaning machine as defined in cla...  3930281         4\n",
              "12. The floor cleaning machine as defined in cl...  3930281        12\n",
              "1. A floor cleaning machine constructed as a ca...  3930281         1\n",
              "5. The floor cleaning machine as defined in cla...  3930281         5\n",
              "7. The floor cleaning machine as defined in cla...  3930281         7\n",
              "11. The floor cleaning machine as defined in cl...  3930281        11\n",
              "9. The floor cleaning machine as defined in cla...  3930281         9\n",
              "3. The floor cleaning machine as defined in cla...  3930281         3\n",
              "10. The floor cleaning machine as defined in cl...  3930281        10"
            ]
          },
          "metadata": {
            "tags": []
          },
          "execution_count": 15
        }
      ]
    },
    {
      "cell_type": "markdown",
      "metadata": {
        "id": "nSdKWvgWLGqM"
      },
      "source": [
        "Approach 2:\n",
        "\n",
        "(advantage: doesn't change the structure/index of the table)\n",
        "From stack overflow:\n",
        "\n",
        "\n",
        "> Step-by-step explanation (from inner to outer):\n",
        "\n",
        ">`df['ids']` selects the ids column of the data frame (technically, the object df['ids'] is of type pandas.Series)\n",
        "<br> `df['ids'].str` allows us to apply vectorized string methods (e.g., lower, contains) to the Series\n",
        "df['ids'].str.contains('ball') checks each element of the Series as to whether the element value has the string 'ball' as a substring. The result is a Series of Booleans indicating True or False about the existence of a 'ball' substring.\n",
        "<br>`df[df['ids'].str.contains('ball')]` applies the Boolean 'mask' to the dataframe and returns a view containing appropriate records.\n",
        "\n",
        "\n"
      ]
    },
    {
      "cell_type": "code",
      "metadata": {
        "colab": {
          "base_uri": "https://localhost:8080/",
          "height": 1000
        },
        "id": "KbOgjKjhLH5o",
        "outputId": "531f0912-1fa7-41fb-9b6a-640eceaf9c60"
      },
      "source": [
        "patents[patents['claim_txt'].str.contains(\"pivot\")]\n"
      ],
      "execution_count": 16,
      "outputs": [
        {
          "output_type": "execute_result",
          "data": {
            "text/html": [
              "<div>\n",
              "<style scoped>\n",
              "    .dataframe tbody tr th:only-of-type {\n",
              "        vertical-align: middle;\n",
              "    }\n",
              "\n",
              "    .dataframe tbody tr th {\n",
              "        vertical-align: top;\n",
              "    }\n",
              "\n",
              "    .dataframe thead th {\n",
              "        text-align: right;\n",
              "    }\n",
              "</style>\n",
              "<table border=\"1\" class=\"dataframe\">\n",
              "  <thead>\n",
              "    <tr style=\"text-align: right;\">\n",
              "      <th></th>\n",
              "      <th>pat_no</th>\n",
              "      <th>claim_no</th>\n",
              "      <th>claim_txt</th>\n",
              "    </tr>\n",
              "  </thead>\n",
              "  <tbody>\n",
              "    <tr>\n",
              "      <th>4</th>\n",
              "      <td>3930272</td>\n",
              "      <td>1</td>\n",
              "      <td>1. In combination with a height adjustable cri...</td>\n",
              "    </tr>\n",
              "    <tr>\n",
              "      <th>5</th>\n",
              "      <td>3930272</td>\n",
              "      <td>3</td>\n",
              "      <td>3. The lock defined in claim 1 wherein the piv...</td>\n",
              "    </tr>\n",
              "    <tr>\n",
              "      <th>7</th>\n",
              "      <td>3930273</td>\n",
              "      <td>21</td>\n",
              "      <td>21. A bed arrangement comprisinga bed frame,a ...</td>\n",
              "    </tr>\n",
              "    <tr>\n",
              "      <th>8</th>\n",
              "      <td>3930273</td>\n",
              "      <td>20</td>\n",
              "      <td>20. A bed arrangement comprisinga bed frame,a ...</td>\n",
              "    </tr>\n",
              "    <tr>\n",
              "      <th>9</th>\n",
              "      <td>3930273</td>\n",
              "      <td>3</td>\n",
              "      <td>3. A bed arrangement according to claim 2,the ...</td>\n",
              "    </tr>\n",
              "    <tr>\n",
              "      <th>10</th>\n",
              "      <td>3930273</td>\n",
              "      <td>6</td>\n",
              "      <td>6. A bed arrangement according to claim 5,said...</td>\n",
              "    </tr>\n",
              "    <tr>\n",
              "      <th>11</th>\n",
              "      <td>3930273</td>\n",
              "      <td>23</td>\n",
              "      <td>23. A side rail assembly for selective detacha...</td>\n",
              "    </tr>\n",
              "    <tr>\n",
              "      <th>12</th>\n",
              "      <td>3930273</td>\n",
              "      <td>10</td>\n",
              "      <td>10. A bed arrangement according to claim 9,eac...</td>\n",
              "    </tr>\n",
              "    <tr>\n",
              "      <th>13</th>\n",
              "      <td>3930273</td>\n",
              "      <td>11</td>\n",
              "      <td>11. A bed arrangement according to claim 4,two...</td>\n",
              "    </tr>\n",
              "    <tr>\n",
              "      <th>14</th>\n",
              "      <td>3930273</td>\n",
              "      <td>5</td>\n",
              "      <td>5. A bed arrangement according to claim 4,said...</td>\n",
              "    </tr>\n",
              "    <tr>\n",
              "      <th>15</th>\n",
              "      <td>3930273</td>\n",
              "      <td>1</td>\n",
              "      <td>1. A bed arrangement comprisinga bed frame,a s...</td>\n",
              "    </tr>\n",
              "    <tr>\n",
              "      <th>16</th>\n",
              "      <td>3930273</td>\n",
              "      <td>24</td>\n",
              "      <td>24. A side rail assembly for selective detacha...</td>\n",
              "    </tr>\n",
              "    <tr>\n",
              "      <th>17</th>\n",
              "      <td>3930273</td>\n",
              "      <td>17</td>\n",
              "      <td>17. A side rail assembly for a bed, for select...</td>\n",
              "    </tr>\n",
              "    <tr>\n",
              "      <th>18</th>\n",
              "      <td>3930273</td>\n",
              "      <td>19</td>\n",
              "      <td>19. A bed arrangement comprisinga bed frame,a ...</td>\n",
              "    </tr>\n",
              "    <tr>\n",
              "      <th>19</th>\n",
              "      <td>3930273</td>\n",
              "      <td>4</td>\n",
              "      <td>4. A bed arrangement according to claim 3,said...</td>\n",
              "    </tr>\n",
              "    <tr>\n",
              "      <th>20</th>\n",
              "      <td>3930273</td>\n",
              "      <td>12</td>\n",
              "      <td>12. A bed arrangement according to claim 11,ea...</td>\n",
              "    </tr>\n",
              "    <tr>\n",
              "      <th>21</th>\n",
              "      <td>3930273</td>\n",
              "      <td>13</td>\n",
              "      <td>13. A bed arrangement according to claim 1,sai...</td>\n",
              "    </tr>\n",
              "    <tr>\n",
              "      <th>22</th>\n",
              "      <td>3930273</td>\n",
              "      <td>9</td>\n",
              "      <td>9. A bed arrangement according to claim 8,two ...</td>\n",
              "    </tr>\n",
              "    <tr>\n",
              "      <th>23</th>\n",
              "      <td>3930273</td>\n",
              "      <td>22</td>\n",
              "      <td>22. A bed arrangement according to claim 21,ea...</td>\n",
              "    </tr>\n",
              "    <tr>\n",
              "      <th>24</th>\n",
              "      <td>3930273</td>\n",
              "      <td>14</td>\n",
              "      <td>14. A bed arrangement according to claim 13,ea...</td>\n",
              "    </tr>\n",
              "    <tr>\n",
              "      <th>25</th>\n",
              "      <td>3930273</td>\n",
              "      <td>18</td>\n",
              "      <td>18. A side rail assembly according to claim 17...</td>\n",
              "    </tr>\n",
              "    <tr>\n",
              "      <th>26</th>\n",
              "      <td>3930273</td>\n",
              "      <td>2</td>\n",
              "      <td>2. A bed arrangement according to claim 1,each...</td>\n",
              "    </tr>\n",
              "    <tr>\n",
              "      <th>27</th>\n",
              "      <td>3930273</td>\n",
              "      <td>15</td>\n",
              "      <td>15. A bed arrangement according to claim 13,sa...</td>\n",
              "    </tr>\n",
              "    <tr>\n",
              "      <th>28</th>\n",
              "      <td>3930273</td>\n",
              "      <td>7</td>\n",
              "      <td>7. A bed arrangement according to claim 6,a pi...</td>\n",
              "    </tr>\n",
              "    <tr>\n",
              "      <th>29</th>\n",
              "      <td>3930273</td>\n",
              "      <td>16</td>\n",
              "      <td>16. A bed arrangement according to claim 13,tw...</td>\n",
              "    </tr>\n",
              "    <tr>\n",
              "      <th>30</th>\n",
              "      <td>3930273</td>\n",
              "      <td>8</td>\n",
              "      <td>8. A bed arrangement according to claim 6,said...</td>\n",
              "    </tr>\n",
              "    <tr>\n",
              "      <th>60</th>\n",
              "      <td>3930277</td>\n",
              "      <td>3</td>\n",
              "      <td>3. The device of claim 2 in which said plate i...</td>\n",
              "    </tr>\n",
              "    <tr>\n",
              "      <th>65</th>\n",
              "      <td>3930277</td>\n",
              "      <td>4</td>\n",
              "      <td>4. In a floor sweeper having a rotatable cylin...</td>\n",
              "    </tr>\n",
              "    <tr>\n",
              "      <th>66</th>\n",
              "      <td>3930278</td>\n",
              "      <td>1</td>\n",
              "      <td>1. A device in combination with a paintbrush h...</td>\n",
              "    </tr>\n",
              "    <tr>\n",
              "      <th>71</th>\n",
              "      <td>3930279</td>\n",
              "      <td>1</td>\n",
              "      <td>1. A resilient blade for use in a windshield w...</td>\n",
              "    </tr>\n",
              "    <tr>\n",
              "      <th>89</th>\n",
              "      <td>3930281</td>\n",
              "      <td>6</td>\n",
              "      <td>6. The floor cleaning machine as defined in cl...</td>\n",
              "    </tr>\n",
              "    <tr>\n",
              "      <th>95</th>\n",
              "      <td>3930281</td>\n",
              "      <td>7</td>\n",
              "      <td>7. The floor cleaning machine as defined in cl...</td>\n",
              "    </tr>\n",
              "    <tr>\n",
              "      <th>97</th>\n",
              "      <td>3930281</td>\n",
              "      <td>9</td>\n",
              "      <td>9. The floor cleaning machine as defined in cl...</td>\n",
              "    </tr>\n",
              "  </tbody>\n",
              "</table>\n",
              "</div>"
            ],
            "text/plain": [
              "     pat_no  claim_no                                          claim_txt\n",
              "4   3930272         1  1. In combination with a height adjustable cri...\n",
              "5   3930272         3  3. The lock defined in claim 1 wherein the piv...\n",
              "7   3930273        21  21. A bed arrangement comprisinga bed frame,a ...\n",
              "8   3930273        20  20. A bed arrangement comprisinga bed frame,a ...\n",
              "9   3930273         3  3. A bed arrangement according to claim 2,the ...\n",
              "10  3930273         6  6. A bed arrangement according to claim 5,said...\n",
              "11  3930273        23  23. A side rail assembly for selective detacha...\n",
              "12  3930273        10  10. A bed arrangement according to claim 9,eac...\n",
              "13  3930273        11  11. A bed arrangement according to claim 4,two...\n",
              "14  3930273         5  5. A bed arrangement according to claim 4,said...\n",
              "15  3930273         1  1. A bed arrangement comprisinga bed frame,a s...\n",
              "16  3930273        24  24. A side rail assembly for selective detacha...\n",
              "17  3930273        17  17. A side rail assembly for a bed, for select...\n",
              "18  3930273        19  19. A bed arrangement comprisinga bed frame,a ...\n",
              "19  3930273         4  4. A bed arrangement according to claim 3,said...\n",
              "20  3930273        12  12. A bed arrangement according to claim 11,ea...\n",
              "21  3930273        13  13. A bed arrangement according to claim 1,sai...\n",
              "22  3930273         9  9. A bed arrangement according to claim 8,two ...\n",
              "23  3930273        22  22. A bed arrangement according to claim 21,ea...\n",
              "24  3930273        14  14. A bed arrangement according to claim 13,ea...\n",
              "25  3930273        18  18. A side rail assembly according to claim 17...\n",
              "26  3930273         2  2. A bed arrangement according to claim 1,each...\n",
              "27  3930273        15  15. A bed arrangement according to claim 13,sa...\n",
              "28  3930273         7  7. A bed arrangement according to claim 6,a pi...\n",
              "29  3930273        16  16. A bed arrangement according to claim 13,tw...\n",
              "30  3930273         8  8. A bed arrangement according to claim 6,said...\n",
              "60  3930277         3  3. The device of claim 2 in which said plate i...\n",
              "65  3930277         4  4. In a floor sweeper having a rotatable cylin...\n",
              "66  3930278         1  1. A device in combination with a paintbrush h...\n",
              "71  3930279         1  1. A resilient blade for use in a windshield w...\n",
              "89  3930281         6  6. The floor cleaning machine as defined in cl...\n",
              "95  3930281         7  7. The floor cleaning machine as defined in cl...\n",
              "97  3930281         9  9. The floor cleaning machine as defined in cl..."
            ]
          },
          "metadata": {
            "tags": []
          },
          "execution_count": 16
        }
      ]
    }
  ]
}