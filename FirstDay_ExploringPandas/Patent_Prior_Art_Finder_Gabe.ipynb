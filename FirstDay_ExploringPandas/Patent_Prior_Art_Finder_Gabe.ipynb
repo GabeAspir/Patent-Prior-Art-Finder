{
  "nbformat": 4,
  "nbformat_minor": 0,
  "metadata": {
    "colab": {
      "name": "Patent-Prior-Art-Finder_Gabe.ipynb",
      "provenance": [],
      "authorship_tag": "ABX9TyOCsMULk4k/EcMmxEF5Z1KZ",
      "include_colab_link": true
    },
    "kernelspec": {
      "name": "python3",
      "display_name": "Python 3"
    },
    "language_info": {
      "name": "python"
    }
  },
  "cells": [
    {
      "cell_type": "markdown",
      "metadata": {
        "id": "view-in-github",
        "colab_type": "text"
      },
      "source": [
        "<a href=\"https://colab.research.google.com/github/GabeAspir/Patent-Prior-Art-Finder/blob/main/Patent_Prior_Art_Finder_Gabe.ipynb\" target=\"_parent\"><img src=\"https://colab.research.google.com/assets/colab-badge.svg\" alt=\"Open In Colab\"/></a>"
      ]
    },
    {
      "cell_type": "markdown",
      "metadata": {
        "id": "2ZJWOZJAegI5"
      },
      "source": [
        "# Goal -- to practice using Colab and Pandas on a csv table from BigQuery"
      ]
    },
    {
      "cell_type": "code",
      "metadata": {
        "id": "o3t7jhXcedDF"
      },
      "source": [
        "import pandas as pd"
      ],
      "execution_count": 1,
      "outputs": []
    },
    {
      "cell_type": "code",
      "metadata": {
        "colab": {
          "base_uri": "https://localhost:8080/",
          "height": 35
        },
        "id": "s_HMEH_HeuTM",
        "outputId": "a05c7eb6-c02b-44cc-ab30-c75e1bd26f94"
      },
      "source": [
        "pd.__version__"
      ],
      "execution_count": 2,
      "outputs": [
        {
          "output_type": "execute_result",
          "data": {
            "application/vnd.google.colaboratory.intrinsic+json": {
              "type": "string"
            },
            "text/plain": [
              "'1.1.5'"
            ]
          },
          "metadata": {
            "tags": []
          },
          "execution_count": 2
        }
      ]
    },
    {
      "cell_type": "markdown",
      "metadata": {
        "id": "pktUyASfeeT8"
      },
      "source": [
        "Panda has been imported"
      ]
    },
    {
      "cell_type": "code",
      "metadata": {
        "id": "2ZgESRqHe82b"
      },
      "source": [
        "url = 'https://drive.google.com/file/d/1koYpPXrfKBHk71GuURa6zgiUEDFDgwxl/view?usp=sharing'\n",
        "file_id = url.split('/')[-2]\n",
        "dwn_url='https://drive.google.com/uc?id=' + file_id\n",
        "dataframe = pd.read_csv(dwn_url)\n"
      ],
      "execution_count": 7,
      "outputs": []
    },
    {
      "cell_type": "markdown",
      "metadata": {
        "id": "4p3DYGg-gdwS"
      },
      "source": [
        "A DataFrame with 10 patents is now in memory<br/>\n",
        "- time to see what pandas can do!"
      ]
    },
    {
      "cell_type": "code",
      "metadata": {
        "colab": {
          "base_uri": "https://localhost:8080/",
          "height": 173
        },
        "id": "QqooZPfvgnIB",
        "outputId": "b726861b-c049-408f-f9aa-b3eec8fae876"
      },
      "source": [
        "dataframe.describe()"
      ],
      "execution_count": 8,
      "outputs": [
        {
          "output_type": "execute_result",
          "data": {
            "text/html": [
              "<div>\n",
              "<style scoped>\n",
              "    .dataframe tbody tr th:only-of-type {\n",
              "        vertical-align: middle;\n",
              "    }\n",
              "\n",
              "    .dataframe tbody tr th {\n",
              "        vertical-align: top;\n",
              "    }\n",
              "\n",
              "    .dataframe thead th {\n",
              "        text-align: right;\n",
              "    }\n",
              "</style>\n",
              "<table border=\"1\" class=\"dataframe\">\n",
              "  <thead>\n",
              "    <tr style=\"text-align: right;\">\n",
              "      <th></th>\n",
              "      <th>publication_number</th>\n",
              "      <th>abstract</th>\n",
              "      <th>description</th>\n",
              "      <th>claim</th>\n",
              "    </tr>\n",
              "  </thead>\n",
              "  <tbody>\n",
              "    <tr>\n",
              "      <th>count</th>\n",
              "      <td>10</td>\n",
              "      <td>10</td>\n",
              "      <td>10</td>\n",
              "      <td>10</td>\n",
              "    </tr>\n",
              "    <tr>\n",
              "      <th>unique</th>\n",
              "      <td>10</td>\n",
              "      <td>10</td>\n",
              "      <td>10</td>\n",
              "      <td>10</td>\n",
              "    </tr>\n",
              "    <tr>\n",
              "      <th>top</th>\n",
              "      <td>US-7295414-B2</td>\n",
              "      <td>The incorporation of coupler chemistry into th...</td>\n",
              "      <td>BACKGROUND OF THE INVENTION \\n     The present...</td>\n",
              "      <td>1. A capacitive pressure sensor comprising:\\n ...</td>\n",
              "    </tr>\n",
              "    <tr>\n",
              "      <th>freq</th>\n",
              "      <td>1</td>\n",
              "      <td>1</td>\n",
              "      <td>1</td>\n",
              "      <td>1</td>\n",
              "    </tr>\n",
              "  </tbody>\n",
              "</table>\n",
              "</div>"
            ],
            "text/plain": [
              "       publication_number  ...                                              claim\n",
              "count                  10  ...                                                 10\n",
              "unique                 10  ...                                                 10\n",
              "top         US-7295414-B2  ...  1. A capacitive pressure sensor comprising:\\n ...\n",
              "freq                    1  ...                                                  1\n",
              "\n",
              "[4 rows x 4 columns]"
            ]
          },
          "metadata": {
            "tags": []
          },
          "execution_count": 8
        }
      ]
    },
    {
      "cell_type": "code",
      "metadata": {
        "colab": {
          "base_uri": "https://localhost:8080/",
          "height": 204
        },
        "id": "2mi0dJNyg77d",
        "outputId": "283c9405-2e40-4b7e-c429-6ee66a4f4652"
      },
      "source": [
        "dataframe.head(5)"
      ],
      "execution_count": 9,
      "outputs": [
        {
          "output_type": "execute_result",
          "data": {
            "text/html": [
              "<div>\n",
              "<style scoped>\n",
              "    .dataframe tbody tr th:only-of-type {\n",
              "        vertical-align: middle;\n",
              "    }\n",
              "\n",
              "    .dataframe tbody tr th {\n",
              "        vertical-align: top;\n",
              "    }\n",
              "\n",
              "    .dataframe thead th {\n",
              "        text-align: right;\n",
              "    }\n",
              "</style>\n",
              "<table border=\"1\" class=\"dataframe\">\n",
              "  <thead>\n",
              "    <tr style=\"text-align: right;\">\n",
              "      <th></th>\n",
              "      <th>publication_number</th>\n",
              "      <th>abstract</th>\n",
              "      <th>description</th>\n",
              "      <th>claim</th>\n",
              "    </tr>\n",
              "  </thead>\n",
              "  <tbody>\n",
              "    <tr>\n",
              "      <th>0</th>\n",
              "      <td>US-6573393-B1</td>\n",
              "      <td>The invention relates to a method for producin...</td>\n",
              "      <td>The invention relates to a process for the pre...</td>\n",
              "      <td>What is claimed is:  \\n     \\n       1. A proc...</td>\n",
              "    </tr>\n",
              "    <tr>\n",
              "      <th>1</th>\n",
              "      <td>US-7295414-B2</td>\n",
              "      <td>A power output device includes a bridged outpu...</td>\n",
              "      <td>CROSS-REFERENCE TO RELATED APPLICATION \\n   Th...</td>\n",
              "      <td>1. A power output device, with a protection fu...</td>\n",
              "    </tr>\n",
              "    <tr>\n",
              "      <th>2</th>\n",
              "      <td>US-6597387-B1</td>\n",
              "      <td>A thermal printer includes a printer body, a t...</td>\n",
              "      <td>BACKGROUND OF INVENTION \\n     1. Field of the...</td>\n",
              "      <td>What is claimed is:  \\n     \\n       1. A ther...</td>\n",
              "    </tr>\n",
              "    <tr>\n",
              "      <th>3</th>\n",
              "      <td>US-6786308-B1</td>\n",
              "      <td>An anti-lock brake system for a bicycle having...</td>\n",
              "      <td>BACKGROUND OF THE INVENTION \\n     1. Field of...</td>\n",
              "      <td>What is claimed is:  \\n     \\n       1. An ant...</td>\n",
              "    </tr>\n",
              "    <tr>\n",
              "      <th>4</th>\n",
              "      <td>US-6958450-B2</td>\n",
              "      <td>Apparatus and systems, as well as fabrication ...</td>\n",
              "      <td>TECHNICAL FIELD \\n     The subject matter rela...</td>\n",
              "      <td>1. An apparatus, comprising:\\n a first compone...</td>\n",
              "    </tr>\n",
              "  </tbody>\n",
              "</table>\n",
              "</div>"
            ],
            "text/plain": [
              "  publication_number  ...                                              claim\n",
              "0      US-6573393-B1  ...  What is claimed is:  \\n     \\n       1. A proc...\n",
              "1      US-7295414-B2  ...  1. A power output device, with a protection fu...\n",
              "2      US-6597387-B1  ...  What is claimed is:  \\n     \\n       1. A ther...\n",
              "3      US-6786308-B1  ...  What is claimed is:  \\n     \\n       1. An ant...\n",
              "4      US-6958450-B2  ...  1. An apparatus, comprising:\\n a first compone...\n",
              "\n",
              "[5 rows x 4 columns]"
            ]
          },
          "metadata": {
            "tags": []
          },
          "execution_count": 9
        }
      ]
    },
    {
      "cell_type": "markdown",
      "metadata": {
        "id": "sPppV9S6iI7O"
      },
      "source": [
        "Lets see if we can find the patent by providing a publication number"
      ]
    },
    {
      "cell_type": "code",
      "metadata": {
        "colab": {
          "base_uri": "https://localhost:8080/",
          "height": 80
        },
        "id": "5xKKLsDoiSjj",
        "outputId": "803add5a-acad-417d-b923-5d6ceff46fb4"
      },
      "source": [
        "dataframe[dataframe.publication_number == ('US-6573393-B1')]"
      ],
      "execution_count": 11,
      "outputs": [
        {
          "output_type": "execute_result",
          "data": {
            "text/html": [
              "<div>\n",
              "<style scoped>\n",
              "    .dataframe tbody tr th:only-of-type {\n",
              "        vertical-align: middle;\n",
              "    }\n",
              "\n",
              "    .dataframe tbody tr th {\n",
              "        vertical-align: top;\n",
              "    }\n",
              "\n",
              "    .dataframe thead th {\n",
              "        text-align: right;\n",
              "    }\n",
              "</style>\n",
              "<table border=\"1\" class=\"dataframe\">\n",
              "  <thead>\n",
              "    <tr style=\"text-align: right;\">\n",
              "      <th></th>\n",
              "      <th>publication_number</th>\n",
              "      <th>abstract</th>\n",
              "      <th>description</th>\n",
              "      <th>claim</th>\n",
              "    </tr>\n",
              "  </thead>\n",
              "  <tbody>\n",
              "    <tr>\n",
              "      <th>0</th>\n",
              "      <td>US-6573393-B1</td>\n",
              "      <td>The invention relates to a method for producin...</td>\n",
              "      <td>The invention relates to a process for the pre...</td>\n",
              "      <td>What is claimed is:  \\n     \\n       1. A proc...</td>\n",
              "    </tr>\n",
              "  </tbody>\n",
              "</table>\n",
              "</div>"
            ],
            "text/plain": [
              "  publication_number  ...                                              claim\n",
              "0      US-6573393-B1  ...  What is claimed is:  \\n     \\n       1. A proc...\n",
              "\n",
              "[1 rows x 4 columns]"
            ]
          },
          "metadata": {
            "tags": []
          },
          "execution_count": 11
        }
      ]
    },
    {
      "cell_type": "markdown",
      "metadata": {
        "id": "8vmPu9sbjZV9"
      },
      "source": [
        "Now lets try filtering by the keyword \"printer\" in the abstract"
      ]
    },
    {
      "cell_type": "code",
      "metadata": {
        "colab": {
          "base_uri": "https://localhost:8080/",
          "height": 80
        },
        "id": "TAc_xoQcjjqA",
        "outputId": "9225a00b-3736-443e-e5a6-eca8ce170df7"
      },
      "source": [
        "dataframe[dataframe.abstract.str.contains('printer')]"
      ],
      "execution_count": 12,
      "outputs": [
        {
          "output_type": "execute_result",
          "data": {
            "text/html": [
              "<div>\n",
              "<style scoped>\n",
              "    .dataframe tbody tr th:only-of-type {\n",
              "        vertical-align: middle;\n",
              "    }\n",
              "\n",
              "    .dataframe tbody tr th {\n",
              "        vertical-align: top;\n",
              "    }\n",
              "\n",
              "    .dataframe thead th {\n",
              "        text-align: right;\n",
              "    }\n",
              "</style>\n",
              "<table border=\"1\" class=\"dataframe\">\n",
              "  <thead>\n",
              "    <tr style=\"text-align: right;\">\n",
              "      <th></th>\n",
              "      <th>publication_number</th>\n",
              "      <th>abstract</th>\n",
              "      <th>description</th>\n",
              "      <th>claim</th>\n",
              "    </tr>\n",
              "  </thead>\n",
              "  <tbody>\n",
              "    <tr>\n",
              "      <th>2</th>\n",
              "      <td>US-6597387-B1</td>\n",
              "      <td>A thermal printer includes a printer body, a t...</td>\n",
              "      <td>BACKGROUND OF INVENTION \\n     1. Field of the...</td>\n",
              "      <td>What is claimed is:  \\n     \\n       1. A ther...</td>\n",
              "    </tr>\n",
              "  </tbody>\n",
              "</table>\n",
              "</div>"
            ],
            "text/plain": [
              "  publication_number  ...                                              claim\n",
              "2      US-6597387-B1  ...  What is claimed is:  \\n     \\n       1. A ther...\n",
              "\n",
              "[1 rows x 4 columns]"
            ]
          },
          "metadata": {
            "tags": []
          },
          "execution_count": 12
        }
      ]
    }
  ]
}