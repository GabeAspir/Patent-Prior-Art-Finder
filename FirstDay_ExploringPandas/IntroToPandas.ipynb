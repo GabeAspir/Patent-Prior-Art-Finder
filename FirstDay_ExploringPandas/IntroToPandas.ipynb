{
  "nbformat": 4,
  "nbformat_minor": 0,
  "metadata": {
    "colab": {
      "name": "Untitled0.ipynb",
      "provenance": [],
      "collapsed_sections": []
    },
    "kernelspec": {
      "name": "python3",
      "display_name": "Python 3"
    },
    "language_info": {
      "name": "python"
    }
  },
  "cells": [
    {
      "cell_type": "markdown",
      "metadata": {
        "id": "BcxcgzHFNxPy"
      },
      "source": [
        "# Intro to Pandas (and Colab)"
      ]
    },
    {
      "cell_type": "code",
      "metadata": {
        "colab": {
          "base_uri": "https://localhost:8080/",
          "height": 35
        },
        "id": "Leuwl3ZLN5JW",
        "outputId": "e8d59cff-93e9-4518-b8e3-1910d536f353"
      },
      "source": [
        "import pandas as p\n",
        "p.__version__"
      ],
      "execution_count": null,
      "outputs": [
        {
          "output_type": "execute_result",
          "data": {
            "application/vnd.google.colaboratory.intrinsic+json": {
              "type": "string"
            },
            "text/plain": [
              "'1.1.5'"
            ]
          },
          "metadata": {
            "tags": []
          },
          "execution_count": 3
        }
      ]
    },
    {
      "cell_type": "markdown",
      "metadata": {
        "id": "qJRRFBjeRM84"
      },
      "source": [
        "Need to uplaod the data. Using the code in the tutorial that Ephraim had sent out:"
      ]
    },
    {
      "cell_type": "code",
      "metadata": {
        "colab": {
          "resources": {
            "http://localhost:8080/nbextensions/google.colab/files.js": {
              "data": "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",
              "ok": true,
              "headers": [
                [
                  "content-type",
                  "application/javascript"
                ]
              ],
              "status": 200,
              "status_text": ""
            }
          },
          "base_uri": "https://localhost:8080/",
          "height": 89
        },
        "id": "lW45OKl_RVpR",
        "outputId": "d55862be-f957-4089-aca1-bf6136fcd710"
      },
      "source": [
        "from google.colab import files\n",
        "\n",
        "uploaded = files.upload()\n",
        "\n",
        "for fn in uploaded.keys():\n",
        "  print('User uploaded file \"{name}\" with length {length} bytes'.format(\n",
        "      name=fn, length=len(uploaded[fn])))"
      ],
      "execution_count": null,
      "outputs": [
        {
          "output_type": "display_data",
          "data": {
            "text/html": [
              "\n",
              "     <input type=\"file\" id=\"files-b476aa71-925b-4f98-87e1-84c48cfffb28\" name=\"files[]\" multiple disabled\n",
              "        style=\"border:none\" />\n",
              "     <output id=\"result-b476aa71-925b-4f98-87e1-84c48cfffb28\">\n",
              "      Upload widget is only available when the cell has been executed in the\n",
              "      current browser session. Please rerun this cell to enable.\n",
              "      </output>\n",
              "      <script src=\"/nbextensions/google.colab/files.js\"></script> "
            ],
            "text/plain": [
              "<IPython.core.display.HTML object>"
            ]
          },
          "metadata": {
            "tags": []
          }
        },
        {
          "output_type": "stream",
          "text": [
            "Saving results-20210614-123344.csv to results-20210614-123344 (1).csv\n",
            "User uploaded file \"results-20210614-123344.csv\" with length 2199248 bytes\n"
          ],
          "name": "stdout"
        }
      ]
    },
    {
      "cell_type": "code",
      "metadata": {
        "id": "GChdeoOzRaND"
      },
      "source": [
        "patent_data = p.read_csv('results-20210614-123344 (1).csv')"
      ],
      "execution_count": 17,
      "outputs": []
    },
    {
      "cell_type": "markdown",
      "metadata": {
        "id": "inwXqqX6Sekz"
      },
      "source": [
        "\n",
        "\n",
        "Making sure that the data was imported correctly:\n",
        "The Pandas describe() method shows statistics regarding the datafram, and the head() method returns the first few rows of data\n"
      ]
    },
    {
      "cell_type": "code",
      "metadata": {
        "colab": {
          "base_uri": "https://localhost:8080/",
          "height": 173
        },
        "id": "SJYWM8JMYb4I",
        "outputId": "edf3367e-4e9c-499e-c7a1-3a7da3b0b1c3"
      },
      "source": [
        "patent_data.describe()"
      ],
      "execution_count": 32,
      "outputs": [
        {
          "output_type": "execute_result",
          "data": {
            "text/html": [
              "<div>\n",
              "<style scoped>\n",
              "    .dataframe tbody tr th:only-of-type {\n",
              "        vertical-align: middle;\n",
              "    }\n",
              "\n",
              "    .dataframe tbody tr th {\n",
              "        vertical-align: top;\n",
              "    }\n",
              "\n",
              "    .dataframe thead th {\n",
              "        text-align: right;\n",
              "    }\n",
              "</style>\n",
              "<table border=\"1\" class=\"dataframe\">\n",
              "  <thead>\n",
              "    <tr style=\"text-align: right;\">\n",
              "      <th></th>\n",
              "      <th>Publication Number</th>\n",
              "      <th>Abstract</th>\n",
              "      <th>Description</th>\n",
              "      <th>claims</th>\n",
              "    </tr>\n",
              "  </thead>\n",
              "  <tbody>\n",
              "    <tr>\n",
              "      <th>count</th>\n",
              "      <td>51</td>\n",
              "      <td>51</td>\n",
              "      <td>51</td>\n",
              "      <td>51</td>\n",
              "    </tr>\n",
              "    <tr>\n",
              "      <th>unique</th>\n",
              "      <td>51</td>\n",
              "      <td>51</td>\n",
              "      <td>51</td>\n",
              "      <td>51</td>\n",
              "    </tr>\n",
              "    <tr>\n",
              "      <th>top</th>\n",
              "      <td>US-7120378-B2</td>\n",
              "      <td>A selective herbicidal composition for control...</td>\n",
              "      <td>REFERENCE TO RELATED APPLICATION \\n   The pres...</td>\n",
              "      <td>What is claimed is:  \\n     \\n       1. A syst...</td>\n",
              "    </tr>\n",
              "    <tr>\n",
              "      <th>freq</th>\n",
              "      <td>1</td>\n",
              "      <td>1</td>\n",
              "      <td>1</td>\n",
              "      <td>1</td>\n",
              "    </tr>\n",
              "  </tbody>\n",
              "</table>\n",
              "</div>"
            ],
            "text/plain": [
              "       Publication Number  ...                                             claims\n",
              "count                  51  ...                                                 51\n",
              "unique                 51  ...                                                 51\n",
              "top         US-7120378-B2  ...  What is claimed is:  \\n     \\n       1. A syst...\n",
              "freq                    1  ...                                                  1\n",
              "\n",
              "[4 rows x 4 columns]"
            ]
          },
          "metadata": {
            "tags": []
          },
          "execution_count": 32
        }
      ]
    },
    {
      "cell_type": "code",
      "metadata": {
        "colab": {
          "base_uri": "https://localhost:8080/",
          "height": 204
        },
        "id": "1DBRB3gOSibM",
        "outputId": "c9fdeb1f-7cb8-4f76-8ebe-559fc61a5d85"
      },
      "source": [
        "patent_data.head()"
      ],
      "execution_count": 18,
      "outputs": [
        {
          "output_type": "execute_result",
          "data": {
            "text/html": [
              "<div>\n",
              "<style scoped>\n",
              "    .dataframe tbody tr th:only-of-type {\n",
              "        vertical-align: middle;\n",
              "    }\n",
              "\n",
              "    .dataframe tbody tr th {\n",
              "        vertical-align: top;\n",
              "    }\n",
              "\n",
              "    .dataframe thead th {\n",
              "        text-align: right;\n",
              "    }\n",
              "</style>\n",
              "<table border=\"1\" class=\"dataframe\">\n",
              "  <thead>\n",
              "    <tr style=\"text-align: right;\">\n",
              "      <th></th>\n",
              "      <th>publication_number</th>\n",
              "      <th>text</th>\n",
              "      <th>text_1</th>\n",
              "      <th>text_2</th>\n",
              "    </tr>\n",
              "  </thead>\n",
              "  <tbody>\n",
              "    <tr>\n",
              "      <th>0</th>\n",
              "      <td>US-6573393-B1</td>\n",
              "      <td>The invention relates to a method for producin...</td>\n",
              "      <td>The invention relates to a process for the pre...</td>\n",
              "      <td>What is claimed is:  \\n     \\n       1. A proc...</td>\n",
              "    </tr>\n",
              "    <tr>\n",
              "      <th>1</th>\n",
              "      <td>US-7295414-B2</td>\n",
              "      <td>A power output device includes a bridged outpu...</td>\n",
              "      <td>CROSS-REFERENCE TO RELATED APPLICATION \\n   Th...</td>\n",
              "      <td>1. A power output device, with a protection fu...</td>\n",
              "    </tr>\n",
              "    <tr>\n",
              "      <th>2</th>\n",
              "      <td>US-6597387-B1</td>\n",
              "      <td>A thermal printer includes a printer body, a t...</td>\n",
              "      <td>BACKGROUND OF INVENTION \\n     1. Field of the...</td>\n",
              "      <td>What is claimed is:  \\n     \\n       1. A ther...</td>\n",
              "    </tr>\n",
              "    <tr>\n",
              "      <th>3</th>\n",
              "      <td>US-6786308-B1</td>\n",
              "      <td>An anti-lock brake system for a bicycle having...</td>\n",
              "      <td>BACKGROUND OF THE INVENTION \\n     1. Field of...</td>\n",
              "      <td>What is claimed is:  \\n     \\n       1. An ant...</td>\n",
              "    </tr>\n",
              "    <tr>\n",
              "      <th>4</th>\n",
              "      <td>US-6958450-B2</td>\n",
              "      <td>Apparatus and systems, as well as fabrication ...</td>\n",
              "      <td>TECHNICAL FIELD \\n     The subject matter rela...</td>\n",
              "      <td>1. An apparatus, comprising:\\n a first compone...</td>\n",
              "    </tr>\n",
              "  </tbody>\n",
              "</table>\n",
              "</div>"
            ],
            "text/plain": [
              "  publication_number  ...                                             text_2\n",
              "0      US-6573393-B1  ...  What is claimed is:  \\n     \\n       1. A proc...\n",
              "1      US-7295414-B2  ...  1. A power output device, with a protection fu...\n",
              "2      US-6597387-B1  ...  What is claimed is:  \\n     \\n       1. A ther...\n",
              "3      US-6786308-B1  ...  What is claimed is:  \\n     \\n       1. An ant...\n",
              "4      US-6958450-B2  ...  1. An apparatus, comprising:\\n a first compone...\n",
              "\n",
              "[5 rows x 4 columns]"
            ]
          },
          "metadata": {
            "tags": []
          },
          "execution_count": 18
        }
      ]
    },
    {
      "cell_type": "markdown",
      "metadata": {
        "id": "6zUgu4GYTyPz"
      },
      "source": [
        "Changing the header names:"
      ]
    },
    {
      "cell_type": "code",
      "metadata": {
        "colab": {
          "base_uri": "https://localhost:8080/",
          "height": 204
        },
        "id": "Yz4ak0q8T1h9",
        "outputId": "7e8de4fa-19a3-4ad4-80a1-bbfd47e94a7f"
      },
      "source": [
        "col_names = ['Publication Number', 'Abstract', 'Description', 'claims']\n",
        "patent_data = p.read_csv('results-20210614-123344 (1).csv', names = col_names)\n",
        "patent_data.head()"
      ],
      "execution_count": 22,
      "outputs": [
        {
          "output_type": "execute_result",
          "data": {
            "text/html": [
              "<div>\n",
              "<style scoped>\n",
              "    .dataframe tbody tr th:only-of-type {\n",
              "        vertical-align: middle;\n",
              "    }\n",
              "\n",
              "    .dataframe tbody tr th {\n",
              "        vertical-align: top;\n",
              "    }\n",
              "\n",
              "    .dataframe thead th {\n",
              "        text-align: right;\n",
              "    }\n",
              "</style>\n",
              "<table border=\"1\" class=\"dataframe\">\n",
              "  <thead>\n",
              "    <tr style=\"text-align: right;\">\n",
              "      <th></th>\n",
              "      <th>Publication Number</th>\n",
              "      <th>Abstract</th>\n",
              "      <th>Description</th>\n",
              "      <th>claims</th>\n",
              "    </tr>\n",
              "  </thead>\n",
              "  <tbody>\n",
              "    <tr>\n",
              "      <th>0</th>\n",
              "      <td>publication_number</td>\n",
              "      <td>text</td>\n",
              "      <td>text_1</td>\n",
              "      <td>text_2</td>\n",
              "    </tr>\n",
              "    <tr>\n",
              "      <th>1</th>\n",
              "      <td>US-6573393-B1</td>\n",
              "      <td>The invention relates to a method for producin...</td>\n",
              "      <td>The invention relates to a process for the pre...</td>\n",
              "      <td>What is claimed is:  \\n     \\n       1. A proc...</td>\n",
              "    </tr>\n",
              "    <tr>\n",
              "      <th>2</th>\n",
              "      <td>US-7295414-B2</td>\n",
              "      <td>A power output device includes a bridged outpu...</td>\n",
              "      <td>CROSS-REFERENCE TO RELATED APPLICATION \\n   Th...</td>\n",
              "      <td>1. A power output device, with a protection fu...</td>\n",
              "    </tr>\n",
              "    <tr>\n",
              "      <th>3</th>\n",
              "      <td>US-6597387-B1</td>\n",
              "      <td>A thermal printer includes a printer body, a t...</td>\n",
              "      <td>BACKGROUND OF INVENTION \\n     1. Field of the...</td>\n",
              "      <td>What is claimed is:  \\n     \\n       1. A ther...</td>\n",
              "    </tr>\n",
              "    <tr>\n",
              "      <th>4</th>\n",
              "      <td>US-6786308-B1</td>\n",
              "      <td>An anti-lock brake system for a bicycle having...</td>\n",
              "      <td>BACKGROUND OF THE INVENTION \\n     1. Field of...</td>\n",
              "      <td>What is claimed is:  \\n     \\n       1. An ant...</td>\n",
              "    </tr>\n",
              "  </tbody>\n",
              "</table>\n",
              "</div>"
            ],
            "text/plain": [
              "   Publication Number  ...                                             claims\n",
              "0  publication_number  ...                                             text_2\n",
              "1       US-6573393-B1  ...  What is claimed is:  \\n     \\n       1. A proc...\n",
              "2       US-7295414-B2  ...  1. A power output device, with a protection fu...\n",
              "3       US-6597387-B1  ...  What is claimed is:  \\n     \\n       1. A ther...\n",
              "4       US-6786308-B1  ...  What is claimed is:  \\n     \\n       1. An ant...\n",
              "\n",
              "[5 rows x 4 columns]"
            ]
          },
          "metadata": {
            "tags": []
          },
          "execution_count": 22
        }
      ]
    },
    {
      "cell_type": "markdown",
      "metadata": {
        "id": "Hd_sTupLVgPH"
      },
      "source": [
        "Searching for a specific keyword:"
      ]
    },
    {
      "cell_type": "code",
      "metadata": {
        "colab": {
          "base_uri": "https://localhost:8080/",
          "height": 545
        },
        "id": "SzMTg1aTVlLO",
        "outputId": "09a672d6-ebbe-4b70-ffb2-76a227567b05"
      },
      "source": [
        "ap = app_data =patent_data[patent_data.Abstract.str.contains(\"app\")]\n",
        "ap"
      ],
      "execution_count": 33,
      "outputs": [
        {
          "output_type": "execute_result",
          "data": {
            "text/html": [
              "<div>\n",
              "<style scoped>\n",
              "    .dataframe tbody tr th:only-of-type {\n",
              "        vertical-align: middle;\n",
              "    }\n",
              "\n",
              "    .dataframe tbody tr th {\n",
              "        vertical-align: top;\n",
              "    }\n",
              "\n",
              "    .dataframe thead th {\n",
              "        text-align: right;\n",
              "    }\n",
              "</style>\n",
              "<table border=\"1\" class=\"dataframe\">\n",
              "  <thead>\n",
              "    <tr style=\"text-align: right;\">\n",
              "      <th></th>\n",
              "      <th>Publication Number</th>\n",
              "      <th>Abstract</th>\n",
              "      <th>Description</th>\n",
              "      <th>claims</th>\n",
              "    </tr>\n",
              "  </thead>\n",
              "  <tbody>\n",
              "    <tr>\n",
              "      <th>3</th>\n",
              "      <td>US-6597387-B1</td>\n",
              "      <td>A thermal printer includes a printer body, a t...</td>\n",
              "      <td>BACKGROUND OF INVENTION \\n     1. Field of the...</td>\n",
              "      <td>What is claimed is:  \\n     \\n       1. A ther...</td>\n",
              "    </tr>\n",
              "    <tr>\n",
              "      <th>8</th>\n",
              "      <td>US-7191661-B2</td>\n",
              "      <td>A capacitive pressure sensor made up of two si...</td>\n",
              "      <td>BACKGROUND INFORMATION \\n   Pressure sensors f...</td>\n",
              "      <td>1. A capacitive pressure sensor comprising:\\n ...</td>\n",
              "    </tr>\n",
              "    <tr>\n",
              "      <th>9</th>\n",
              "      <td>US-6457881-B1</td>\n",
              "      <td>An image sensing apparatus such as digital sti...</td>\n",
              "      <td>BACKGROUND OF THE INVENTION \\n     The present...</td>\n",
              "      <td>What is claimed is:  \\n     \\n       1. An ima...</td>\n",
              "    </tr>\n",
              "    <tr>\n",
              "      <th>11</th>\n",
              "      <td>US-6583608-B2</td>\n",
              "      <td>A voltage/current controller device, particula...</td>\n",
              "      <td>BACKGROUND OF THE INVENTION \\n     1. Field of...</td>\n",
              "      <td>What is claimed is:  \\n     \\n       1. A volt...</td>\n",
              "    </tr>\n",
              "    <tr>\n",
              "      <th>12</th>\n",
              "      <td>US-6893307-B1</td>\n",
              "      <td>The ergonomic swim fin apparatus comprises a f...</td>\n",
              "      <td>CROSS REFERENCE TO RELATED APPLICATIONS \\n   T...</td>\n",
              "      <td>1. A swim fin apparatus sized to fit about a u...</td>\n",
              "    </tr>\n",
              "    <tr>\n",
              "      <th>16</th>\n",
              "      <td>US-6772388-B2</td>\n",
              "      <td>An adaptive and dynamic forward error correcti...</td>\n",
              "      <td>FIELD OF THE INVENTION \\n     The invention re...</td>\n",
              "      <td>What is claimed is:  \\n     \\n       1. A meth...</td>\n",
              "    </tr>\n",
              "    <tr>\n",
              "      <th>18</th>\n",
              "      <td>US-7120378-B2</td>\n",
              "      <td>An electrophotographic apparatus using a liqui...</td>\n",
              "      <td>CROSS-REFERENCE TO RELATED APPLICATIONS \\n   T...</td>\n",
              "      <td>1. An image forming apparatus comprising:\\n a ...</td>\n",
              "    </tr>\n",
              "    <tr>\n",
              "      <th>21</th>\n",
              "      <td>US-7159163-B2</td>\n",
              "      <td>Methods and apparatus are presented for dynami...</td>\n",
              "      <td>BACKGROUND \\n   1. Field \\n   The present inve...</td>\n",
              "      <td>1. An apparatus at a source for dynamically co...</td>\n",
              "    </tr>\n",
              "    <tr>\n",
              "      <th>23</th>\n",
              "      <td>US-6629746-B2</td>\n",
              "      <td>A process for the reduction of artefacts durin...</td>\n",
              "      <td>This application claims priority under 35 U.S....</td>\n",
              "      <td>What is claimed is:  \\n     \\n       1. A proc...</td>\n",
              "    </tr>\n",
              "    <tr>\n",
              "      <th>25</th>\n",
              "      <td>US-6695562-B2</td>\n",
              "      <td>Two receptacles open at the top ( 15, 16 ), on...</td>\n",
              "      <td>BACKGROUND OF THE INVENTION \\n     The subject...</td>\n",
              "      <td>What is claimed is:  \\n     \\n       1. Device...</td>\n",
              "    </tr>\n",
              "    <tr>\n",
              "      <th>36</th>\n",
              "      <td>US-7208728-B2</td>\n",
              "      <td>A mass spectrometer capable of analyzing a wid...</td>\n",
              "      <td>CLAIM OF PRIORITY \\n   The present invention c...</td>\n",
              "      <td>1. A mass spectrometer, comprising:\\n an ioniz...</td>\n",
              "    </tr>\n",
              "    <tr>\n",
              "      <th>37</th>\n",
              "      <td>US-6532558-B1</td>\n",
              "      <td>A method and apparatus for analog testing of h...</td>\n",
              "      <td>TECHNICAL FIELD \\n     This invention relates ...</td>\n",
              "      <td>What is claimed is:  \\n     \\n       1. A back...</td>\n",
              "    </tr>\n",
              "    <tr>\n",
              "      <th>38</th>\n",
              "      <td>US-6548687-B1</td>\n",
              "      <td>This invention involves a new kind of compound...</td>\n",
              "      <td>TECHNICAL FIELD \\n     This invention involves...</td>\n",
              "      <td>We claim:  \\n     \\n       1. A chromate L-thr...</td>\n",
              "    </tr>\n",
              "    <tr>\n",
              "      <th>39</th>\n",
              "      <td>US-6639777-B1</td>\n",
              "      <td>A timer switch for suspending the application ...</td>\n",
              "      <td>CROSS-REFERENCE TO RELATED APPLICATIONS \\n    ...</td>\n",
              "      <td>What is claimed is:  \\n     \\n       1. A time...</td>\n",
              "    </tr>\n",
              "    <tr>\n",
              "      <th>43</th>\n",
              "      <td>US-6874168-B1</td>\n",
              "      <td>The present invention  10  discloses pants  16...</td>\n",
              "      <td>BACKGROUND OF THE INVENTION \\n     1. Field of...</td>\n",
              "      <td>1. Apparel for providing padded pants to be wo...</td>\n",
              "    </tr>\n",
              "    <tr>\n",
              "      <th>48</th>\n",
              "      <td>US-6900385-B1</td>\n",
              "      <td>A fastening belt for wrapping electric cables ...</td>\n",
              "      <td>FIELD OF THE INVENTION \\n   The present invent...</td>\n",
              "      <td>1. A fastening belt for wrapping electric cabl...</td>\n",
              "    </tr>\n",
              "  </tbody>\n",
              "</table>\n",
              "</div>"
            ],
            "text/plain": [
              "   Publication Number  ...                                             claims\n",
              "3       US-6597387-B1  ...  What is claimed is:  \\n     \\n       1. A ther...\n",
              "8       US-7191661-B2  ...  1. A capacitive pressure sensor comprising:\\n ...\n",
              "9       US-6457881-B1  ...  What is claimed is:  \\n     \\n       1. An ima...\n",
              "11      US-6583608-B2  ...  What is claimed is:  \\n     \\n       1. A volt...\n",
              "12      US-6893307-B1  ...  1. A swim fin apparatus sized to fit about a u...\n",
              "16      US-6772388-B2  ...  What is claimed is:  \\n     \\n       1. A meth...\n",
              "18      US-7120378-B2  ...  1. An image forming apparatus comprising:\\n a ...\n",
              "21      US-7159163-B2  ...  1. An apparatus at a source for dynamically co...\n",
              "23      US-6629746-B2  ...  What is claimed is:  \\n     \\n       1. A proc...\n",
              "25      US-6695562-B2  ...  What is claimed is:  \\n     \\n       1. Device...\n",
              "36      US-7208728-B2  ...  1. A mass spectrometer, comprising:\\n an ioniz...\n",
              "37      US-6532558-B1  ...  What is claimed is:  \\n     \\n       1. A back...\n",
              "38      US-6548687-B1  ...  We claim:  \\n     \\n       1. A chromate L-thr...\n",
              "39      US-6639777-B1  ...  What is claimed is:  \\n     \\n       1. A time...\n",
              "43      US-6874168-B1  ...  1. Apparel for providing padded pants to be wo...\n",
              "48      US-6900385-B1  ...  1. A fastening belt for wrapping electric cabl...\n",
              "\n",
              "[16 rows x 4 columns]"
            ]
          },
          "metadata": {
            "tags": []
          },
          "execution_count": 33
        }
      ]
    },
    {
      "cell_type": "markdown",
      "metadata": {
        "id": "WOs7fr1nWo4z"
      },
      "source": [
        "Sorting this data in order of publication numbers"
      ]
    },
    {
      "cell_type": "code",
      "metadata": {
        "colab": {
          "base_uri": "https://localhost:8080/",
          "height": 545
        },
        "id": "NbDtDm_tWx5d",
        "outputId": "2c621235-b4e6-4986-bdb3-8cf19f7f0823"
      },
      "source": [
        "sorted_data = app_data.sort_values(by=[\"Publication Number\"],ascending=False)\n",
        "sorted_data"
      ],
      "execution_count": 34,
      "outputs": [
        {
          "output_type": "execute_result",
          "data": {
            "text/html": [
              "<div>\n",
              "<style scoped>\n",
              "    .dataframe tbody tr th:only-of-type {\n",
              "        vertical-align: middle;\n",
              "    }\n",
              "\n",
              "    .dataframe tbody tr th {\n",
              "        vertical-align: top;\n",
              "    }\n",
              "\n",
              "    .dataframe thead th {\n",
              "        text-align: right;\n",
              "    }\n",
              "</style>\n",
              "<table border=\"1\" class=\"dataframe\">\n",
              "  <thead>\n",
              "    <tr style=\"text-align: right;\">\n",
              "      <th></th>\n",
              "      <th>Publication Number</th>\n",
              "      <th>Abstract</th>\n",
              "      <th>Description</th>\n",
              "      <th>claims</th>\n",
              "    </tr>\n",
              "  </thead>\n",
              "  <tbody>\n",
              "    <tr>\n",
              "      <th>36</th>\n",
              "      <td>US-7208728-B2</td>\n",
              "      <td>A mass spectrometer capable of analyzing a wid...</td>\n",
              "      <td>CLAIM OF PRIORITY \\n   The present invention c...</td>\n",
              "      <td>1. A mass spectrometer, comprising:\\n an ioniz...</td>\n",
              "    </tr>\n",
              "    <tr>\n",
              "      <th>8</th>\n",
              "      <td>US-7191661-B2</td>\n",
              "      <td>A capacitive pressure sensor made up of two si...</td>\n",
              "      <td>BACKGROUND INFORMATION \\n   Pressure sensors f...</td>\n",
              "      <td>1. A capacitive pressure sensor comprising:\\n ...</td>\n",
              "    </tr>\n",
              "    <tr>\n",
              "      <th>21</th>\n",
              "      <td>US-7159163-B2</td>\n",
              "      <td>Methods and apparatus are presented for dynami...</td>\n",
              "      <td>BACKGROUND \\n   1. Field \\n   The present inve...</td>\n",
              "      <td>1. An apparatus at a source for dynamically co...</td>\n",
              "    </tr>\n",
              "    <tr>\n",
              "      <th>18</th>\n",
              "      <td>US-7120378-B2</td>\n",
              "      <td>An electrophotographic apparatus using a liqui...</td>\n",
              "      <td>CROSS-REFERENCE TO RELATED APPLICATIONS \\n   T...</td>\n",
              "      <td>1. An image forming apparatus comprising:\\n a ...</td>\n",
              "    </tr>\n",
              "    <tr>\n",
              "      <th>48</th>\n",
              "      <td>US-6900385-B1</td>\n",
              "      <td>A fastening belt for wrapping electric cables ...</td>\n",
              "      <td>FIELD OF THE INVENTION \\n   The present invent...</td>\n",
              "      <td>1. A fastening belt for wrapping electric cabl...</td>\n",
              "    </tr>\n",
              "    <tr>\n",
              "      <th>12</th>\n",
              "      <td>US-6893307-B1</td>\n",
              "      <td>The ergonomic swim fin apparatus comprises a f...</td>\n",
              "      <td>CROSS REFERENCE TO RELATED APPLICATIONS \\n   T...</td>\n",
              "      <td>1. A swim fin apparatus sized to fit about a u...</td>\n",
              "    </tr>\n",
              "    <tr>\n",
              "      <th>43</th>\n",
              "      <td>US-6874168-B1</td>\n",
              "      <td>The present invention  10  discloses pants  16...</td>\n",
              "      <td>BACKGROUND OF THE INVENTION \\n     1. Field of...</td>\n",
              "      <td>1. Apparel for providing padded pants to be wo...</td>\n",
              "    </tr>\n",
              "    <tr>\n",
              "      <th>16</th>\n",
              "      <td>US-6772388-B2</td>\n",
              "      <td>An adaptive and dynamic forward error correcti...</td>\n",
              "      <td>FIELD OF THE INVENTION \\n     The invention re...</td>\n",
              "      <td>What is claimed is:  \\n     \\n       1. A meth...</td>\n",
              "    </tr>\n",
              "    <tr>\n",
              "      <th>25</th>\n",
              "      <td>US-6695562-B2</td>\n",
              "      <td>Two receptacles open at the top ( 15, 16 ), on...</td>\n",
              "      <td>BACKGROUND OF THE INVENTION \\n     The subject...</td>\n",
              "      <td>What is claimed is:  \\n     \\n       1. Device...</td>\n",
              "    </tr>\n",
              "    <tr>\n",
              "      <th>39</th>\n",
              "      <td>US-6639777-B1</td>\n",
              "      <td>A timer switch for suspending the application ...</td>\n",
              "      <td>CROSS-REFERENCE TO RELATED APPLICATIONS \\n    ...</td>\n",
              "      <td>What is claimed is:  \\n     \\n       1. A time...</td>\n",
              "    </tr>\n",
              "    <tr>\n",
              "      <th>23</th>\n",
              "      <td>US-6629746-B2</td>\n",
              "      <td>A process for the reduction of artefacts durin...</td>\n",
              "      <td>This application claims priority under 35 U.S....</td>\n",
              "      <td>What is claimed is:  \\n     \\n       1. A proc...</td>\n",
              "    </tr>\n",
              "    <tr>\n",
              "      <th>3</th>\n",
              "      <td>US-6597387-B1</td>\n",
              "      <td>A thermal printer includes a printer body, a t...</td>\n",
              "      <td>BACKGROUND OF INVENTION \\n     1. Field of the...</td>\n",
              "      <td>What is claimed is:  \\n     \\n       1. A ther...</td>\n",
              "    </tr>\n",
              "    <tr>\n",
              "      <th>11</th>\n",
              "      <td>US-6583608-B2</td>\n",
              "      <td>A voltage/current controller device, particula...</td>\n",
              "      <td>BACKGROUND OF THE INVENTION \\n     1. Field of...</td>\n",
              "      <td>What is claimed is:  \\n     \\n       1. A volt...</td>\n",
              "    </tr>\n",
              "    <tr>\n",
              "      <th>38</th>\n",
              "      <td>US-6548687-B1</td>\n",
              "      <td>This invention involves a new kind of compound...</td>\n",
              "      <td>TECHNICAL FIELD \\n     This invention involves...</td>\n",
              "      <td>We claim:  \\n     \\n       1. A chromate L-thr...</td>\n",
              "    </tr>\n",
              "    <tr>\n",
              "      <th>37</th>\n",
              "      <td>US-6532558-B1</td>\n",
              "      <td>A method and apparatus for analog testing of h...</td>\n",
              "      <td>TECHNICAL FIELD \\n     This invention relates ...</td>\n",
              "      <td>What is claimed is:  \\n     \\n       1. A back...</td>\n",
              "    </tr>\n",
              "    <tr>\n",
              "      <th>9</th>\n",
              "      <td>US-6457881-B1</td>\n",
              "      <td>An image sensing apparatus such as digital sti...</td>\n",
              "      <td>BACKGROUND OF THE INVENTION \\n     The present...</td>\n",
              "      <td>What is claimed is:  \\n     \\n       1. An ima...</td>\n",
              "    </tr>\n",
              "  </tbody>\n",
              "</table>\n",
              "</div>"
            ],
            "text/plain": [
              "   Publication Number  ...                                             claims\n",
              "36      US-7208728-B2  ...  1. A mass spectrometer, comprising:\\n an ioniz...\n",
              "8       US-7191661-B2  ...  1. A capacitive pressure sensor comprising:\\n ...\n",
              "21      US-7159163-B2  ...  1. An apparatus at a source for dynamically co...\n",
              "18      US-7120378-B2  ...  1. An image forming apparatus comprising:\\n a ...\n",
              "48      US-6900385-B1  ...  1. A fastening belt for wrapping electric cabl...\n",
              "12      US-6893307-B1  ...  1. A swim fin apparatus sized to fit about a u...\n",
              "43      US-6874168-B1  ...  1. Apparel for providing padded pants to be wo...\n",
              "16      US-6772388-B2  ...  What is claimed is:  \\n     \\n       1. A meth...\n",
              "25      US-6695562-B2  ...  What is claimed is:  \\n     \\n       1. Device...\n",
              "39      US-6639777-B1  ...  What is claimed is:  \\n     \\n       1. A time...\n",
              "23      US-6629746-B2  ...  What is claimed is:  \\n     \\n       1. A proc...\n",
              "3       US-6597387-B1  ...  What is claimed is:  \\n     \\n       1. A ther...\n",
              "11      US-6583608-B2  ...  What is claimed is:  \\n     \\n       1. A volt...\n",
              "38      US-6548687-B1  ...  We claim:  \\n     \\n       1. A chromate L-thr...\n",
              "37      US-6532558-B1  ...  What is claimed is:  \\n     \\n       1. A back...\n",
              "9       US-6457881-B1  ...  What is claimed is:  \\n     \\n       1. An ima...\n",
              "\n",
              "[16 rows x 4 columns]"
            ]
          },
          "metadata": {
            "tags": []
          },
          "execution_count": 34
        }
      ]
    }
  ]
}