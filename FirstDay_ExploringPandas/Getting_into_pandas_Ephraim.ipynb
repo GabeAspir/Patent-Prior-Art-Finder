{
  "nbformat": 4,
  "nbformat_minor": 0,
  "metadata": {
    "colab": {
      "name": "Getting into pandas_Ephraim",
      "provenance": [],
      "collapsed_sections": [],
      "authorship_tag": "ABX9TyM4/GKlKB+QtHzr5rGxmN1F",
      "include_colab_link": true
    },
    "kernelspec": {
      "name": "python3",
      "display_name": "Python 3"
    },
    "language_info": {
      "name": "python"
    }
  },
  "cells": [
    {
      "cell_type": "markdown",
      "metadata": {
        "id": "view-in-github",
        "colab_type": "text"
      },
      "source": [
        "<a href=\"https://colab.research.google.com/github/GabeAspir/Patent-Prior-Art-Finder/blob/main/Getting_into_pandas_Ephraim.ipynb\" target=\"_parent\"><img src=\"https://colab.research.google.com/assets/colab-badge.svg\" alt=\"Open In Colab\"/></a>"
      ]
    },
    {
      "cell_type": "markdown",
      "metadata": {
        "id": "R9V-5L75CRi4"
      },
      "source": [
        "#First steps in Pands\n",
        "\n",
        "*   Importing local csv data exported from Google Patents\n",
        "*   Using pandas to filter for keywords\n",
        "*   Using pandas to combine multiple claims of a single patent\n",
        "*   Creating and using a word count to confirm the concatenantion"
      ]
    },
    {
      "cell_type": "code",
      "metadata": {
        "id": "_f4E1mgf-u3I"
      },
      "source": [
        "import pandas\n",
        "from google.colab import files\n",
        "import io"
      ],
      "execution_count": 59,
      "outputs": []
    },
    {
      "cell_type": "markdown",
      "metadata": {
        "id": "aoJFccgtEURb"
      },
      "source": [
        "Use the upload code from Google's tutorial on external data to upload the csv file.\n",
        "\n"
      ]
    },
    {
      "cell_type": "code",
      "metadata": {
        "colab": {
          "resources": {
            "http://localhost:8080/nbextensions/google.colab/files.js": {
              "data": "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",
              "ok": true,
              "headers": [
                [
                  "content-type",
                  "application/javascript"
                ]
              ],
              "status": 200,
              "status_text": "OK"
            }
          },
          "base_uri": "https://localhost:8080/",
          "height": 91
        },
        "id": "4idz8wAPDHSY",
        "outputId": "ca29a859-0bf5-4db8-a08b-100d86242bcd"
      },
      "source": [
        "uploaded = files.upload()\n",
        "\n",
        "for fn in uploaded.keys():\n",
        "  print('User uploaded file \"{name}\" with length {length} bytes'.format(\n",
        "      name=fn, length=len(uploaded[fn])))"
      ],
      "execution_count": 60,
      "outputs": [
        {
          "output_type": "display_data",
          "data": {
            "text/html": [
              "\n",
              "     <input type=\"file\" id=\"files-36043882-079d-4eb3-a98c-f8f4adcf2f08\" name=\"files[]\" multiple disabled\n",
              "        style=\"border:none\" />\n",
              "     <output id=\"result-36043882-079d-4eb3-a98c-f8f4adcf2f08\">\n",
              "      Upload widget is only available when the cell has been executed in the\n",
              "      current browser session. Please rerun this cell to enable.\n",
              "      </output>\n",
              "      <script src=\"/nbextensions/google.colab/files.js\"></script> "
            ],
            "text/plain": [
              "<IPython.core.display.HTML object>"
            ]
          },
          "metadata": {
            "tags": []
          }
        },
        {
          "output_type": "stream",
          "text": [
            "Saving bq-results-20210614-101306-uybbgfv0jf8q.csv to bq-results-20210614-101306-uybbgfv0jf8q (1).csv\n",
            "User uploaded file \"bq-results-20210614-101306-uybbgfv0jf8q.csv\" with length 50842 bytes\n"
          ],
          "name": "stdout"
        }
      ]
    },
    {
      "cell_type": "code",
      "metadata": {
        "id": "oF70CnfHETOo"
      },
      "source": [
        "patents = pandas.read_csv(io.BytesIO(uploaded['bq-results-20210614-101306-uybbgfv0jf8q.csv']))\n",
        "pt= patents"
      ],
      "execution_count": 61,
      "outputs": []
    },
    {
      "cell_type": "markdown",
      "metadata": {
        "id": "l6Moft8tLAQa"
      },
      "source": [
        "approach 1: "
      ]
    },
    {
      "cell_type": "code",
      "metadata": {
        "colab": {
          "base_uri": "https://localhost:8080/",
          "height": 1000
        },
        "id": "4KhDUfeUGeXC",
        "outputId": "daf51506-5888-4e4d-9c2a-3c220e0fe8d0"
      },
      "source": [
        "patents.set_index('claim_txt').filter(like='floor',axis=0)"
      ],
      "execution_count": 62,
      "outputs": [
        {
          "output_type": "execute_result",
          "data": {
            "text/html": [
              "<div>\n",
              "<style scoped>\n",
              "    .dataframe tbody tr th:only-of-type {\n",
              "        vertical-align: middle;\n",
              "    }\n",
              "\n",
              "    .dataframe tbody tr th {\n",
              "        vertical-align: top;\n",
              "    }\n",
              "\n",
              "    .dataframe thead th {\n",
              "        text-align: right;\n",
              "    }\n",
              "</style>\n",
              "<table border=\"1\" class=\"dataframe\">\n",
              "  <thead>\n",
              "    <tr style=\"text-align: right;\">\n",
              "      <th></th>\n",
              "      <th>pat_no</th>\n",
              "      <th>claim_no</th>\n",
              "    </tr>\n",
              "    <tr>\n",
              "      <th>claim_txt</th>\n",
              "      <th></th>\n",
              "      <th></th>\n",
              "    </tr>\n",
              "  </thead>\n",
              "  <tbody>\n",
              "    <tr>\n",
              "      <th>6. In a floor sweeper having a rotatable cylindrical brush mounted on a mobile chassis, lever and rod means for raising and lowering said brush, means associated with said lever and rod means for adjustably moving one end portion of said brush relative to the other end, the improvement in said associated means, said improvement includinga. said means associated with said lever and rod means including first and second rod members in axial alignment and carried by said mobile chassis,b. a second arm rigidly secured to said second rod means at the inner end,c. said second rod rigidly secured at the outer end tod. a second bar connected to said brush,e. a first arm rigidly secured to said first rod means at the inner end,f. said first rod rigidly secured at the outer end to,g. a first bar connected to said brush,h. means for changing the relative positions of said second and first arms to cause the end portion of said brush connected to said first bar to move relative to the chassis.</th>\n",
              "      <td>3930277</td>\n",
              "      <td>6</td>\n",
              "    </tr>\n",
              "    <tr>\n",
              "      <th>1. In a floor sweeper having a rotatable cylindrical brush mounted on a mobile chassis, a receiver for receiving debris delivered from said brush, means for raising and lowering said brush, a plate adjacent said brush for the direction of debris, the improvement in said plate said improvement includinga. plate means carried by said sweeper and adjacent said brush, andb. means for moving said plate means relative to said brush as said brush is moved relative to said chassis whereby the plate means maintains the same position relative to the brush,said means for moving said plate means including link means connected to said plate means and said means for raising and lowering said brush whereby the plate means automatically moves relative to the brush when the brush is raised and lowered.</th>\n",
              "      <td>3930277</td>\n",
              "      <td>1</td>\n",
              "    </tr>\n",
              "    <tr>\n",
              "      <th>4. In a floor sweeper having a rotatable cylindrical brush mounted on a mobile chassis comprising in combination:a. means for raising and lowering said brush relative to the chassis,b. plate means,c. means pivotally mounting said plate means on said chassis, adjacent said brush,d. lever means connecting said plate means with said means for raising and lowering said brush whereby the plate means follows the brush as it is raised and lowered, andf. means for adjustably positioning one end of said brush relative to the chassis.</th>\n",
              "      <td>3930277</td>\n",
              "      <td>4</td>\n",
              "    </tr>\n",
              "    <tr>\n",
              "      <th>8. The floor cleaning machine as defined in claim 1 further including means for urging the marginal edge of the portable soiled water container into contact against the seal at the intermediate element and sealingly enclosing the suction compartment opening when the housing cover which closes the machine housing compartment containing the soiled water container is closed, and wherein when the housing cover is open the seal is relieved of the contact pressure and the soiled water container in the compartment can be removed from therein.</th>\n",
              "      <td>3930281</td>\n",
              "      <td>8</td>\n",
              "    </tr>\n",
              "    <tr>\n",
              "      <th>6. The floor cleaning machine as defined in claim 1, wherein the machine housing includes a compartment in which there is accommodated the soiled water container when it assumes its work position, a cover for selectively closing and exposing said machine housing compartment, means for mounting said cover to be pivotable towards the outside of said housing about a substantially horizontal axis, said pivotable cover in its pivoted-out position forming a platform which is located at least approximately at the height of the floor of the machine housing compartment, the soiled water container being removable from the machine housing compartment via the said platform and again being introducable into the machine housing compartment through the agency of said platform.</th>\n",
              "      <td>3930281</td>\n",
              "      <td>6</td>\n",
              "    </tr>\n",
              "    <tr>\n",
              "      <th>14. The floor cleaning machine as defined in claim 1, further including a large surface filter body mounted in the air flow path through the flow direction changing members and serving to separate out residual portions of water particles from the suction air.</th>\n",
              "      <td>3930281</td>\n",
              "      <td>14</td>\n",
              "    </tr>\n",
              "    <tr>\n",
              "      <th>4. The floor cleaning machine as defined in claim 3, wherein the ascending float cooperates with a valve body to shift the same out of a rest position, and wherein after a starting displacement of the valve body out of the rest position the remaining path of the stroke of the valve body until completely closing a valve opening is undertaken by the action of the suction air current independently of the float.</th>\n",
              "      <td>3930281</td>\n",
              "      <td>4</td>\n",
              "    </tr>\n",
              "    <tr>\n",
              "      <th>12. The floor cleaning machine as defined in claim 1, wherein said collar sub-divides the soiled water stream flowing into the suction compartment into partial streams which collectively flush the entire periphery of an annular compartment between the collar and the outer wall of the suction compartment, so that such soiled water stream is distributed over the entire periphery and drops along the outer wall into the soiled water container.</th>\n",
              "      <td>3930281</td>\n",
              "      <td>12</td>\n",
              "    </tr>\n",
              "    <tr>\n",
              "      <th>1. A floor cleaning machine constructed as a carriage equipped with a guide pole, at least one motor-driven cleaning tool for wet cleaning the floor and rotating about a substantially vertical axis, a regulatable quantity of fresh water admixed with a cleaning agent being delivered per unit of time from a fresh water supply to the region of the cleaning tool, the cleaning tool processing the delivered fresh water admixed with the cleaning agent at the floor and the resultant soiled water being sucked-up from the floor and collected in a separate soiled water container, the improvement comprising: a machine housing, a suction blower mounted on said housing, a fresh water container formed by part of the machine housing, the soiled water container comprising a loose portable container which is enclosed in the floor cleaning machine when it assumes a working position within the floor cleaning machine, a suction compartment having an air entrance aperture, the soiled water container being connected via a seal with said suction compartment, said seal comprising a marginal edge formed on said soiled water container, the edge of said suction compartment aperture, and a detachable intermediate element engaging both said suction chamber aperture edge and said marginal edge, an automatically-operating level limiting device for preventing the soiled water container from over filling, a downwardly inclined collar extending within said suction chamber, the incoming air and soiled water sucked-up from the floor by said suction blower being directed against said inclined collar, the soiled water flowing downwardly on the surface of said collar and into the said soiled water container, and a plurality of flow direction changing members mounted above said suction compartment for changing the direction of travel of the air and entrained water particles therein to thereby prevent said entrained water particles from entering said suction blower.</th>\n",
              "      <td>3930281</td>\n",
              "      <td>1</td>\n",
              "    </tr>\n",
              "    <tr>\n",
              "      <th>5. The floor cleaning machine as defined in claim 1, wherein the intermediate element is constructed such that when the intermediate element is not installed on the floor cleaning machine there is formed an auxiliary flow branch of a size sufficient to prevent the suction blower from further sucking-up soiled water from the floor.</th>\n",
              "      <td>3930281</td>\n",
              "      <td>5</td>\n",
              "    </tr>\n",
              "    <tr>\n",
              "      <th>7. The floor cleaning machine as defined in claim 6, wherein the pivotable cover comprises a floor support for the said soiled water container which is located in a recessed position at the outer surface of the machine housing when the machine is ready for use.</th>\n",
              "      <td>3930281</td>\n",
              "      <td>7</td>\n",
              "    </tr>\n",
              "    <tr>\n",
              "      <th>11. The floor cleaning machine as defined in claim 10, wherein said collar widens in its inner dimension from the top towards the bottom and with its lower drip edge extending in spaced relationship with respect to said outer wall, and wherein any splashing water from the soiled water container impacts against an inner surface of the collar and again falls back via the collar drip edge into the soiled water container.</th>\n",
              "      <td>3930281</td>\n",
              "      <td>11</td>\n",
              "    </tr>\n",
              "    <tr>\n",
              "      <th>9. The floor cleaning machine as defined in claim 8, wherein upon closing of the pivotable cover of the soiled water compartment the compartment floor which supports the soiled water container together with the container are raised and thereby compresses the seal, and upon opening the pivotable cover the compartment floor is sufficiently lowered to permit removal of the container from within the housing.</th>\n",
              "      <td>3930281</td>\n",
              "      <td>9</td>\n",
              "    </tr>\n",
              "    <tr>\n",
              "      <th>3. The floor cleaning machine as defined in claim 1, wherein the level limiting device comprises a float elevationally movably guided and supported by the intermediate element and at the region of the maximum permissible level of the soiled water said float comes into contact with and displaces a valve body which closes a suction opening in the suction compartment and thus suppresses the inflow of further mixture of air and soiled water into the said housing.</th>\n",
              "      <td>3930281</td>\n",
              "      <td>3</td>\n",
              "    </tr>\n",
              "    <tr>\n",
              "      <th>10. The floor cleaning machine as defined in claim 1, further including a floor suction nozzle means for sucking up the water from on the surface of the floor and suction conduit extending from said floor suction nozzle means, said suction conduit opening at least approximately horizontally at a lateral location into the suction compartment which spans over the soiled water container, said collar being annular and having a drip edge which extends downwardly from the ceiling of the suction compartment spanning the soiled water container.</th>\n",
              "      <td>3930281</td>\n",
              "      <td>10</td>\n",
              "    </tr>\n",
              "  </tbody>\n",
              "</table>\n",
              "</div>"
            ],
            "text/plain": [
              "                                                     pat_no  claim_no\n",
              "claim_txt                                                            \n",
              "6. In a floor sweeper having a rotatable cylind...  3930277         6\n",
              "1. In a floor sweeper having a rotatable cylind...  3930277         1\n",
              "4. In a floor sweeper having a rotatable cylind...  3930277         4\n",
              "8. The floor cleaning machine as defined in cla...  3930281         8\n",
              "6. The floor cleaning machine as defined in cla...  3930281         6\n",
              "14. The floor cleaning machine as defined in cl...  3930281        14\n",
              "4. The floor cleaning machine as defined in cla...  3930281         4\n",
              "12. The floor cleaning machine as defined in cl...  3930281        12\n",
              "1. A floor cleaning machine constructed as a ca...  3930281         1\n",
              "5. The floor cleaning machine as defined in cla...  3930281         5\n",
              "7. The floor cleaning machine as defined in cla...  3930281         7\n",
              "11. The floor cleaning machine as defined in cl...  3930281        11\n",
              "9. The floor cleaning machine as defined in cla...  3930281         9\n",
              "3. The floor cleaning machine as defined in cla...  3930281         3\n",
              "10. The floor cleaning machine as defined in cl...  3930281        10"
            ]
          },
          "metadata": {
            "tags": []
          },
          "execution_count": 62
        }
      ]
    },
    {
      "cell_type": "markdown",
      "metadata": {
        "id": "nSdKWvgWLGqM"
      },
      "source": [
        "Approach 2:\n",
        "\n",
        "(advantage: doesn't change the structure/index of the table)\n",
        "[From stack overflow](https://https://stackoverflow.com/questions/27975069/how-to-filter-rows-containing-a-string-pattern-from-a-pandas-dataframe):\n",
        "\n",
        "\n",
        "> Step-by-step explanation (from inner to outer):\n",
        "\n",
        ">`df['ids']` selects the ids column of the data frame (technically, the object df['ids'] is of type pandas.Series)\n",
        "<br> `df['ids'].str` allows us to apply vectorized string methods (e.g., lower, contains) to the Series\n",
        "df['ids'].str.contains('ball') checks each element of the Series as to whether the element value has the string 'ball' as a substring. The result is a Series of Booleans indicating True or False about the existence of a 'ball' substring.\n",
        "<br>`df[df['ids'].str.contains('ball')]` applies the Boolean 'mask' to the dataframe and returns a view containing appropriate records.\n",
        "\n",
        "\n"
      ]
    },
    {
      "cell_type": "code",
      "metadata": {
        "colab": {
          "base_uri": "https://localhost:8080/",
          "height": 1000
        },
        "id": "KbOgjKjhLH5o",
        "outputId": "e5e6a587-8d16-428c-daf9-ad5df86c0ecb"
      },
      "source": [
        "patents[patents['claim_txt'].str.contains(\"pivot\")]\n"
      ],
      "execution_count": 63,
      "outputs": [
        {
          "output_type": "execute_result",
          "data": {
            "text/html": [
              "<div>\n",
              "<style scoped>\n",
              "    .dataframe tbody tr th:only-of-type {\n",
              "        vertical-align: middle;\n",
              "    }\n",
              "\n",
              "    .dataframe tbody tr th {\n",
              "        vertical-align: top;\n",
              "    }\n",
              "\n",
              "    .dataframe thead th {\n",
              "        text-align: right;\n",
              "    }\n",
              "</style>\n",
              "<table border=\"1\" class=\"dataframe\">\n",
              "  <thead>\n",
              "    <tr style=\"text-align: right;\">\n",
              "      <th></th>\n",
              "      <th>pat_no</th>\n",
              "      <th>claim_no</th>\n",
              "      <th>claim_txt</th>\n",
              "    </tr>\n",
              "  </thead>\n",
              "  <tbody>\n",
              "    <tr>\n",
              "      <th>4</th>\n",
              "      <td>3930272</td>\n",
              "      <td>1</td>\n",
              "      <td>1. In combination with a height adjustable cri...</td>\n",
              "    </tr>\n",
              "    <tr>\n",
              "      <th>5</th>\n",
              "      <td>3930272</td>\n",
              "      <td>3</td>\n",
              "      <td>3. The lock defined in claim 1 wherein the piv...</td>\n",
              "    </tr>\n",
              "    <tr>\n",
              "      <th>7</th>\n",
              "      <td>3930273</td>\n",
              "      <td>21</td>\n",
              "      <td>21. A bed arrangement comprisinga bed frame,a ...</td>\n",
              "    </tr>\n",
              "    <tr>\n",
              "      <th>8</th>\n",
              "      <td>3930273</td>\n",
              "      <td>20</td>\n",
              "      <td>20. A bed arrangement comprisinga bed frame,a ...</td>\n",
              "    </tr>\n",
              "    <tr>\n",
              "      <th>9</th>\n",
              "      <td>3930273</td>\n",
              "      <td>3</td>\n",
              "      <td>3. A bed arrangement according to claim 2,the ...</td>\n",
              "    </tr>\n",
              "    <tr>\n",
              "      <th>10</th>\n",
              "      <td>3930273</td>\n",
              "      <td>6</td>\n",
              "      <td>6. A bed arrangement according to claim 5,said...</td>\n",
              "    </tr>\n",
              "    <tr>\n",
              "      <th>11</th>\n",
              "      <td>3930273</td>\n",
              "      <td>23</td>\n",
              "      <td>23. A side rail assembly for selective detacha...</td>\n",
              "    </tr>\n",
              "    <tr>\n",
              "      <th>12</th>\n",
              "      <td>3930273</td>\n",
              "      <td>10</td>\n",
              "      <td>10. A bed arrangement according to claim 9,eac...</td>\n",
              "    </tr>\n",
              "    <tr>\n",
              "      <th>13</th>\n",
              "      <td>3930273</td>\n",
              "      <td>11</td>\n",
              "      <td>11. A bed arrangement according to claim 4,two...</td>\n",
              "    </tr>\n",
              "    <tr>\n",
              "      <th>14</th>\n",
              "      <td>3930273</td>\n",
              "      <td>5</td>\n",
              "      <td>5. A bed arrangement according to claim 4,said...</td>\n",
              "    </tr>\n",
              "    <tr>\n",
              "      <th>15</th>\n",
              "      <td>3930273</td>\n",
              "      <td>1</td>\n",
              "      <td>1. A bed arrangement comprisinga bed frame,a s...</td>\n",
              "    </tr>\n",
              "    <tr>\n",
              "      <th>16</th>\n",
              "      <td>3930273</td>\n",
              "      <td>24</td>\n",
              "      <td>24. A side rail assembly for selective detacha...</td>\n",
              "    </tr>\n",
              "    <tr>\n",
              "      <th>17</th>\n",
              "      <td>3930273</td>\n",
              "      <td>17</td>\n",
              "      <td>17. A side rail assembly for a bed, for select...</td>\n",
              "    </tr>\n",
              "    <tr>\n",
              "      <th>18</th>\n",
              "      <td>3930273</td>\n",
              "      <td>19</td>\n",
              "      <td>19. A bed arrangement comprisinga bed frame,a ...</td>\n",
              "    </tr>\n",
              "    <tr>\n",
              "      <th>19</th>\n",
              "      <td>3930273</td>\n",
              "      <td>4</td>\n",
              "      <td>4. A bed arrangement according to claim 3,said...</td>\n",
              "    </tr>\n",
              "    <tr>\n",
              "      <th>20</th>\n",
              "      <td>3930273</td>\n",
              "      <td>12</td>\n",
              "      <td>12. A bed arrangement according to claim 11,ea...</td>\n",
              "    </tr>\n",
              "    <tr>\n",
              "      <th>21</th>\n",
              "      <td>3930273</td>\n",
              "      <td>13</td>\n",
              "      <td>13. A bed arrangement according to claim 1,sai...</td>\n",
              "    </tr>\n",
              "    <tr>\n",
              "      <th>22</th>\n",
              "      <td>3930273</td>\n",
              "      <td>9</td>\n",
              "      <td>9. A bed arrangement according to claim 8,two ...</td>\n",
              "    </tr>\n",
              "    <tr>\n",
              "      <th>23</th>\n",
              "      <td>3930273</td>\n",
              "      <td>22</td>\n",
              "      <td>22. A bed arrangement according to claim 21,ea...</td>\n",
              "    </tr>\n",
              "    <tr>\n",
              "      <th>24</th>\n",
              "      <td>3930273</td>\n",
              "      <td>14</td>\n",
              "      <td>14. A bed arrangement according to claim 13,ea...</td>\n",
              "    </tr>\n",
              "    <tr>\n",
              "      <th>25</th>\n",
              "      <td>3930273</td>\n",
              "      <td>18</td>\n",
              "      <td>18. A side rail assembly according to claim 17...</td>\n",
              "    </tr>\n",
              "    <tr>\n",
              "      <th>26</th>\n",
              "      <td>3930273</td>\n",
              "      <td>2</td>\n",
              "      <td>2. A bed arrangement according to claim 1,each...</td>\n",
              "    </tr>\n",
              "    <tr>\n",
              "      <th>27</th>\n",
              "      <td>3930273</td>\n",
              "      <td>15</td>\n",
              "      <td>15. A bed arrangement according to claim 13,sa...</td>\n",
              "    </tr>\n",
              "    <tr>\n",
              "      <th>28</th>\n",
              "      <td>3930273</td>\n",
              "      <td>7</td>\n",
              "      <td>7. A bed arrangement according to claim 6,a pi...</td>\n",
              "    </tr>\n",
              "    <tr>\n",
              "      <th>29</th>\n",
              "      <td>3930273</td>\n",
              "      <td>16</td>\n",
              "      <td>16. A bed arrangement according to claim 13,tw...</td>\n",
              "    </tr>\n",
              "    <tr>\n",
              "      <th>30</th>\n",
              "      <td>3930273</td>\n",
              "      <td>8</td>\n",
              "      <td>8. A bed arrangement according to claim 6,said...</td>\n",
              "    </tr>\n",
              "    <tr>\n",
              "      <th>60</th>\n",
              "      <td>3930277</td>\n",
              "      <td>3</td>\n",
              "      <td>3. The device of claim 2 in which said plate i...</td>\n",
              "    </tr>\n",
              "    <tr>\n",
              "      <th>65</th>\n",
              "      <td>3930277</td>\n",
              "      <td>4</td>\n",
              "      <td>4. In a floor sweeper having a rotatable cylin...</td>\n",
              "    </tr>\n",
              "    <tr>\n",
              "      <th>66</th>\n",
              "      <td>3930278</td>\n",
              "      <td>1</td>\n",
              "      <td>1. A device in combination with a paintbrush h...</td>\n",
              "    </tr>\n",
              "    <tr>\n",
              "      <th>71</th>\n",
              "      <td>3930279</td>\n",
              "      <td>1</td>\n",
              "      <td>1. A resilient blade for use in a windshield w...</td>\n",
              "    </tr>\n",
              "    <tr>\n",
              "      <th>89</th>\n",
              "      <td>3930281</td>\n",
              "      <td>6</td>\n",
              "      <td>6. The floor cleaning machine as defined in cl...</td>\n",
              "    </tr>\n",
              "    <tr>\n",
              "      <th>95</th>\n",
              "      <td>3930281</td>\n",
              "      <td>7</td>\n",
              "      <td>7. The floor cleaning machine as defined in cl...</td>\n",
              "    </tr>\n",
              "    <tr>\n",
              "      <th>97</th>\n",
              "      <td>3930281</td>\n",
              "      <td>9</td>\n",
              "      <td>9. The floor cleaning machine as defined in cl...</td>\n",
              "    </tr>\n",
              "  </tbody>\n",
              "</table>\n",
              "</div>"
            ],
            "text/plain": [
              "     pat_no  claim_no                                          claim_txt\n",
              "4   3930272         1  1. In combination with a height adjustable cri...\n",
              "5   3930272         3  3. The lock defined in claim 1 wherein the piv...\n",
              "7   3930273        21  21. A bed arrangement comprisinga bed frame,a ...\n",
              "8   3930273        20  20. A bed arrangement comprisinga bed frame,a ...\n",
              "9   3930273         3  3. A bed arrangement according to claim 2,the ...\n",
              "10  3930273         6  6. A bed arrangement according to claim 5,said...\n",
              "11  3930273        23  23. A side rail assembly for selective detacha...\n",
              "12  3930273        10  10. A bed arrangement according to claim 9,eac...\n",
              "13  3930273        11  11. A bed arrangement according to claim 4,two...\n",
              "14  3930273         5  5. A bed arrangement according to claim 4,said...\n",
              "15  3930273         1  1. A bed arrangement comprisinga bed frame,a s...\n",
              "16  3930273        24  24. A side rail assembly for selective detacha...\n",
              "17  3930273        17  17. A side rail assembly for a bed, for select...\n",
              "18  3930273        19  19. A bed arrangement comprisinga bed frame,a ...\n",
              "19  3930273         4  4. A bed arrangement according to claim 3,said...\n",
              "20  3930273        12  12. A bed arrangement according to claim 11,ea...\n",
              "21  3930273        13  13. A bed arrangement according to claim 1,sai...\n",
              "22  3930273         9  9. A bed arrangement according to claim 8,two ...\n",
              "23  3930273        22  22. A bed arrangement according to claim 21,ea...\n",
              "24  3930273        14  14. A bed arrangement according to claim 13,ea...\n",
              "25  3930273        18  18. A side rail assembly according to claim 17...\n",
              "26  3930273         2  2. A bed arrangement according to claim 1,each...\n",
              "27  3930273        15  15. A bed arrangement according to claim 13,sa...\n",
              "28  3930273         7  7. A bed arrangement according to claim 6,a pi...\n",
              "29  3930273        16  16. A bed arrangement according to claim 13,tw...\n",
              "30  3930273         8  8. A bed arrangement according to claim 6,said...\n",
              "60  3930277         3  3. The device of claim 2 in which said plate i...\n",
              "65  3930277         4  4. In a floor sweeper having a rotatable cylin...\n",
              "66  3930278         1  1. A device in combination with a paintbrush h...\n",
              "71  3930279         1  1. A resilient blade for use in a windshield w...\n",
              "89  3930281         6  6. The floor cleaning machine as defined in cl...\n",
              "95  3930281         7  7. The floor cleaning machine as defined in cl...\n",
              "97  3930281         9  9. The floor cleaning machine as defined in cl..."
            ]
          },
          "metadata": {
            "tags": []
          },
          "execution_count": 63
        }
      ]
    },
    {
      "cell_type": "markdown",
      "metadata": {
        "id": "7y3CuA_wgcYI"
      },
      "source": [
        "This time removing duplicates (different claims of a single patent)"
      ]
    },
    {
      "cell_type": "code",
      "metadata": {
        "colab": {
          "base_uri": "https://localhost:8080/",
          "height": 388
        },
        "id": "HgIF5QLbgkmA",
        "outputId": "db1843c3-d649-41d4-c086-f9562ed89011"
      },
      "source": [
        "patents.drop_duplicates(subset=['pat_no'])\n"
      ],
      "execution_count": 64,
      "outputs": [
        {
          "output_type": "execute_result",
          "data": {
            "text/html": [
              "<div>\n",
              "<style scoped>\n",
              "    .dataframe tbody tr th:only-of-type {\n",
              "        vertical-align: middle;\n",
              "    }\n",
              "\n",
              "    .dataframe tbody tr th {\n",
              "        vertical-align: top;\n",
              "    }\n",
              "\n",
              "    .dataframe thead th {\n",
              "        text-align: right;\n",
              "    }\n",
              "</style>\n",
              "<table border=\"1\" class=\"dataframe\">\n",
              "  <thead>\n",
              "    <tr style=\"text-align: right;\">\n",
              "      <th></th>\n",
              "      <th>pat_no</th>\n",
              "      <th>claim_no</th>\n",
              "      <th>claim_txt</th>\n",
              "    </tr>\n",
              "  </thead>\n",
              "  <tbody>\n",
              "    <tr>\n",
              "      <th>0</th>\n",
              "      <td>3930271</td>\n",
              "      <td>1</td>\n",
              "      <td>1. A golf glove comprising at least an index f...</td>\n",
              "    </tr>\n",
              "    <tr>\n",
              "      <th>4</th>\n",
              "      <td>3930272</td>\n",
              "      <td>1</td>\n",
              "      <td>1. In combination with a height adjustable cri...</td>\n",
              "    </tr>\n",
              "    <tr>\n",
              "      <th>7</th>\n",
              "      <td>3930273</td>\n",
              "      <td>21</td>\n",
              "      <td>21. A bed arrangement comprisinga bed frame,a ...</td>\n",
              "    </tr>\n",
              "    <tr>\n",
              "      <th>31</th>\n",
              "      <td>3930274</td>\n",
              "      <td>6</td>\n",
              "      <td>6. An assembly as defined in claim 1 whereinth...</td>\n",
              "    </tr>\n",
              "    <tr>\n",
              "      <th>38</th>\n",
              "      <td>3930275</td>\n",
              "      <td>1</td>\n",
              "      <td>1. A method of manufacturing slippers each hav...</td>\n",
              "    </tr>\n",
              "    <tr>\n",
              "      <th>47</th>\n",
              "      <td>3930276</td>\n",
              "      <td>5</td>\n",
              "      <td>5. In a device according to claim 4, a deflect...</td>\n",
              "    </tr>\n",
              "    <tr>\n",
              "      <th>59</th>\n",
              "      <td>3930277</td>\n",
              "      <td>2</td>\n",
              "      <td>2. The device of claim 1 in which said plate m...</td>\n",
              "    </tr>\n",
              "    <tr>\n",
              "      <th>66</th>\n",
              "      <td>3930278</td>\n",
              "      <td>1</td>\n",
              "      <td>1. A device in combination with a paintbrush h...</td>\n",
              "    </tr>\n",
              "    <tr>\n",
              "      <th>71</th>\n",
              "      <td>3930279</td>\n",
              "      <td>1</td>\n",
              "      <td>1. A resilient blade for use in a windshield w...</td>\n",
              "    </tr>\n",
              "    <tr>\n",
              "      <th>73</th>\n",
              "      <td>3930280</td>\n",
              "      <td>5</td>\n",
              "      <td>5. The insert of claim 4 wherein each said but...</td>\n",
              "    </tr>\n",
              "    <tr>\n",
              "      <th>88</th>\n",
              "      <td>3930281</td>\n",
              "      <td>8</td>\n",
              "      <td>8. The floor cleaning machine as defined in cl...</td>\n",
              "    </tr>\n",
              "  </tbody>\n",
              "</table>\n",
              "</div>"
            ],
            "text/plain": [
              "     pat_no  claim_no                                          claim_txt\n",
              "0   3930271         1  1. A golf glove comprising at least an index f...\n",
              "4   3930272         1  1. In combination with a height adjustable cri...\n",
              "7   3930273        21  21. A bed arrangement comprisinga bed frame,a ...\n",
              "31  3930274         6  6. An assembly as defined in claim 1 whereinth...\n",
              "38  3930275         1  1. A method of manufacturing slippers each hav...\n",
              "47  3930276         5  5. In a device according to claim 4, a deflect...\n",
              "59  3930277         2  2. The device of claim 1 in which said plate m...\n",
              "66  3930278         1  1. A device in combination with a paintbrush h...\n",
              "71  3930279         1  1. A resilient blade for use in a windshield w...\n",
              "73  3930280         5  5. The insert of claim 4 wherein each said but...\n",
              "88  3930281         8  8. The floor cleaning machine as defined in cl..."
            ]
          },
          "metadata": {
            "tags": []
          },
          "execution_count": 64
        }
      ]
    },
    {
      "cell_type": "code",
      "metadata": {
        "colab": {
          "base_uri": "https://localhost:8080/",
          "height": 417
        },
        "id": "sA1xmFfHhj_4",
        "outputId": "0c2870fd-f9c5-4570-e41f-ed5f02af0d23"
      },
      "source": [
        "patents #just making sure all the previous functions were non-destrutive"
      ],
      "execution_count": 65,
      "outputs": [
        {
          "output_type": "execute_result",
          "data": {
            "text/html": [
              "<div>\n",
              "<style scoped>\n",
              "    .dataframe tbody tr th:only-of-type {\n",
              "        vertical-align: middle;\n",
              "    }\n",
              "\n",
              "    .dataframe tbody tr th {\n",
              "        vertical-align: top;\n",
              "    }\n",
              "\n",
              "    .dataframe thead th {\n",
              "        text-align: right;\n",
              "    }\n",
              "</style>\n",
              "<table border=\"1\" class=\"dataframe\">\n",
              "  <thead>\n",
              "    <tr style=\"text-align: right;\">\n",
              "      <th></th>\n",
              "      <th>pat_no</th>\n",
              "      <th>claim_no</th>\n",
              "      <th>claim_txt</th>\n",
              "    </tr>\n",
              "  </thead>\n",
              "  <tbody>\n",
              "    <tr>\n",
              "      <th>0</th>\n",
              "      <td>3930271</td>\n",
              "      <td>1</td>\n",
              "      <td>1. A golf glove comprising at least an index f...</td>\n",
              "    </tr>\n",
              "    <tr>\n",
              "      <th>1</th>\n",
              "      <td>3930271</td>\n",
              "      <td>4</td>\n",
              "      <td>4. A golf glove adapted for use on one hand of...</td>\n",
              "    </tr>\n",
              "    <tr>\n",
              "      <th>2</th>\n",
              "      <td>3930271</td>\n",
              "      <td>3</td>\n",
              "      <td>3. A glove comprising an index finger receptac...</td>\n",
              "    </tr>\n",
              "    <tr>\n",
              "      <th>3</th>\n",
              "      <td>3930271</td>\n",
              "      <td>2</td>\n",
              "      <td>2. A golf glove in accordance with claim 1 whe...</td>\n",
              "    </tr>\n",
              "    <tr>\n",
              "      <th>4</th>\n",
              "      <td>3930272</td>\n",
              "      <td>1</td>\n",
              "      <td>1. In combination with a height adjustable cri...</td>\n",
              "    </tr>\n",
              "    <tr>\n",
              "      <th>...</th>\n",
              "      <td>...</td>\n",
              "      <td>...</td>\n",
              "      <td>...</td>\n",
              "    </tr>\n",
              "    <tr>\n",
              "      <th>95</th>\n",
              "      <td>3930281</td>\n",
              "      <td>7</td>\n",
              "      <td>7. The floor cleaning machine as defined in cl...</td>\n",
              "    </tr>\n",
              "    <tr>\n",
              "      <th>96</th>\n",
              "      <td>3930281</td>\n",
              "      <td>11</td>\n",
              "      <td>11. The floor cleaning machine as defined in c...</td>\n",
              "    </tr>\n",
              "    <tr>\n",
              "      <th>97</th>\n",
              "      <td>3930281</td>\n",
              "      <td>9</td>\n",
              "      <td>9. The floor cleaning machine as defined in cl...</td>\n",
              "    </tr>\n",
              "    <tr>\n",
              "      <th>98</th>\n",
              "      <td>3930281</td>\n",
              "      <td>3</td>\n",
              "      <td>3. The floor cleaning machine as defined in cl...</td>\n",
              "    </tr>\n",
              "    <tr>\n",
              "      <th>99</th>\n",
              "      <td>3930281</td>\n",
              "      <td>10</td>\n",
              "      <td>10. The floor cleaning machine as defined in c...</td>\n",
              "    </tr>\n",
              "  </tbody>\n",
              "</table>\n",
              "<p>100 rows × 3 columns</p>\n",
              "</div>"
            ],
            "text/plain": [
              "     pat_no  claim_no                                          claim_txt\n",
              "0   3930271         1  1. A golf glove comprising at least an index f...\n",
              "1   3930271         4  4. A golf glove adapted for use on one hand of...\n",
              "2   3930271         3  3. A glove comprising an index finger receptac...\n",
              "3   3930271         2  2. A golf glove in accordance with claim 1 whe...\n",
              "4   3930272         1  1. In combination with a height adjustable cri...\n",
              "..      ...       ...                                                ...\n",
              "95  3930281         7  7. The floor cleaning machine as defined in cl...\n",
              "96  3930281        11  11. The floor cleaning machine as defined in c...\n",
              "97  3930281         9  9. The floor cleaning machine as defined in cl...\n",
              "98  3930281         3  3. The floor cleaning machine as defined in cl...\n",
              "99  3930281        10  10. The floor cleaning machine as defined in c...\n",
              "\n",
              "[100 rows x 3 columns]"
            ]
          },
          "metadata": {
            "tags": []
          },
          "execution_count": 65
        }
      ]
    },
    {
      "cell_type": "markdown",
      "metadata": {
        "id": "HWDvJDWChvoH"
      },
      "source": [
        "Now to combine rather than remove"
      ]
    },
    {
      "cell_type": "code",
      "metadata": {
        "id": "hNjIe7iuhzAG"
      },
      "source": [
        "#patents.groupby(['pat_no']).agg(join(',')) #Didn't figure this out\n"
      ],
      "execution_count": 67,
      "outputs": []
    },
    {
      "cell_type": "code",
      "metadata": {
        "id": "o1n5DkWnkMIc"
      },
      "source": [
        "# A more complicated block I found on SE:\n",
        "newfile= (patents.groupby('pat_no').agg({'claim_no': lambda d: str(set(d)),\n",
        "                                    'claim_txt':lambda d: \", \".join(set(d))}).reset_index()).to_csv('anewfile.csv')\n",
        "#files.download('anewfile.csv')"
      ],
      "execution_count": 81,
      "outputs": []
    },
    {
      "cell_type": "markdown",
      "metadata": {
        "id": "eE_Qh8dOmeGT"
      },
      "source": [
        "I downloaded the table so I could check if the claim was properly concatenated, which it appears it did. Now I'll save myself the trouble and check the wordcounts for the rest."
      ]
    },
    {
      "cell_type": "code",
      "metadata": {
        "colab": {
          "base_uri": "https://localhost:8080/"
        },
        "id": "Re_gZGBWl3fR",
        "outputId": "21ec3bc5-d67b-4993-8c82-d26e94e58ad3"
      },
      "source": [
        "(patents['claim_txt'].str.split(expand=True)\n",
        "              .stack()\n",
        "              .value_counts()\n",
        "              .rename_axis('word_count'))\n",
        "#Not what I wanted"
      ],
      "execution_count": 82,
      "outputs": [
        {
          "output_type": "execute_result",
          "data": {
            "text/plain": [
              "word_count\n",
              "said         530\n",
              "the          377\n",
              "of           290\n",
              "a            258\n",
              "and          228\n",
              "            ... \n",
              "loose          1\n",
              "dimension      1\n",
              "under          1\n",
              "some           1\n",
              "desired        1\n",
              "Length: 1045, dtype: int64"
            ]
          },
          "metadata": {
            "tags": []
          },
          "execution_count": 82
        }
      ]
    },
    {
      "cell_type": "markdown",
      "metadata": {
        "id": "ZPo1CJCVqTPu"
      },
      "source": [
        "#Testing aggregation with word count\n",
        "Because I realized I should've done this from the get-go I created a shorter variable name for my data (\"pt\") It is not filtered"
      ]
    },
    {
      "cell_type": "code",
      "metadata": {
        "colab": {
          "base_uri": "https://localhost:8080/",
          "height": 417
        },
        "id": "zHTiovfUqrJH",
        "outputId": "0aa00cda-a5a9-452d-b93a-5aa05c669bf5"
      },
      "source": [
        "pt"
      ],
      "execution_count": 83,
      "outputs": [
        {
          "output_type": "execute_result",
          "data": {
            "text/html": [
              "<div>\n",
              "<style scoped>\n",
              "    .dataframe tbody tr th:only-of-type {\n",
              "        vertical-align: middle;\n",
              "    }\n",
              "\n",
              "    .dataframe tbody tr th {\n",
              "        vertical-align: top;\n",
              "    }\n",
              "\n",
              "    .dataframe thead th {\n",
              "        text-align: right;\n",
              "    }\n",
              "</style>\n",
              "<table border=\"1\" class=\"dataframe\">\n",
              "  <thead>\n",
              "    <tr style=\"text-align: right;\">\n",
              "      <th></th>\n",
              "      <th>pat_no</th>\n",
              "      <th>claim_no</th>\n",
              "      <th>claim_txt</th>\n",
              "      <th>count</th>\n",
              "    </tr>\n",
              "  </thead>\n",
              "  <tbody>\n",
              "    <tr>\n",
              "      <th>0</th>\n",
              "      <td>3930271</td>\n",
              "      <td>1</td>\n",
              "      <td>1. A golf glove comprising at least an index f...</td>\n",
              "      <td>54</td>\n",
              "    </tr>\n",
              "    <tr>\n",
              "      <th>1</th>\n",
              "      <td>3930271</td>\n",
              "      <td>4</td>\n",
              "      <td>4. A golf glove adapted for use on one hand of...</td>\n",
              "      <td>54</td>\n",
              "    </tr>\n",
              "    <tr>\n",
              "      <th>2</th>\n",
              "      <td>3930271</td>\n",
              "      <td>3</td>\n",
              "      <td>3. A glove comprising an index finger receptac...</td>\n",
              "      <td>67</td>\n",
              "    </tr>\n",
              "    <tr>\n",
              "      <th>3</th>\n",
              "      <td>3930271</td>\n",
              "      <td>2</td>\n",
              "      <td>2. A golf glove in accordance with claim 1 whe...</td>\n",
              "      <td>32</td>\n",
              "    </tr>\n",
              "    <tr>\n",
              "      <th>4</th>\n",
              "      <td>3930272</td>\n",
              "      <td>1</td>\n",
              "      <td>1. In combination with a height adjustable cri...</td>\n",
              "      <td>204</td>\n",
              "    </tr>\n",
              "    <tr>\n",
              "      <th>...</th>\n",
              "      <td>...</td>\n",
              "      <td>...</td>\n",
              "      <td>...</td>\n",
              "      <td>...</td>\n",
              "    </tr>\n",
              "    <tr>\n",
              "      <th>95</th>\n",
              "      <td>3930281</td>\n",
              "      <td>7</td>\n",
              "      <td>7. The floor cleaning machine as defined in cl...</td>\n",
              "      <td>46</td>\n",
              "    </tr>\n",
              "    <tr>\n",
              "      <th>96</th>\n",
              "      <td>3930281</td>\n",
              "      <td>11</td>\n",
              "      <td>11. The floor cleaning machine as defined in c...</td>\n",
              "      <td>72</td>\n",
              "    </tr>\n",
              "    <tr>\n",
              "      <th>97</th>\n",
              "      <td>3930281</td>\n",
              "      <td>9</td>\n",
              "      <td>9. The floor cleaning machine as defined in cl...</td>\n",
              "      <td>64</td>\n",
              "    </tr>\n",
              "    <tr>\n",
              "      <th>98</th>\n",
              "      <td>3930281</td>\n",
              "      <td>3</td>\n",
              "      <td>3. The floor cleaning machine as defined in cl...</td>\n",
              "      <td>77</td>\n",
              "    </tr>\n",
              "    <tr>\n",
              "      <th>99</th>\n",
              "      <td>3930281</td>\n",
              "      <td>10</td>\n",
              "      <td>10. The floor cleaning machine as defined in c...</td>\n",
              "      <td>86</td>\n",
              "    </tr>\n",
              "  </tbody>\n",
              "</table>\n",
              "<p>100 rows × 4 columns</p>\n",
              "</div>"
            ],
            "text/plain": [
              "     pat_no  claim_no                                          claim_txt  count\n",
              "0   3930271         1  1. A golf glove comprising at least an index f...     54\n",
              "1   3930271         4  4. A golf glove adapted for use on one hand of...     54\n",
              "2   3930271         3  3. A glove comprising an index finger receptac...     67\n",
              "3   3930271         2  2. A golf glove in accordance with claim 1 whe...     32\n",
              "4   3930272         1  1. In combination with a height adjustable cri...    204\n",
              "..      ...       ...                                                ...    ...\n",
              "95  3930281         7  7. The floor cleaning machine as defined in cl...     46\n",
              "96  3930281        11  11. The floor cleaning machine as defined in c...     72\n",
              "97  3930281         9  9. The floor cleaning machine as defined in cl...     64\n",
              "98  3930281         3  3. The floor cleaning machine as defined in cl...     77\n",
              "99  3930281        10  10. The floor cleaning machine as defined in c...     86\n",
              "\n",
              "[100 rows x 4 columns]"
            ]
          },
          "metadata": {
            "tags": []
          },
          "execution_count": 83
        }
      ]
    },
    {
      "cell_type": "markdown",
      "metadata": {
        "id": "8wP-4S1iqqcr"
      },
      "source": [
        "First we add a counts column to the table and print it"
      ]
    },
    {
      "cell_type": "code",
      "metadata": {
        "colab": {
          "base_uri": "https://localhost:8080/",
          "height": 417
        },
        "id": "1e0guI7EoALa",
        "outputId": "a1815b17-1532-42f5-e295-847694376f87"
      },
      "source": [
        "pt['count'] = pt['claim_txt'].str.split().str.len()\n",
        "pt"
      ],
      "execution_count": 71,
      "outputs": [
        {
          "output_type": "execute_result",
          "data": {
            "text/html": [
              "<div>\n",
              "<style scoped>\n",
              "    .dataframe tbody tr th:only-of-type {\n",
              "        vertical-align: middle;\n",
              "    }\n",
              "\n",
              "    .dataframe tbody tr th {\n",
              "        vertical-align: top;\n",
              "    }\n",
              "\n",
              "    .dataframe thead th {\n",
              "        text-align: right;\n",
              "    }\n",
              "</style>\n",
              "<table border=\"1\" class=\"dataframe\">\n",
              "  <thead>\n",
              "    <tr style=\"text-align: right;\">\n",
              "      <th></th>\n",
              "      <th>pat_no</th>\n",
              "      <th>claim_no</th>\n",
              "      <th>claim_txt</th>\n",
              "      <th>count</th>\n",
              "    </tr>\n",
              "  </thead>\n",
              "  <tbody>\n",
              "    <tr>\n",
              "      <th>0</th>\n",
              "      <td>3930271</td>\n",
              "      <td>1</td>\n",
              "      <td>1. A golf glove comprising at least an index f...</td>\n",
              "      <td>54</td>\n",
              "    </tr>\n",
              "    <tr>\n",
              "      <th>1</th>\n",
              "      <td>3930271</td>\n",
              "      <td>4</td>\n",
              "      <td>4. A golf glove adapted for use on one hand of...</td>\n",
              "      <td>54</td>\n",
              "    </tr>\n",
              "    <tr>\n",
              "      <th>2</th>\n",
              "      <td>3930271</td>\n",
              "      <td>3</td>\n",
              "      <td>3. A glove comprising an index finger receptac...</td>\n",
              "      <td>67</td>\n",
              "    </tr>\n",
              "    <tr>\n",
              "      <th>3</th>\n",
              "      <td>3930271</td>\n",
              "      <td>2</td>\n",
              "      <td>2. A golf glove in accordance with claim 1 whe...</td>\n",
              "      <td>32</td>\n",
              "    </tr>\n",
              "    <tr>\n",
              "      <th>4</th>\n",
              "      <td>3930272</td>\n",
              "      <td>1</td>\n",
              "      <td>1. In combination with a height adjustable cri...</td>\n",
              "      <td>204</td>\n",
              "    </tr>\n",
              "    <tr>\n",
              "      <th>...</th>\n",
              "      <td>...</td>\n",
              "      <td>...</td>\n",
              "      <td>...</td>\n",
              "      <td>...</td>\n",
              "    </tr>\n",
              "    <tr>\n",
              "      <th>95</th>\n",
              "      <td>3930281</td>\n",
              "      <td>7</td>\n",
              "      <td>7. The floor cleaning machine as defined in cl...</td>\n",
              "      <td>46</td>\n",
              "    </tr>\n",
              "    <tr>\n",
              "      <th>96</th>\n",
              "      <td>3930281</td>\n",
              "      <td>11</td>\n",
              "      <td>11. The floor cleaning machine as defined in c...</td>\n",
              "      <td>72</td>\n",
              "    </tr>\n",
              "    <tr>\n",
              "      <th>97</th>\n",
              "      <td>3930281</td>\n",
              "      <td>9</td>\n",
              "      <td>9. The floor cleaning machine as defined in cl...</td>\n",
              "      <td>64</td>\n",
              "    </tr>\n",
              "    <tr>\n",
              "      <th>98</th>\n",
              "      <td>3930281</td>\n",
              "      <td>3</td>\n",
              "      <td>3. The floor cleaning machine as defined in cl...</td>\n",
              "      <td>77</td>\n",
              "    </tr>\n",
              "    <tr>\n",
              "      <th>99</th>\n",
              "      <td>3930281</td>\n",
              "      <td>10</td>\n",
              "      <td>10. The floor cleaning machine as defined in c...</td>\n",
              "      <td>86</td>\n",
              "    </tr>\n",
              "  </tbody>\n",
              "</table>\n",
              "<p>100 rows × 4 columns</p>\n",
              "</div>"
            ],
            "text/plain": [
              "     pat_no  claim_no                                          claim_txt  count\n",
              "0   3930271         1  1. A golf glove comprising at least an index f...     54\n",
              "1   3930271         4  4. A golf glove adapted for use on one hand of...     54\n",
              "2   3930271         3  3. A glove comprising an index finger receptac...     67\n",
              "3   3930271         2  2. A golf glove in accordance with claim 1 whe...     32\n",
              "4   3930272         1  1. In combination with a height adjustable cri...    204\n",
              "..      ...       ...                                                ...    ...\n",
              "95  3930281         7  7. The floor cleaning machine as defined in cl...     46\n",
              "96  3930281        11  11. The floor cleaning machine as defined in c...     72\n",
              "97  3930281         9  9. The floor cleaning machine as defined in cl...     64\n",
              "98  3930281         3  3. The floor cleaning machine as defined in cl...     77\n",
              "99  3930281        10  10. The floor cleaning machine as defined in c...     86\n",
              "\n",
              "[100 rows x 4 columns]"
            ]
          },
          "metadata": {
            "tags": []
          },
          "execution_count": 71
        }
      ]
    },
    {
      "cell_type": "markdown",
      "metadata": {
        "id": "L3BDNXF_q3Ig"
      },
      "source": [
        "Now we aggregate and then print under a new variable\n",
        "\n",
        "**I also switched the set for a list so the claims would be in order**"
      ]
    },
    {
      "cell_type": "code",
      "metadata": {
        "colab": {
          "base_uri": "https://localhost:8080/",
          "height": 418
        },
        "id": "7mIbu46NokzL",
        "outputId": "a8020938-1027-45fc-87c9-19fe0ce56ec4"
      },
      "source": [
        "pt1= patents.groupby('pat_no').agg({'claim_no': lambda d: str(set(d)),\n",
        "                                    'claim_txt':lambda d: \", \".join(list(d))})\n",
        "pt1['count'] = pt1['claim_txt'].str.split().str.len()\n",
        "pt1"
      ],
      "execution_count": 88,
      "outputs": [
        {
          "output_type": "execute_result",
          "data": {
            "text/html": [
              "<div>\n",
              "<style scoped>\n",
              "    .dataframe tbody tr th:only-of-type {\n",
              "        vertical-align: middle;\n",
              "    }\n",
              "\n",
              "    .dataframe tbody tr th {\n",
              "        vertical-align: top;\n",
              "    }\n",
              "\n",
              "    .dataframe thead th {\n",
              "        text-align: right;\n",
              "    }\n",
              "</style>\n",
              "<table border=\"1\" class=\"dataframe\">\n",
              "  <thead>\n",
              "    <tr style=\"text-align: right;\">\n",
              "      <th></th>\n",
              "      <th>claim_no</th>\n",
              "      <th>claim_txt</th>\n",
              "      <th>count</th>\n",
              "    </tr>\n",
              "    <tr>\n",
              "      <th>pat_no</th>\n",
              "      <th></th>\n",
              "      <th></th>\n",
              "      <th></th>\n",
              "    </tr>\n",
              "  </thead>\n",
              "  <tbody>\n",
              "    <tr>\n",
              "      <th>3930271</th>\n",
              "      <td>{1, 2, 3, 4}</td>\n",
              "      <td>1. A golf glove comprising at least an index f...</td>\n",
              "      <td>207</td>\n",
              "    </tr>\n",
              "    <tr>\n",
              "      <th>3930272</th>\n",
              "      <td>{1, 2, 3}</td>\n",
              "      <td>1. In combination with a height adjustable cri...</td>\n",
              "      <td>266</td>\n",
              "    </tr>\n",
              "    <tr>\n",
              "      <th>3930273</th>\n",
              "      <td>{1, 2, 3, 4, 5, 6, 7, 8, 9, 10, 11, 12, 13, 14...</td>\n",
              "      <td>21. A bed arrangement comprisinga bed frame,a ...</td>\n",
              "      <td>2411</td>\n",
              "    </tr>\n",
              "    <tr>\n",
              "      <th>3930274</th>\n",
              "      <td>{1, 2, 3, 4, 5, 6, 7}</td>\n",
              "      <td>6. An assembly as defined in claim 1 whereinth...</td>\n",
              "      <td>470</td>\n",
              "    </tr>\n",
              "    <tr>\n",
              "      <th>3930275</th>\n",
              "      <td>{1, 2, 3, 4, 5, 6, 7, 8, 9}</td>\n",
              "      <td>1. A method of manufacturing slippers each hav...</td>\n",
              "      <td>350</td>\n",
              "    </tr>\n",
              "    <tr>\n",
              "      <th>3930276</th>\n",
              "      <td>{1, 2, 3, 4, 5, 6, 7, 8, 9, 10, 11, 12}</td>\n",
              "      <td>5. In a device according to claim 4, a deflect...</td>\n",
              "      <td>955</td>\n",
              "    </tr>\n",
              "    <tr>\n",
              "      <th>3930277</th>\n",
              "      <td>{1, 2, 3, 4, 5, 6, 7}</td>\n",
              "      <td>2. The device of claim 1 in which said plate m...</td>\n",
              "      <td>479</td>\n",
              "    </tr>\n",
              "    <tr>\n",
              "      <th>3930278</th>\n",
              "      <td>{1, 2, 3, 4, 5}</td>\n",
              "      <td>1. A device in combination with a paintbrush h...</td>\n",
              "      <td>306</td>\n",
              "    </tr>\n",
              "    <tr>\n",
              "      <th>3930279</th>\n",
              "      <td>{1, 2}</td>\n",
              "      <td>1. A resilient blade for use in a windshield w...</td>\n",
              "      <td>162</td>\n",
              "    </tr>\n",
              "    <tr>\n",
              "      <th>3930280</th>\n",
              "      <td>{1, 2, 3, 4, 5, 6, 7, 8, 9, 10, 11, 12, 13, 14...</td>\n",
              "      <td>5. The insert of claim 4 wherein each said but...</td>\n",
              "      <td>1173</td>\n",
              "    </tr>\n",
              "    <tr>\n",
              "      <th>3930281</th>\n",
              "      <td>{1, 3, 4, 5, 6, 7, 8, 9, 10, 11, 12, 14}</td>\n",
              "      <td>8. The floor cleaning machine as defined in cl...</td>\n",
              "      <td>1093</td>\n",
              "    </tr>\n",
              "  </tbody>\n",
              "</table>\n",
              "</div>"
            ],
            "text/plain": [
              "                                                  claim_no  ... count\n",
              "pat_no                                                      ...      \n",
              "3930271                                       {1, 2, 3, 4}  ...   207\n",
              "3930272                                          {1, 2, 3}  ...   266\n",
              "3930273  {1, 2, 3, 4, 5, 6, 7, 8, 9, 10, 11, 12, 13, 14...  ...  2411\n",
              "3930274                              {1, 2, 3, 4, 5, 6, 7}  ...   470\n",
              "3930275                        {1, 2, 3, 4, 5, 6, 7, 8, 9}  ...   350\n",
              "3930276            {1, 2, 3, 4, 5, 6, 7, 8, 9, 10, 11, 12}  ...   955\n",
              "3930277                              {1, 2, 3, 4, 5, 6, 7}  ...   479\n",
              "3930278                                    {1, 2, 3, 4, 5}  ...   306\n",
              "3930279                                             {1, 2}  ...   162\n",
              "3930280  {1, 2, 3, 4, 5, 6, 7, 8, 9, 10, 11, 12, 13, 14...  ...  1173\n",
              "3930281           {1, 3, 4, 5, 6, 7, 8, 9, 10, 11, 12, 14}  ...  1093\n",
              "\n",
              "[11 rows x 3 columns]"
            ]
          },
          "metadata": {
            "tags": []
          },
          "execution_count": 88
        }
      ]
    },
    {
      "cell_type": "markdown",
      "metadata": {
        "id": "HmM6-WxIrCu4"
      },
      "source": [
        "Now to really make sure the numbers add up. We should keep in mind that the delimiter will also be added so we are really just making sure the new claim text isnt smaller."
      ]
    },
    {
      "cell_type": "code",
      "metadata": {
        "colab": {
          "base_uri": "https://localhost:8080/"
        },
        "id": "MlylVWb9raHX",
        "outputId": "db608451-727c-4815-85b4-2b832a65a837"
      },
      "source": [
        "print(pt['count'].sum())\n",
        "print(\"____\")\n",
        "print(pt1['count'].sum())"
      ],
      "execution_count": 89,
      "outputs": [
        {
          "output_type": "stream",
          "text": [
            "7872\n",
            "____\n",
            "7872\n"
          ],
          "name": "stdout"
        }
      ]
    },
    {
      "cell_type": "markdown",
      "metadata": {
        "id": "yRORjGihr806"
      },
      "source": [
        "That's nice, And the missing delimiters aren't counted as they're not added with spaces and appear as part of the previous word"
      ]
    }
  ]
}