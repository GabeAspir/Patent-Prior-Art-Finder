{
  "nbformat": 4,
  "nbformat_minor": 0,
  "metadata": {
    "colab": {
      "name": "Interactive Patent Training",
      "provenance": [],
      "authorship_tag": "ABX9TyP/gKCCj1AMLyiSrMo24po3",
      "include_colab_link": true
    },
    "kernelspec": {
      "name": "python3",
      "display_name": "Python 3"
    },
    "language_info": {
      "name": "python"
    }
  },
  "cells": [
    {
      "cell_type": "markdown",
      "metadata": {
        "id": "view-in-github",
        "colab_type": "text"
      },
      "source": [
        "<a href=\"https://colab.research.google.com/github/GabeAspir/Patent-Prior-Art-Finder/blob/main/Interactive_Patent_Training.ipynb\" target=\"_parent\"><img src=\"https://colab.research.google.com/assets/colab-badge.svg\" alt=\"Open In Colab\"/></a>"
      ]
    },
    {
      "cell_type": "markdown",
      "metadata": {
        "id": "hv7-5K6uRPAY"
      },
      "source": [
        "# Train the program on your own data set\n",
        "You can run the prior art finder on a custom dataset by passing a directory that contains patents files which in a gziped json format. Enter the directory path, the name of the column that contains the patent text, the column that contains the patent numbers, and the column that contains the references column.\n",
        "\n",
        "You can use the following query as an example of how to create such a file using [google's patent database](https://console.cloud.google.com/marketplace/product/google_patents_public_datasets/google-patents-public-data?project=patent-open-source&login=true&pli=1):\n",
        "\n",
        "```\n",
        "SELECT\n",
        "  pub.publication_number as Publication_Number,\n",
        "  ab.text as Abstract,\n",
        "  STRING_AGG(citations.publication_number) as Citations\n",
        "FROM\n",
        "  patents-public-data.patents.publications as pub,\n",
        "  UNNEST (abstract_localized) AS ab,\n",
        "  UNNEST (citation) as citations\n",
        "WHERE\n",
        "  country_code = 'US'\n",
        "  AND application_kind = 'A' -- A = patent\n",
        "  And citations.type in (\"A\",\"D\",\"E\")\n",
        "GROUP BY pub.publication_number, ab.text\n",
        "LIMIT\n",
        "  100\n",
        "```\n",
        "\n"
      ]
    },
    {
      "cell_type": "code",
      "metadata": {
        "colab": {
          "base_uri": "https://localhost:8080/",
          "height": 273
        },
        "id": "oNWBKWx6RKtP",
        "outputId": "4eeb5ba1-2f56-45e2-f82b-104f879c5efc"
      },
      "source": [
        "import requests\n",
        "# From https://changhsinlee.com/colab-import-python/\n",
        "# If you are using GitHub, make sure you get the \"Raw\" version of the code\n",
        "url = 'https://raw.githubusercontent.com/GabeAspir/Patent-Prior-Art-Finder/main/_DevFilesPatentPriorArtFinder.py'\n",
        "r = requests.get(url)\n",
        " \n",
        "# make sure your filename is the same as how you want to import \n",
        "with open('_DevFilesPatentPriorArtFinder.py', 'w') as f:\n",
        "    f.write(r.text)\n",
        " \n",
        "# now we can import\n",
        "from _DevFilesPatentPriorArtFinder import _DevFilesPatentPriorArtFinder as paf\n",
        "\n",
        "\n",
        "local_directory = 'C:\\\\Users\\\\mocka\\\\PycharmProjects\\\\Patent-Prior-Art-Finder' #@param {type:\"string\"}\n",
        "print(\"Dir: \"+ local_directory)\n",
        "txt_col = '' #@param {type:\"string\"}\n",
        "print(\"Text Column: \"+ txt_col)\n",
        "patent_number_column = '' #@param {type:\"string\"}\n",
        "print(\"Text Column: \"+ patent_number_column)\n",
        "citations_col = '' #@param {type:\"string\"}\n",
        "print(\"Text Column: \"+ citations_col)\n",
        "#@markdown (Optional)\n",
        "use_tfidf = '' #@param {type:\"boolean\"}\n",
        "print(\"Text Column: \"+ use_tfidf)\n",
        "\n",
        "\n",
        "myPaf= paf(local_directory,patent_number_column,citations_col,use_tfidf)\n",
        "myPaf.train()"
      ],
      "execution_count": null,
      "outputs": [
        {
          "output_type": "stream",
          "text": [
            "[nltk_data] Downloading package stopwords to /root/nltk_data...\n",
            "[nltk_data]   Unzipping corpora/stopwords.zip.\n"
          ],
          "name": "stdout"
        },
        {
          "output_type": "error",
          "ename": "NameError",
          "evalue": "ignored",
          "traceback": [
            "\u001b[0;31m---------------------------------------------------------------------------\u001b[0m",
            "\u001b[0;31mNameError\u001b[0m                                 Traceback (most recent call last)",
            "\u001b[0;32m<ipython-input-1-a5f5e893ab6d>\u001b[0m in \u001b[0;36m<module>\u001b[0;34m()\u001b[0m\n\u001b[1;32m     12\u001b[0m \u001b[0;32mfrom\u001b[0m \u001b[0m_DevFilesPatentPriorArtFinder\u001b[0m \u001b[0;32mimport\u001b[0m \u001b[0m_DevFilesPatentPriorArtFinder\u001b[0m \u001b[0;32mas\u001b[0m \u001b[0mpaf\u001b[0m\u001b[0;34m\u001b[0m\u001b[0;34m\u001b[0m\u001b[0m\n\u001b[1;32m     13\u001b[0m \u001b[0;34m\u001b[0m\u001b[0m\n\u001b[0;32m---> 14\u001b[0;31m widgets.FileUpload(\n\u001b[0m\u001b[1;32m     15\u001b[0m     \u001b[0maccept\u001b[0m\u001b[0;34m=\u001b[0m\u001b[0;34m''\u001b[0m\u001b[0;34m,\u001b[0m  \u001b[0;31m# Accepted file extension e.g. '.txt', '.pdf', 'image/*', 'image/*,.pdf'\u001b[0m\u001b[0;34m\u001b[0m\u001b[0;34m\u001b[0m\u001b[0m\n\u001b[1;32m     16\u001b[0m     \u001b[0mmultiple\u001b[0m\u001b[0;34m=\u001b[0m\u001b[0;32mFalse\u001b[0m  \u001b[0;31m# True to accept multiple files upload else False\u001b[0m\u001b[0;34m\u001b[0m\u001b[0;34m\u001b[0m\u001b[0m\n",
            "\u001b[0;31mNameError\u001b[0m: name 'widgets' is not defined"
          ]
        }
      ]
    },
    {
      "cell_type": "markdown",
      "metadata": {
        "id": "CB1Gv6mcenEW"
      },
      "source": [
        "# Next, Continue to the comparison sheet and use the directory entered above for the [comparison notebook](https://)"
      ]
    }
  ]
}