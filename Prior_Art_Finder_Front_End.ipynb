{
  "nbformat": 4,
  "nbformat_minor": 0,
  "metadata": {
    "colab": {
      "name": "Prior Art Finder Front End",
      "provenance": [],
      "collapsed_sections": [],
      "authorship_tag": "ABX9TyPONEaQmNhV+sAi82vxe0hH",
      "include_colab_link": true
    },
    "kernelspec": {
      "name": "python3",
      "display_name": "Python 3"
    },
    "language_info": {
      "name": "python"
    }
  },
  "cells": [
    {
      "cell_type": "markdown",
      "metadata": {
        "id": "view-in-github",
        "colab_type": "text"
      },
      "source": [
        "<a href=\"https://colab.research.google.com/github/GabeAspir/Patent-Prior-Art-Finder/blob/main/Prior_Art_Finder_Front_End.ipynb\" target=\"_parent\"><img src=\"https://colab.research.google.com/assets/colab-badge.svg\" alt=\"Open In Colab\"/></a>"
      ]
    },
    {
      "cell_type": "markdown",
      "metadata": {
        "id": "inzxtD_Eatwf"
      },
      "source": [
        "# Use this notebook to find pre-existing similar patents.\n",
        "Please note that you will be required to\n",
        "1.   Run this notebook locally or upload the metadata files to colab\n",
        "2.   Sign into your (existing) Google Cloud Account to run 2 small queries from Google's patent database.\n",
        "\n"
      ]
    },
    {
      "cell_type": "code",
      "metadata": {
        "colab": {
          "base_uri": "https://localhost:8080/"
        },
        "id": "6yWovmBXOhCx",
        "cellView": "form",
        "outputId": "2c8a88f8-6e2d-4de5-e443-2808cf4d53bc"
      },
      "source": [
        "#@title Click the play button to begin, then continue to option 1 or 2\n",
        "import pandas as pd\n",
        "import gdown\n",
        "import requests\n",
        "import nltk\n",
        "nltk.download('punkt')\n",
        "\n",
        "# From https://changhsinlee.com/colab-import-python/\n",
        "# If you are using GitHub, make sure you get the \"Raw\" version of the code\n",
        "url = 'https://raw.githubusercontent.com/GabeAspir/Patent-Prior-Art-Finder/main/_DevFilesPatentPriorArtFinder.py'\n",
        "r = requests.get(url)\n",
        " \n",
        "# make sure your filename is the same as how you want to import \n",
        "with open('_DevFilesPatentPriorArtFinder.py', 'w') as f:\n",
        "    f.write(r.text)\n",
        " \n",
        "# now we can import\n",
        "from _DevFilesPatentPriorArtFinder import _DevFilesPatentPriorArtFinder as paf\n",
        "\n",
        "print(\"You may now proceed to option 1 or 2 below\")"
      ],
      "execution_count": 2,
      "outputs": [
        {
          "output_type": "stream",
          "text": [
            "[nltk_data] Downloading package punkt to /root/nltk_data...\n",
            "[nltk_data]   Unzipping tokenizers/punkt.zip.\n",
            "[nltk_data] Downloading package stopwords to /root/nltk_data...\n",
            "[nltk_data]   Unzipping corpora/stopwords.zip.\n",
            "You may now proceed to option 1 or 2 below\n"
          ],
          "name": "stdout"
        }
      ]
    },
    {
      "cell_type": "markdown",
      "metadata": {
        "id": "_ZOIzE8SR865"
      },
      "source": [
        "# Option 1: Compare an existing patent  "
      ]
    },
    {
      "cell_type": "code",
      "metadata": {
        "id": "eClH_0_7OkK1",
        "colab": {
          "base_uri": "https://localhost:8080/"
        },
        "cellView": "form",
        "outputId": "ae43274e-2d54-4d03-a72e-46265ddb87a0"
      },
      "source": [
        "#@title Enter a patent number for comparison\n",
        "patent_Number = 'US-2018356996-A1' #@param {type:\"string\"}\n",
        "print(patent_Number)\n",
        "#pat= {\"patent_Number\": patent_Number}\n",
        "# Need to validate the patent number\n",
        "project_id = \"semiotic-garden-315802\"\n",
        "\n",
        "pt = pd.io.gbq.read_gbq(f'''\n",
        "  SELECT\n",
        "    pub.publication_number as Publication_Number,\n",
        "    ab.text as Abstract,\n",
        "    STRING_AGG(citations.publication_number) as Citations\n",
        "  FROM\n",
        "    patents-public-data.patents.publications as pub,\n",
        "    UNNEST (abstract_localized) AS ab,\n",
        "    UNNEST (citation) as citations\n",
        "  WHERE\n",
        "    pub.publication_number IN (\"{{}}\")\n",
        "  GROUP BY pub.publication_number, ab.text\n",
        "  LIMIT\n",
        "      1\n",
        "'''.format(patent_Number), project_id=project_id)\n",
        "pt= pt.iloc[0]\n"
      ],
      "execution_count": 36,
      "outputs": [
        {
          "output_type": "stream",
          "text": [
            "WARNING:google.auth.compute_engine._metadata:Compute Engine Metadata server unavailable onattempt 1 of 3. Reason: [WinError 10051] A socket operation was attempted to an unreachable network\n",
            "WARNING:google.auth.compute_engine._metadata:Compute Engine Metadata server unavailable onattempt 2 of 3. Reason: [WinError 10051] A socket operation was attempted to an unreachable network\n",
            "WARNING:google.auth.compute_engine._metadata:Compute Engine Metadata server unavailable onattempt 3 of 3. Reason: [WinError 10051] A socket operation was attempted to an unreachable network\n",
            "WARNING:google.auth._default:Authentication failed using Compute Engine authentication due to unavailable metadata server.\n"
          ],
          "name": "stderr"
        },
        {
          "output_type": "stream",
          "text": [
            "US-2018356996-A1\n",
            "Please visit this URL to authorize this application: https://accounts.google.com/o/oauth2/auth?response_type=code&client_id=725825577420-unm2gnkiprugilg743tkbig250f4sfsj.apps.googleusercontent.com&redirect_uri=urn%3Aietf%3Awg%3Aoauth%3A2.0%3Aoob&scope=https%3A%2F%2Fwww.googleapis.com%2Fauth%2Fbigquery&state=rkFkbJa8pYLfDCWl9EwtGGTbXme35B&prompt=consent&access_type=offline\n",
            "Enter the authorization code: 4/1AX4XfWj5X_YX8klA2DeUC8mgBMuUCv3EIBF6lxBs80irHwv1K9E28yKSmMw\n"
          ],
          "name": "stdout"
        }
      ]
    },
    {
      "cell_type": "markdown",
      "metadata": {
        "id": "nKEsQQPqSJjX"
      },
      "source": [
        "# Option 2: Compare a new text"
      ]
    },
    {
      "cell_type": "markdown",
      "metadata": {
        "id": "r9XkSRTbZyMm"
      },
      "source": [
        "You can enter the text of a potential patent to find similar pre-existing patents. The new_cit field is optional but can be used if you have citations in your potential patent, and can increase the accuracy of your search."
      ]
    },
    {
      "cell_type": "code",
      "metadata": {
        "colab": {
          "base_uri": "https://localhost:8080/"
        },
        "id": "NIJUF-YKSqt6",
        "outputId": "c4f519fe-541c-45ae-ca0c-d40c9ad9d85c"
      },
      "source": [
        "import pandas as pd\n",
        "new_text = 'A manufacturing process to produce a controllable integral membrane (28) in sheet-like photosensitive laminates (20), said photosensitive laminate being adapted to adhere to the surface to be etched (36). By the use of the present invention the revealed image (33) washes out without detail roots leaving the substrate (22), transfers easily, even if it is very fine, and can be etched on said surface to be etched very nicely.' #@param {type:\"string\"}\n",
        "print(new_text)\n",
        "new_cit = 'US-3916050-A,US-4371602-A,US-4430416-A,US-4511640-A,US-4587186-A,US-4716096-A,US-4764449-A,US-4801490-A'#@param {type:\"string\"}\n",
        "print(new_cit)\n",
        "pt= pd.Series([new_text,new_cit],index=[\"Abstract\",\"Citations\"])\n",
        "print(pt)"
      ],
      "execution_count": 24,
      "outputs": [
        {
          "output_type": "stream",
          "text": [
            "A manufacturing process to produce a controllable integral membrane (28) in sheet-like photosensitive laminates (20), said photosensitive laminate being adapted to adhere to the surface to be etched (36). By the use of the present invention the revealed image (33) washes out without detail roots leaving the substrate (22), transfers easily, even if it is very fine, and can be etched on said surface to be etched very nicely.\n",
            "US-3916050-A,US-4371602-A,US-4430416-A,US-4511640-A,US-4587186-A,US-4716096-A,US-4764449-A,US-4801490-A\n",
            "Abstract     A manufacturing process to produce a controlla...\n",
            "Citations    US-3916050-A,US-4371602-A,US-4430416-A,US-4511...\n",
            "dtype: object\n"
          ],
          "name": "stdout"
        }
      ]
    },
    {
      "cell_type": "markdown",
      "metadata": {
        "id": "a59jqEliSSsg"
      },
      "source": [
        "\n",
        "# Both options:\n",
        "This will use a prepared set of 4 million patents. If you wish to load and train a new set for your comparison, click [here](https://colab.research.google.com/drive/1DrKOIpQIOMqTJ-jcAd0amhtBOXY9wQv3?usp=sharing)."
      ]
    },
    {
      "cell_type": "markdown",
      "metadata": {
        "id": "Dge7fT0bZYWF"
      },
      "source": [
        "# For the next step \n",
        "you must save the folders contained [here](https://drive.google.com/drive/folders/1TSjyNgCdvAIX92WF4BAMNeY5Ri4haANM?usp=sharing) in a folder on your computer. Copy the path of that folder into the box below. Alternativly, they can be downloaded directly to colab with the next cell. This will take some time.\n",
        "\n",
        "You can calso choose settings for the similarity check. Threshold will set the cut-off for how similar a patent must be to be included in the results. use_tfidf allows you to try searching with or without tfidf, which is a method of weighting words based on how frequently they appear across the documents."
      ]
    },
    {
      "cell_type": "markdown",
      "metadata": {
        "id": "13fHyzdkdDhX"
      },
      "source": [
        "# NOTE: This cell is pending the final gdrive file links"
      ]
    },
    {
      "cell_type": "code",
      "metadata": {
        "id": "B2Zgc9Dwb9eb"
      },
      "source": [
        "#@title Download the metadata files directly\n",
        "import gdown\n",
        "import ssl\n",
        "ssl._create_default_https_context = ssl._create_unverified_context\n",
        "\n",
        "# Load w2v Files\n",
        "embed_files= [\"1IOv-XTS5Q-FL7Wju09cE8nU65X6MmhKU\",\n",
        "              \"1AUwg7UeBlCX0DN9AZM1URXl2cQXUmxeb\"]\n",
        "# TODO: Add dict and actual files\n",
        "!mkdir -p \"ppaf_files/emb\"\n",
        "directory= \"ppaf_files\"\n",
        "for index in range(0,2):\n",
        "  url = 'https://drive.google.com/uc?id='+ embed_files[index]\n",
        "  output = 'ppaf_files/emb/file'+str(index)+'.json.gz'\n",
        "  gdown.download(url, output, quiet=False)"
      ],
      "execution_count": null,
      "outputs": []
    },
    {
      "cell_type": "code",
      "metadata": {
        "id": "IMDRlfqCOLuP",
        "colab": {
          "base_uri": "https://localhost:8080/"
        },
        "outputId": "abe6be72-8d5b-4a2f-a1d1-2bc94953114b"
      },
      "source": [
        "from google.colab import drive\n",
        "#@title Enter a directory that contains the metadata files\n",
        "directory = '' #@param {type:\"string\"}\n",
        "print(directory)\n",
        "threshold = '' #@param {type:\"string\"}\n",
        "use_tfidf = True #@param {type:\"boolean\"}\n",
        "artFinder = paf(directory)\n",
        "print(artFinder.compareNewPatent(pt,directory,.9))"
      ],
      "execution_count": 1,
      "outputs": [
        {
          "output_type": "stream",
          "text": [
            "Mounted at /content/drive\n",
            "/content/drive/MyDrive/ppaf_files\n"
          ],
          "name": "stdout"
        }
      ]
    },
    {
      "cell_type": "markdown",
      "metadata": {
        "id": "HXrkrpFRNDZA"
      },
      "source": [
        "Use the check box to try running the comparison with and without tfidf (gives less frequent words more importance)"
      ]
    },
    {
      "cell_type": "code",
      "metadata": {
        "id": "6LBJIaHyWqmV",
        "cellView": "form"
      },
      "source": [
        "#@title Inspect a patent match\n",
        "patent_Number = 'US-2018356996-A1' #@param {type:\"string\"}\n",
        "print(patent_Number)\n",
        "project_id = \"semiotic-garden-315802\"\n",
        "text = pd.io.gbq.read_gbq(f'''\n",
        "  SELECT\n",
        "    pub.publication_number as Publication_Number,\n",
        "    ab.text as abstract_en,\n",
        "    STRING_AGG(citations.publication_number) as Citations\n",
        "  FROM\n",
        "    patents-public-data.patents.publications as pub,\n",
        "    UNNEST (abstract_localized) AS ab,\n",
        "    UNNEST (citation) as citations\n",
        "  WHERE\n",
        "    pub.publication_number IN (\"{{}}\")\n",
        "  GROUP BY pub.publication_number, ab.text\n",
        "  LIMIT\n",
        "      1\n",
        "'''.format(patent_Number), project_id=project_id)\n",
        "print(text[\"abstract_en\"][0])"
      ],
      "execution_count": null,
      "outputs": []
    }
  ]
}