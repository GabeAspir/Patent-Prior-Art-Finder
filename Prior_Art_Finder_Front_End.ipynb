{
  "nbformat": 4,
  "nbformat_minor": 0,
  "metadata": {
    "colab": {
      "name": "Prior Art Finder Front End",
      "provenance": [],
      "collapsed_sections": [],
      "authorship_tag": "ABX9TyPZx+lpuKw7Tc6+8tZVu5Tq",
      "include_colab_link": true
    },
    "kernelspec": {
      "name": "python3",
      "display_name": "Python 3"
    },
    "language_info": {
      "name": "python"
    }
  },
  "cells": [
    {
      "cell_type": "markdown",
      "metadata": {
        "id": "view-in-github",
        "colab_type": "text"
      },
      "source": [
        "<a href=\"https://colab.research.google.com/github/GabeAspir/Patent-Prior-Art-Finder/blob/main/Prior_Art_Finder_Front_End.ipynb\" target=\"_parent\"><img src=\"https://colab.research.google.com/assets/colab-badge.svg\" alt=\"Open In Colab\"/></a>"
      ]
    },
    {
      "cell_type": "markdown",
      "metadata": {
        "id": "inzxtD_Eatwf"
      },
      "source": [
        "# Use this notebook to find pre-existing similar patents.\n",
        "Please note that you will be required to\n",
        "1.   Run this notebook locally or upload the metadata files to colab\n",
        "2.   Sign into your (existing) Google Cloud Account to run 2 small queries from Google's patent database.\n",
        "\n"
      ]
    },
    {
      "cell_type": "code",
      "metadata": {
        "colab": {
          "base_uri": "https://localhost:8080/"
        },
        "id": "6yWovmBXOhCx",
        "cellView": "form",
        "outputId": "20bb3856-c268-4fd4-f6a9-656f156e4ccb"
      },
      "source": [
        "#@title Click the play button to begin, then continue to option 1 or 2\n",
        "import pandas as pd\n",
        "import gdown\n",
        "import requests\n",
        "import nltk\n",
        "nltk.download('punkt')\n",
        "\n",
        "# From https://changhsinlee.com/colab-import-python/\n",
        "# If you are using GitHub, make sure you get the \"Raw\" version of the code\n",
        "url = 'https://raw.githubusercontent.com/GabeAspir/Patent-Prior-Art-Finder/main/_DevFilesPatentPriorArtFinder.py'\n",
        "r = requests.get(url)\n",
        " \n",
        "# make sure your filename is the same as how you want to import \n",
        "with open('_DevFilesPatentPriorArtFinder.py', 'w') as f:\n",
        "    f.write(r.text)\n",
        " \n",
        "# now we can import\n",
        "from _DevFilesPatentPriorArtFinder import _DevFilesPatentPriorArtFinder as paf\n",
        "\n",
        "print(\"You may now proceed to option 1 or 2 below\")"
      ],
      "execution_count": null,
      "outputs": [
        {
          "output_type": "stream",
          "text": [
            "[nltk_data] Downloading package punkt to\n",
            "[nltk_data]     C:\\Users\\mocka\\AppData\\Roaming\\nltk_data...\n",
            "[nltk_data]   Package punkt is already up-to-date!\n"
          ],
          "name": "stderr"
        },
        {
          "output_type": "stream",
          "text": [
            "You may now proceed to option 1 or 2 below\n"
          ],
          "name": "stdout"
        }
      ]
    },
    {
      "cell_type": "markdown",
      "metadata": {
        "id": "_ZOIzE8SR865"
      },
      "source": [
        "# Option 1: Compare an existing patent  "
      ]
    },
    {
      "cell_type": "code",
      "metadata": {
        "id": "eClH_0_7OkK1",
        "colab": {
          "base_uri": "https://localhost:8080/"
        },
        "outputId": "ae43274e-2d54-4d03-a72e-46265ddb87a0"
      },
      "source": [
        "#@title Enter a patent number for comparison\n",
        "patent_Number = 'US-2018356996-A1' #@param {type:\"string\"}\n",
        "print(patent_Number)\n",
        "#pat= {\"patent_Number\": patent_Number}\n",
        "# Need to validate the patent number\n",
        "#@markdown Please enter a Google Bigquery Project id to use this option\n",
        "project_id = \"semiotic-garden-315802\" #@param {type:\"string\"}\n",
        "\n",
        "pt = pd.io.gbq.read_gbq(f'''\n",
        "  SELECT\n",
        "    pub.publication_number as Publication_Number,\n",
        "    ab.text as Abstract,\n",
        "    STRING_AGG(citations.publication_number) as Citations\n",
        "  FROM\n",
        "    patents-public-data.patents.publications as pub,\n",
        "    UNNEST (abstract_localized) AS ab,\n",
        "    UNNEST (citation) as citations\n",
        "  WHERE\n",
        "    pub.publication_number IN (\"{{}}\")\n",
        "  GROUP BY pub.publication_number, ab.text\n",
        "  LIMIT\n",
        "      1\n",
        "'''.format(patent_Number), project_id=project_id)\n",
        "pt= pt.iloc[0]\n"
      ],
      "execution_count": null,
      "outputs": [
        {
          "output_type": "stream",
          "text": [
            "WARNING:google.auth.compute_engine._metadata:Compute Engine Metadata server unavailable onattempt 1 of 3. Reason: [WinError 10051] A socket operation was attempted to an unreachable network\n",
            "WARNING:google.auth.compute_engine._metadata:Compute Engine Metadata server unavailable onattempt 2 of 3. Reason: [WinError 10051] A socket operation was attempted to an unreachable network\n",
            "WARNING:google.auth.compute_engine._metadata:Compute Engine Metadata server unavailable onattempt 3 of 3. Reason: [WinError 10051] A socket operation was attempted to an unreachable network\n",
            "WARNING:google.auth._default:Authentication failed using Compute Engine authentication due to unavailable metadata server.\n"
          ],
          "name": "stderr"
        },
        {
          "output_type": "stream",
          "text": [
            "US-2018356996-A1\n",
            "Please visit this URL to authorize this application: https://accounts.google.com/o/oauth2/auth?response_type=code&client_id=725825577420-unm2gnkiprugilg743tkbig250f4sfsj.apps.googleusercontent.com&redirect_uri=urn%3Aietf%3Awg%3Aoauth%3A2.0%3Aoob&scope=https%3A%2F%2Fwww.googleapis.com%2Fauth%2Fbigquery&state=rkFkbJa8pYLfDCWl9EwtGGTbXme35B&prompt=consent&access_type=offline\n",
            "Enter the authorization code: 4/1AX4XfWj5X_YX8klA2DeUC8mgBMuUCv3EIBF6lxBs80irHwv1K9E28yKSmMw\n"
          ],
          "name": "stdout"
        }
      ]
    },
    {
      "cell_type": "markdown",
      "metadata": {
        "id": "nKEsQQPqSJjX"
      },
      "source": [
        "# Option 2: Compare a new text"
      ]
    },
    {
      "cell_type": "markdown",
      "metadata": {
        "id": "r9XkSRTbZyMm"
      },
      "source": [
        "You can enter the text of a potential patent to find similar pre-existing patents. The new_cit field is optional but can be used if you have citations in your potential patent, and can increase the accuracy of your search."
      ]
    },
    {
      "cell_type": "code",
      "metadata": {
        "colab": {
          "base_uri": "https://localhost:8080/"
        },
        "id": "NIJUF-YKSqt6",
        "cellView": "form",
        "outputId": "e29c1137-636a-4762-b914-cbf42d0322b6"
      },
      "source": [
        "import pandas as pd\n",
        "new_text = 'A manufacturing process to produce a controllable integral membrane (28) in sheet-like photosensitive laminates (20), said photosensitive laminate being adapted to adhere to the surface to be etched (36). By the use of the present invention the revealed image (33) washes out without detail roots leaving the substrate (22), transfers easily, even if it is very fine, and can be etched on said surface to be etched very nicely.' #@param {type:\"string\"}\n",
        "print(new_text)\n",
        "new_cit = ''#@param {type:\"string\"}\n",
        "print(new_cit)\n",
        "pt= pd.Series([new_text,new_cit],index=[\"Abstract\",\"Citations\"])\n",
        "print(pt)"
      ],
      "execution_count": null,
      "outputs": [
        {
          "output_type": "stream",
          "text": [
            "A manufacturing process to produce a controllable integral membrane (28) in sheet-like photosensitive laminates (20), said photosensitive laminate being adapted to adhere to the surface to be etched (36). By the use of the present invention the revealed image (33) washes out without detail roots leaving the substrate (22), transfers easily, even if it is very fine, and can be etched on said surface to be etched very nicely.\n",
            "\n",
            "Abstract     A manufacturing process to produce a controlla...\n",
            "Citations                                                     \n",
            "dtype: object\n"
          ],
          "name": "stdout"
        }
      ]
    },
    {
      "cell_type": "markdown",
      "metadata": {
        "id": "a59jqEliSSsg"
      },
      "source": [
        "\n",
        "# Both options:\n",
        "This will use a prepared set of 4 million patents. If you wish to load and train a new set for your comparison, click [here](https://colab.research.google.com/drive/1DrKOIpQIOMqTJ-jcAd0amhtBOXY9wQv3?usp=sharing)."
      ]
    },
    {
      "cell_type": "markdown",
      "metadata": {
        "id": "Dge7fT0bZYWF"
      },
      "source": [
        "# For the next step \n",
        "you must save the folders contained [here](https://drive.google.com/drive/folders/1hSOHh7_8P1J_SWQgEMgkibtqjAsMr1D_?usp=sharing) in a folder on your computer. Copy the path of that folder into the box below. Alternativly, they can be downloaded directly to colab with the next cell. This will take some time. \n",
        "* If you trained your own model using the above link, use the directory you used there instead\n",
        "\n",
        "You can also choose settings for the similarity check. Threshold will set the cut-off for how similar a patent must be to be included in the results. use_tfidf allows you to try searching with or without tfidf, which is a method of weighting words based on how frequently they appear across the documents."
      ]
    },
    {
      "cell_type": "markdown",
      "metadata": {
        "id": "13fHyzdkdDhX"
      },
      "source": [
        "# NOTE: This cell is pending the final gdrive file links"
      ]
    },
    {
      "cell_type": "code",
      "metadata": {
        "id": "B2Zgc9Dwb9eb",
        "cellView": "form"
      },
      "source": [
        "#@title Click to download the metadata files directly\n",
        "import gdown\n",
        "import ssl\n",
        "ssl._create_default_https_context = ssl._create_unverified_context\n",
        "\n",
        "# Load w2v Files\n",
        "embed_files= [\"1IOv-XTS5Q-FL7Wju09cE8nU65X6MmhKU\",\n",
        "              \"1AUwg7UeBlCX0DN9AZM1URXl2cQXUmxeb\"]\n",
        "# TODO: Add dict and actual files\n",
        "!mkdir -p \"ppaf_files/emb\"\n",
        "directory= \"ppaf_files\"\n",
        "for index in range(0,2):\n",
        "  url = 'https://drive.google.com/uc?id='+ embed_files[index]\n",
        "  output = 'ppaf_files/emb/file'+str(index)+'.json.gz'\n",
        "  gdown.download(url, output, quiet=False)"
      ],
      "execution_count": null,
      "outputs": []
    },
    {
      "cell_type": "code",
      "metadata": {
        "id": "IMDRlfqCOLuP",
        "colab": {
          "base_uri": "https://localhost:8080/"
        },
        "cellView": "form",
        "outputId": "55c30d24-87cd-4181-9986-8c7ed9cb41c2"
      },
      "source": [
        "#@title Enter a directory that contains the metadata files\n",
        "directory = 'C:\\\\Users\\\\eph\\\\PycharmProjects\\\\Patent-Prior-Art-Finder\\\\Patent Queries\\\\sampleZipSet' #@param {type:\"string\"}\n",
        "print(directory)\n",
        "#@markdown Enter settings\n",
        "threshold = .95 #@param {type:\"number\"}\n",
        "#@markdown (Optional)\n",
        "use_tfidf = True #@param {type:\"boolean\"}\n",
        "artFinder = paf(directory)\n",
        "print(artFinder.compareNewPatent(pt,directory,.9,use_tfidf, use_citations=False))\n",
        "#@markdown run to get matches"
      ],
      "execution_count": null,
      "outputs": [
        {
          "output_type": "stream",
          "text": [
            "C:\\Users\\mocka\\PycharmProjects\\Patent-Prior-Art-Finder\\Patent Queries\\sampleZipSet\n",
            "Initialization complete T=1392.4706384\n",
            "Using citations: False\n",
            "Using tfidf: True\n",
            "reading <DirEntry 'bq-results-20210716-122855-k3ohqdlyn8nc (1).json.gz'>\n",
            "reading <DirEntry 'results-20210716-123228.json.gz'>\n",
            "61 Matches found\n",
            "    similarity     Patent Number\n",
            "0     1.000000      US-5260173-A\n",
            "1     0.969610      US-5073431-A\n",
            "2     0.962141  US-2013157046-A1\n",
            "3     0.950503      US-5093164-A\n",
            "4     0.945876  US-2010100065-A1\n",
            "..         ...               ...\n",
            "56    0.901909      US-6045728-A\n",
            "57    0.901423  US-2012148815-A1\n",
            "58    0.901336      US-5285964-A\n",
            "59    0.900093      US-5904889-A\n",
            "60    0.900011      US-4781118-A\n",
            "\n",
            "[61 rows x 2 columns]\n"
          ],
          "name": "stdout"
        }
      ]
    },
    {
      "cell_type": "markdown",
      "metadata": {
        "id": "HXrkrpFRNDZA"
      },
      "source": [
        "Use the check box to try running the comparison with and without tfidf (gives less frequent words more importance)"
      ]
    },
    {
      "cell_type": "code",
      "metadata": {
        "id": "6LBJIaHyWqmV",
        "colab": {
          "base_uri": "https://localhost:8080/"
        },
        "outputId": "6a18c519-b658-40c9-c8cd-e7a819eb3be2"
      },
      "source": [
        "#@title Inspect a patent match\n",
        "patent_Number = 'US-5073431-A' #@param {type:\"string\"}\n",
        "print(patent_Number)\n",
        "#@markdown Please enter a Google Bigquery Project id to use this option\n",
        "project_id = \"semiotic-garden-315802\" #@param {type:\"string\"}\n",
        "\n",
        "text = pd.io.gbq.read_gbq(f'''\n",
        "  SELECT\n",
        "    pub.publication_number as Publication_Number,\n",
        "    ab.text as abstract_en,\n",
        "    STRING_AGG(citations.publication_number) as Citations\n",
        "  FROM\n",
        "    patents-public-data.patents.publications as pub,\n",
        "    UNNEST (abstract_localized) AS ab,\n",
        "    UNNEST (citation) as citations\n",
        "  WHERE\n",
        "    pub.publication_number IN (\"{{}}\")\n",
        "  GROUP BY pub.publication_number, ab.text\n",
        "  LIMIT\n",
        "      1\n",
        "'''.format(patent_Number), project_id=project_id)\n",
        "print(text[\"abstract_en\"][0])"
      ],
      "execution_count": null,
      "outputs": [
        {
          "output_type": "stream",
          "text": [
            "US-5073431-A\n",
            "The method is one of producing multi-ply laminates incorporating an exposed veneer in quality wood or cork, and involved bonding the veneer (1) to a thin flexible thermoplastic film (2) by way of a layer of hot melt adhesive (3). The same laminate can be reinforced to enable its use in manufacturing sewn goods, such as bags and acessories, by ading a tough, close-woven backing fabric (20), bonded to the back of the film (2) in similar fashion via a further layer of adhesive (3), which provides the strength necessary to take a heavy stitch when sheets are sewn together.\n"
          ],
          "name": "stdout"
        }
      ]
    }
  ]
}