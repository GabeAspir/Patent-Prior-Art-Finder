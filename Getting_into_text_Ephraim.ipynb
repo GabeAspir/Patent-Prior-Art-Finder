{
  "nbformat": 4,
  "nbformat_minor": 0,
  "metadata": {
    "colab": {
      "name": "Getting into text_Ephraim",
      "provenance": [],
      "collapsed_sections": [],
      "authorship_tag": "ABX9TyOAplys52//TfHzxW5UXnOI",
      "include_colab_link": true
    },
    "kernelspec": {
      "name": "python3",
      "display_name": "Python 3"
    },
    "language_info": {
      "name": "python"
    }
  },
  "cells": [
    {
      "cell_type": "markdown",
      "metadata": {
        "id": "view-in-github",
        "colab_type": "text"
      },
      "source": [
        "<a href=\"https://colab.research.google.com/github/GabeAspir/Patent-Prior-Art-Finder/blob/main/Getting_into_text_Ephraim.ipynb\" target=\"_parent\"><img src=\"https://colab.research.google.com/assets/colab-badge.svg\" alt=\"Open In Colab\"/></a>"
      ]
    },
    {
      "cell_type": "markdown",
      "metadata": {
        "id": "tQEiaS5FFSPE"
      },
      "source": [
        "# Text methodologies\n",
        "* Importing new data\n",
        "* Tokenizing\n",
        "\n"
      ]
    },
    {
      "cell_type": "code",
      "metadata": {
        "id": "xThAs2IpRLoS"
      },
      "source": [
        "import pandas\n",
        "from google.colab import files\n",
        "from google.colab import drive\n",
        "import io\n",
        "import re\n",
        "import typing"
      ],
      "execution_count": 134,
      "outputs": []
    },
    {
      "cell_type": "code",
      "metadata": {
        "colab": {
          "base_uri": "https://localhost:8080/"
        },
        "id": "GQKtF3g6TC0-",
        "outputId": "11b10077-7bca-4723-d1f6-3a5c367c9f30"
      },
      "source": [
        "# This requires re-authentitcating every time, so we'll stick to local storage\n",
        "# drive.mount('/content/drive')\n",
        "# %cd /content/drive/My Drive/bq-results-20210616-103551-n0c3m546u1li/\n",
        "\n",
        "# pt= pandas.read_csv('bq-results-20210614-101306-uybbgfv0jf8q.csv')"
      ],
      "execution_count": null,
      "outputs": [
        {
          "output_type": "stream",
          "text": [
            "/content/drive/My Drive/bq-results-20210616-103551-n0c3m546u1li\n"
          ],
          "name": "stdout"
        }
      ]
    },
    {
      "cell_type": "code",
      "metadata": {
        "colab": {
          "resources": {
            "http://localhost:8080/nbextensions/google.colab/files.js": {
              "data": "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",
              "ok": true,
              "headers": [
                [
                  "content-type",
                  "application/javascript"
                ]
              ],
              "status": 200,
              "status_text": "OK"
            }
          },
          "base_uri": "https://localhost:8080/",
          "height": 89
        },
        "id": "ZelbTsixq2ca",
        "outputId": "a3870a02-22bc-4d6a-b6e6-7fce76938917"
      },
      "source": [
        "uploaded = files.upload()\n",
        "\n",
        "for fn in uploaded.keys():\n",
        "  print('User uploaded file \"{name}\" with length {length} bytes'.format(\n",
        "      name=fn, length=len(uploaded[fn])))\n",
        "pt = pandas.read_csv(io.BytesIO(uploaded['tenmatch.csv']))"
      ],
      "execution_count": 83,
      "outputs": [
        {
          "output_type": "display_data",
          "data": {
            "text/html": [
              "\n",
              "     <input type=\"file\" id=\"files-1d5a5ee8-8655-4783-85f4-d7103d0480d5\" name=\"files[]\" multiple disabled\n",
              "        style=\"border:none\" />\n",
              "     <output id=\"result-1d5a5ee8-8655-4783-85f4-d7103d0480d5\">\n",
              "      Upload widget is only available when the cell has been executed in the\n",
              "      current browser session. Please rerun this cell to enable.\n",
              "      </output>\n",
              "      <script src=\"/nbextensions/google.colab/files.js\"></script> "
            ],
            "text/plain": [
              "<IPython.core.display.HTML object>"
            ]
          },
          "metadata": {
            "tags": []
          }
        },
        {
          "output_type": "stream",
          "text": [
            "Saving tenmatch.csv to tenmatch.csv\n",
            "User uploaded file \"tenmatch.csv\" with length 492072 bytes\n"
          ],
          "name": "stdout"
        }
      ]
    },
    {
      "cell_type": "code",
      "metadata": {
        "colab": {
          "base_uri": "https://localhost:8080/",
          "height": 359
        },
        "id": "K3-bC2y9Rt1J",
        "outputId": "56b91893-d3a3-4b03-cc04-d29f3677aff0"
      },
      "source": [
        "pt"
      ],
      "execution_count": 84,
      "outputs": [
        {
          "output_type": "execute_result",
          "data": {
            "text/html": [
              "<div>\n",
              "<style scoped>\n",
              "    .dataframe tbody tr th:only-of-type {\n",
              "        vertical-align: middle;\n",
              "    }\n",
              "\n",
              "    .dataframe tbody tr th {\n",
              "        vertical-align: top;\n",
              "    }\n",
              "\n",
              "    .dataframe thead th {\n",
              "        text-align: right;\n",
              "    }\n",
              "</style>\n",
              "<table border=\"1\" class=\"dataframe\">\n",
              "  <thead>\n",
              "    <tr style=\"text-align: right;\">\n",
              "      <th></th>\n",
              "      <th>Publication_Number</th>\n",
              "      <th>Abstract</th>\n",
              "      <th>Description</th>\n",
              "      <th>Claim</th>\n",
              "    </tr>\n",
              "  </thead>\n",
              "  <tbody>\n",
              "    <tr>\n",
              "      <th>0</th>\n",
              "      <td>US-9428454-B2</td>\n",
              "      <td>A process for the complete or partial oxygenat...</td>\n",
              "      <td>This application is a non-provisional applicat...</td>\n",
              "      <td>What is claimed is: \\n     \\n       1. A proce...</td>\n",
              "    </tr>\n",
              "    <tr>\n",
              "      <th>1</th>\n",
              "      <td>US-9437520-B2</td>\n",
              "      <td>A semiconductor device includes a semiconducto...</td>\n",
              "      <td>TECHNICAL FIELD \\n     The technology disclose...</td>\n",
              "      <td>The invention claimed is: \\n     \\n       1. A...</td>\n",
              "    </tr>\n",
              "    <tr>\n",
              "      <th>2</th>\n",
              "      <td>US-9447236-B2</td>\n",
              "      <td>The present invention relates to a method of m...</td>\n",
              "      <td>This application is a National Stage entry of ...</td>\n",
              "      <td>What is claimed is: \\n     \\n       1. A metho...</td>\n",
              "    </tr>\n",
              "    <tr>\n",
              "      <th>3</th>\n",
              "      <td>US-9449736-B2</td>\n",
              "      <td>A high dielectric contrast composition for par...</td>\n",
              "      <td>RELATED APPLICATIONS \\n     This application c...</td>\n",
              "      <td>The invention claimed is: \\n     \\n       1. A...</td>\n",
              "    </tr>\n",
              "    <tr>\n",
              "      <th>4</th>\n",
              "      <td>US-2008199533-A1</td>\n",
              "      <td>The present invention relates to a cosmetic an...</td>\n",
              "      <td>RELATED APPLICATION \\n     This application is...</td>\n",
              "      <td>1 . A cosmetic and skin care formulation compr...</td>\n",
              "    </tr>\n",
              "    <tr>\n",
              "      <th>5</th>\n",
              "      <td>US-PP25006-P3</td>\n",
              "      <td>A new and distinct  Malus domestica  apple tre...</td>\n",
              "      <td>Latin name of the genus and species of the pla...</td>\n",
              "      <td>We claim: \\n     \\n       1. A new and distinc...</td>\n",
              "    </tr>\n",
              "    <tr>\n",
              "      <th>6</th>\n",
              "      <td>US-2001032345-A1</td>\n",
              "      <td>The present invention relates to a variety of ...</td>\n",
              "      <td>BACKGROUND OF THE INVENTION  \\n       [0001] 1...</td>\n",
              "      <td>I claim:  \\n     \\n         1 . A variety of a...</td>\n",
              "    </tr>\n",
              "    <tr>\n",
              "      <th>7</th>\n",
              "      <td>US-2003195014-A1</td>\n",
              "      <td>A portable telephone set includes a telephone ...</td>\n",
              "      <td>BACKGROUND OF THE INVENTION  \\n       [0001] 1...</td>\n",
              "      <td>What is claimed is:  \\n     \\n         1 . A p...</td>\n",
              "    </tr>\n",
              "    <tr>\n",
              "      <th>8</th>\n",
              "      <td>US-2003009852-A1</td>\n",
              "      <td>A hinge assembly ( 1 ) used for a foldable cel...</td>\n",
              "      <td>TECHNICAL FIELD  \\n       [0001] This inventio...</td>\n",
              "      <td>1 . A hinge assembly comprising a pair of abut...</td>\n",
              "    </tr>\n",
              "    <tr>\n",
              "      <th>9</th>\n",
              "      <td>US-2005155182-A1</td>\n",
              "      <td>A hinge device for coupling two units movable ...</td>\n",
              "      <td>FIELD OF THE INVENTION  \\n      The present in...</td>\n",
              "      <td>1 . A hand-held electronic device comprising: ...</td>\n",
              "    </tr>\n",
              "  </tbody>\n",
              "</table>\n",
              "</div>"
            ],
            "text/plain": [
              "  Publication_Number  ...                                              Claim\n",
              "0      US-9428454-B2  ...  What is claimed is: \\n     \\n       1. A proce...\n",
              "1      US-9437520-B2  ...  The invention claimed is: \\n     \\n       1. A...\n",
              "2      US-9447236-B2  ...  What is claimed is: \\n     \\n       1. A metho...\n",
              "3      US-9449736-B2  ...  The invention claimed is: \\n     \\n       1. A...\n",
              "4   US-2008199533-A1  ...  1 . A cosmetic and skin care formulation compr...\n",
              "5      US-PP25006-P3  ...  We claim: \\n     \\n       1. A new and distinc...\n",
              "6   US-2001032345-A1  ...  I claim:  \\n     \\n         1 . A variety of a...\n",
              "7   US-2003195014-A1  ...  What is claimed is:  \\n     \\n         1 . A p...\n",
              "8   US-2003009852-A1  ...  1 . A hinge assembly comprising a pair of abut...\n",
              "9   US-2005155182-A1  ...  1 . A hand-held electronic device comprising: ...\n",
              "\n",
              "[10 rows x 4 columns]"
            ]
          },
          "metadata": {
            "tags": []
          },
          "execution_count": 84
        }
      ]
    },
    {
      "cell_type": "markdown",
      "metadata": {
        "id": "4vWMegeE7JM6"
      },
      "source": [
        "#Tokenization"
      ]
    },
    {
      "cell_type": "code",
      "metadata": {
        "id": "0P5rhZm-0-6T"
      },
      "source": [
        "  stop_words= {'','i', 'me', 'my', 'myself', 'we', 'our', 'ours', 'ourselves', 'you', \"you're\", \"you've\", \"you'll\", \"you'd\", 'your', 'yours', 'yourself', 'yourselves', 'he', 'him', 'his', 'himself', 'she', \"she's\", 'her', 'hers', 'herself', 'it', \"it's\", 'its', 'itself', 'they', 'them', 'their', 'theirs', 'themselves', 'what', 'which', 'who', 'whom', 'this', 'that', \"that'll\", 'these', 'those', 'am', 'is', 'are', 'was', 'were', 'be', 'been', 'being', 'have', 'has', 'had', 'having', 'do', 'does', 'did', 'doing', 'a', 'an', 'the', 'and', 'but', 'if', 'or', 'because', 'as', 'until', 'while', 'of', 'at', 'by', 'for', 'with', 'about', 'against', 'between', 'into', 'through', 'during', 'before', 'after', 'above', 'below', 'to', 'from', 'up', 'down', 'in', 'out', 'on', 'off', 'over', 'under', 'again', 'further', 'then', 'once', 'here', 'there', 'when', 'where', 'why', 'how', 'all', 'any', 'both', 'each', 'few', 'more', 'most', 'other', 'some', 'such', 'no', 'nor', 'not', 'only', 'own', 'same', 'so', 'than', 'too', 'very', 's', 't', 'can', 'will', 'just', 'don', \"don't\", 'should', \"should've\", 'now', 'd', 'll', 'm', 'o', 're', 've', 'y', 'ain', 'aren', \"aren't\", 'couldn', \"couldn't\", 'didn', \"didn't\", 'doesn', \"doesn't\", 'hadn', \"hadn't\", 'hasn', \"hasn't\", 'haven', \"haven't\", 'isn', \"isn't\", 'ma', 'mightn', \"mightn't\", 'mustn', \"mustn't\", 'needn', \"needn't\", 'shan', \"shan't\", 'shouldn', \"shouldn't\", 'wasn', \"wasn't\", 'weren', \"weren't\", 'won', \"won't\", 'wouldn', \"wouldn't\"}"
      ],
      "execution_count": 69,
      "outputs": []
    },
    {
      "cell_type": "markdown",
      "metadata": {
        "id": "WS94ESDc7zq3"
      },
      "source": [
        "I added '' to the stopwords to avoid the case where a short first word turns into an empty list item"
      ]
    },
    {
      "cell_type": "code",
      "metadata": {
        "id": "MHdZ5YlF7RX8",
        "colab": {
          "base_uri": "https://localhost:8080/"
        },
        "outputId": "ce56cae2-b2e1-437b-e8a0-a16b50421ef0"
      },
      "source": [
        "def tokenize(input):\n",
        "  out = input.lower()\n",
        "  out= re.sub(r'\\b\\w{1,2}\\b','',out) #remove anything not a word of length 2+\n",
        "  out= re.sub(r\"[0-9]+\",\"_NUM_\",out) #substitute _NUM_ for any block of consecutive number chars\n",
        "  print(out)\n",
        "  words= re.split('\\W+', out) #Might need to change to pandas split at some point\n",
        "                            # Note capital W is \"Not word\"= [a-zA-Z0-9_]\n",
        "  words= list(filter(lambda s: s not in stop_words,words)) # why list not set?  ¯\\_(ツ)_/¯\n",
        "  #out = list(filter (lambda s: len (s) > 1, out))\n",
        "  return words\n",
        "print(tokenize(\"I had. 2 some text to ze z 25  100000 tokenize\"))"
      ],
      "execution_count": 70,
      "outputs": [
        {
          "output_type": "stream",
          "text": [
            " had.  some text      _NUM_ tokenize\n",
            "['text', '_NUM_', 'tokenize']\n"
          ],
          "name": "stdout"
        }
      ]
    },
    {
      "cell_type": "code",
      "metadata": {
        "colab": {
          "base_uri": "https://localhost:8080/"
        },
        "id": "0LWWqdxN9A-O",
        "outputId": "2bd911b5-6510-49d3-93a2-c36f93cf658e"
      },
      "source": [
        "atext= tokenize(\"I had. 2 some text to ze z 25  100000 tokenize\")\n",
        "adict= ['text','tokenize','pandas']"
      ],
      "execution_count": 72,
      "outputs": [
        {
          "output_type": "stream",
          "text": [
            " had.  some text      _NUM_ tokenize\n"
          ],
          "name": "stdout"
        }
      ]
    },
    {
      "cell_type": "code",
      "metadata": {
        "colab": {
          "base_uri": "https://localhost:8080/"
        },
        "id": "N9EuqnFX8SLs",
        "outputId": "71adad29-ec7a-4503-8764-ca1c8d623ca8"
      },
      "source": [
        "def bbow(dict,input): #Binary bag of words \n",
        "  out= [s in input for s in dict]\n",
        "  return out \n",
        "print(bbow(adict,atext))"
      ],
      "execution_count": 81,
      "outputs": [
        {
          "output_type": "stream",
          "text": [
            "[True, True, False]\n"
          ],
          "name": "stdout"
        }
      ]
    },
    {
      "cell_type": "code",
      "metadata": {
        "id": "MHC2-sftuGxo"
      },
      "source": [
        "def bbow(series):\n",
        "  for()"
      ],
      "execution_count": null,
      "outputs": []
    },
    {
      "cell_type": "code",
      "metadata": {
        "colab": {
          "base_uri": "https://localhost:8080/",
          "height": 359
        },
        "id": "Co4ileeFgzNY",
        "outputId": "38a90fac-5bcc-45b5-8445-c23ddadc666e"
      },
      "source": [
        "pt"
      ],
      "execution_count": 86,
      "outputs": [
        {
          "output_type": "execute_result",
          "data": {
            "text/html": [
              "<div>\n",
              "<style scoped>\n",
              "    .dataframe tbody tr th:only-of-type {\n",
              "        vertical-align: middle;\n",
              "    }\n",
              "\n",
              "    .dataframe tbody tr th {\n",
              "        vertical-align: top;\n",
              "    }\n",
              "\n",
              "    .dataframe thead th {\n",
              "        text-align: right;\n",
              "    }\n",
              "</style>\n",
              "<table border=\"1\" class=\"dataframe\">\n",
              "  <thead>\n",
              "    <tr style=\"text-align: right;\">\n",
              "      <th></th>\n",
              "      <th>Publication_Number</th>\n",
              "      <th>Abstract</th>\n",
              "      <th>Description</th>\n",
              "      <th>Claim</th>\n",
              "    </tr>\n",
              "  </thead>\n",
              "  <tbody>\n",
              "    <tr>\n",
              "      <th>0</th>\n",
              "      <td>US-9428454-B2</td>\n",
              "      <td>A process for the complete or partial oxygenat...</td>\n",
              "      <td>This application is a non-provisional applicat...</td>\n",
              "      <td>What is claimed is: \\n     \\n       1. A proce...</td>\n",
              "    </tr>\n",
              "    <tr>\n",
              "      <th>1</th>\n",
              "      <td>US-9437520-B2</td>\n",
              "      <td>A semiconductor device includes a semiconducto...</td>\n",
              "      <td>TECHNICAL FIELD \\n     The technology disclose...</td>\n",
              "      <td>The invention claimed is: \\n     \\n       1. A...</td>\n",
              "    </tr>\n",
              "    <tr>\n",
              "      <th>2</th>\n",
              "      <td>US-9447236-B2</td>\n",
              "      <td>The present invention relates to a method of m...</td>\n",
              "      <td>This application is a National Stage entry of ...</td>\n",
              "      <td>What is claimed is: \\n     \\n       1. A metho...</td>\n",
              "    </tr>\n",
              "    <tr>\n",
              "      <th>3</th>\n",
              "      <td>US-9449736-B2</td>\n",
              "      <td>A high dielectric contrast composition for par...</td>\n",
              "      <td>RELATED APPLICATIONS \\n     This application c...</td>\n",
              "      <td>The invention claimed is: \\n     \\n       1. A...</td>\n",
              "    </tr>\n",
              "    <tr>\n",
              "      <th>4</th>\n",
              "      <td>US-2008199533-A1</td>\n",
              "      <td>The present invention relates to a cosmetic an...</td>\n",
              "      <td>RELATED APPLICATION \\n     This application is...</td>\n",
              "      <td>1 . A cosmetic and skin care formulation compr...</td>\n",
              "    </tr>\n",
              "    <tr>\n",
              "      <th>5</th>\n",
              "      <td>US-PP25006-P3</td>\n",
              "      <td>A new and distinct  Malus domestica  apple tre...</td>\n",
              "      <td>Latin name of the genus and species of the pla...</td>\n",
              "      <td>We claim: \\n     \\n       1. A new and distinc...</td>\n",
              "    </tr>\n",
              "    <tr>\n",
              "      <th>6</th>\n",
              "      <td>US-2001032345-A1</td>\n",
              "      <td>The present invention relates to a variety of ...</td>\n",
              "      <td>BACKGROUND OF THE INVENTION  \\n       [0001] 1...</td>\n",
              "      <td>I claim:  \\n     \\n         1 . A variety of a...</td>\n",
              "    </tr>\n",
              "    <tr>\n",
              "      <th>7</th>\n",
              "      <td>US-2003195014-A1</td>\n",
              "      <td>A portable telephone set includes a telephone ...</td>\n",
              "      <td>BACKGROUND OF THE INVENTION  \\n       [0001] 1...</td>\n",
              "      <td>What is claimed is:  \\n     \\n         1 . A p...</td>\n",
              "    </tr>\n",
              "    <tr>\n",
              "      <th>8</th>\n",
              "      <td>US-2003009852-A1</td>\n",
              "      <td>A hinge assembly ( 1 ) used for a foldable cel...</td>\n",
              "      <td>TECHNICAL FIELD  \\n       [0001] This inventio...</td>\n",
              "      <td>1 . A hinge assembly comprising a pair of abut...</td>\n",
              "    </tr>\n",
              "    <tr>\n",
              "      <th>9</th>\n",
              "      <td>US-2005155182-A1</td>\n",
              "      <td>A hinge device for coupling two units movable ...</td>\n",
              "      <td>FIELD OF THE INVENTION  \\n      The present in...</td>\n",
              "      <td>1 . A hand-held electronic device comprising: ...</td>\n",
              "    </tr>\n",
              "  </tbody>\n",
              "</table>\n",
              "</div>"
            ],
            "text/plain": [
              "  Publication_Number  ...                                              Claim\n",
              "0      US-9428454-B2  ...  What is claimed is: \\n     \\n       1. A proce...\n",
              "1      US-9437520-B2  ...  The invention claimed is: \\n     \\n       1. A...\n",
              "2      US-9447236-B2  ...  What is claimed is: \\n     \\n       1. A metho...\n",
              "3      US-9449736-B2  ...  The invention claimed is: \\n     \\n       1. A...\n",
              "4   US-2008199533-A1  ...  1 . A cosmetic and skin care formulation compr...\n",
              "5      US-PP25006-P3  ...  We claim: \\n     \\n       1. A new and distinc...\n",
              "6   US-2001032345-A1  ...  I claim:  \\n     \\n         1 . A variety of a...\n",
              "7   US-2003195014-A1  ...  What is claimed is:  \\n     \\n         1 . A p...\n",
              "8   US-2003009852-A1  ...  1 . A hinge assembly comprising a pair of abut...\n",
              "9   US-2005155182-A1  ...  1 . A hand-held electronic device comprising: ...\n",
              "\n",
              "[10 rows x 4 columns]"
            ]
          },
          "metadata": {
            "tags": []
          },
          "execution_count": 86
        }
      ]
    },
    {
      "cell_type": "code",
      "metadata": {
        "colab": {
          "base_uri": "https://localhost:8080/"
        },
        "id": "1OzMfMAUSIW3",
        "outputId": "0b41b1a3-d416-4222-932b-c43f88de509f"
      },
      "source": [
        "def pTokenize(input): #Now bec pandas series are slightly different, and apparantly not itterating over the lists as strings is better (see: https://stackoverflow.com/questions/16476924/how-to-iterate-over-rows-in-a-dataframe-in-pandas) \n",
        "  out = input.str.lower()\n",
        "  out= out.str.replace(r\"[0-9]+\",\"_NUM_\") #substitute _NUM_ for any block of consecutive number chars\n",
        "  out= out.str.replace(r'\\b\\w{1,2}\\b',\"\") #remove anything not a word of length 2+\n",
        "  out= out.str.split('\\W+') # Note capital W is \"Not word\"= [a-zA-Z0-9_]\n",
        "  # Couldn't figure this out <<<<<<<<<<<\n",
        "  #out[:]= list(filter(lambda s: s not in stop_words, out[:]))\n",
        "  for r in out:\n",
        "      #print(r)\n",
        "      for s in r:\n",
        "        if(s in stop_words):\n",
        "          print(s,end=\"/\")\n",
        "  r= [s for s in r if not s in stop_words]\n",
        "  print(out[0])\n",
        "  print()\n",
        "  #newlist= [s for s in out[] if not s in stop_words ]\n",
        "  # filtered_sentence = [w for w in word_tokens if not w.lower() in stop_words]\n",
        "  # print(out[0])\n",
        "  # print(out.apply (lambda s: len (s) > 1 )[0])\n",
        "  #out = out[out.apply (lambda s: len (s) > 1 )]\n",
        "  return out\n",
        "print(pTokenize(pt['Abstract']))"
      ],
      "execution_count": 124,
      "outputs": [
        {
          "output_type": "stream",
          "text": [
            "/for/the/and/the/and/under/the/the/and/both/and/the/out/from/the/the/the/while///having/and/which/the/the/that/the/the/the/the/the/the/the/the/are/not/the/the//the/more/the/and/the/having/and/and/and/being/for/after///for/that/and/into/the/and/the//the/and/from/and/from/and/and/from/and///and/and/and//the/and/the/the/and/the/the/the/the/the/the/the/the/the/for/the/for/the/the/the/with/the/are/with/each/from/about///and/the/with/and/the/and/has/the/the/the/with/which/with/the/for/and/the/for/the/the/out/from/the/and///for/are/the/where/the/the/and/the/the/are/with/each/other/the/into/with/the/both/the/when/the/are/the/and/the/the/and/both/the/should/and///for/and/with/the/such/the/about/and/about/the/that/the/the/and/that/the/the/the/for/the/against/the/and/for/the/against/the//['', 'process', 'for', 'the', 'complete', 'partial', 'oxygenation', 'hydrocarbons', 'comprises', 'contacting', '_NUM_', '_NUM_', 'hydrocarbon', 'molecular', 'oxygen', 'and', 'hydrogen', 'peroxide', 'the', 'presence', 'water', 'and', 'heterogeneous', 'catalyst', 'under', 'conditions', 'suitable', 'convert', 'the', '_NUM_', '_NUM_', 'hydrocarbon', 'least', 'one', 'corresponding', '_NUM_', '_NUM_', 'oxygenate', 'product', 'wherein', 'the', 'heterogeneous', 'catalyst', 'provides', 'confinement', 'and', 'contains', 'both', 'brønsted', 'lowry', 'acid', 'centers', 'and', 'lewis', 'acid', 'centers', 'the', 'reaction', 'may', 'carried', 'out', 'temperature', 'ranging', 'from', '_NUM_', '_NUM_', 'the', 'use', 'molecular', 'oxygen', 'increases', 'the', 'economic', 'attractiveness', 'the', 'process', 'while', 'also', 'improving', 'yield', '']\n",
            "\n",
            "0    [, process, for, the, complete, partial, oxyge...\n",
            "1    [, semiconductor, device, includes, semiconduc...\n",
            "2    [the, present, invention, relates, method, man...\n",
            "3    [, high, dielectric, contrast, composition, fo...\n",
            "4    [the, present, invention, relates, cosmetic, a...\n",
            "5    [, new, and, distinct, malus, domestica, apple...\n",
            "6    [the, present, invention, relates, variety, ap...\n",
            "7    [, portable, telephone, set, includes, telepho...\n",
            "8    [, hinge, assembly, _NUM_, used, for, foldable...\n",
            "9    [, hinge, device, for, coupling, two, units, m...\n",
            "Name: Abstract, dtype: object\n"
          ],
          "name": "stdout"
        }
      ]
    },
    {
      "cell_type": "code",
      "metadata": {
        "id": "zgvnVHNS_BVy",
        "colab": {
          "base_uri": "https://localhost:8080/"
        },
        "outputId": "18ebcf1c-9e6f-4827-ec0f-c5908f4fad53"
      },
      "source": [
        "#pt['tokenized']=pTokenize(pt['claim_txt'])\n",
        "pt['tokenized']=pt['Publication_Number']\n",
        "for index, row in pt.iterrows():\n",
        "  pt['tokenized'][index]= tokenize(pt['Abstract'][index])"
      ],
      "execution_count": 111,
      "outputs": [
        {
          "output_type": "stream",
          "text": [
            " process for the complete  partial oxygenation  hydrocarbons comprises contacting    -   hydrocarbon, molecular oxygen, and hydrogen peroxide,  the presence  water and  heterogeneous catalyst, under conditions suitable  convert the   -   hydrocarbon   least one corresponding   -   oxygenate product, wherein the heterogeneous catalyst provides confinement and contains both brønsted-lowry acid centers and lewis acid centers. the reaction may  carried out   temperature ranging from ° .  ° . the use  molecular oxygen increases the economic attractiveness  the process while also improving yield.\n",
            " semiconductor device includes  semiconductor element having  rectangular shape   plan view, and  fixed member  which the semiconductor element  fixed. the semiconductor element  disposed  that  rectangular face  the semiconductor element  faced toward  surface  the fixed member.  part  the rectangular face  the semiconductor element  fixed  the surface  the fixed member.  least corner parts  the rectangular face  the semiconductor element are not fixed  the surface  the fixed member.\n",
            "the present invention relates   method  manufacturing polyalkylene carbonate. more specifically, the method  manufacturing polyalkylene carbonate includes solution-polymerizing  epoxide compound and carbon dioxide  the presence   cobalt complex having  neutral singe-site   catalyst and  solvent, thereby providing stability and adjusting degree  polymerization and being advantageous for performing  post-treatment process after polymerization.\n",
            " high dielectric contrast composition for particle formation that includes  high dielectric solvent, and  polymer dissolved into the high dielectric solvent.  method  forming particles including dissolving  polymer   high dielectric solvent  form  high dielectric composition, and dielectrophoretically spinning the high dielectric composition   electric field  form particles.\n",
            "the present invention relates   cosmetic and skin care formulation comprising:  least one pearl selected from  group consisting essentially  cultured pearls, japanese natural pearls, cultured pearls, freshwater pearls, salt water pearls, keshi pearls, mabe pearls and mixtures thereof;  least one tea selected from  group consisting essentially  white tea, black tea, green tea, red tea, oolong tea, herbal tea and mixtures thereof; and  least one fruit selected from  group consisting essentially  miracle fruit, barbados cherry, peanut butter fruit, sugar apple, wampi, imbé, spanish lime, langsat, black sapote, papaya, velvet apple, mabolo, soursop, guanabana, mangosteen, okari nut, passion fruit, rambutan, banana, plantain, mango, sapodilla, red banana, canistel, egg fruit, citron, pummelo, monstera, green papaya, pineapple, durian, star fruit, coconut, jake fruit, pomegranate and mixtures thereof.\n",
            " new and distinct  malus domestica  apple tree variety named ‘imara’, particularly characterized  multiple scab resistance; powdery mildew and fire blight tolerance; smooth skin; white flesh; and slight citrus aroma.\n",
            "the present invention relates   variety   apple tree obtained  branch mutation and  selection  the variety fuji. the present invention variety exhibits  appropriate distinguishability, homogeneity, uniformity, and stability. the vigor  the tree  strong. the tree type  ramified. the habit  the apple tree  drooping. the pubescence   upper half   shoot  weak. the thickness  measured  the diameter  the center  medium for  dormant one year old shoot. the number  lenticells  many for one year old dormant shoot. the color   unopened flower  light pink   balloon stage. the surface  the fruit  colored red with  large number  small yellowish dots. frequently the dots are disposed  curved lines with each line counting from about    dots.\n",
            " portable telephone set includes  telephone set main body and  flipper. the telephone set main body  provided with  hinge mechanism and  flipper joint plate. the flipper joint plate  pivotally supported  hinge modules and has  connector   end thereof. the flipper  joined  the flipper joint plate. the flipper  provided with  cable accommodating portion  which  short cable with  connector  accommodated. the cable includes  short cable main body  long , for example,   and two connectors  respective ends  the cable. for mobile communication, one  the connectors  the cable  taken out from the flipper and connected   information processing device.\n",
            " hinge assembly (  ) used for  foldable cellular telephone, wherein  pair  abutment members ( ,  ) are forcibly rotated  the biasing force   bias means (  )   neutral position where the center parts  the projection (  ) and the recess (  )  the abutment members are generally aligned with each other  circumferential direction, the projection  brought into contact with the recess  both side parts  the abutment members  circumferential direction when the pair  abutment members are rotated  the neutral position, and the outer surface  the projection and both side surfaces  the recess  circumferential direction should desirably  formed   arcuate surface and  outwardly projecting arcuate surface, respectively.\n",
            " hinge device for coupling two units movable  folded and unfolded positions   apparatus with the two units such   portable radiotelephone includes  housing,  first rotating member contained  the housing  rotate about  first rotation axis, and  second rotating member rotatable about  second rotation axis. the hinge device includes  first linearly moving member that  linearly movable due  the rotation  the first rotating member, and  second linearly moving member that  linearly movable due  the rotation  the second rotating member. the hinge device includes  first resilient member for urging the first linearly moving member against the first rotating member, and  second resilient member for urging the second linearly moving member against the second rotating member.\n"
          ],
          "name": "stdout"
        }
      ]
    },
    {
      "cell_type": "code",
      "metadata": {
        "colab": {
          "base_uri": "https://localhost:8080/",
          "height": 359
        },
        "id": "wuRujoSPlL-7",
        "outputId": "3fee1e6f-d1f7-4e3d-bd62-e42475ac11e0"
      },
      "source": [
        "pt"
      ],
      "execution_count": 112,
      "outputs": [
        {
          "output_type": "execute_result",
          "data": {
            "text/html": [
              "<div>\n",
              "<style scoped>\n",
              "    .dataframe tbody tr th:only-of-type {\n",
              "        vertical-align: middle;\n",
              "    }\n",
              "\n",
              "    .dataframe tbody tr th {\n",
              "        vertical-align: top;\n",
              "    }\n",
              "\n",
              "    .dataframe thead th {\n",
              "        text-align: right;\n",
              "    }\n",
              "</style>\n",
              "<table border=\"1\" class=\"dataframe\">\n",
              "  <thead>\n",
              "    <tr style=\"text-align: right;\">\n",
              "      <th></th>\n",
              "      <th>Publication_Number</th>\n",
              "      <th>Abstract</th>\n",
              "      <th>Description</th>\n",
              "      <th>Claim</th>\n",
              "      <th>tokenized</th>\n",
              "    </tr>\n",
              "  </thead>\n",
              "  <tbody>\n",
              "    <tr>\n",
              "      <th>0</th>\n",
              "      <td>US-9428454-B2</td>\n",
              "      <td>A process for the complete or partial oxygenat...</td>\n",
              "      <td>This application is a non-provisional applicat...</td>\n",
              "      <td>What is claimed is: \\n     \\n       1. A proce...</td>\n",
              "      <td>[process, complete, partial, oxygenation, hydr...</td>\n",
              "    </tr>\n",
              "    <tr>\n",
              "      <th>1</th>\n",
              "      <td>US-9437520-B2</td>\n",
              "      <td>A semiconductor device includes a semiconducto...</td>\n",
              "      <td>TECHNICAL FIELD \\n     The technology disclose...</td>\n",
              "      <td>The invention claimed is: \\n     \\n       1. A...</td>\n",
              "      <td>[semiconductor, device, includes, semiconducto...</td>\n",
              "    </tr>\n",
              "    <tr>\n",
              "      <th>2</th>\n",
              "      <td>US-9447236-B2</td>\n",
              "      <td>The present invention relates to a method of m...</td>\n",
              "      <td>This application is a National Stage entry of ...</td>\n",
              "      <td>What is claimed is: \\n     \\n       1. A metho...</td>\n",
              "      <td>[present, invention, relates, method, manufact...</td>\n",
              "    </tr>\n",
              "    <tr>\n",
              "      <th>3</th>\n",
              "      <td>US-9449736-B2</td>\n",
              "      <td>A high dielectric contrast composition for par...</td>\n",
              "      <td>RELATED APPLICATIONS \\n     This application c...</td>\n",
              "      <td>The invention claimed is: \\n     \\n       1. A...</td>\n",
              "      <td>[high, dielectric, contrast, composition, part...</td>\n",
              "    </tr>\n",
              "    <tr>\n",
              "      <th>4</th>\n",
              "      <td>US-2008199533-A1</td>\n",
              "      <td>The present invention relates to a cosmetic an...</td>\n",
              "      <td>RELATED APPLICATION \\n     This application is...</td>\n",
              "      <td>1 . A cosmetic and skin care formulation compr...</td>\n",
              "      <td>[present, invention, relates, cosmetic, skin, ...</td>\n",
              "    </tr>\n",
              "    <tr>\n",
              "      <th>5</th>\n",
              "      <td>US-PP25006-P3</td>\n",
              "      <td>A new and distinct  Malus domestica  apple tre...</td>\n",
              "      <td>Latin name of the genus and species of the pla...</td>\n",
              "      <td>We claim: \\n     \\n       1. A new and distinc...</td>\n",
              "      <td>[new, distinct, malus, domestica, apple, tree,...</td>\n",
              "    </tr>\n",
              "    <tr>\n",
              "      <th>6</th>\n",
              "      <td>US-2001032345-A1</td>\n",
              "      <td>The present invention relates to a variety of ...</td>\n",
              "      <td>BACKGROUND OF THE INVENTION  \\n       [0001] 1...</td>\n",
              "      <td>I claim:  \\n     \\n         1 . A variety of a...</td>\n",
              "      <td>[present, invention, relates, variety, apple, ...</td>\n",
              "    </tr>\n",
              "    <tr>\n",
              "      <th>7</th>\n",
              "      <td>US-2003195014-A1</td>\n",
              "      <td>A portable telephone set includes a telephone ...</td>\n",
              "      <td>BACKGROUND OF THE INVENTION  \\n       [0001] 1...</td>\n",
              "      <td>What is claimed is:  \\n     \\n         1 . A p...</td>\n",
              "      <td>[portable, telephone, set, includes, telephone...</td>\n",
              "    </tr>\n",
              "    <tr>\n",
              "      <th>8</th>\n",
              "      <td>US-2003009852-A1</td>\n",
              "      <td>A hinge assembly ( 1 ) used for a foldable cel...</td>\n",
              "      <td>TECHNICAL FIELD  \\n       [0001] This inventio...</td>\n",
              "      <td>1 . A hinge assembly comprising a pair of abut...</td>\n",
              "      <td>[hinge, assembly, used, foldable, cellular, te...</td>\n",
              "    </tr>\n",
              "    <tr>\n",
              "      <th>9</th>\n",
              "      <td>US-2005155182-A1</td>\n",
              "      <td>A hinge device for coupling two units movable ...</td>\n",
              "      <td>FIELD OF THE INVENTION  \\n      The present in...</td>\n",
              "      <td>1 . A hand-held electronic device comprising: ...</td>\n",
              "      <td>[hinge, device, coupling, two, units, movable,...</td>\n",
              "    </tr>\n",
              "  </tbody>\n",
              "</table>\n",
              "</div>"
            ],
            "text/plain": [
              "  Publication_Number  ...                                          tokenized\n",
              "0      US-9428454-B2  ...  [process, complete, partial, oxygenation, hydr...\n",
              "1      US-9437520-B2  ...  [semiconductor, device, includes, semiconducto...\n",
              "2      US-9447236-B2  ...  [present, invention, relates, method, manufact...\n",
              "3      US-9449736-B2  ...  [high, dielectric, contrast, composition, part...\n",
              "4   US-2008199533-A1  ...  [present, invention, relates, cosmetic, skin, ...\n",
              "5      US-PP25006-P3  ...  [new, distinct, malus, domestica, apple, tree,...\n",
              "6   US-2001032345-A1  ...  [present, invention, relates, variety, apple, ...\n",
              "7   US-2003195014-A1  ...  [portable, telephone, set, includes, telephone...\n",
              "8   US-2003009852-A1  ...  [hinge, assembly, used, foldable, cellular, te...\n",
              "9   US-2005155182-A1  ...  [hinge, device, coupling, two, units, movable,...\n",
              "\n",
              "[10 rows x 5 columns]"
            ]
          },
          "metadata": {
            "tags": []
          },
          "execution_count": 112
        }
      ]
    },
    {
      "cell_type": "code",
      "metadata": {
        "colab": {
          "base_uri": "https://localhost:8080/"
        },
        "id": "5H53bv9SvxKA",
        "outputId": "694b24e4-c868-432b-d911-0c4028687c8f"
      },
      "source": [
        "acell= pt['tokenized'][0]\n",
        "acell"
      ],
      "execution_count": 114,
      "outputs": [
        {
          "output_type": "execute_result",
          "data": {
            "text/plain": [
              "['process',\n",
              " 'complete',\n",
              " 'partial',\n",
              " 'oxygenation',\n",
              " 'hydrocarbons',\n",
              " 'comprises',\n",
              " 'contacting',\n",
              " 'hydrocarbon',\n",
              " 'molecular',\n",
              " 'oxygen',\n",
              " 'hydrogen',\n",
              " 'peroxide',\n",
              " 'presence',\n",
              " 'water',\n",
              " 'heterogeneous',\n",
              " 'catalyst',\n",
              " 'conditions',\n",
              " 'suitable',\n",
              " 'convert',\n",
              " 'hydrocarbon',\n",
              " 'least',\n",
              " 'one',\n",
              " 'corresponding',\n",
              " 'oxygenate',\n",
              " 'product',\n",
              " 'wherein',\n",
              " 'heterogeneous',\n",
              " 'catalyst',\n",
              " 'provides',\n",
              " 'confinement',\n",
              " 'contains',\n",
              " 'brønsted',\n",
              " 'lowry',\n",
              " 'acid',\n",
              " 'centers',\n",
              " 'lewis',\n",
              " 'acid',\n",
              " 'centers',\n",
              " 'reaction',\n",
              " 'may',\n",
              " 'carried',\n",
              " 'temperature',\n",
              " 'ranging',\n",
              " 'use',\n",
              " 'molecular',\n",
              " 'oxygen',\n",
              " 'increases',\n",
              " 'economic',\n",
              " 'attractiveness',\n",
              " 'process',\n",
              " 'also',\n",
              " 'improving',\n",
              " 'yield']"
            ]
          },
          "metadata": {
            "tags": []
          },
          "execution_count": 114
        }
      ]
    },
    {
      "cell_type": "code",
      "metadata": {
        "colab": {
          "base_uri": "https://localhost:8080/"
        },
        "id": "WkPA2ghc7kNQ",
        "outputId": "63eab292-119c-41a4-df51-c289315371d2"
      },
      "source": [
        "def bow(series,corpus =None): # Takes a tokenized series\n",
        "  if corpus is None:\n",
        "    corpus = getCorpus(series)\n",
        "  counts=[]\n",
        "  for r in series:\n",
        "    count={}\n",
        "    for w in corpus:\n",
        "      count[w]=r.count(w)\n",
        "    counts.append(count)\n",
        "  return counts\n",
        "def getCorpus(series):\n",
        "  corpus=set()\n",
        "  for r in series:\n",
        "    corpus.update(r)\n",
        "  print(\"corpus: \"+str(corpus) )\n",
        "  return corpus\n",
        "atext= tokenize(\"I had. 2 some text to ze z 25  100000 tokenize\")\n",
        "adict= ['text','tokenize','pandas']\n",
        "bdict= ['unrealted','cellulardevice','talkingpoint']\n",
        "ser= [adict,bdict]\n",
        "print(bow(ser))"
      ],
      "execution_count": 142,
      "outputs": [
        {
          "output_type": "stream",
          "text": [
            " had.  some text      _NUM_ tokenize\n",
            "corpus: {'pandas', 'talkingpoint', 'text', 'unrealted', 'cellulardevice', 'tokenize'}\n",
            "[{'pandas': 1, 'talkingpoint': 0, 'text': 1, 'unrealted': 0, 'cellulardevice': 0, 'tokenize': 1}, {'pandas': 0, 'talkingpoint': 1, 'text': 0, 'unrealted': 1, 'cellulardevice': 1, 'tokenize': 0}]\n"
          ],
          "name": "stdout"
        }
      ]
    },
    {
      "cell_type": "markdown",
      "metadata": {
        "id": "WdY0Cep-tqzN"
      },
      "source": [
        "Adding binary BOW as new column"
      ]
    },
    {
      "cell_type": "code",
      "metadata": {
        "id": "WKFk06H0sc5a"
      },
      "source": [
        "\n",
        "for index, row in pt.iterrows():\n",
        "  pt['b-bow'][index]= tokenize(pt['Abstract'][index])"
      ],
      "execution_count": null,
      "outputs": []
    },
    {
      "cell_type": "code",
      "metadata": {
        "colab": {
          "base_uri": "https://localhost:8080/",
          "height": 358
        },
        "id": "RpSgi8XQDhBp",
        "outputId": "2c13c393-3053-4982-a021-f026bcf4e68a"
      },
      "source": [
        "pt.reset_index(drop=True)\n",
        "pt['Bagged']= bow('tokenized')\n",
        "pt['Bagged']"
      ],
      "execution_count": 147,
      "outputs": [
        {
          "output_type": "stream",
          "text": [
            "corpus: {'t', 'o', 'i', 'k', 'e', 'z', 'd', 'n'}\n"
          ],
          "name": "stdout"
        },
        {
          "output_type": "error",
          "ename": "ValueError",
          "evalue": "ignored",
          "traceback": [
            "\u001b[0;31m---------------------------------------------------------------------------\u001b[0m",
            "\u001b[0;31mValueError\u001b[0m                                Traceback (most recent call last)",
            "\u001b[0;32m<ipython-input-147-b0b13b32144c>\u001b[0m in \u001b[0;36m<module>\u001b[0;34m()\u001b[0m\n\u001b[1;32m      1\u001b[0m \u001b[0mpt\u001b[0m\u001b[0;34m.\u001b[0m\u001b[0mreset_index\u001b[0m\u001b[0;34m(\u001b[0m\u001b[0mdrop\u001b[0m\u001b[0;34m=\u001b[0m\u001b[0;32mTrue\u001b[0m\u001b[0;34m)\u001b[0m\u001b[0;34m\u001b[0m\u001b[0;34m\u001b[0m\u001b[0m\n\u001b[0;32m----> 2\u001b[0;31m \u001b[0mpt\u001b[0m\u001b[0;34m[\u001b[0m\u001b[0;34m'Bagged'\u001b[0m\u001b[0;34m]\u001b[0m\u001b[0;34m=\u001b[0m \u001b[0mbow\u001b[0m\u001b[0;34m(\u001b[0m\u001b[0;34m'tokenized'\u001b[0m\u001b[0;34m)\u001b[0m\u001b[0;34m\u001b[0m\u001b[0;34m\u001b[0m\u001b[0m\n\u001b[0m\u001b[1;32m      3\u001b[0m \u001b[0mpt\u001b[0m\u001b[0;34m[\u001b[0m\u001b[0;34m'Bagged'\u001b[0m\u001b[0;34m]\u001b[0m\u001b[0;34m\u001b[0m\u001b[0;34m\u001b[0m\u001b[0m\n",
            "\u001b[0;32m/usr/local/lib/python3.7/dist-packages/pandas/core/frame.py\u001b[0m in \u001b[0;36m__setitem__\u001b[0;34m(self, key, value)\u001b[0m\n\u001b[1;32m   3042\u001b[0m         \u001b[0;32melse\u001b[0m\u001b[0;34m:\u001b[0m\u001b[0;34m\u001b[0m\u001b[0;34m\u001b[0m\u001b[0m\n\u001b[1;32m   3043\u001b[0m             \u001b[0;31m# set column\u001b[0m\u001b[0;34m\u001b[0m\u001b[0;34m\u001b[0m\u001b[0;34m\u001b[0m\u001b[0m\n\u001b[0;32m-> 3044\u001b[0;31m             \u001b[0mself\u001b[0m\u001b[0;34m.\u001b[0m\u001b[0m_set_item\u001b[0m\u001b[0;34m(\u001b[0m\u001b[0mkey\u001b[0m\u001b[0;34m,\u001b[0m \u001b[0mvalue\u001b[0m\u001b[0;34m)\u001b[0m\u001b[0;34m\u001b[0m\u001b[0;34m\u001b[0m\u001b[0m\n\u001b[0m\u001b[1;32m   3045\u001b[0m \u001b[0;34m\u001b[0m\u001b[0m\n\u001b[1;32m   3046\u001b[0m     \u001b[0;32mdef\u001b[0m \u001b[0m_setitem_slice\u001b[0m\u001b[0;34m(\u001b[0m\u001b[0mself\u001b[0m\u001b[0;34m,\u001b[0m \u001b[0mkey\u001b[0m\u001b[0;34m:\u001b[0m \u001b[0mslice\u001b[0m\u001b[0;34m,\u001b[0m \u001b[0mvalue\u001b[0m\u001b[0;34m)\u001b[0m\u001b[0;34m:\u001b[0m\u001b[0;34m\u001b[0m\u001b[0;34m\u001b[0m\u001b[0m\n",
            "\u001b[0;32m/usr/local/lib/python3.7/dist-packages/pandas/core/frame.py\u001b[0m in \u001b[0;36m_set_item\u001b[0;34m(self, key, value)\u001b[0m\n\u001b[1;32m   3118\u001b[0m         \"\"\"\n\u001b[1;32m   3119\u001b[0m         \u001b[0mself\u001b[0m\u001b[0;34m.\u001b[0m\u001b[0m_ensure_valid_index\u001b[0m\u001b[0;34m(\u001b[0m\u001b[0mvalue\u001b[0m\u001b[0;34m)\u001b[0m\u001b[0;34m\u001b[0m\u001b[0;34m\u001b[0m\u001b[0m\n\u001b[0;32m-> 3120\u001b[0;31m         \u001b[0mvalue\u001b[0m \u001b[0;34m=\u001b[0m \u001b[0mself\u001b[0m\u001b[0;34m.\u001b[0m\u001b[0m_sanitize_column\u001b[0m\u001b[0;34m(\u001b[0m\u001b[0mkey\u001b[0m\u001b[0;34m,\u001b[0m \u001b[0mvalue\u001b[0m\u001b[0;34m)\u001b[0m\u001b[0;34m\u001b[0m\u001b[0;34m\u001b[0m\u001b[0m\n\u001b[0m\u001b[1;32m   3121\u001b[0m         \u001b[0mNDFrame\u001b[0m\u001b[0;34m.\u001b[0m\u001b[0m_set_item\u001b[0m\u001b[0;34m(\u001b[0m\u001b[0mself\u001b[0m\u001b[0;34m,\u001b[0m \u001b[0mkey\u001b[0m\u001b[0;34m,\u001b[0m \u001b[0mvalue\u001b[0m\u001b[0;34m)\u001b[0m\u001b[0;34m\u001b[0m\u001b[0;34m\u001b[0m\u001b[0m\n\u001b[1;32m   3122\u001b[0m \u001b[0;34m\u001b[0m\u001b[0m\n",
            "\u001b[0;32m/usr/local/lib/python3.7/dist-packages/pandas/core/frame.py\u001b[0m in \u001b[0;36m_sanitize_column\u001b[0;34m(self, key, value, broadcast)\u001b[0m\n\u001b[1;32m   3766\u001b[0m \u001b[0;34m\u001b[0m\u001b[0m\n\u001b[1;32m   3767\u001b[0m             \u001b[0;31m# turn me into an ndarray\u001b[0m\u001b[0;34m\u001b[0m\u001b[0;34m\u001b[0m\u001b[0;34m\u001b[0m\u001b[0m\n\u001b[0;32m-> 3768\u001b[0;31m             \u001b[0mvalue\u001b[0m \u001b[0;34m=\u001b[0m \u001b[0msanitize_index\u001b[0m\u001b[0;34m(\u001b[0m\u001b[0mvalue\u001b[0m\u001b[0;34m,\u001b[0m \u001b[0mself\u001b[0m\u001b[0;34m.\u001b[0m\u001b[0mindex\u001b[0m\u001b[0;34m)\u001b[0m\u001b[0;34m\u001b[0m\u001b[0;34m\u001b[0m\u001b[0m\n\u001b[0m\u001b[1;32m   3769\u001b[0m             \u001b[0;32mif\u001b[0m \u001b[0;32mnot\u001b[0m \u001b[0misinstance\u001b[0m\u001b[0;34m(\u001b[0m\u001b[0mvalue\u001b[0m\u001b[0;34m,\u001b[0m \u001b[0;34m(\u001b[0m\u001b[0mnp\u001b[0m\u001b[0;34m.\u001b[0m\u001b[0mndarray\u001b[0m\u001b[0;34m,\u001b[0m \u001b[0mIndex\u001b[0m\u001b[0;34m)\u001b[0m\u001b[0;34m)\u001b[0m\u001b[0;34m:\u001b[0m\u001b[0;34m\u001b[0m\u001b[0;34m\u001b[0m\u001b[0m\n\u001b[1;32m   3770\u001b[0m                 \u001b[0;32mif\u001b[0m \u001b[0misinstance\u001b[0m\u001b[0;34m(\u001b[0m\u001b[0mvalue\u001b[0m\u001b[0;34m,\u001b[0m \u001b[0mlist\u001b[0m\u001b[0;34m)\u001b[0m \u001b[0;32mand\u001b[0m \u001b[0mlen\u001b[0m\u001b[0;34m(\u001b[0m\u001b[0mvalue\u001b[0m\u001b[0;34m)\u001b[0m \u001b[0;34m>\u001b[0m \u001b[0;36m0\u001b[0m\u001b[0;34m:\u001b[0m\u001b[0;34m\u001b[0m\u001b[0;34m\u001b[0m\u001b[0m\n",
            "\u001b[0;32m/usr/local/lib/python3.7/dist-packages/pandas/core/internals/construction.py\u001b[0m in \u001b[0;36msanitize_index\u001b[0;34m(data, index)\u001b[0m\n\u001b[1;32m    746\u001b[0m     \u001b[0;32mif\u001b[0m \u001b[0mlen\u001b[0m\u001b[0;34m(\u001b[0m\u001b[0mdata\u001b[0m\u001b[0;34m)\u001b[0m \u001b[0;34m!=\u001b[0m \u001b[0mlen\u001b[0m\u001b[0;34m(\u001b[0m\u001b[0mindex\u001b[0m\u001b[0;34m)\u001b[0m\u001b[0;34m:\u001b[0m\u001b[0;34m\u001b[0m\u001b[0;34m\u001b[0m\u001b[0m\n\u001b[1;32m    747\u001b[0m         raise ValueError(\n\u001b[0;32m--> 748\u001b[0;31m             \u001b[0;34m\"Length of values \"\u001b[0m\u001b[0;34m\u001b[0m\u001b[0;34m\u001b[0m\u001b[0m\n\u001b[0m\u001b[1;32m    749\u001b[0m             \u001b[0;34mf\"({len(data)}) \"\u001b[0m\u001b[0;34m\u001b[0m\u001b[0;34m\u001b[0m\u001b[0m\n\u001b[1;32m    750\u001b[0m             \u001b[0;34m\"does not match length of index \"\u001b[0m\u001b[0;34m\u001b[0m\u001b[0;34m\u001b[0m\u001b[0m\n",
            "\u001b[0;31mValueError\u001b[0m: Length of values (9) does not match length of index (10)"
          ]
        }
      ]
    }
  ]
}