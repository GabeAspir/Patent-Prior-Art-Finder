{
  "nbformat": 4,
  "nbformat_minor": 0,
  "metadata": {
    "colab": {
      "name": "Getting into text_Ephraim",
      "provenance": [],
      "collapsed_sections": [],
      "authorship_tag": "ABX9TyMVcGiSYctUy2JllbhxmWNv",
      "include_colab_link": true
    },
    "kernelspec": {
      "name": "python3",
      "display_name": "Python 3"
    },
    "language_info": {
      "name": "python"
    }
  },
  "cells": [
    {
      "cell_type": "markdown",
      "metadata": {
        "id": "view-in-github",
        "colab_type": "text"
      },
      "source": [
        "<a href=\"https://colab.research.google.com/github/GabeAspir/Patent-Prior-Art-Finder/blob/main/Getting_into_text_Ephraim.ipynb\" target=\"_parent\"><img src=\"https://colab.research.google.com/assets/colab-badge.svg\" alt=\"Open In Colab\"/></a>"
      ]
    },
    {
      "cell_type": "markdown",
      "metadata": {
        "id": "tQEiaS5FFSPE"
      },
      "source": [
        "# Text methodologies\n",
        "* Importing new data\n",
        "* Tokenizing\n",
        "\n"
      ]
    },
    {
      "cell_type": "code",
      "metadata": {
        "colab": {
          "base_uri": "https://localhost:8080/"
        },
        "id": "xThAs2IpRLoS",
        "outputId": "1e7650c5-7247-4864-f1cf-2409d8b366d3"
      },
      "source": [
        "import pandas\n",
        "from google.colab import files\n",
        "from google.colab import drive\n",
        "import io\n",
        "import re\n",
        "\n",
        "drive.mount('/content/drive')"
      ],
      "execution_count": 3,
      "outputs": [
        {
          "output_type": "stream",
          "text": [
            "Mounted at /content/drive\n"
          ],
          "name": "stdout"
        }
      ]
    },
    {
      "cell_type": "code",
      "metadata": {
        "colab": {
          "base_uri": "https://localhost:8080/"
        },
        "id": "GQKtF3g6TC0-",
        "outputId": "11b10077-7bca-4723-d1f6-3a5c367c9f30"
      },
      "source": [
        "%cd /content/drive/My Drive/bq-results-20210616-103551-n0c3m546u1li/\n",
        "\n",
        "pt= pandas.read_csv('bq-results-20210614-101306-uybbgfv0jf8q.csv')"
      ],
      "execution_count": 4,
      "outputs": [
        {
          "output_type": "stream",
          "text": [
            "/content/drive/My Drive/bq-results-20210616-103551-n0c3m546u1li\n"
          ],
          "name": "stdout"
        }
      ]
    },
    {
      "cell_type": "code",
      "metadata": {
        "colab": {
          "base_uri": "https://localhost:8080/",
          "height": 419
        },
        "id": "K3-bC2y9Rt1J",
        "outputId": "0a90e7b0-4a30-4c00-d332-1b05cdc94519"
      },
      "source": [
        "pt"
      ],
      "execution_count": 80,
      "outputs": [
        {
          "output_type": "execute_result",
          "data": {
            "text/html": [
              "<div>\n",
              "<style scoped>\n",
              "    .dataframe tbody tr th:only-of-type {\n",
              "        vertical-align: middle;\n",
              "    }\n",
              "\n",
              "    .dataframe tbody tr th {\n",
              "        vertical-align: top;\n",
              "    }\n",
              "\n",
              "    .dataframe thead th {\n",
              "        text-align: right;\n",
              "    }\n",
              "</style>\n",
              "<table border=\"1\" class=\"dataframe\">\n",
              "  <thead>\n",
              "    <tr style=\"text-align: right;\">\n",
              "      <th></th>\n",
              "      <th>pat_no</th>\n",
              "      <th>claim_no</th>\n",
              "      <th>claim_txt</th>\n",
              "    </tr>\n",
              "  </thead>\n",
              "  <tbody>\n",
              "    <tr>\n",
              "      <th>0</th>\n",
              "      <td>3930271</td>\n",
              "      <td>1</td>\n",
              "      <td>1. A golf glove comprising at least an index f...</td>\n",
              "    </tr>\n",
              "    <tr>\n",
              "      <th>1</th>\n",
              "      <td>3930271</td>\n",
              "      <td>4</td>\n",
              "      <td>4. A golf glove adapted for use on one hand of...</td>\n",
              "    </tr>\n",
              "    <tr>\n",
              "      <th>2</th>\n",
              "      <td>3930271</td>\n",
              "      <td>3</td>\n",
              "      <td>3. A glove comprising an index finger receptac...</td>\n",
              "    </tr>\n",
              "    <tr>\n",
              "      <th>3</th>\n",
              "      <td>3930271</td>\n",
              "      <td>2</td>\n",
              "      <td>2. A golf glove in accordance with claim 1 whe...</td>\n",
              "    </tr>\n",
              "    <tr>\n",
              "      <th>4</th>\n",
              "      <td>3930272</td>\n",
              "      <td>1</td>\n",
              "      <td>1. In combination with a height adjustable cri...</td>\n",
              "    </tr>\n",
              "    <tr>\n",
              "      <th>...</th>\n",
              "      <td>...</td>\n",
              "      <td>...</td>\n",
              "      <td>...</td>\n",
              "    </tr>\n",
              "    <tr>\n",
              "      <th>95</th>\n",
              "      <td>3930281</td>\n",
              "      <td>7</td>\n",
              "      <td>7. The floor cleaning machine as defined in cl...</td>\n",
              "    </tr>\n",
              "    <tr>\n",
              "      <th>96</th>\n",
              "      <td>3930281</td>\n",
              "      <td>11</td>\n",
              "      <td>11. The floor cleaning machine as defined in c...</td>\n",
              "    </tr>\n",
              "    <tr>\n",
              "      <th>97</th>\n",
              "      <td>3930281</td>\n",
              "      <td>9</td>\n",
              "      <td>9. The floor cleaning machine as defined in cl...</td>\n",
              "    </tr>\n",
              "    <tr>\n",
              "      <th>98</th>\n",
              "      <td>3930281</td>\n",
              "      <td>3</td>\n",
              "      <td>3. The floor cleaning machine as defined in cl...</td>\n",
              "    </tr>\n",
              "    <tr>\n",
              "      <th>99</th>\n",
              "      <td>3930281</td>\n",
              "      <td>10</td>\n",
              "      <td>10. The floor cleaning machine as defined in c...</td>\n",
              "    </tr>\n",
              "  </tbody>\n",
              "</table>\n",
              "<p>100 rows × 3 columns</p>\n",
              "</div>"
            ],
            "text/plain": [
              "     pat_no  claim_no                                          claim_txt\n",
              "0   3930271         1  1. A golf glove comprising at least an index f...\n",
              "1   3930271         4  4. A golf glove adapted for use on one hand of...\n",
              "2   3930271         3  3. A glove comprising an index finger receptac...\n",
              "3   3930271         2  2. A golf glove in accordance with claim 1 whe...\n",
              "4   3930272         1  1. In combination with a height adjustable cri...\n",
              "..      ...       ...                                                ...\n",
              "95  3930281         7  7. The floor cleaning machine as defined in cl...\n",
              "96  3930281        11  11. The floor cleaning machine as defined in c...\n",
              "97  3930281         9  9. The floor cleaning machine as defined in cl...\n",
              "98  3930281         3  3. The floor cleaning machine as defined in cl...\n",
              "99  3930281        10  10. The floor cleaning machine as defined in c...\n",
              "\n",
              "[100 rows x 3 columns]"
            ]
          },
          "metadata": {
            "tags": []
          },
          "execution_count": 80
        }
      ]
    },
    {
      "cell_type": "markdown",
      "metadata": {
        "id": "4vWMegeE7JM6"
      },
      "source": [
        "#Tokenization"
      ]
    },
    {
      "cell_type": "code",
      "metadata": {
        "id": "MHdZ5YlF7RX8"
      },
      "source": [
        "def tokenize(input):\n",
        "  input = input.lower()\n",
        "  out= re.split('\\W', input) #Might need to change to pandas split at some point\n",
        "                             # Note capital W is \"Not word\"= [a-zA-Z0-9_]\n",
        "  out[:]= [re.sub(r\"[0-9]+\",\"_NUM_\",s) for s in out] #substitute _NUM_ for any block of consecutive number chars\n",
        "  out = list(filter (lambda s: len (s) > 1, out))\n",
        "  return out"
      ],
      "execution_count": 152,
      "outputs": []
    },
    {
      "cell_type": "code",
      "metadata": {
        "colab": {
          "base_uri": "https://localhost:8080/"
        },
        "id": "iK4e4kc_CDxw",
        "outputId": "71e3bdc4-0366-4e30-d599-a7fe9135239b"
      },
      "source": [
        "print(tokenize(\"I had. 2 some text to 25  100000 tokenize\"))"
      ],
      "execution_count": 153,
      "outputs": [
        {
          "output_type": "stream",
          "text": [
            "['had', '_NUM_', 'some', 'text', 'to', '_NUM_', '_NUM_', 'tokenize']\n"
          ],
          "name": "stdout"
        }
      ]
    },
    {
      "cell_type": "code",
      "metadata": {
        "colab": {
          "base_uri": "https://localhost:8080/",
          "height": 419
        },
        "id": "Co4ileeFgzNY",
        "outputId": "975837f6-e7aa-4e44-a801-0653420a5e6c"
      },
      "source": [
        "pt"
      ],
      "execution_count": 189,
      "outputs": [
        {
          "output_type": "execute_result",
          "data": {
            "text/html": [
              "<div>\n",
              "<style scoped>\n",
              "    .dataframe tbody tr th:only-of-type {\n",
              "        vertical-align: middle;\n",
              "    }\n",
              "\n",
              "    .dataframe tbody tr th {\n",
              "        vertical-align: top;\n",
              "    }\n",
              "\n",
              "    .dataframe thead th {\n",
              "        text-align: right;\n",
              "    }\n",
              "</style>\n",
              "<table border=\"1\" class=\"dataframe\">\n",
              "  <thead>\n",
              "    <tr style=\"text-align: right;\">\n",
              "      <th></th>\n",
              "      <th>pat_no</th>\n",
              "      <th>claim_no</th>\n",
              "      <th>claim_txt</th>\n",
              "    </tr>\n",
              "  </thead>\n",
              "  <tbody>\n",
              "    <tr>\n",
              "      <th>0</th>\n",
              "      <td>3930271</td>\n",
              "      <td>1</td>\n",
              "      <td>1. A golf glove comprising at least an index f...</td>\n",
              "    </tr>\n",
              "    <tr>\n",
              "      <th>1</th>\n",
              "      <td>3930271</td>\n",
              "      <td>4</td>\n",
              "      <td>4. A golf glove adapted for use on one hand of...</td>\n",
              "    </tr>\n",
              "    <tr>\n",
              "      <th>2</th>\n",
              "      <td>3930271</td>\n",
              "      <td>3</td>\n",
              "      <td>3. A glove comprising an index finger receptac...</td>\n",
              "    </tr>\n",
              "    <tr>\n",
              "      <th>3</th>\n",
              "      <td>3930271</td>\n",
              "      <td>2</td>\n",
              "      <td>2. A golf glove in accordance with claim 1 whe...</td>\n",
              "    </tr>\n",
              "    <tr>\n",
              "      <th>4</th>\n",
              "      <td>3930272</td>\n",
              "      <td>1</td>\n",
              "      <td>1. In combination with a height adjustable cri...</td>\n",
              "    </tr>\n",
              "    <tr>\n",
              "      <th>...</th>\n",
              "      <td>...</td>\n",
              "      <td>...</td>\n",
              "      <td>...</td>\n",
              "    </tr>\n",
              "    <tr>\n",
              "      <th>95</th>\n",
              "      <td>3930281</td>\n",
              "      <td>7</td>\n",
              "      <td>7. The floor cleaning machine as defined in cl...</td>\n",
              "    </tr>\n",
              "    <tr>\n",
              "      <th>96</th>\n",
              "      <td>3930281</td>\n",
              "      <td>11</td>\n",
              "      <td>11. The floor cleaning machine as defined in c...</td>\n",
              "    </tr>\n",
              "    <tr>\n",
              "      <th>97</th>\n",
              "      <td>3930281</td>\n",
              "      <td>9</td>\n",
              "      <td>9. The floor cleaning machine as defined in cl...</td>\n",
              "    </tr>\n",
              "    <tr>\n",
              "      <th>98</th>\n",
              "      <td>3930281</td>\n",
              "      <td>3</td>\n",
              "      <td>3. The floor cleaning machine as defined in cl...</td>\n",
              "    </tr>\n",
              "    <tr>\n",
              "      <th>99</th>\n",
              "      <td>3930281</td>\n",
              "      <td>10</td>\n",
              "      <td>10. The floor cleaning machine as defined in c...</td>\n",
              "    </tr>\n",
              "  </tbody>\n",
              "</table>\n",
              "<p>100 rows × 3 columns</p>\n",
              "</div>"
            ],
            "text/plain": [
              "     pat_no  claim_no                                          claim_txt\n",
              "0   3930271         1  1. A golf glove comprising at least an index f...\n",
              "1   3930271         4  4. A golf glove adapted for use on one hand of...\n",
              "2   3930271         3  3. A glove comprising an index finger receptac...\n",
              "3   3930271         2  2. A golf glove in accordance with claim 1 whe...\n",
              "4   3930272         1  1. In combination with a height adjustable cri...\n",
              "..      ...       ...                                                ...\n",
              "95  3930281         7  7. The floor cleaning machine as defined in cl...\n",
              "96  3930281        11  11. The floor cleaning machine as defined in c...\n",
              "97  3930281         9  9. The floor cleaning machine as defined in cl...\n",
              "98  3930281         3  3. The floor cleaning machine as defined in cl...\n",
              "99  3930281        10  10. The floor cleaning machine as defined in c...\n",
              "\n",
              "[100 rows x 3 columns]"
            ]
          },
          "metadata": {
            "tags": []
          },
          "execution_count": 189
        }
      ]
    },
    {
      "cell_type": "code",
      "metadata": {
        "colab": {
          "base_uri": "https://localhost:8080/"
        },
        "id": "Wr54Z5U3fxjl",
        "outputId": "b62000d9-94ac-4cde-ac0d-1538b6ebf3d7"
      },
      "source": [
        "def meth(inp):\n",
        "  return inp.str.split('\\W')\n",
        "print(meth(pt['claim_txt']))"
      ],
      "execution_count": 190,
      "outputs": [
        {
          "output_type": "stream",
          "text": [
            "0     [1, , A, golf, glove, comprising, at, least, a...\n",
            "1     [4, , A, golf, glove, adapted, for, use, on, o...\n",
            "2     [3, , A, glove, comprising, an, index, finger,...\n",
            "3     [2, , A, golf, glove, in, accordance, with, cl...\n",
            "4     [1, , In, combination, with, a, height, adjust...\n",
            "                            ...                        \n",
            "95    [7, , The, floor, cleaning, machine, as, defin...\n",
            "96    [11, , The, floor, cleaning, machine, as, defi...\n",
            "97    [9, , The, floor, cleaning, machine, as, defin...\n",
            "98    [3, , The, floor, cleaning, machine, as, defin...\n",
            "99    [10, , The, floor, cleaning, machine, as, defi...\n",
            "Name: claim_txt, Length: 100, dtype: object\n"
          ],
          "name": "stdout"
        }
      ]
    },
    {
      "cell_type": "code",
      "metadata": {
        "colab": {
          "base_uri": "https://localhost:8080/"
        },
        "id": "1OzMfMAUSIW3",
        "outputId": "30bb3f32-0a83-4710-d8eb-b200d8e06476"
      },
      "source": [
        "def pTokenize(input): #Now bec pandas series are slightly different\n",
        "  out = input.str.lower()\n",
        "  out= out.str.replace(r\"[0-9]+\",\"_NUM_\") #substitute _NUM_ for any block of consecutive number chars\n",
        "  out= out.str.replace(r'\\b\\w{1,2}\\b',\"\") #remove anything not a word of length 2+\n",
        "  out= out.str.split('\\W+') # Note capital W is \"Not word\"= [a-zA-Z0-9_]\n",
        "  # print(out[0])\n",
        "  # print(out.apply (lambda s: len (s) > 1 )[0])\n",
        "  #out = out[out.apply (lambda s: len (s) > 1 )]\n",
        "  return out\n",
        "print(pTokenize(pt['claim_txt']))"
      ],
      "execution_count": 25,
      "outputs": [
        {
          "output_type": "stream",
          "text": [
            "0     [_NUM_, golf, glove, comprising, least, index,...\n",
            "1     [_NUM_, golf, glove, adapted, for, use, one, h...\n",
            "2     [_NUM_, glove, comprising, index, finger, rece...\n",
            "3     [_NUM_, golf, glove, accordance, with, claim, ...\n",
            "4     [_NUM_, combination, with, height, adjustable,...\n",
            "                            ...                        \n",
            "95    [_NUM_, the, floor, cleaning, machine, defined...\n",
            "96    [_NUM_, the, floor, cleaning, machine, defined...\n",
            "97    [_NUM_, the, floor, cleaning, machine, defined...\n",
            "98    [_NUM_, the, floor, cleaning, machine, defined...\n",
            "99    [_NUM_, the, floor, cleaning, machine, defined...\n",
            "Name: claim_txt, Length: 100, dtype: object\n"
          ],
          "name": "stdout"
        }
      ]
    },
    {
      "cell_type": "code",
      "metadata": {
        "id": "zgvnVHNS_BVy"
      },
      "source": [
        "pt['tokenized']=pTokenize(pt['claim_txt'])"
      ],
      "execution_count": 27,
      "outputs": []
    },
    {
      "cell_type": "code",
      "metadata": {
        "colab": {
          "base_uri": "https://localhost:8080/",
          "height": 419
        },
        "id": "vD3VWq2u_Zqw",
        "outputId": "c37fbd08-e5ef-4c58-9d36-01d8f0abb04a"
      },
      "source": [
        "pt"
      ],
      "execution_count": 28,
      "outputs": [
        {
          "output_type": "execute_result",
          "data": {
            "text/html": [
              "<div>\n",
              "<style scoped>\n",
              "    .dataframe tbody tr th:only-of-type {\n",
              "        vertical-align: middle;\n",
              "    }\n",
              "\n",
              "    .dataframe tbody tr th {\n",
              "        vertical-align: top;\n",
              "    }\n",
              "\n",
              "    .dataframe thead th {\n",
              "        text-align: right;\n",
              "    }\n",
              "</style>\n",
              "<table border=\"1\" class=\"dataframe\">\n",
              "  <thead>\n",
              "    <tr style=\"text-align: right;\">\n",
              "      <th></th>\n",
              "      <th>pat_no</th>\n",
              "      <th>claim_no</th>\n",
              "      <th>claim_txt</th>\n",
              "      <th>tokenized</th>\n",
              "    </tr>\n",
              "  </thead>\n",
              "  <tbody>\n",
              "    <tr>\n",
              "      <th>0</th>\n",
              "      <td>3930271</td>\n",
              "      <td>1</td>\n",
              "      <td>1. A golf glove comprising at least an index f...</td>\n",
              "      <td>[_NUM_, golf, glove, comprising, least, index,...</td>\n",
              "    </tr>\n",
              "    <tr>\n",
              "      <th>1</th>\n",
              "      <td>3930271</td>\n",
              "      <td>4</td>\n",
              "      <td>4. A golf glove adapted for use on one hand of...</td>\n",
              "      <td>[_NUM_, golf, glove, adapted, for, use, one, h...</td>\n",
              "    </tr>\n",
              "    <tr>\n",
              "      <th>2</th>\n",
              "      <td>3930271</td>\n",
              "      <td>3</td>\n",
              "      <td>3. A glove comprising an index finger receptac...</td>\n",
              "      <td>[_NUM_, glove, comprising, index, finger, rece...</td>\n",
              "    </tr>\n",
              "    <tr>\n",
              "      <th>3</th>\n",
              "      <td>3930271</td>\n",
              "      <td>2</td>\n",
              "      <td>2. A golf glove in accordance with claim 1 whe...</td>\n",
              "      <td>[_NUM_, golf, glove, accordance, with, claim, ...</td>\n",
              "    </tr>\n",
              "    <tr>\n",
              "      <th>4</th>\n",
              "      <td>3930272</td>\n",
              "      <td>1</td>\n",
              "      <td>1. In combination with a height adjustable cri...</td>\n",
              "      <td>[_NUM_, combination, with, height, adjustable,...</td>\n",
              "    </tr>\n",
              "    <tr>\n",
              "      <th>...</th>\n",
              "      <td>...</td>\n",
              "      <td>...</td>\n",
              "      <td>...</td>\n",
              "      <td>...</td>\n",
              "    </tr>\n",
              "    <tr>\n",
              "      <th>95</th>\n",
              "      <td>3930281</td>\n",
              "      <td>7</td>\n",
              "      <td>7. The floor cleaning machine as defined in cl...</td>\n",
              "      <td>[_NUM_, the, floor, cleaning, machine, defined...</td>\n",
              "    </tr>\n",
              "    <tr>\n",
              "      <th>96</th>\n",
              "      <td>3930281</td>\n",
              "      <td>11</td>\n",
              "      <td>11. The floor cleaning machine as defined in c...</td>\n",
              "      <td>[_NUM_, the, floor, cleaning, machine, defined...</td>\n",
              "    </tr>\n",
              "    <tr>\n",
              "      <th>97</th>\n",
              "      <td>3930281</td>\n",
              "      <td>9</td>\n",
              "      <td>9. The floor cleaning machine as defined in cl...</td>\n",
              "      <td>[_NUM_, the, floor, cleaning, machine, defined...</td>\n",
              "    </tr>\n",
              "    <tr>\n",
              "      <th>98</th>\n",
              "      <td>3930281</td>\n",
              "      <td>3</td>\n",
              "      <td>3. The floor cleaning machine as defined in cl...</td>\n",
              "      <td>[_NUM_, the, floor, cleaning, machine, defined...</td>\n",
              "    </tr>\n",
              "    <tr>\n",
              "      <th>99</th>\n",
              "      <td>3930281</td>\n",
              "      <td>10</td>\n",
              "      <td>10. The floor cleaning machine as defined in c...</td>\n",
              "      <td>[_NUM_, the, floor, cleaning, machine, defined...</td>\n",
              "    </tr>\n",
              "  </tbody>\n",
              "</table>\n",
              "<p>100 rows × 4 columns</p>\n",
              "</div>"
            ],
            "text/plain": [
              "     pat_no  ...                                          tokenized\n",
              "0   3930271  ...  [_NUM_, golf, glove, comprising, least, index,...\n",
              "1   3930271  ...  [_NUM_, golf, glove, adapted, for, use, one, h...\n",
              "2   3930271  ...  [_NUM_, glove, comprising, index, finger, rece...\n",
              "3   3930271  ...  [_NUM_, golf, glove, accordance, with, claim, ...\n",
              "4   3930272  ...  [_NUM_, combination, with, height, adjustable,...\n",
              "..      ...  ...                                                ...\n",
              "95  3930281  ...  [_NUM_, the, floor, cleaning, machine, defined...\n",
              "96  3930281  ...  [_NUM_, the, floor, cleaning, machine, defined...\n",
              "97  3930281  ...  [_NUM_, the, floor, cleaning, machine, defined...\n",
              "98  3930281  ...  [_NUM_, the, floor, cleaning, machine, defined...\n",
              "99  3930281  ...  [_NUM_, the, floor, cleaning, machine, defined...\n",
              "\n",
              "[100 rows x 4 columns]"
            ]
          },
          "metadata": {
            "tags": []
          },
          "execution_count": 28
        }
      ]
    }
  ]
}