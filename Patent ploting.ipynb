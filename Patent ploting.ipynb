{
 "cells": [
  {
   "cell_type": "code",
   "execution_count": 1,
   "metadata": {},
   "outputs": [
    {
     "name": "stderr",
     "output_type": "stream",
     "text": [
      "[nltk_data] Downloading package punkt to\n",
      "[nltk_data]     C:\\Users\\mocka\\AppData\\Roaming\\nltk_data...\n",
      "[nltk_data]   Package punkt is already up-to-date!\n",
      "[nltk_data] Downloading package stopwords to\n",
      "[nltk_data]     C:\\Users\\mocka\\AppData\\Roaming\\nltk_data...\n",
      "[nltk_data]   Package stopwords is already up-to-date!\n"
     ]
    }
   ],
   "source": [
    "from _DevNLTKPatentPriorArtFinder import _DevNLTKPatentPriorArtFinder as paf\n",
    "import matplotlib\n",
    "import pandas\n",
    "\n",
    "pats= \"resourcesZF/TenNewPatents.csv\"\n",
    "myPaf = paf()\n",
    "frame=myPaf.init(pats,\"Publication_Number\")"
   ]
  },
  {
   "cell_type": "code",
   "execution_count": 2,
   "metadata": {
    "pycharm": {
     "name": "#%%\n"
    }
   },
   "outputs": [
    {
     "name": "stderr",
     "output_type": "stream",
     "text": [
      "C:\\Users\\mocka\\mambaforge\\lib\\site-packages\\sklearn\\metrics\\pairwise.py:1776: DataConversionWarning: Data was converted to boolean for metric jaccard\n",
      "  warnings.warn(msg, DataConversionWarning)\n"
     ]
    }
   ],
   "source": [
    "tables = [myPaf.jaccardTable(frame),myPaf.cosineTable(frame),myPaf.cosineTableTF(frame)]"
   ]
  },
  {
   "cell_type": "code",
   "execution_count": 3,
   "metadata": {},
   "outputs": [
    {
     "data": {
      "text/html": [
       "<div>\n",
       "<style scoped>\n",
       "    .dataframe tbody tr th:only-of-type {\n",
       "        vertical-align: middle;\n",
       "    }\n",
       "\n",
       "    .dataframe tbody tr th {\n",
       "        vertical-align: top;\n",
       "    }\n",
       "\n",
       "    .dataframe thead th {\n",
       "        text-align: right;\n",
       "    }\n",
       "</style>\n",
       "<table border=\"1\" class=\"dataframe\">\n",
       "  <thead>\n",
       "    <tr style=\"text-align: right;\">\n",
       "      <th></th>\n",
       "      <th>US-2016057569-A1</th>\n",
       "      <th>US-6786308-B1</th>\n",
       "      <th>US-5913778-A</th>\n",
       "      <th>US-7115842-B2</th>\n",
       "      <th>US-7374503-B2</th>\n",
       "      <th>US-9073532-B2</th>\n",
       "      <th>US-2016094628-A1</th>\n",
       "      <th>US-2015281222-A1</th>\n",
       "      <th>US-7934412-B2</th>\n",
       "      <th>US-2012029990-A1</th>\n",
       "    </tr>\n",
       "  </thead>\n",
       "  <tbody>\n",
       "    <tr>\n",
       "      <th>US-2016057569-A1</th>\n",
       "      <td>1.000000</td>\n",
       "      <td>0.000000</td>\n",
       "      <td>0.000000</td>\n",
       "      <td>0.041667</td>\n",
       "      <td>0.000000</td>\n",
       "      <td>0.000000</td>\n",
       "      <td>0.047619</td>\n",
       "      <td>0.058824</td>\n",
       "      <td>0.000000</td>\n",
       "      <td>0.049020</td>\n",
       "    </tr>\n",
       "    <tr>\n",
       "      <th>US-6786308-B1</th>\n",
       "      <td>0.000000</td>\n",
       "      <td>1.000000</td>\n",
       "      <td>0.061538</td>\n",
       "      <td>0.044118</td>\n",
       "      <td>0.048193</td>\n",
       "      <td>0.016667</td>\n",
       "      <td>0.063291</td>\n",
       "      <td>0.000000</td>\n",
       "      <td>0.000000</td>\n",
       "      <td>0.009804</td>\n",
       "    </tr>\n",
       "    <tr>\n",
       "      <th>US-5913778-A</th>\n",
       "      <td>0.000000</td>\n",
       "      <td>0.061538</td>\n",
       "      <td>1.000000</td>\n",
       "      <td>0.014085</td>\n",
       "      <td>0.047619</td>\n",
       "      <td>0.016393</td>\n",
       "      <td>0.049383</td>\n",
       "      <td>0.000000</td>\n",
       "      <td>0.000000</td>\n",
       "      <td>0.009709</td>\n",
       "    </tr>\n",
       "    <tr>\n",
       "      <th>US-7115842-B2</th>\n",
       "      <td>0.041667</td>\n",
       "      <td>0.044118</td>\n",
       "      <td>0.014085</td>\n",
       "      <td>1.000000</td>\n",
       "      <td>0.022727</td>\n",
       "      <td>0.000000</td>\n",
       "      <td>0.023529</td>\n",
       "      <td>0.000000</td>\n",
       "      <td>0.000000</td>\n",
       "      <td>0.009524</td>\n",
       "    </tr>\n",
       "    <tr>\n",
       "      <th>US-7374503-B2</th>\n",
       "      <td>0.000000</td>\n",
       "      <td>0.048193</td>\n",
       "      <td>0.047619</td>\n",
       "      <td>0.022727</td>\n",
       "      <td>1.000000</td>\n",
       "      <td>0.012658</td>\n",
       "      <td>0.019802</td>\n",
       "      <td>0.011628</td>\n",
       "      <td>0.000000</td>\n",
       "      <td>0.000000</td>\n",
       "    </tr>\n",
       "    <tr>\n",
       "      <th>US-9073532-B2</th>\n",
       "      <td>0.000000</td>\n",
       "      <td>0.016667</td>\n",
       "      <td>0.016393</td>\n",
       "      <td>0.000000</td>\n",
       "      <td>0.012658</td>\n",
       "      <td>1.000000</td>\n",
       "      <td>0.054795</td>\n",
       "      <td>0.016667</td>\n",
       "      <td>0.000000</td>\n",
       "      <td>0.010526</td>\n",
       "    </tr>\n",
       "    <tr>\n",
       "      <th>US-2016094628-A1</th>\n",
       "      <td>0.047619</td>\n",
       "      <td>0.063291</td>\n",
       "      <td>0.049383</td>\n",
       "      <td>0.023529</td>\n",
       "      <td>0.019802</td>\n",
       "      <td>0.054795</td>\n",
       "      <td>1.000000</td>\n",
       "      <td>0.037037</td>\n",
       "      <td>0.029126</td>\n",
       "      <td>0.025862</td>\n",
       "    </tr>\n",
       "    <tr>\n",
       "      <th>US-2015281222-A1</th>\n",
       "      <td>0.058824</td>\n",
       "      <td>0.000000</td>\n",
       "      <td>0.000000</td>\n",
       "      <td>0.000000</td>\n",
       "      <td>0.011628</td>\n",
       "      <td>0.016667</td>\n",
       "      <td>0.037037</td>\n",
       "      <td>1.000000</td>\n",
       "      <td>0.000000</td>\n",
       "      <td>0.030000</td>\n",
       "    </tr>\n",
       "    <tr>\n",
       "      <th>US-7934412-B2</th>\n",
       "      <td>0.000000</td>\n",
       "      <td>0.000000</td>\n",
       "      <td>0.000000</td>\n",
       "      <td>0.000000</td>\n",
       "      <td>0.000000</td>\n",
       "      <td>0.000000</td>\n",
       "      <td>0.029126</td>\n",
       "      <td>0.000000</td>\n",
       "      <td>1.000000</td>\n",
       "      <td>0.033058</td>\n",
       "    </tr>\n",
       "    <tr>\n",
       "      <th>US-2012029990-A1</th>\n",
       "      <td>0.049020</td>\n",
       "      <td>0.009804</td>\n",
       "      <td>0.009709</td>\n",
       "      <td>0.009524</td>\n",
       "      <td>0.000000</td>\n",
       "      <td>0.010526</td>\n",
       "      <td>0.025862</td>\n",
       "      <td>0.030000</td>\n",
       "      <td>0.033058</td>\n",
       "      <td>1.000000</td>\n",
       "    </tr>\n",
       "  </tbody>\n",
       "</table>\n",
       "</div>"
      ],
      "text/plain": [
       "                  US-2016057569-A1  US-6786308-B1  US-5913778-A  \\\n",
       "US-2016057569-A1          1.000000       0.000000      0.000000   \n",
       "US-6786308-B1             0.000000       1.000000      0.061538   \n",
       "US-5913778-A              0.000000       0.061538      1.000000   \n",
       "US-7115842-B2             0.041667       0.044118      0.014085   \n",
       "US-7374503-B2             0.000000       0.048193      0.047619   \n",
       "US-9073532-B2             0.000000       0.016667      0.016393   \n",
       "US-2016094628-A1          0.047619       0.063291      0.049383   \n",
       "US-2015281222-A1          0.058824       0.000000      0.000000   \n",
       "US-7934412-B2             0.000000       0.000000      0.000000   \n",
       "US-2012029990-A1          0.049020       0.009804      0.009709   \n",
       "\n",
       "                  US-7115842-B2  US-7374503-B2  US-9073532-B2  \\\n",
       "US-2016057569-A1       0.041667       0.000000       0.000000   \n",
       "US-6786308-B1          0.044118       0.048193       0.016667   \n",
       "US-5913778-A           0.014085       0.047619       0.016393   \n",
       "US-7115842-B2          1.000000       0.022727       0.000000   \n",
       "US-7374503-B2          0.022727       1.000000       0.012658   \n",
       "US-9073532-B2          0.000000       0.012658       1.000000   \n",
       "US-2016094628-A1       0.023529       0.019802       0.054795   \n",
       "US-2015281222-A1       0.000000       0.011628       0.016667   \n",
       "US-7934412-B2          0.000000       0.000000       0.000000   \n",
       "US-2012029990-A1       0.009524       0.000000       0.010526   \n",
       "\n",
       "                  US-2016094628-A1  US-2015281222-A1  US-7934412-B2  \\\n",
       "US-2016057569-A1          0.047619          0.058824       0.000000   \n",
       "US-6786308-B1             0.063291          0.000000       0.000000   \n",
       "US-5913778-A              0.049383          0.000000       0.000000   \n",
       "US-7115842-B2             0.023529          0.000000       0.000000   \n",
       "US-7374503-B2             0.019802          0.011628       0.000000   \n",
       "US-9073532-B2             0.054795          0.016667       0.000000   \n",
       "US-2016094628-A1          1.000000          0.037037       0.029126   \n",
       "US-2015281222-A1          0.037037          1.000000       0.000000   \n",
       "US-7934412-B2             0.029126          0.000000       1.000000   \n",
       "US-2012029990-A1          0.025862          0.030000       0.033058   \n",
       "\n",
       "                  US-2012029990-A1  \n",
       "US-2016057569-A1          0.049020  \n",
       "US-6786308-B1             0.009804  \n",
       "US-5913778-A              0.009709  \n",
       "US-7115842-B2             0.009524  \n",
       "US-7374503-B2             0.000000  \n",
       "US-9073532-B2             0.010526  \n",
       "US-2016094628-A1          0.025862  \n",
       "US-2015281222-A1          0.030000  \n",
       "US-7934412-B2             0.033058  \n",
       "US-2012029990-A1          1.000000  "
      ]
     },
     "execution_count": 3,
     "metadata": {},
     "output_type": "execute_result"
    }
   ],
   "source": [
    "tables[0]"
   ]
  },
  {
   "cell_type": "code",
   "execution_count": 25,
   "metadata": {
    "pycharm": {
     "name": "#%%\n"
    }
   },
   "outputs": [],
   "source": [
    "# Adapted from https://matplotlib.org/stable/gallery/mplot3d/surface3d.html\n",
    "import matplotlib.pyplot as plt\n",
    "from matplotlib import cm\n",
    "from matplotlib.ticker import LinearLocator\n",
    "import numpy as np\n",
    "\n",
    "fig, ax = plt.subplots(subplot_kw={\"projection\": \"3d\"})\n",
    "\n",
    "# Make data.\n",
    "X = frame['Publication_Number']\n",
    "Y = frame['Publication_Number']\n",
    "# X, Y = np.meshgrid(X, Y)\n",
    "ticks = [n for n in range(1,len(frame['Publication_Number'])+1)]\n",
    "labels = frame['Publication_Number']\n",
    "# plt.xticks(ticks, labels)\n",
    "# plt.yticks(ticks, labels)\n",
    "# plt.figure()\n",
    "# plt.show()"
   ]
  },
  {
   "cell_type": "code",
   "execution_count": 38,
   "metadata": {},
   "outputs": [],
   "source": [
    "%matplotlib inline"
   ]
  },
  {
   "cell_type": "code",
   "execution_count": 32,
   "metadata": {},
   "outputs": [
    {
     "data": {
      "text/plain": [
       "array([[1.        , 0.        , 0.        , 0.04166667, 0.        ,\n",
       "        0.        , 0.04761905, 0.05882353, 0.        , 0.04901961],\n",
       "       [0.        , 1.        , 0.06153846, 0.04411765, 0.04819277,\n",
       "        0.01666667, 0.06329114, 0.        , 0.        , 0.00980392],\n",
       "       [0.        , 0.06153846, 1.        , 0.01408451, 0.04761905,\n",
       "        0.01639344, 0.04938272, 0.        , 0.        , 0.00970874],\n",
       "       [0.04166667, 0.04411765, 0.01408451, 1.        , 0.02272727,\n",
       "        0.        , 0.02352941, 0.        , 0.        , 0.00952381],\n",
       "       [0.        , 0.04819277, 0.04761905, 0.02272727, 1.        ,\n",
       "        0.01265823, 0.01980198, 0.01162791, 0.        , 0.        ],\n",
       "       [0.        , 0.01666667, 0.01639344, 0.        , 0.01265823,\n",
       "        1.        , 0.05479452, 0.01666667, 0.        , 0.01052632],\n",
       "       [0.04761905, 0.06329114, 0.04938272, 0.02352941, 0.01980198,\n",
       "        0.05479452, 1.        , 0.03703704, 0.02912621, 0.02586207],\n",
       "       [0.05882353, 0.        , 0.        , 0.        , 0.01162791,\n",
       "        0.01666667, 0.03703704, 1.        , 0.        , 0.03      ],\n",
       "       [0.        , 0.        , 0.        , 0.        , 0.        ,\n",
       "        0.        , 0.02912621, 0.        , 1.        , 0.03305785],\n",
       "       [0.04901961, 0.00980392, 0.00970874, 0.00952381, 0.        ,\n",
       "        0.01052632, 0.02586207, 0.03      , 0.03305785, 1.        ]])"
      ]
     },
     "execution_count": 32,
     "metadata": {},
     "output_type": "execute_result"
    }
   ],
   "source": [
    "z = tables[0].to_numpy()\n",
    "z"
   ]
  },
  {
   "cell_type": "code",
   "execution_count": 50,
   "metadata": {},
   "outputs": [
    {
     "data": {
      "text/plain": [
       "rec.array([(1.        , 0.        , 0.        , 0.04166667, 0.        , 0.        , 0.04761905, 0.05882353, 0.        , 0.04901961),\n",
       "           (0.        , 1.        , 0.06153846, 0.04411765, 0.04819277, 0.01666667, 0.06329114, 0.        , 0.        , 0.00980392),\n",
       "           (0.        , 0.06153846, 1.        , 0.01408451, 0.04761905, 0.01639344, 0.04938272, 0.        , 0.        , 0.00970874),\n",
       "           (0.04166667, 0.04411765, 0.01408451, 1.        , 0.02272727, 0.        , 0.02352941, 0.        , 0.        , 0.00952381),\n",
       "           (0.        , 0.04819277, 0.04761905, 0.02272727, 1.        , 0.01265823, 0.01980198, 0.01162791, 0.        , 0.        ),\n",
       "           (0.        , 0.01666667, 0.01639344, 0.        , 0.01265823, 1.        , 0.05479452, 0.01666667, 0.        , 0.01052632),\n",
       "           (0.04761905, 0.06329114, 0.04938272, 0.02352941, 0.01980198, 0.05479452, 1.        , 0.03703704, 0.02912621, 0.02586207),\n",
       "           (0.05882353, 0.        , 0.        , 0.        , 0.01162791, 0.01666667, 0.03703704, 1.        , 0.        , 0.03      ),\n",
       "           (0.        , 0.        , 0.        , 0.        , 0.        , 0.        , 0.02912621, 0.        , 1.        , 0.03305785),\n",
       "           (0.04901961, 0.00980392, 0.00970874, 0.00952381, 0.        , 0.01052632, 0.02586207, 0.03      , 0.03305785, 1.        )],\n",
       "          dtype=[('US-2016057569-A1', '<f8'), ('US-6786308-B1', '<f8'), ('US-5913778-A', '<f8'), ('US-7115842-B2', '<f8'), ('US-7374503-B2', '<f8'), ('US-9073532-B2', '<f8'), ('US-2016094628-A1', '<f8'), ('US-2015281222-A1', '<f8'), ('US-7934412-B2', '<f8'), ('US-2012029990-A1', '<f8')])"
      ]
     },
     "execution_count": 50,
     "metadata": {},
     "output_type": "execute_result"
    }
   ],
   "source": [
    "z = tables[0].to_records(index=False)\n",
    "z"
   ]
  },
  {
   "cell_type": "code",
   "execution_count": 47,
   "metadata": {
    "pycharm": {
     "name": "#%%\n"
    }
   },
   "outputs": [
    {
     "ename": "ValueError",
     "evalue": "Argument Z must be 2-dimensional.",
     "output_type": "error",
     "traceback": [
      "\u001b[1;31m---------------------------------------------------------------------------\u001b[0m",
      "\u001b[1;31mValueError\u001b[0m                                Traceback (most recent call last)",
      "\u001b[1;32m~\\AppData\\Local\\Temp/ipykernel_17572/591965183.py\u001b[0m in \u001b[0;36m<module>\u001b[1;34m\u001b[0m\n\u001b[0;32m      3\u001b[0m \u001b[1;33m\u001b[0m\u001b[0m\n\u001b[0;32m      4\u001b[0m \u001b[1;31m# Plot the surface.\u001b[0m\u001b[1;33m\u001b[0m\u001b[1;33m\u001b[0m\u001b[1;33m\u001b[0m\u001b[0m\n\u001b[1;32m----> 5\u001b[1;33m \u001b[0max\u001b[0m\u001b[1;33m.\u001b[0m\u001b[0mplot_surface\u001b[0m\u001b[1;33m(\u001b[0m\u001b[0mticks\u001b[0m\u001b[1;33m,\u001b[0m \u001b[0mticks\u001b[0m\u001b[1;33m,\u001b[0m \u001b[0mz\u001b[0m\u001b[1;33m)\u001b[0m\u001b[1;33m\u001b[0m\u001b[1;33m\u001b[0m\u001b[0m\n\u001b[0m",
      "\u001b[1;32m~\\mambaforge\\lib\\site-packages\\matplotlib\\_api\\deprecation.py\u001b[0m in \u001b[0;36mwrapper\u001b[1;34m(*inner_args, **inner_kwargs)\u001b[0m\n\u001b[0;32m    429\u001b[0m                          \u001b[1;32melse\u001b[0m \u001b[0mdeprecation_addendum\u001b[0m\u001b[1;33m,\u001b[0m\u001b[1;33m\u001b[0m\u001b[1;33m\u001b[0m\u001b[0m\n\u001b[0;32m    430\u001b[0m                 **kwargs)\n\u001b[1;32m--> 431\u001b[1;33m         \u001b[1;32mreturn\u001b[0m \u001b[0mfunc\u001b[0m\u001b[1;33m(\u001b[0m\u001b[1;33m*\u001b[0m\u001b[0minner_args\u001b[0m\u001b[1;33m,\u001b[0m \u001b[1;33m**\u001b[0m\u001b[0minner_kwargs\u001b[0m\u001b[1;33m)\u001b[0m\u001b[1;33m\u001b[0m\u001b[1;33m\u001b[0m\u001b[0m\n\u001b[0m\u001b[0;32m    432\u001b[0m \u001b[1;33m\u001b[0m\u001b[0m\n\u001b[0;32m    433\u001b[0m     \u001b[1;32mreturn\u001b[0m \u001b[0mwrapper\u001b[0m\u001b[1;33m\u001b[0m\u001b[1;33m\u001b[0m\u001b[0m\n",
      "\u001b[1;32m~\\mambaforge\\lib\\site-packages\\mpl_toolkits\\mplot3d\\axes3d.py\u001b[0m in \u001b[0;36mplot_surface\u001b[1;34m(self, X, Y, Z, norm, vmin, vmax, lightsource, *args, **kwargs)\u001b[0m\n\u001b[0;32m   1656\u001b[0m \u001b[1;33m\u001b[0m\u001b[0m\n\u001b[0;32m   1657\u001b[0m         \u001b[1;32mif\u001b[0m \u001b[0mZ\u001b[0m\u001b[1;33m.\u001b[0m\u001b[0mndim\u001b[0m \u001b[1;33m!=\u001b[0m \u001b[1;36m2\u001b[0m\u001b[1;33m:\u001b[0m\u001b[1;33m\u001b[0m\u001b[1;33m\u001b[0m\u001b[0m\n\u001b[1;32m-> 1658\u001b[1;33m             \u001b[1;32mraise\u001b[0m \u001b[0mValueError\u001b[0m\u001b[1;33m(\u001b[0m\u001b[1;34m\"Argument Z must be 2-dimensional.\"\u001b[0m\u001b[1;33m)\u001b[0m\u001b[1;33m\u001b[0m\u001b[1;33m\u001b[0m\u001b[0m\n\u001b[0m\u001b[0;32m   1659\u001b[0m         \u001b[1;32mif\u001b[0m \u001b[0mnp\u001b[0m\u001b[1;33m.\u001b[0m\u001b[0many\u001b[0m\u001b[1;33m(\u001b[0m\u001b[0mnp\u001b[0m\u001b[1;33m.\u001b[0m\u001b[0misnan\u001b[0m\u001b[1;33m(\u001b[0m\u001b[0mZ\u001b[0m\u001b[1;33m)\u001b[0m\u001b[1;33m)\u001b[0m\u001b[1;33m:\u001b[0m\u001b[1;33m\u001b[0m\u001b[1;33m\u001b[0m\u001b[0m\n\u001b[0;32m   1660\u001b[0m             _api.warn_external(\n",
      "\u001b[1;31mValueError\u001b[0m: Argument Z must be 2-dimensional."
     ]
    }
   ],
   "source": [
    "#R = np.sqrt(X**2 + Y**2)\n",
    "# z = tables[0].to_numpy()\n",
    "\n",
    "# Plot the surface.\n",
    "ax.plot_surface(ticks, ticks, z)"
   ]
  },
  {
   "cell_type": "code",
   "execution_count": 12,
   "metadata": {
    "pycharm": {
     "name": "#%%\n"
    }
   },
   "outputs": [
    {
     "name": "stderr",
     "output_type": "stream",
     "text": [
      "C:\\Users\\mocka\\AppData\\Local\\Temp/ipykernel_17572/2390505778.py:8: MatplotlibDeprecationWarning: Starting from Matplotlib 3.6, colorbar() will steal space from the mappable's axes, rather than from the current axes, to place the colorbar.  To silence this warning, explicitly pass the 'ax' argument to colorbar().\n",
      "  fig.colorbar(tables[0], shrink=0.5, aspect=5)\n"
     ]
    },
    {
     "ename": "AttributeError",
     "evalue": "'DataFrame' object has no attribute 'get_array'",
     "output_type": "error",
     "traceback": [
      "\u001b[1;31m---------------------------------------------------------------------------\u001b[0m",
      "\u001b[1;31mAttributeError\u001b[0m                            Traceback (most recent call last)",
      "\u001b[1;32m~\\AppData\\Local\\Temp/ipykernel_17572/2390505778.py\u001b[0m in \u001b[0;36m<module>\u001b[1;34m\u001b[0m\n\u001b[0;32m      6\u001b[0m \u001b[1;33m\u001b[0m\u001b[0m\n\u001b[0;32m      7\u001b[0m \u001b[1;31m# Add a color bar which maps values to colors.\u001b[0m\u001b[1;33m\u001b[0m\u001b[1;33m\u001b[0m\u001b[1;33m\u001b[0m\u001b[0m\n\u001b[1;32m----> 8\u001b[1;33m \u001b[0mfig\u001b[0m\u001b[1;33m.\u001b[0m\u001b[0mcolorbar\u001b[0m\u001b[1;33m(\u001b[0m\u001b[0mtables\u001b[0m\u001b[1;33m[\u001b[0m\u001b[1;36m0\u001b[0m\u001b[1;33m]\u001b[0m\u001b[1;33m,\u001b[0m \u001b[0mshrink\u001b[0m\u001b[1;33m=\u001b[0m\u001b[1;36m0.5\u001b[0m\u001b[1;33m,\u001b[0m \u001b[0maspect\u001b[0m\u001b[1;33m=\u001b[0m\u001b[1;36m5\u001b[0m\u001b[1;33m)\u001b[0m\u001b[1;33m\u001b[0m\u001b[1;33m\u001b[0m\u001b[0m\n\u001b[0m\u001b[0;32m      9\u001b[0m \u001b[1;33m\u001b[0m\u001b[0m\n\u001b[0;32m     10\u001b[0m \u001b[0mplt\u001b[0m\u001b[1;33m.\u001b[0m\u001b[0mshow\u001b[0m\u001b[1;33m(\u001b[0m\u001b[1;33m)\u001b[0m\u001b[1;33m\u001b[0m\u001b[1;33m\u001b[0m\u001b[0m\n",
      "\u001b[1;32m~\\mambaforge\\lib\\site-packages\\matplotlib\\figure.py\u001b[0m in \u001b[0;36mcolorbar\u001b[1;34m(self, mappable, cax, ax, use_gridspec, **kw)\u001b[0m\n\u001b[0;32m   1171\u001b[0m                              'panchor']\n\u001b[0;32m   1172\u001b[0m         \u001b[0mcb_kw\u001b[0m \u001b[1;33m=\u001b[0m \u001b[1;33m{\u001b[0m\u001b[0mk\u001b[0m\u001b[1;33m:\u001b[0m \u001b[0mv\u001b[0m \u001b[1;32mfor\u001b[0m \u001b[0mk\u001b[0m\u001b[1;33m,\u001b[0m \u001b[0mv\u001b[0m \u001b[1;32min\u001b[0m \u001b[0mkw\u001b[0m\u001b[1;33m.\u001b[0m\u001b[0mitems\u001b[0m\u001b[1;33m(\u001b[0m\u001b[1;33m)\u001b[0m \u001b[1;32mif\u001b[0m \u001b[0mk\u001b[0m \u001b[1;32mnot\u001b[0m \u001b[1;32min\u001b[0m \u001b[0mNON_COLORBAR_KEYS\u001b[0m\u001b[1;33m}\u001b[0m\u001b[1;33m\u001b[0m\u001b[1;33m\u001b[0m\u001b[0m\n\u001b[1;32m-> 1173\u001b[1;33m         \u001b[0mcb\u001b[0m \u001b[1;33m=\u001b[0m \u001b[0mcbar\u001b[0m\u001b[1;33m.\u001b[0m\u001b[0mColorbar\u001b[0m\u001b[1;33m(\u001b[0m\u001b[0mcax\u001b[0m\u001b[1;33m,\u001b[0m \u001b[0mmappable\u001b[0m\u001b[1;33m,\u001b[0m \u001b[1;33m**\u001b[0m\u001b[0mcb_kw\u001b[0m\u001b[1;33m)\u001b[0m\u001b[1;33m\u001b[0m\u001b[1;33m\u001b[0m\u001b[0m\n\u001b[0m\u001b[0;32m   1174\u001b[0m \u001b[1;33m\u001b[0m\u001b[0m\n\u001b[0;32m   1175\u001b[0m         \u001b[0mself\u001b[0m\u001b[1;33m.\u001b[0m\u001b[0msca\u001b[0m\u001b[1;33m(\u001b[0m\u001b[0mcurrent_ax\u001b[0m\u001b[1;33m)\u001b[0m\u001b[1;33m\u001b[0m\u001b[1;33m\u001b[0m\u001b[0m\n",
      "\u001b[1;32m~\\mambaforge\\lib\\site-packages\\matplotlib\\colorbar.py\u001b[0m in \u001b[0;36m__init__\u001b[1;34m(self, ax, mappable, **kwargs)\u001b[0m\n\u001b[0;32m   1169\u001b[0m         \u001b[1;31m# Ensure the given mappable's norm has appropriate vmin and vmax set\u001b[0m\u001b[1;33m\u001b[0m\u001b[1;33m\u001b[0m\u001b[1;33m\u001b[0m\u001b[0m\n\u001b[0;32m   1170\u001b[0m         \u001b[1;31m# even if mappable.draw has not yet been called.\u001b[0m\u001b[1;33m\u001b[0m\u001b[1;33m\u001b[0m\u001b[1;33m\u001b[0m\u001b[0m\n\u001b[1;32m-> 1171\u001b[1;33m         \u001b[1;32mif\u001b[0m \u001b[0mmappable\u001b[0m\u001b[1;33m.\u001b[0m\u001b[0mget_array\u001b[0m\u001b[1;33m(\u001b[0m\u001b[1;33m)\u001b[0m \u001b[1;32mis\u001b[0m \u001b[1;32mnot\u001b[0m \u001b[1;32mNone\u001b[0m\u001b[1;33m:\u001b[0m\u001b[1;33m\u001b[0m\u001b[1;33m\u001b[0m\u001b[0m\n\u001b[0m\u001b[0;32m   1172\u001b[0m             \u001b[0mmappable\u001b[0m\u001b[1;33m.\u001b[0m\u001b[0mautoscale_None\u001b[0m\u001b[1;33m(\u001b[0m\u001b[1;33m)\u001b[0m\u001b[1;33m\u001b[0m\u001b[1;33m\u001b[0m\u001b[0m\n\u001b[0;32m   1173\u001b[0m \u001b[1;33m\u001b[0m\u001b[0m\n",
      "\u001b[1;32m~\\mambaforge\\lib\\site-packages\\pandas\\core\\generic.py\u001b[0m in \u001b[0;36m__getattr__\u001b[1;34m(self, name)\u001b[0m\n\u001b[0;32m   5476\u001b[0m         ):\n\u001b[0;32m   5477\u001b[0m             \u001b[1;32mreturn\u001b[0m \u001b[0mself\u001b[0m\u001b[1;33m[\u001b[0m\u001b[0mname\u001b[0m\u001b[1;33m]\u001b[0m\u001b[1;33m\u001b[0m\u001b[1;33m\u001b[0m\u001b[0m\n\u001b[1;32m-> 5478\u001b[1;33m         \u001b[1;32mreturn\u001b[0m \u001b[0mobject\u001b[0m\u001b[1;33m.\u001b[0m\u001b[0m__getattribute__\u001b[0m\u001b[1;33m(\u001b[0m\u001b[0mself\u001b[0m\u001b[1;33m,\u001b[0m \u001b[0mname\u001b[0m\u001b[1;33m)\u001b[0m\u001b[1;33m\u001b[0m\u001b[1;33m\u001b[0m\u001b[0m\n\u001b[0m\u001b[0;32m   5479\u001b[0m \u001b[1;33m\u001b[0m\u001b[0m\n\u001b[0;32m   5480\u001b[0m     \u001b[1;32mdef\u001b[0m \u001b[0m__setattr__\u001b[0m\u001b[1;33m(\u001b[0m\u001b[0mself\u001b[0m\u001b[1;33m,\u001b[0m \u001b[0mname\u001b[0m\u001b[1;33m:\u001b[0m \u001b[0mstr\u001b[0m\u001b[1;33m,\u001b[0m \u001b[0mvalue\u001b[0m\u001b[1;33m)\u001b[0m \u001b[1;33m->\u001b[0m \u001b[1;32mNone\u001b[0m\u001b[1;33m:\u001b[0m\u001b[1;33m\u001b[0m\u001b[1;33m\u001b[0m\u001b[0m\n",
      "\u001b[1;31mAttributeError\u001b[0m: 'DataFrame' object has no attribute 'get_array'"
     ]
    }
   ],
   "source": [
    "# Customize the z axis.\n",
    "ax.set_zlim(-1.01, 1.01)\n",
    "ax.zaxis.set_major_locator(LinearLocator(10))\n",
    "# A StrMethodFormatter is used automatically\n",
    "ax.zaxis.set_major_formatter('{x:.02f}')\n",
    "\n",
    "# Add a color bar which maps values to colors.\n",
    "fig.colorbar(tables[0], shrink=0.5, aspect=5)\n",
    "\n",
    "plt.show()"
   ]
  }
 ],
 "metadata": {
  "kernelspec": {
   "display_name": "Python 3 (ipykernel)",
   "language": "python",
   "name": "python3"
  },
  "language_info": {
   "codemirror_mode": {
    "name": "ipython",
    "version": 3
   },
   "file_extension": ".py",
   "mimetype": "text/x-python",
   "name": "python",
   "nbconvert_exporter": "python",
   "pygments_lexer": "ipython3",
   "version": "3.9.5"
  }
 },
 "nbformat": 4,
 "nbformat_minor": 1
}
