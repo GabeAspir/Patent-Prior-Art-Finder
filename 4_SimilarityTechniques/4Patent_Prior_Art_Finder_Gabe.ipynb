{
  "nbformat": 4,
  "nbformat_minor": 0,
  "metadata": {
    "colab": {
      "name": "4Patent-Prior-Art-Finder_Gabe.ipynb",
      "provenance": [],
      "authorship_tag": "ABX9TyPhs+EyA/GbmShWL1b0qfTJ",
      "include_colab_link": true
    },
    "kernelspec": {
      "name": "python3",
      "display_name": "Python 3"
    },
    "language_info": {
      "name": "python"
    }
  },
  "cells": [
    {
      "cell_type": "markdown",
      "metadata": {
        "id": "view-in-github",
        "colab_type": "text"
      },
      "source": [
        "<a href=\"https://colab.research.google.com/github/GabeAspir/Patent-Prior-Art-Finder/blob/main/4_SimilarityTechniques/4Patent_Prior_Art_Finder_Gabe.ipynb\" target=\"_parent\"><img src=\"https://colab.research.google.com/assets/colab-badge.svg\" alt=\"Open In Colab\"/></a>"
      ]
    },
    {
      "cell_type": "markdown",
      "metadata": {
        "id": "2ZJWOZJAegI5"
      },
      "source": [
        "# Goal -- To try some similarity techniques!"
      ]
    },
    {
      "cell_type": "code",
      "metadata": {
        "id": "o3t7jhXcedDF"
      },
      "source": [
        "import pandas as pd\n",
        "import re\n",
        "url = 'https://drive.google.com/file/d/18DdQd4ZPbcvOeZ6x2KRJHmvpGarnw9Qx/view?usp=sharing'\n",
        "file_id = url.split('/')[-2]\n",
        "dwn_url='https://drive.google.com/uc?id=' + file_id\n",
        "dataframe = pd.read_csv(dwn_url)"
      ],
      "execution_count": 1,
      "outputs": []
    },
    {
      "cell_type": "markdown",
      "metadata": {
        "id": "5JC89fFMZvsY"
      },
      "source": [
        "We now have a data set (of 10 patents) containing three alike patents - liquid Laundry detergent Patents."
      ]
    },
    {
      "cell_type": "code",
      "metadata": {
        "colab": {
          "base_uri": "https://localhost:8080/",
          "height": 529
        },
        "id": "fJ7hJW5dgq1o",
        "outputId": "77762bf9-a5b9-4aee-ea10-c5db194217f1"
      },
      "source": [
        "dataframe"
      ],
      "execution_count": 2,
      "outputs": [
        {
          "output_type": "execute_result",
          "data": {
            "text/html": [
              "<div>\n",
              "<style scoped>\n",
              "    .dataframe tbody tr th:only-of-type {\n",
              "        vertical-align: middle;\n",
              "    }\n",
              "\n",
              "    .dataframe tbody tr th {\n",
              "        vertical-align: top;\n",
              "    }\n",
              "\n",
              "    .dataframe thead th {\n",
              "        text-align: right;\n",
              "    }\n",
              "</style>\n",
              "<table border=\"1\" class=\"dataframe\">\n",
              "  <thead>\n",
              "    <tr style=\"text-align: right;\">\n",
              "      <th></th>\n",
              "      <th>Publication_Number</th>\n",
              "      <th>Abstract</th>\n",
              "      <th>Description</th>\n",
              "      <th>Claim</th>\n",
              "    </tr>\n",
              "  </thead>\n",
              "  <tbody>\n",
              "    <tr>\n",
              "      <th>0</th>\n",
              "      <td>US-7365259-B2</td>\n",
              "      <td>A keyboard apparatus is including a plurality ...</td>\n",
              "      <td>BACKGROUND OF THE INVENTION \\n   1. Field of t...</td>\n",
              "      <td>1. A keyboard apparatus comprising:\\n a suppor...</td>\n",
              "    </tr>\n",
              "    <tr>\n",
              "      <th>1</th>\n",
              "      <td>US-7556524-B2</td>\n",
              "      <td>An easy-pull type swivel plug includes a body,...</td>\n",
              "      <td>BACKGROUND OF THE INVENTION \\n   1. Field of t...</td>\n",
              "      <td>1. An easy-pull type swivel plug, comprising:\\...</td>\n",
              "    </tr>\n",
              "    <tr>\n",
              "      <th>2</th>\n",
              "      <td>US-7338315-B2</td>\n",
              "      <td>The invention relates to a closure device comp...</td>\n",
              "      <td>FIELD OF THE INVENTION \\n   The invention rela...</td>\n",
              "      <td>1. A closure device comprising:\\n a wall havin...</td>\n",
              "    </tr>\n",
              "    <tr>\n",
              "      <th>3</th>\n",
              "      <td>US-6843642-B2</td>\n",
              "      <td>An air compressor with shock-absorption rubber...</td>\n",
              "      <td>BACKGROUND OF THE INVENTION \\n   (a) Field of ...</td>\n",
              "      <td>1. An air compressor with shock-absorption rub...</td>\n",
              "    </tr>\n",
              "    <tr>\n",
              "      <th>4</th>\n",
              "      <td>US-9433212-B2</td>\n",
              "      <td>Provided is a novel plant growth regulator. Th...</td>\n",
              "      <td>TECHNICAL FIELD \\n     The present invention r...</td>\n",
              "      <td>The invention claimed is: \\n     \\n       1. A...</td>\n",
              "    </tr>\n",
              "    <tr>\n",
              "      <th>5</th>\n",
              "      <td>US-5536436-A</td>\n",
              "      <td>A liquid laundry detergent composition contain...</td>\n",
              "      <td>FIELD OF THE INVENTION \\n     The present inve...</td>\n",
              "      <td>What is claimed is: \\n     \\n       1. A heavy...</td>\n",
              "    </tr>\n",
              "    <tr>\n",
              "      <th>6</th>\n",
              "      <td>US-2015111807-A1</td>\n",
              "      <td>A liquid laundry detergent composition compris...</td>\n",
              "      <td>FIELD OF THE INVENTION \\n     The present inve...</td>\n",
              "      <td>What is claimed is: \\n     \\n         1 . A li...</td>\n",
              "    </tr>\n",
              "    <tr>\n",
              "      <th>7</th>\n",
              "      <td>US-7605322-B2</td>\n",
              "      <td>As a player inputs a performance of a music pi...</td>\n",
              "      <td>TECHNICAL FIELD \\n   The present invention rel...</td>\n",
              "      <td>1. An apparatus for automatically starting an ...</td>\n",
              "    </tr>\n",
              "    <tr>\n",
              "      <th>8</th>\n",
              "      <td>US-7205268-B2</td>\n",
              "      <td>A low-foaming aqueous liquid laundry detergent...</td>\n",
              "      <td>FIELD OF THE INVENTION \\n     The present inve...</td>\n",
              "      <td>1. A low-foaming aqueous liquid laundry deterg...</td>\n",
              "    </tr>\n",
              "    <tr>\n",
              "      <th>9</th>\n",
              "      <td>US-6910186-B2</td>\n",
              "      <td>A new class of avatars (“organizational avatar...</td>\n",
              "      <td>CROSS-REFERENCE TO APPENDICES ATTACHED HERETO ...</td>\n",
              "      <td>1. A method of communicating between users, th...</td>\n",
              "    </tr>\n",
              "  </tbody>\n",
              "</table>\n",
              "</div>"
            ],
            "text/plain": [
              "  Publication_Number  ...                                              Claim\n",
              "0      US-7365259-B2  ...  1. A keyboard apparatus comprising:\\n a suppor...\n",
              "1      US-7556524-B2  ...  1. An easy-pull type swivel plug, comprising:\\...\n",
              "2      US-7338315-B2  ...  1. A closure device comprising:\\n a wall havin...\n",
              "3      US-6843642-B2  ...  1. An air compressor with shock-absorption rub...\n",
              "4      US-9433212-B2  ...  The invention claimed is: \\n     \\n       1. A...\n",
              "5       US-5536436-A  ...  What is claimed is: \\n     \\n       1. A heavy...\n",
              "6   US-2015111807-A1  ...  What is claimed is: \\n     \\n         1 . A li...\n",
              "7      US-7605322-B2  ...  1. An apparatus for automatically starting an ...\n",
              "8      US-7205268-B2  ...  1. A low-foaming aqueous liquid laundry deterg...\n",
              "9      US-6910186-B2  ...  1. A method of communicating between users, th...\n",
              "\n",
              "[10 rows x 4 columns]"
            ]
          },
          "metadata": {
            "tags": []
          },
          "execution_count": 2
        }
      ]
    },
    {
      "cell_type": "markdown",
      "metadata": {
        "id": "e23MNQEqZ_qC"
      },
      "source": [
        "Here's code for tokenizing a string with these restrictions - <br/> For each row, <br/>\n",
        "1. split on whitespace, punctuation, apostrophes, etc.\n",
        "2. Set everything to lowercase\n",
        "3. Replace numbers with some unique token (e.g., “_NUM_”) -- the number 1, 100, and 1000 should all map to the same token.\n",
        "4. Remove all one-letter “words”\n"
      ]
    },
    {
      "cell_type": "code",
      "metadata": {
        "id": "RjeFQCpOS2tl"
      },
      "source": [
        "def tokenize(string):\n",
        "    lowercasedString = string.lower()\n",
        "    #To split based on white space and random charactars\n",
        "    stringArray = re.split('\\W+', lowercasedString)\n",
        "    #Will substitute numbers for _NUM_\n",
        "    stringArray[:]= [re.sub(r\"[0-9]+\",\"_NUM_\",s) for s in stringArray]\n",
        "    #Will filter out 1 letter words like \"I\" and \"a\"\n",
        "    stringArray = list(filter (lambda s: len (s) > 1, stringArray))\n",
        "    #Will return a List/Array\n",
        "    return stringArray"
      ],
      "execution_count": 3,
      "outputs": []
    },
    {
      "cell_type": "markdown",
      "metadata": {
        "id": "UOXQqez_iW6o"
      },
      "source": [
        "Now, we have to take the abstract of each patent,<br/>\n",
        "and create a new column in the dataframe to put the tokenized<br/> abstract data -<br/>\n",
        "This is actually really simple using Pandas!"
      ]
    },
    {
      "cell_type": "code",
      "metadata": {
        "id": "CpoCB41jivBW"
      },
      "source": [
        "dataframe['Tokenized_Abstract'] = dataframe['Abstract'].apply(tokenize)"
      ],
      "execution_count": 4,
      "outputs": []
    },
    {
      "cell_type": "code",
      "metadata": {
        "colab": {
          "base_uri": "https://localhost:8080/",
          "height": 937
        },
        "id": "NheQq2Lzkd7f",
        "outputId": "b1fae933-0bfa-4843-a2f5-632e80fecaea"
      },
      "source": [
        "dataframe"
      ],
      "execution_count": 5,
      "outputs": [
        {
          "output_type": "execute_result",
          "data": {
            "text/html": [
              "<div>\n",
              "<style scoped>\n",
              "    .dataframe tbody tr th:only-of-type {\n",
              "        vertical-align: middle;\n",
              "    }\n",
              "\n",
              "    .dataframe tbody tr th {\n",
              "        vertical-align: top;\n",
              "    }\n",
              "\n",
              "    .dataframe thead th {\n",
              "        text-align: right;\n",
              "    }\n",
              "</style>\n",
              "<table border=\"1\" class=\"dataframe\">\n",
              "  <thead>\n",
              "    <tr style=\"text-align: right;\">\n",
              "      <th></th>\n",
              "      <th>Publication_Number</th>\n",
              "      <th>Abstract</th>\n",
              "      <th>Description</th>\n",
              "      <th>Claim</th>\n",
              "      <th>Tokenized_Abstract</th>\n",
              "    </tr>\n",
              "  </thead>\n",
              "  <tbody>\n",
              "    <tr>\n",
              "      <th>0</th>\n",
              "      <td>US-7365259-B2</td>\n",
              "      <td>A keyboard apparatus is including a plurality ...</td>\n",
              "      <td>BACKGROUND OF THE INVENTION \\n   1. Field of t...</td>\n",
              "      <td>1. A keyboard apparatus comprising:\\n a suppor...</td>\n",
              "      <td>[keyboard, apparatus, is, including, plurality...</td>\n",
              "    </tr>\n",
              "    <tr>\n",
              "      <th>1</th>\n",
              "      <td>US-7556524-B2</td>\n",
              "      <td>An easy-pull type swivel plug includes a body,...</td>\n",
              "      <td>BACKGROUND OF THE INVENTION \\n   1. Field of t...</td>\n",
              "      <td>1. An easy-pull type swivel plug, comprising:\\...</td>\n",
              "      <td>[an, easy, pull, type, swivel, plug, includes,...</td>\n",
              "    </tr>\n",
              "    <tr>\n",
              "      <th>2</th>\n",
              "      <td>US-7338315-B2</td>\n",
              "      <td>The invention relates to a closure device comp...</td>\n",
              "      <td>FIELD OF THE INVENTION \\n   The invention rela...</td>\n",
              "      <td>1. A closure device comprising:\\n a wall havin...</td>\n",
              "      <td>[the, invention, relates, to, closure, device,...</td>\n",
              "    </tr>\n",
              "    <tr>\n",
              "      <th>3</th>\n",
              "      <td>US-6843642-B2</td>\n",
              "      <td>An air compressor with shock-absorption rubber...</td>\n",
              "      <td>BACKGROUND OF THE INVENTION \\n   (a) Field of ...</td>\n",
              "      <td>1. An air compressor with shock-absorption rub...</td>\n",
              "      <td>[an, air, compressor, with, shock, absorption,...</td>\n",
              "    </tr>\n",
              "    <tr>\n",
              "      <th>4</th>\n",
              "      <td>US-9433212-B2</td>\n",
              "      <td>Provided is a novel plant growth regulator. Th...</td>\n",
              "      <td>TECHNICAL FIELD \\n     The present invention r...</td>\n",
              "      <td>The invention claimed is: \\n     \\n       1. A...</td>\n",
              "      <td>[provided, is, novel, plant, growth, regulator...</td>\n",
              "    </tr>\n",
              "    <tr>\n",
              "      <th>5</th>\n",
              "      <td>US-5536436-A</td>\n",
              "      <td>A liquid laundry detergent composition contain...</td>\n",
              "      <td>FIELD OF THE INVENTION \\n     The present inve...</td>\n",
              "      <td>What is claimed is: \\n     \\n       1. A heavy...</td>\n",
              "      <td>[liquid, laundry, detergent, composition, cont...</td>\n",
              "    </tr>\n",
              "    <tr>\n",
              "      <th>6</th>\n",
              "      <td>US-2015111807-A1</td>\n",
              "      <td>A liquid laundry detergent composition compris...</td>\n",
              "      <td>FIELD OF THE INVENTION \\n     The present inve...</td>\n",
              "      <td>What is claimed is: \\n     \\n         1 . A li...</td>\n",
              "      <td>[liquid, laundry, detergent, composition, comp...</td>\n",
              "    </tr>\n",
              "    <tr>\n",
              "      <th>7</th>\n",
              "      <td>US-7605322-B2</td>\n",
              "      <td>As a player inputs a performance of a music pi...</td>\n",
              "      <td>TECHNICAL FIELD \\n   The present invention rel...</td>\n",
              "      <td>1. An apparatus for automatically starting an ...</td>\n",
              "      <td>[as, player, inputs, performance, of, music, p...</td>\n",
              "    </tr>\n",
              "    <tr>\n",
              "      <th>8</th>\n",
              "      <td>US-7205268-B2</td>\n",
              "      <td>A low-foaming aqueous liquid laundry detergent...</td>\n",
              "      <td>FIELD OF THE INVENTION \\n     The present inve...</td>\n",
              "      <td>1. A low-foaming aqueous liquid laundry deterg...</td>\n",
              "      <td>[low, foaming, aqueous, liquid, laundry, deter...</td>\n",
              "    </tr>\n",
              "    <tr>\n",
              "      <th>9</th>\n",
              "      <td>US-6910186-B2</td>\n",
              "      <td>A new class of avatars (“organizational avatar...</td>\n",
              "      <td>CROSS-REFERENCE TO APPENDICES ATTACHED HERETO ...</td>\n",
              "      <td>1. A method of communicating between users, th...</td>\n",
              "      <td>[new, class, of, avatars, organizational, avat...</td>\n",
              "    </tr>\n",
              "  </tbody>\n",
              "</table>\n",
              "</div>"
            ],
            "text/plain": [
              "  Publication_Number  ...                                 Tokenized_Abstract\n",
              "0      US-7365259-B2  ...  [keyboard, apparatus, is, including, plurality...\n",
              "1      US-7556524-B2  ...  [an, easy, pull, type, swivel, plug, includes,...\n",
              "2      US-7338315-B2  ...  [the, invention, relates, to, closure, device,...\n",
              "3      US-6843642-B2  ...  [an, air, compressor, with, shock, absorption,...\n",
              "4      US-9433212-B2  ...  [provided, is, novel, plant, growth, regulator...\n",
              "5       US-5536436-A  ...  [liquid, laundry, detergent, composition, cont...\n",
              "6   US-2015111807-A1  ...  [liquid, laundry, detergent, composition, comp...\n",
              "7      US-7605322-B2  ...  [as, player, inputs, performance, of, music, p...\n",
              "8      US-7205268-B2  ...  [low, foaming, aqueous, liquid, laundry, deter...\n",
              "9      US-6910186-B2  ...  [new, class, of, avatars, organizational, avat...\n",
              "\n",
              "[10 rows x 5 columns]"
            ]
          },
          "metadata": {
            "tags": []
          },
          "execution_count": 5
        }
      ]
    },
    {
      "cell_type": "markdown",
      "metadata": {
        "id": "wqcVXAvLFyls"
      },
      "source": [
        "Function for BoW"
      ]
    },
    {
      "cell_type": "code",
      "metadata": {
        "id": "7GRBkrECGIE1"
      },
      "source": [
        "def bagOfWordize(tokenized_abstract):\n",
        "  #Create a Dictionary\n",
        "  wordFrequency = {}\n",
        "  for word in tokenized_abstract:\n",
        "    if word not in wordFrequency.keys():\n",
        "      wordFrequency[word] = 1\n",
        "    else:\n",
        "      wordFrequency[word] += 1\n",
        "  return wordFrequency"
      ],
      "execution_count": 6,
      "outputs": []
    },
    {
      "cell_type": "code",
      "metadata": {
        "id": "VyVaxtuNHkBP"
      },
      "source": [
        "dataframe['Bag_Of_Words_Abstract'] = dataframe['Tokenized_Abstract'].apply(bagOfWordize)"
      ],
      "execution_count": 7,
      "outputs": []
    },
    {
      "cell_type": "code",
      "metadata": {
        "id": "w11LwAaBH9WO",
        "colab": {
          "base_uri": "https://localhost:8080/",
          "height": 957
        },
        "outputId": "8c5079e9-d3ee-46c3-aa9d-ad5b23f335f4"
      },
      "source": [
        "dataframe"
      ],
      "execution_count": 8,
      "outputs": [
        {
          "output_type": "execute_result",
          "data": {
            "text/html": [
              "<div>\n",
              "<style scoped>\n",
              "    .dataframe tbody tr th:only-of-type {\n",
              "        vertical-align: middle;\n",
              "    }\n",
              "\n",
              "    .dataframe tbody tr th {\n",
              "        vertical-align: top;\n",
              "    }\n",
              "\n",
              "    .dataframe thead th {\n",
              "        text-align: right;\n",
              "    }\n",
              "</style>\n",
              "<table border=\"1\" class=\"dataframe\">\n",
              "  <thead>\n",
              "    <tr style=\"text-align: right;\">\n",
              "      <th></th>\n",
              "      <th>Publication_Number</th>\n",
              "      <th>Abstract</th>\n",
              "      <th>Description</th>\n",
              "      <th>Claim</th>\n",
              "      <th>Tokenized_Abstract</th>\n",
              "      <th>Bag_Of_Words_Abstract</th>\n",
              "    </tr>\n",
              "  </thead>\n",
              "  <tbody>\n",
              "    <tr>\n",
              "      <th>0</th>\n",
              "      <td>US-7365259-B2</td>\n",
              "      <td>A keyboard apparatus is including a plurality ...</td>\n",
              "      <td>BACKGROUND OF THE INVENTION \\n   1. Field of t...</td>\n",
              "      <td>1. A keyboard apparatus comprising:\\n a suppor...</td>\n",
              "      <td>[keyboard, apparatus, is, including, plurality...</td>\n",
              "      <td>{'keyboard': 3, 'apparatus': 1, 'is': 3, 'incl...</td>\n",
              "    </tr>\n",
              "    <tr>\n",
              "      <th>1</th>\n",
              "      <td>US-7556524-B2</td>\n",
              "      <td>An easy-pull type swivel plug includes a body,...</td>\n",
              "      <td>BACKGROUND OF THE INVENTION \\n   1. Field of t...</td>\n",
              "      <td>1. An easy-pull type swivel plug, comprising:\\...</td>\n",
              "      <td>[an, easy, pull, type, swivel, plug, includes,...</td>\n",
              "      <td>{'an': 1, 'easy': 1, 'pull': 1, 'type': 1, 'sw...</td>\n",
              "    </tr>\n",
              "    <tr>\n",
              "      <th>2</th>\n",
              "      <td>US-7338315-B2</td>\n",
              "      <td>The invention relates to a closure device comp...</td>\n",
              "      <td>FIELD OF THE INVENTION \\n   The invention rela...</td>\n",
              "      <td>1. A closure device comprising:\\n a wall havin...</td>\n",
              "      <td>[the, invention, relates, to, closure, device,...</td>\n",
              "      <td>{'the': 16, 'invention': 2, 'relates': 1, 'to'...</td>\n",
              "    </tr>\n",
              "    <tr>\n",
              "      <th>3</th>\n",
              "      <td>US-6843642-B2</td>\n",
              "      <td>An air compressor with shock-absorption rubber...</td>\n",
              "      <td>BACKGROUND OF THE INVENTION \\n   (a) Field of ...</td>\n",
              "      <td>1. An air compressor with shock-absorption rub...</td>\n",
              "      <td>[an, air, compressor, with, shock, absorption,...</td>\n",
              "      <td>{'an': 2, 'air': 7, 'compressor': 7, 'with': 2...</td>\n",
              "    </tr>\n",
              "    <tr>\n",
              "      <th>4</th>\n",
              "      <td>US-9433212-B2</td>\n",
              "      <td>Provided is a novel plant growth regulator. Th...</td>\n",
              "      <td>TECHNICAL FIELD \\n     The present invention r...</td>\n",
              "      <td>The invention claimed is: \\n     \\n       1. A...</td>\n",
              "      <td>[provided, is, novel, plant, growth, regulator...</td>\n",
              "      <td>{'provided': 1, 'is': 1, 'novel': 1, 'plant': ...</td>\n",
              "    </tr>\n",
              "    <tr>\n",
              "      <th>5</th>\n",
              "      <td>US-5536436-A</td>\n",
              "      <td>A liquid laundry detergent composition contain...</td>\n",
              "      <td>FIELD OF THE INVENTION \\n     The present inve...</td>\n",
              "      <td>What is claimed is: \\n     \\n       1. A heavy...</td>\n",
              "      <td>[liquid, laundry, detergent, composition, cont...</td>\n",
              "      <td>{'liquid': 2, 'laundry': 1, 'detergent': 2, 'c...</td>\n",
              "    </tr>\n",
              "    <tr>\n",
              "      <th>6</th>\n",
              "      <td>US-2015111807-A1</td>\n",
              "      <td>A liquid laundry detergent composition compris...</td>\n",
              "      <td>FIELD OF THE INVENTION \\n     The present inve...</td>\n",
              "      <td>What is claimed is: \\n     \\n         1 . A li...</td>\n",
              "      <td>[liquid, laundry, detergent, composition, comp...</td>\n",
              "      <td>{'liquid': 1, 'laundry': 1, 'detergent': 1, 'c...</td>\n",
              "    </tr>\n",
              "    <tr>\n",
              "      <th>7</th>\n",
              "      <td>US-7605322-B2</td>\n",
              "      <td>As a player inputs a performance of a music pi...</td>\n",
              "      <td>TECHNICAL FIELD \\n   The present invention rel...</td>\n",
              "      <td>1. An apparatus for automatically starting an ...</td>\n",
              "      <td>[as, player, inputs, performance, of, music, p...</td>\n",
              "      <td>{'as': 2, 'player': 2, 'inputs': 1, 'performan...</td>\n",
              "    </tr>\n",
              "    <tr>\n",
              "      <th>8</th>\n",
              "      <td>US-7205268-B2</td>\n",
              "      <td>A low-foaming aqueous liquid laundry detergent...</td>\n",
              "      <td>FIELD OF THE INVENTION \\n     The present inve...</td>\n",
              "      <td>1. A low-foaming aqueous liquid laundry deterg...</td>\n",
              "      <td>[low, foaming, aqueous, liquid, laundry, deter...</td>\n",
              "      <td>{'low': 2, 'foaming': 1, 'aqueous': 1, 'liquid...</td>\n",
              "    </tr>\n",
              "    <tr>\n",
              "      <th>9</th>\n",
              "      <td>US-6910186-B2</td>\n",
              "      <td>A new class of avatars (“organizational avatar...</td>\n",
              "      <td>CROSS-REFERENCE TO APPENDICES ATTACHED HERETO ...</td>\n",
              "      <td>1. A method of communicating between users, th...</td>\n",
              "      <td>[new, class, of, avatars, organizational, avat...</td>\n",
              "      <td>{'new': 1, 'class': 1, 'of': 7, 'avatars': 9, ...</td>\n",
              "    </tr>\n",
              "  </tbody>\n",
              "</table>\n",
              "</div>"
            ],
            "text/plain": [
              "  Publication_Number  ...                              Bag_Of_Words_Abstract\n",
              "0      US-7365259-B2  ...  {'keyboard': 3, 'apparatus': 1, 'is': 3, 'incl...\n",
              "1      US-7556524-B2  ...  {'an': 1, 'easy': 1, 'pull': 1, 'type': 1, 'sw...\n",
              "2      US-7338315-B2  ...  {'the': 16, 'invention': 2, 'relates': 1, 'to'...\n",
              "3      US-6843642-B2  ...  {'an': 2, 'air': 7, 'compressor': 7, 'with': 2...\n",
              "4      US-9433212-B2  ...  {'provided': 1, 'is': 1, 'novel': 1, 'plant': ...\n",
              "5       US-5536436-A  ...  {'liquid': 2, 'laundry': 1, 'detergent': 2, 'c...\n",
              "6   US-2015111807-A1  ...  {'liquid': 1, 'laundry': 1, 'detergent': 1, 'c...\n",
              "7      US-7605322-B2  ...  {'as': 2, 'player': 2, 'inputs': 1, 'performan...\n",
              "8      US-7205268-B2  ...  {'low': 2, 'foaming': 1, 'aqueous': 1, 'liquid...\n",
              "9      US-6910186-B2  ...  {'new': 1, 'class': 1, 'of': 7, 'avatars': 9, ...\n",
              "\n",
              "[10 rows x 6 columns]"
            ]
          },
          "metadata": {
            "tags": []
          },
          "execution_count": 8
        }
      ]
    },
    {
      "cell_type": "markdown",
      "metadata": {
        "id": "pq31gxzPLlb1"
      },
      "source": [
        "Let's try to implement Jaccard_Score similarity</br>\n",
        "I have to first create set representations of BOW instead of dictionary representation"
      ]
    },
    {
      "cell_type": "code",
      "metadata": {
        "id": "EmkFN-jWL36T"
      },
      "source": [
        "def setOfWordize(tokenized_abstract):\n",
        "  a = set()\n",
        "  a.update(tokenized_abstract)\n",
        "  return a\n",
        "\n",
        "dataframe['Set_Representation_Of_Tokenized_Abstract'] = dataframe['Tokenized_Abstract'].apply(setOfWordize)"
      ],
      "execution_count": 9,
      "outputs": []
    },
    {
      "cell_type": "code",
      "metadata": {
        "colab": {
          "base_uri": "https://localhost:8080/",
          "height": 957
        },
        "id": "CqU6-PbpOWpd",
        "outputId": "47823c01-b044-496f-bacd-c6926c15cb4e"
      },
      "source": [
        "dataframe"
      ],
      "execution_count": 10,
      "outputs": [
        {
          "output_type": "execute_result",
          "data": {
            "text/html": [
              "<div>\n",
              "<style scoped>\n",
              "    .dataframe tbody tr th:only-of-type {\n",
              "        vertical-align: middle;\n",
              "    }\n",
              "\n",
              "    .dataframe tbody tr th {\n",
              "        vertical-align: top;\n",
              "    }\n",
              "\n",
              "    .dataframe thead th {\n",
              "        text-align: right;\n",
              "    }\n",
              "</style>\n",
              "<table border=\"1\" class=\"dataframe\">\n",
              "  <thead>\n",
              "    <tr style=\"text-align: right;\">\n",
              "      <th></th>\n",
              "      <th>Publication_Number</th>\n",
              "      <th>Abstract</th>\n",
              "      <th>Description</th>\n",
              "      <th>Claim</th>\n",
              "      <th>Tokenized_Abstract</th>\n",
              "      <th>Bag_Of_Words_Abstract</th>\n",
              "      <th>Set_Representation_Of_Tokenized_Abstract</th>\n",
              "    </tr>\n",
              "  </thead>\n",
              "  <tbody>\n",
              "    <tr>\n",
              "      <th>0</th>\n",
              "      <td>US-7365259-B2</td>\n",
              "      <td>A keyboard apparatus is including a plurality ...</td>\n",
              "      <td>BACKGROUND OF THE INVENTION \\n   1. Field of t...</td>\n",
              "      <td>1. A keyboard apparatus comprising:\\n a suppor...</td>\n",
              "      <td>[keyboard, apparatus, is, including, plurality...</td>\n",
              "      <td>{'keyboard': 3, 'apparatus': 1, 'is': 3, 'incl...</td>\n",
              "      <td>{the, portion, under, lowest, is, including, t...</td>\n",
              "    </tr>\n",
              "    <tr>\n",
              "      <th>1</th>\n",
              "      <td>US-7556524-B2</td>\n",
              "      <td>An easy-pull type swivel plug includes a body,...</td>\n",
              "      <td>BACKGROUND OF THE INVENTION \\n   1. Field of t...</td>\n",
              "      <td>1. An easy-pull type swivel plug, comprising:\\...</td>\n",
              "      <td>[an, easy, pull, type, swivel, plug, includes,...</td>\n",
              "      <td>{'an': 1, 'easy': 1, 'pull': 1, 'type': 1, 'sw...</td>\n",
              "      <td>{the, corresponds, pull, rotatable, liftable, ...</td>\n",
              "    </tr>\n",
              "    <tr>\n",
              "      <th>2</th>\n",
              "      <td>US-7338315-B2</td>\n",
              "      <td>The invention relates to a closure device comp...</td>\n",
              "      <td>FIELD OF THE INVENTION \\n   The invention rela...</td>\n",
              "      <td>1. A closure device comprising:\\n a wall havin...</td>\n",
              "      <td>[the, invention, relates, to, closure, device,...</td>\n",
              "      <td>{'the': 16, 'invention': 2, 'relates': 1, 'to'...</td>\n",
              "      <td>{the, device, closed, which, open, flap, an, t...</td>\n",
              "    </tr>\n",
              "    <tr>\n",
              "      <th>3</th>\n",
              "      <td>US-6843642-B2</td>\n",
              "      <td>An air compressor with shock-absorption rubber...</td>\n",
              "      <td>BACKGROUND OF THE INVENTION \\n   (a) Field of ...</td>\n",
              "      <td>1. An air compressor with shock-absorption rub...</td>\n",
              "      <td>[an, air, compressor, with, shock, absorption,...</td>\n",
              "      <td>{'an': 2, 'air': 7, 'compressor': 7, 'with': 2...</td>\n",
              "      <td>{actuated, the, is, an, bottom, plate, of, to,...</td>\n",
              "    </tr>\n",
              "    <tr>\n",
              "      <th>4</th>\n",
              "      <td>US-9433212-B2</td>\n",
              "      <td>Provided is a novel plant growth regulator. Th...</td>\n",
              "      <td>TECHNICAL FIELD \\n     The present invention r...</td>\n",
              "      <td>The invention claimed is: \\n     \\n       1. A...</td>\n",
              "      <td>[provided, is, novel, plant, growth, regulator...</td>\n",
              "      <td>{'provided': 1, 'is': 1, 'novel': 1, 'plant': ...</td>\n",
              "      <td>{as, the, regulator, is, provided, active, pla...</td>\n",
              "    </tr>\n",
              "    <tr>\n",
              "      <th>5</th>\n",
              "      <td>US-5536436-A</td>\n",
              "      <td>A liquid laundry detergent composition contain...</td>\n",
              "      <td>FIELD OF THE INVENTION \\n     The present inve...</td>\n",
              "      <td>What is claimed is: \\n     \\n       1. A heavy...</td>\n",
              "      <td>[liquid, laundry, detergent, composition, cont...</td>\n",
              "      <td>{'liquid': 2, 'laundry': 1, 'detergent': 2, 'c...</td>\n",
              "      <td>{selected, the, using, is, active, about, furt...</td>\n",
              "    </tr>\n",
              "    <tr>\n",
              "      <th>6</th>\n",
              "      <td>US-2015111807-A1</td>\n",
              "      <td>A liquid laundry detergent composition compris...</td>\n",
              "      <td>FIELD OF THE INVENTION \\n     The present inve...</td>\n",
              "      <td>What is claimed is: \\n     \\n         1 . A li...</td>\n",
              "      <td>[liquid, laundry, detergent, composition, comp...</td>\n",
              "      <td>{'liquid': 1, 'laundry': 1, 'detergent': 1, 'c...</td>\n",
              "      <td>{selected, the, two, an, three, of, consisting...</td>\n",
              "    </tr>\n",
              "    <tr>\n",
              "      <th>7</th>\n",
              "      <td>US-7605322-B2</td>\n",
              "      <td>As a player inputs a performance of a music pi...</td>\n",
              "      <td>TECHNICAL FIELD \\n   The present invention rel...</td>\n",
              "      <td>1. An apparatus for automatically starting an ...</td>\n",
              "      <td>[as, player, inputs, performance, of, music, p...</td>\n",
              "      <td>{'as': 2, 'player': 2, 'inputs': 1, 'performan...</td>\n",
              "      <td>{start, the, corresponds, under, run, player, ...</td>\n",
              "    </tr>\n",
              "    <tr>\n",
              "      <th>8</th>\n",
              "      <td>US-7205268-B2</td>\n",
              "      <td>A low-foaming aqueous liquid laundry detergent...</td>\n",
              "      <td>FIELD OF THE INVENTION \\n     The present inve...</td>\n",
              "      <td>1. A low-foaming aqueous liquid laundry deterg...</td>\n",
              "      <td>[low, foaming, aqueous, liquid, laundry, deter...</td>\n",
              "      <td>{'low': 2, 'foaming': 1, 'aqueous': 1, 'liquid...</td>\n",
              "      <td>{aqueous, the, surfactant, machines, about, of...</td>\n",
              "    </tr>\n",
              "    <tr>\n",
              "      <th>9</th>\n",
              "      <td>US-6910186-B2</td>\n",
              "      <td>A new class of avatars (“organizational avatar...</td>\n",
              "      <td>CROSS-REFERENCE TO APPENDICES ATTACHED HERETO ...</td>\n",
              "      <td>1. A method of communicating between users, th...</td>\n",
              "      <td>[new, class, of, avatars, organizational, avat...</td>\n",
              "      <td>{'new': 1, 'class': 1, 'of': 7, 'avatars': 9, ...</td>\n",
              "      <td>{limited, using, background, is, eliminating, ...</td>\n",
              "    </tr>\n",
              "  </tbody>\n",
              "</table>\n",
              "</div>"
            ],
            "text/plain": [
              "  Publication_Number  ...           Set_Representation_Of_Tokenized_Abstract\n",
              "0      US-7365259-B2  ...  {the, portion, under, lowest, is, including, t...\n",
              "1      US-7556524-B2  ...  {the, corresponds, pull, rotatable, liftable, ...\n",
              "2      US-7338315-B2  ...  {the, device, closed, which, open, flap, an, t...\n",
              "3      US-6843642-B2  ...  {actuated, the, is, an, bottom, plate, of, to,...\n",
              "4      US-9433212-B2  ...  {as, the, regulator, is, provided, active, pla...\n",
              "5       US-5536436-A  ...  {selected, the, using, is, active, about, furt...\n",
              "6   US-2015111807-A1  ...  {selected, the, two, an, three, of, consisting...\n",
              "7      US-7605322-B2  ...  {start, the, corresponds, under, run, player, ...\n",
              "8      US-7205268-B2  ...  {aqueous, the, surfactant, machines, about, of...\n",
              "9      US-6910186-B2  ...  {limited, using, background, is, eliminating, ...\n",
              "\n",
              "[10 rows x 7 columns]"
            ]
          },
          "metadata": {
            "tags": []
          },
          "execution_count": 10
        }
      ]
    },
    {
      "cell_type": "markdown",
      "metadata": {
        "id": "YAvwbU2BOezs"
      },
      "source": [
        "Now - Jaccard_Similarity Function</br>\n",
        "(I couldnt figure this out with scikit)"
      ]
    },
    {
      "cell_type": "code",
      "metadata": {
        "id": "g-l9vPWpOooD"
      },
      "source": [
        "a = dataframe.at[8,'Set_Representation_Of_Tokenized_Abstract']\n",
        "b = dataframe.at[5,'Set_Representation_Of_Tokenized_Abstract']"
      ],
      "execution_count": 11,
      "outputs": []
    },
    {
      "cell_type": "code",
      "metadata": {
        "id": "3hxtYww1Pq_Y"
      },
      "source": [
        "def jaccard_similarity(list1, list2):\n",
        "  intersectionVar = len(list(set(list1).intersection(list2)))\n",
        "  unionVar = (len(list1)) + len(list2) - intersectionVar\n",
        "  return float(intersectionVar) / unionVar"
      ],
      "execution_count": 12,
      "outputs": []
    },
    {
      "cell_type": "markdown",
      "metadata": {
        "id": "jIiQllXApXCs"
      },
      "source": [
        "This is the Jaccard Similarity for two like patents"
      ]
    },
    {
      "cell_type": "code",
      "metadata": {
        "colab": {
          "base_uri": "https://localhost:8080/"
        },
        "id": "ZX13xi_pQxDp",
        "outputId": "f25efe14-b93a-4411-917d-3bb118cb1cb5"
      },
      "source": [
        "jaccard_similarity(a,b)"
      ],
      "execution_count": 13,
      "outputs": [
        {
          "output_type": "execute_result",
          "data": {
            "text/plain": [
              "0.20512820512820512"
            ]
          },
          "metadata": {
            "tags": []
          },
          "execution_count": 13
        }
      ]
    },
    {
      "cell_type": "markdown",
      "metadata": {
        "id": "1yG6jsaxpkSj"
      },
      "source": [
        "Two not similar patents"
      ]
    },
    {
      "cell_type": "code",
      "metadata": {
        "colab": {
          "base_uri": "https://localhost:8080/"
        },
        "id": "RFkS-HMnpoM1",
        "outputId": "58154e04-88f9-46fb-ee71-a21c64f07c30"
      },
      "source": [
        "d = dataframe.at[9,'Set_Representation_Of_Tokenized_Abstract']\n",
        "c = dataframe.at[1,'Set_Representation_Of_Tokenized_Abstract']\n",
        "jaccard_similarity(c,d)"
      ],
      "execution_count": 14,
      "outputs": [
        {
          "output_type": "execute_result",
          "data": {
            "text/plain": [
              "0.07333333333333333"
            ]
          },
          "metadata": {
            "tags": []
          },
          "execution_count": 14
        }
      ]
    },
    {
      "cell_type": "markdown",
      "metadata": {
        "id": "SWGXPFr8p35n"
      },
      "source": [
        "See? Much lower than .2"
      ]
    },
    {
      "cell_type": "markdown",
      "metadata": {
        "id": "XQE9XcbopKuo"
      },
      "source": [
        "# Before I move on -<br>\n",
        "I have to vectorize my bag of words,<br>\n",
        "which involves creating a corpus/vocab of words"
      ]
    },
    {
      "cell_type": "code",
      "metadata": {
        "id": "7n3D7LuHpV_u"
      },
      "source": [
        "def create_corpus(datafr):\n",
        "\tcorpus = []\n",
        "\n",
        "\tfor i in datafr.index:\n",
        "\t\ttoken_set = datafr['Set_Representation_Of_Tokenized_Abstract'][i]\n",
        "\t\tcorpus_set = set(corpus)\n",
        "\t\tnew_tokens = token_set - corpus_set\n",
        "\t\tcorpus = corpus + list(new_tokens)\n",
        "\n",
        "\treturn corpus\n",
        "\n",
        "myCorpus = create_corpus(dataframe)\n",
        "myCorpus\n"
      ],
      "execution_count": null,
      "outputs": []
    },
    {
      "cell_type": "markdown",
      "metadata": {
        "id": "2R4hWTXoq_KC"
      },
      "source": [
        "### Now to vectorize -\n",
        "In order to vectorize,<br> I have to create a function that takes each patent's 'Tokenized_Abstract' and compare it to the corpus. <br>\n",
        "Then do .apply"
      ]
    },
    {
      "cell_type": "code",
      "metadata": {
        "id": "wnJXK6yZrp-s"
      },
      "source": [
        "def vectorize(tokenized_abstract):\n",
        "  vector = []\n",
        "  for word in myCorpus:\n",
        "    vector.append(tokenized_abstract.count(word))\n",
        "  return vector\n"
      ],
      "execution_count": 18,
      "outputs": []
    },
    {
      "cell_type": "code",
      "metadata": {
        "id": "srAJ3IDWtkVD"
      },
      "source": [
        "dataframe['Vector_Representation_Of_Tokenized_Abstract'] = dataframe['Tokenized_Abstract'].apply(vectorize)"
      ],
      "execution_count": 19,
      "outputs": []
    },
    {
      "cell_type": "code",
      "metadata": {
        "colab": {
          "base_uri": "https://localhost:8080/",
          "height": 957
        },
        "id": "BAvDjQqGt1Mw",
        "outputId": "8fa1c9ad-8d14-4e56-b23c-172ad7aa853e"
      },
      "source": [
        "dataframe"
      ],
      "execution_count": 20,
      "outputs": [
        {
          "output_type": "execute_result",
          "data": {
            "text/html": [
              "<div>\n",
              "<style scoped>\n",
              "    .dataframe tbody tr th:only-of-type {\n",
              "        vertical-align: middle;\n",
              "    }\n",
              "\n",
              "    .dataframe tbody tr th {\n",
              "        vertical-align: top;\n",
              "    }\n",
              "\n",
              "    .dataframe thead th {\n",
              "        text-align: right;\n",
              "    }\n",
              "</style>\n",
              "<table border=\"1\" class=\"dataframe\">\n",
              "  <thead>\n",
              "    <tr style=\"text-align: right;\">\n",
              "      <th></th>\n",
              "      <th>Publication_Number</th>\n",
              "      <th>Abstract</th>\n",
              "      <th>Description</th>\n",
              "      <th>Claim</th>\n",
              "      <th>Tokenized_Abstract</th>\n",
              "      <th>Bag_Of_Words_Abstract</th>\n",
              "      <th>Set_Representation_Of_Tokenized_Abstract</th>\n",
              "      <th>Vector_Representation_Of_Tokenized_Abstract</th>\n",
              "    </tr>\n",
              "  </thead>\n",
              "  <tbody>\n",
              "    <tr>\n",
              "      <th>0</th>\n",
              "      <td>US-7365259-B2</td>\n",
              "      <td>A keyboard apparatus is including a plurality ...</td>\n",
              "      <td>BACKGROUND OF THE INVENTION \\n   1. Field of t...</td>\n",
              "      <td>1. A keyboard apparatus comprising:\\n a suppor...</td>\n",
              "      <td>[keyboard, apparatus, is, including, plurality...</td>\n",
              "      <td>{'keyboard': 3, 'apparatus': 1, 'is': 3, 'incl...</td>\n",
              "      <td>{the, portion, under, lowest, is, including, t...</td>\n",
              "      <td>[12, 1, 1, 1, 3, 1, 1, 1, 1, 1, 1, 9, 1, 1, 1,...</td>\n",
              "    </tr>\n",
              "    <tr>\n",
              "      <th>1</th>\n",
              "      <td>US-7556524-B2</td>\n",
              "      <td>An easy-pull type swivel plug includes a body,...</td>\n",
              "      <td>BACKGROUND OF THE INVENTION \\n   1. Field of t...</td>\n",
              "      <td>1. An easy-pull type swivel plug, comprising:\\...</td>\n",
              "      <td>[an, easy, pull, type, swivel, plug, includes,...</td>\n",
              "      <td>{'an': 1, 'easy': 1, 'pull': 1, 'type': 1, 'sw...</td>\n",
              "      <td>{the, corresponds, pull, rotatable, liftable, ...</td>\n",
              "      <td>[17, 0, 0, 0, 3, 0, 2, 0, 0, 1, 0, 4, 0, 3, 0,...</td>\n",
              "    </tr>\n",
              "    <tr>\n",
              "      <th>2</th>\n",
              "      <td>US-7338315-B2</td>\n",
              "      <td>The invention relates to a closure device comp...</td>\n",
              "      <td>FIELD OF THE INVENTION \\n   The invention rela...</td>\n",
              "      <td>1. A closure device comprising:\\n a wall havin...</td>\n",
              "      <td>[the, invention, relates, to, closure, device,...</td>\n",
              "      <td>{'the': 16, 'invention': 2, 'relates': 1, 'to'...</td>\n",
              "      <td>{the, device, closed, which, open, flap, an, t...</td>\n",
              "      <td>[16, 0, 0, 0, 0, 0, 0, 0, 0, 3, 0, 7, 0, 4, 1,...</td>\n",
              "    </tr>\n",
              "    <tr>\n",
              "      <th>3</th>\n",
              "      <td>US-6843642-B2</td>\n",
              "      <td>An air compressor with shock-absorption rubber...</td>\n",
              "      <td>BACKGROUND OF THE INVENTION \\n   (a) Field of ...</td>\n",
              "      <td>1. An air compressor with shock-absorption rub...</td>\n",
              "      <td>[an, air, compressor, with, shock, absorption,...</td>\n",
              "      <td>{'an': 2, 'air': 7, 'compressor': 7, 'with': 2...</td>\n",
              "      <td>{actuated, the, is, an, bottom, plate, of, to,...</td>\n",
              "      <td>[9, 0, 0, 0, 4, 0, 0, 0, 0, 2, 0, 3, 0, 2, 0, ...</td>\n",
              "    </tr>\n",
              "    <tr>\n",
              "      <th>4</th>\n",
              "      <td>US-9433212-B2</td>\n",
              "      <td>Provided is a novel plant growth regulator. Th...</td>\n",
              "      <td>TECHNICAL FIELD \\n     The present invention r...</td>\n",
              "      <td>The invention claimed is: \\n     \\n       1. A...</td>\n",
              "      <td>[provided, is, novel, plant, growth, regulator...</td>\n",
              "      <td>{'provided': 1, 'is': 1, 'novel': 1, 'plant': ...</td>\n",
              "      <td>{as, the, regulator, is, provided, active, pla...</td>\n",
              "      <td>[1, 0, 0, 0, 1, 0, 0, 0, 0, 1, 0, 0, 0, 0, 0, ...</td>\n",
              "    </tr>\n",
              "    <tr>\n",
              "      <th>5</th>\n",
              "      <td>US-5536436-A</td>\n",
              "      <td>A liquid laundry detergent composition contain...</td>\n",
              "      <td>FIELD OF THE INVENTION \\n     The present inve...</td>\n",
              "      <td>What is claimed is: \\n     \\n       1. A heavy...</td>\n",
              "      <td>[liquid, laundry, detergent, composition, cont...</td>\n",
              "      <td>{'liquid': 2, 'laundry': 1, 'detergent': 2, 'c...</td>\n",
              "      <td>{selected, the, using, is, active, about, furt...</td>\n",
              "      <td>[4, 0, 0, 0, 2, 0, 0, 0, 0, 1, 0, 3, 0, 1, 0, ...</td>\n",
              "    </tr>\n",
              "    <tr>\n",
              "      <th>6</th>\n",
              "      <td>US-2015111807-A1</td>\n",
              "      <td>A liquid laundry detergent composition compris...</td>\n",
              "      <td>FIELD OF THE INVENTION \\n     The present inve...</td>\n",
              "      <td>What is claimed is: \\n     \\n         1 . A li...</td>\n",
              "      <td>[liquid, laundry, detergent, composition, comp...</td>\n",
              "      <td>{'liquid': 1, 'laundry': 1, 'detergent': 1, 'c...</td>\n",
              "      <td>{selected, the, two, an, three, of, consisting...</td>\n",
              "      <td>[1, 0, 0, 0, 0, 0, 1, 0, 0, 1, 0, 2, 0, 1, 0, ...</td>\n",
              "    </tr>\n",
              "    <tr>\n",
              "      <th>7</th>\n",
              "      <td>US-7605322-B2</td>\n",
              "      <td>As a player inputs a performance of a music pi...</td>\n",
              "      <td>TECHNICAL FIELD \\n   The present invention rel...</td>\n",
              "      <td>1. An apparatus for automatically starting an ...</td>\n",
              "      <td>[as, player, inputs, performance, of, music, p...</td>\n",
              "      <td>{'as': 2, 'player': 2, 'inputs': 1, 'performan...</td>\n",
              "      <td>{start, the, corresponds, under, run, player, ...</td>\n",
              "      <td>[13, 0, 1, 0, 0, 0, 0, 0, 0, 3, 0, 6, 0, 4, 0,...</td>\n",
              "    </tr>\n",
              "    <tr>\n",
              "      <th>8</th>\n",
              "      <td>US-7205268-B2</td>\n",
              "      <td>A low-foaming aqueous liquid laundry detergent...</td>\n",
              "      <td>FIELD OF THE INVENTION \\n     The present inve...</td>\n",
              "      <td>1. A low-foaming aqueous liquid laundry deterg...</td>\n",
              "      <td>[low, foaming, aqueous, liquid, laundry, deter...</td>\n",
              "      <td>{'low': 2, 'foaming': 1, 'aqueous': 1, 'liquid...</td>\n",
              "      <td>{aqueous, the, surfactant, machines, about, of...</td>\n",
              "      <td>[2, 0, 0, 0, 0, 0, 0, 0, 0, 0, 0, 4, 0, 3, 0, ...</td>\n",
              "    </tr>\n",
              "    <tr>\n",
              "      <th>9</th>\n",
              "      <td>US-6910186-B2</td>\n",
              "      <td>A new class of avatars (“organizational avatar...</td>\n",
              "      <td>CROSS-REFERENCE TO APPENDICES ATTACHED HERETO ...</td>\n",
              "      <td>1. A method of communicating between users, th...</td>\n",
              "      <td>[new, class, of, avatars, organizational, avat...</td>\n",
              "      <td>{'new': 1, 'class': 1, 'of': 7, 'avatars': 9, ...</td>\n",
              "      <td>{limited, using, background, is, eliminating, ...</td>\n",
              "      <td>[12, 0, 1, 0, 1, 0, 0, 0, 0, 1, 0, 7, 0, 5, 0,...</td>\n",
              "    </tr>\n",
              "  </tbody>\n",
              "</table>\n",
              "</div>"
            ],
            "text/plain": [
              "  Publication_Number  ...        Vector_Representation_Of_Tokenized_Abstract\n",
              "0      US-7365259-B2  ...  [12, 1, 1, 1, 3, 1, 1, 1, 1, 1, 1, 9, 1, 1, 1,...\n",
              "1      US-7556524-B2  ...  [17, 0, 0, 0, 3, 0, 2, 0, 0, 1, 0, 4, 0, 3, 0,...\n",
              "2      US-7338315-B2  ...  [16, 0, 0, 0, 0, 0, 0, 0, 0, 3, 0, 7, 0, 4, 1,...\n",
              "3      US-6843642-B2  ...  [9, 0, 0, 0, 4, 0, 0, 0, 0, 2, 0, 3, 0, 2, 0, ...\n",
              "4      US-9433212-B2  ...  [1, 0, 0, 0, 1, 0, 0, 0, 0, 1, 0, 0, 0, 0, 0, ...\n",
              "5       US-5536436-A  ...  [4, 0, 0, 0, 2, 0, 0, 0, 0, 1, 0, 3, 0, 1, 0, ...\n",
              "6   US-2015111807-A1  ...  [1, 0, 0, 0, 0, 0, 1, 0, 0, 1, 0, 2, 0, 1, 0, ...\n",
              "7      US-7605322-B2  ...  [13, 0, 1, 0, 0, 0, 0, 0, 0, 3, 0, 6, 0, 4, 0,...\n",
              "8      US-7205268-B2  ...  [2, 0, 0, 0, 0, 0, 0, 0, 0, 0, 0, 4, 0, 3, 0, ...\n",
              "9      US-6910186-B2  ...  [12, 0, 1, 0, 1, 0, 0, 0, 0, 1, 0, 7, 0, 5, 0,...\n",
              "\n",
              "[10 rows x 8 columns]"
            ]
          },
          "metadata": {
            "tags": []
          },
          "execution_count": 20
        }
      ]
    },
    {
      "cell_type": "markdown",
      "metadata": {
        "id": "jBLXp20LuVh7"
      },
      "source": [
        "## And Finally -<br>\n",
        "Now that I've created vectors, I can finally use numpy and sklearn (scikit)"
      ]
    },
    {
      "cell_type": "code",
      "metadata": {
        "colab": {
          "base_uri": "https://localhost:8080/"
        },
        "id": "V2SIBEuhupqp",
        "outputId": "c17729ef-0d76-4186-ed42-9c969b94c3fb"
      },
      "source": [
        "import numpy as np\n",
        "from sklearn.metrics.pairwise import cosine_similarity as cs\n",
        "\n",
        "#Thank you Zach!\n",
        "#scikit cosine similarity accepts 2d arrays as parameters,\n",
        "# that is why need to reshape it \n",
        "def cosine_similarity_func(vectorA, vectorB):\n",
        "  v1 = np.array(vectorA).reshape(1,-1)\n",
        "  v2 = np.array(vectorB).reshape(1,-1)\n",
        "  return cs(v1, v2)[0][0]\n",
        "\n",
        "\n",
        "\n",
        "vec1= (dataframe['Vector_Representation_Of_Tokenized_Abstract'][0])\n",
        "vec2= (dataframe['Vector_Representation_Of_Tokenized_Abstract'][6])\n",
        "\n",
        "cosine_similarity_func(vec1, vec2)"
      ],
      "execution_count": 22,
      "outputs": [
        {
          "output_type": "execute_result",
          "data": {
            "text/plain": [
              "0.2255237862381975"
            ]
          },
          "metadata": {
            "tags": []
          },
          "execution_count": 22
        }
      ]
    },
    {
      "cell_type": "markdown",
      "metadata": {
        "id": "tZ6CAT15yUOI"
      },
      "source": [
        "Now to figure out how to create a table representing both the Jaccard similarities<br>\n",
        "and cosine similarities across patents"
      ]
    },
    {
      "cell_type": "code",
      "metadata": {
        "id": "wWPkENcByfhP"
      },
      "source": [
        ""
      ],
      "execution_count": null,
      "outputs": []
    }
  ]
}