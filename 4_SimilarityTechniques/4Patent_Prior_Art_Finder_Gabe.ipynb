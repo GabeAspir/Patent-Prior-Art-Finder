{
  "nbformat": 4,
  "nbformat_minor": 0,
  "metadata": {
    "colab": {
      "name": "4Patent-Prior-Art-Finder_Gabe.ipynb",
      "provenance": [],
      "authorship_tag": "ABX9TyOW65M0z6oHRdatdPOnk5ea",
      "include_colab_link": true
    },
    "kernelspec": {
      "name": "python3",
      "display_name": "Python 3"
    },
    "language_info": {
      "name": "python"
    }
  },
  "cells": [
    {
      "cell_type": "markdown",
      "metadata": {
        "id": "view-in-github",
        "colab_type": "text"
      },
      "source": [
        "<a href=\"https://colab.research.google.com/github/GabeAspir/Patent-Prior-Art-Finder/blob/main/4_SimilarityTechniques/4Patent_Prior_Art_Finder_Gabe.ipynb\" target=\"_parent\"><img src=\"https://colab.research.google.com/assets/colab-badge.svg\" alt=\"Open In Colab\"/></a>"
      ]
    },
    {
      "cell_type": "markdown",
      "metadata": {
        "id": "2ZJWOZJAegI5"
      },
      "source": [
        "# Goal -- To try some similarity techniques!"
      ]
    },
    {
      "cell_type": "code",
      "metadata": {
        "id": "o3t7jhXcedDF"
      },
      "source": [
        "import pandas as pd\n",
        "import re\n",
        "url = 'https://drive.google.com/file/d/18DdQd4ZPbcvOeZ6x2KRJHmvpGarnw9Qx/view?usp=sharing'\n",
        "file_id = url.split('/')[-2]\n",
        "dwn_url='https://drive.google.com/uc?id=' + file_id\n",
        "dataframe = pd.read_csv(dwn_url)"
      ],
      "execution_count": 1,
      "outputs": []
    },
    {
      "cell_type": "markdown",
      "metadata": {
        "id": "5JC89fFMZvsY"
      },
      "source": [
        "We now have a data set (of 10 patents) containing three alike patents - liquid Laundry detergent Patents."
      ]
    },
    {
      "cell_type": "code",
      "metadata": {
        "colab": {
          "base_uri": "https://localhost:8080/",
          "height": 529
        },
        "id": "fJ7hJW5dgq1o",
        "outputId": "cb189f87-278c-4aeb-9c7a-90a560c3816b"
      },
      "source": [
        "dataframe"
      ],
      "execution_count": 2,
      "outputs": [
        {
          "output_type": "execute_result",
          "data": {
            "text/html": [
              "<div>\n",
              "<style scoped>\n",
              "    .dataframe tbody tr th:only-of-type {\n",
              "        vertical-align: middle;\n",
              "    }\n",
              "\n",
              "    .dataframe tbody tr th {\n",
              "        vertical-align: top;\n",
              "    }\n",
              "\n",
              "    .dataframe thead th {\n",
              "        text-align: right;\n",
              "    }\n",
              "</style>\n",
              "<table border=\"1\" class=\"dataframe\">\n",
              "  <thead>\n",
              "    <tr style=\"text-align: right;\">\n",
              "      <th></th>\n",
              "      <th>Publication_Number</th>\n",
              "      <th>Abstract</th>\n",
              "      <th>Description</th>\n",
              "      <th>Claim</th>\n",
              "    </tr>\n",
              "  </thead>\n",
              "  <tbody>\n",
              "    <tr>\n",
              "      <th>0</th>\n",
              "      <td>US-7365259-B2</td>\n",
              "      <td>A keyboard apparatus is including a plurality ...</td>\n",
              "      <td>BACKGROUND OF THE INVENTION \\n   1. Field of t...</td>\n",
              "      <td>1. A keyboard apparatus comprising:\\n a suppor...</td>\n",
              "    </tr>\n",
              "    <tr>\n",
              "      <th>1</th>\n",
              "      <td>US-7556524-B2</td>\n",
              "      <td>An easy-pull type swivel plug includes a body,...</td>\n",
              "      <td>BACKGROUND OF THE INVENTION \\n   1. Field of t...</td>\n",
              "      <td>1. An easy-pull type swivel plug, comprising:\\...</td>\n",
              "    </tr>\n",
              "    <tr>\n",
              "      <th>2</th>\n",
              "      <td>US-7338315-B2</td>\n",
              "      <td>The invention relates to a closure device comp...</td>\n",
              "      <td>FIELD OF THE INVENTION \\n   The invention rela...</td>\n",
              "      <td>1. A closure device comprising:\\n a wall havin...</td>\n",
              "    </tr>\n",
              "    <tr>\n",
              "      <th>3</th>\n",
              "      <td>US-6843642-B2</td>\n",
              "      <td>An air compressor with shock-absorption rubber...</td>\n",
              "      <td>BACKGROUND OF THE INVENTION \\n   (a) Field of ...</td>\n",
              "      <td>1. An air compressor with shock-absorption rub...</td>\n",
              "    </tr>\n",
              "    <tr>\n",
              "      <th>4</th>\n",
              "      <td>US-9433212-B2</td>\n",
              "      <td>Provided is a novel plant growth regulator. Th...</td>\n",
              "      <td>TECHNICAL FIELD \\n     The present invention r...</td>\n",
              "      <td>The invention claimed is: \\n     \\n       1. A...</td>\n",
              "    </tr>\n",
              "    <tr>\n",
              "      <th>5</th>\n",
              "      <td>US-5536436-A</td>\n",
              "      <td>A liquid laundry detergent composition contain...</td>\n",
              "      <td>FIELD OF THE INVENTION \\n     The present inve...</td>\n",
              "      <td>What is claimed is: \\n     \\n       1. A heavy...</td>\n",
              "    </tr>\n",
              "    <tr>\n",
              "      <th>6</th>\n",
              "      <td>US-2015111807-A1</td>\n",
              "      <td>A liquid laundry detergent composition compris...</td>\n",
              "      <td>FIELD OF THE INVENTION \\n     The present inve...</td>\n",
              "      <td>What is claimed is: \\n     \\n         1 . A li...</td>\n",
              "    </tr>\n",
              "    <tr>\n",
              "      <th>7</th>\n",
              "      <td>US-7605322-B2</td>\n",
              "      <td>As a player inputs a performance of a music pi...</td>\n",
              "      <td>TECHNICAL FIELD \\n   The present invention rel...</td>\n",
              "      <td>1. An apparatus for automatically starting an ...</td>\n",
              "    </tr>\n",
              "    <tr>\n",
              "      <th>8</th>\n",
              "      <td>US-7205268-B2</td>\n",
              "      <td>A low-foaming aqueous liquid laundry detergent...</td>\n",
              "      <td>FIELD OF THE INVENTION \\n     The present inve...</td>\n",
              "      <td>1. A low-foaming aqueous liquid laundry deterg...</td>\n",
              "    </tr>\n",
              "    <tr>\n",
              "      <th>9</th>\n",
              "      <td>US-6910186-B2</td>\n",
              "      <td>A new class of avatars (“organizational avatar...</td>\n",
              "      <td>CROSS-REFERENCE TO APPENDICES ATTACHED HERETO ...</td>\n",
              "      <td>1. A method of communicating between users, th...</td>\n",
              "    </tr>\n",
              "  </tbody>\n",
              "</table>\n",
              "</div>"
            ],
            "text/plain": [
              "  Publication_Number  ...                                              Claim\n",
              "0      US-7365259-B2  ...  1. A keyboard apparatus comprising:\\n a suppor...\n",
              "1      US-7556524-B2  ...  1. An easy-pull type swivel plug, comprising:\\...\n",
              "2      US-7338315-B2  ...  1. A closure device comprising:\\n a wall havin...\n",
              "3      US-6843642-B2  ...  1. An air compressor with shock-absorption rub...\n",
              "4      US-9433212-B2  ...  The invention claimed is: \\n     \\n       1. A...\n",
              "5       US-5536436-A  ...  What is claimed is: \\n     \\n       1. A heavy...\n",
              "6   US-2015111807-A1  ...  What is claimed is: \\n     \\n         1 . A li...\n",
              "7      US-7605322-B2  ...  1. An apparatus for automatically starting an ...\n",
              "8      US-7205268-B2  ...  1. A low-foaming aqueous liquid laundry deterg...\n",
              "9      US-6910186-B2  ...  1. A method of communicating between users, th...\n",
              "\n",
              "[10 rows x 4 columns]"
            ]
          },
          "metadata": {
            "tags": []
          },
          "execution_count": 2
        }
      ]
    },
    {
      "cell_type": "markdown",
      "metadata": {
        "id": "e23MNQEqZ_qC"
      },
      "source": [
        "Here's code for tokenizing a string with these restrictions - <br/> For each row, <br/>\n",
        "1. split on whitespace, punctuation, apostrophes, etc.\n",
        "2. Set everything to lowercase\n",
        "3. Replace numbers with some unique token (e.g., “_NUM_”) -- the number 1, 100, and 1000 should all map to the same token.\n",
        "4. Remove all one-letter “words”\n"
      ]
    },
    {
      "cell_type": "code",
      "metadata": {
        "id": "RjeFQCpOS2tl"
      },
      "source": [
        "def tokenize(string):\n",
        "    lowercasedString = string.lower()\n",
        "    #To split based on white space and random charactars\n",
        "    stringArray = re.split('\\W+', lowercasedString)\n",
        "    #Will substitute numbers for _NUM_\n",
        "    stringArray[:]= [re.sub(r\"[0-9]+\",\"_NUM_\",s) for s in stringArray]\n",
        "    #Will filter out 1 letter words like \"I\" and \"a\"\n",
        "    stringArray = list(filter (lambda s: len (s) > 1, stringArray))\n",
        "    #Will return a List/Array\n",
        "    return stringArray"
      ],
      "execution_count": 3,
      "outputs": []
    },
    {
      "cell_type": "markdown",
      "metadata": {
        "id": "UOXQqez_iW6o"
      },
      "source": [
        "Now, we have to take the abstract of each patent,<br/>\n",
        "and create a new column in the dataframe to put the tokenized<br/> abstract data -<br/>\n",
        "This is actually really simple using Pandas!"
      ]
    },
    {
      "cell_type": "code",
      "metadata": {
        "id": "CpoCB41jivBW"
      },
      "source": [
        "dataframe['Tokenized_Abstract'] = dataframe['Abstract'].apply(tokenize)"
      ],
      "execution_count": 4,
      "outputs": []
    },
    {
      "cell_type": "code",
      "metadata": {
        "colab": {
          "base_uri": "https://localhost:8080/",
          "height": 529
        },
        "id": "NheQq2Lzkd7f",
        "outputId": "d42dacc4-323e-45ce-a364-1f32be647024"
      },
      "source": [
        "dataframe"
      ],
      "execution_count": 5,
      "outputs": [
        {
          "output_type": "execute_result",
          "data": {
            "text/html": [
              "<div>\n",
              "<style scoped>\n",
              "    .dataframe tbody tr th:only-of-type {\n",
              "        vertical-align: middle;\n",
              "    }\n",
              "\n",
              "    .dataframe tbody tr th {\n",
              "        vertical-align: top;\n",
              "    }\n",
              "\n",
              "    .dataframe thead th {\n",
              "        text-align: right;\n",
              "    }\n",
              "</style>\n",
              "<table border=\"1\" class=\"dataframe\">\n",
              "  <thead>\n",
              "    <tr style=\"text-align: right;\">\n",
              "      <th></th>\n",
              "      <th>Publication_Number</th>\n",
              "      <th>Abstract</th>\n",
              "      <th>Description</th>\n",
              "      <th>Claim</th>\n",
              "      <th>Tokenized_Abstract</th>\n",
              "    </tr>\n",
              "  </thead>\n",
              "  <tbody>\n",
              "    <tr>\n",
              "      <th>0</th>\n",
              "      <td>US-7365259-B2</td>\n",
              "      <td>A keyboard apparatus is including a plurality ...</td>\n",
              "      <td>BACKGROUND OF THE INVENTION \\n   1. Field of t...</td>\n",
              "      <td>1. A keyboard apparatus comprising:\\n a suppor...</td>\n",
              "      <td>[keyboard, apparatus, is, including, plurality...</td>\n",
              "    </tr>\n",
              "    <tr>\n",
              "      <th>1</th>\n",
              "      <td>US-7556524-B2</td>\n",
              "      <td>An easy-pull type swivel plug includes a body,...</td>\n",
              "      <td>BACKGROUND OF THE INVENTION \\n   1. Field of t...</td>\n",
              "      <td>1. An easy-pull type swivel plug, comprising:\\...</td>\n",
              "      <td>[an, easy, pull, type, swivel, plug, includes,...</td>\n",
              "    </tr>\n",
              "    <tr>\n",
              "      <th>2</th>\n",
              "      <td>US-7338315-B2</td>\n",
              "      <td>The invention relates to a closure device comp...</td>\n",
              "      <td>FIELD OF THE INVENTION \\n   The invention rela...</td>\n",
              "      <td>1. A closure device comprising:\\n a wall havin...</td>\n",
              "      <td>[the, invention, relates, to, closure, device,...</td>\n",
              "    </tr>\n",
              "    <tr>\n",
              "      <th>3</th>\n",
              "      <td>US-6843642-B2</td>\n",
              "      <td>An air compressor with shock-absorption rubber...</td>\n",
              "      <td>BACKGROUND OF THE INVENTION \\n   (a) Field of ...</td>\n",
              "      <td>1. An air compressor with shock-absorption rub...</td>\n",
              "      <td>[an, air, compressor, with, shock, absorption,...</td>\n",
              "    </tr>\n",
              "    <tr>\n",
              "      <th>4</th>\n",
              "      <td>US-9433212-B2</td>\n",
              "      <td>Provided is a novel plant growth regulator. Th...</td>\n",
              "      <td>TECHNICAL FIELD \\n     The present invention r...</td>\n",
              "      <td>The invention claimed is: \\n     \\n       1. A...</td>\n",
              "      <td>[provided, is, novel, plant, growth, regulator...</td>\n",
              "    </tr>\n",
              "    <tr>\n",
              "      <th>5</th>\n",
              "      <td>US-5536436-A</td>\n",
              "      <td>A liquid laundry detergent composition contain...</td>\n",
              "      <td>FIELD OF THE INVENTION \\n     The present inve...</td>\n",
              "      <td>What is claimed is: \\n     \\n       1. A heavy...</td>\n",
              "      <td>[liquid, laundry, detergent, composition, cont...</td>\n",
              "    </tr>\n",
              "    <tr>\n",
              "      <th>6</th>\n",
              "      <td>US-2015111807-A1</td>\n",
              "      <td>A liquid laundry detergent composition compris...</td>\n",
              "      <td>FIELD OF THE INVENTION \\n     The present inve...</td>\n",
              "      <td>What is claimed is: \\n     \\n         1 . A li...</td>\n",
              "      <td>[liquid, laundry, detergent, composition, comp...</td>\n",
              "    </tr>\n",
              "    <tr>\n",
              "      <th>7</th>\n",
              "      <td>US-7605322-B2</td>\n",
              "      <td>As a player inputs a performance of a music pi...</td>\n",
              "      <td>TECHNICAL FIELD \\n   The present invention rel...</td>\n",
              "      <td>1. An apparatus for automatically starting an ...</td>\n",
              "      <td>[as, player, inputs, performance, of, music, p...</td>\n",
              "    </tr>\n",
              "    <tr>\n",
              "      <th>8</th>\n",
              "      <td>US-7205268-B2</td>\n",
              "      <td>A low-foaming aqueous liquid laundry detergent...</td>\n",
              "      <td>FIELD OF THE INVENTION \\n     The present inve...</td>\n",
              "      <td>1. A low-foaming aqueous liquid laundry deterg...</td>\n",
              "      <td>[low, foaming, aqueous, liquid, laundry, deter...</td>\n",
              "    </tr>\n",
              "    <tr>\n",
              "      <th>9</th>\n",
              "      <td>US-6910186-B2</td>\n",
              "      <td>A new class of avatars (“organizational avatar...</td>\n",
              "      <td>CROSS-REFERENCE TO APPENDICES ATTACHED HERETO ...</td>\n",
              "      <td>1. A method of communicating between users, th...</td>\n",
              "      <td>[new, class, of, avatars, organizational, avat...</td>\n",
              "    </tr>\n",
              "  </tbody>\n",
              "</table>\n",
              "</div>"
            ],
            "text/plain": [
              "  Publication_Number  ...                                 Tokenized_Abstract\n",
              "0      US-7365259-B2  ...  [keyboard, apparatus, is, including, plurality...\n",
              "1      US-7556524-B2  ...  [an, easy, pull, type, swivel, plug, includes,...\n",
              "2      US-7338315-B2  ...  [the, invention, relates, to, closure, device,...\n",
              "3      US-6843642-B2  ...  [an, air, compressor, with, shock, absorption,...\n",
              "4      US-9433212-B2  ...  [provided, is, novel, plant, growth, regulator...\n",
              "5       US-5536436-A  ...  [liquid, laundry, detergent, composition, cont...\n",
              "6   US-2015111807-A1  ...  [liquid, laundry, detergent, composition, comp...\n",
              "7      US-7605322-B2  ...  [as, player, inputs, performance, of, music, p...\n",
              "8      US-7205268-B2  ...  [low, foaming, aqueous, liquid, laundry, deter...\n",
              "9      US-6910186-B2  ...  [new, class, of, avatars, organizational, avat...\n",
              "\n",
              "[10 rows x 5 columns]"
            ]
          },
          "metadata": {
            "tags": []
          },
          "execution_count": 5
        }
      ]
    },
    {
      "cell_type": "markdown",
      "metadata": {
        "id": "wqcVXAvLFyls"
      },
      "source": [
        "Function for BoW"
      ]
    },
    {
      "cell_type": "code",
      "metadata": {
        "id": "7GRBkrECGIE1"
      },
      "source": [
        "def bagOfWordize(tokenized_abstract):\n",
        "  #Create a Dictionary\n",
        "  wordFrequency = {}\n",
        "  for word in tokenized_abstract:\n",
        "    if word not in wordFrequency.keys():\n",
        "      wordFrequency[word] = 1\n",
        "    else:\n",
        "      wordFrequency[word] += 1\n",
        "  return wordFrequency"
      ],
      "execution_count": 6,
      "outputs": []
    },
    {
      "cell_type": "code",
      "metadata": {
        "id": "VyVaxtuNHkBP"
      },
      "source": [
        "dataframe['Bag_Of_Words_Abstract'] = dataframe['Tokenized_Abstract'].apply(bagOfWordize)"
      ],
      "execution_count": 7,
      "outputs": []
    },
    {
      "cell_type": "code",
      "metadata": {
        "id": "w11LwAaBH9WO",
        "colab": {
          "base_uri": "https://localhost:8080/",
          "height": 665
        },
        "outputId": "4f9f395d-c3de-4dff-c788-14bbabee31f8"
      },
      "source": [
        "dataframe"
      ],
      "execution_count": 13,
      "outputs": [
        {
          "output_type": "execute_result",
          "data": {
            "text/html": [
              "<div>\n",
              "<style scoped>\n",
              "    .dataframe tbody tr th:only-of-type {\n",
              "        vertical-align: middle;\n",
              "    }\n",
              "\n",
              "    .dataframe tbody tr th {\n",
              "        vertical-align: top;\n",
              "    }\n",
              "\n",
              "    .dataframe thead th {\n",
              "        text-align: right;\n",
              "    }\n",
              "</style>\n",
              "<table border=\"1\" class=\"dataframe\">\n",
              "  <thead>\n",
              "    <tr style=\"text-align: right;\">\n",
              "      <th></th>\n",
              "      <th>Publication_Number</th>\n",
              "      <th>Abstract</th>\n",
              "      <th>Description</th>\n",
              "      <th>Claim</th>\n",
              "      <th>Tokenized_Abstract</th>\n",
              "      <th>Bag_Of_Words_Abstract</th>\n",
              "    </tr>\n",
              "  </thead>\n",
              "  <tbody>\n",
              "    <tr>\n",
              "      <th>0</th>\n",
              "      <td>US-7365259-B2</td>\n",
              "      <td>A keyboard apparatus is including a plurality ...</td>\n",
              "      <td>BACKGROUND OF THE INVENTION \\n   1. Field of t...</td>\n",
              "      <td>1. A keyboard apparatus comprising:\\n a suppor...</td>\n",
              "      <td>[keyboard, apparatus, is, including, plurality...</td>\n",
              "      <td>{'keyboard': 3, 'apparatus': 1, 'is': 3, 'incl...</td>\n",
              "    </tr>\n",
              "    <tr>\n",
              "      <th>1</th>\n",
              "      <td>US-7556524-B2</td>\n",
              "      <td>An easy-pull type swivel plug includes a body,...</td>\n",
              "      <td>BACKGROUND OF THE INVENTION \\n   1. Field of t...</td>\n",
              "      <td>1. An easy-pull type swivel plug, comprising:\\...</td>\n",
              "      <td>[an, easy, pull, type, swivel, plug, includes,...</td>\n",
              "      <td>{'an': 1, 'easy': 1, 'pull': 1, 'type': 1, 'sw...</td>\n",
              "    </tr>\n",
              "    <tr>\n",
              "      <th>2</th>\n",
              "      <td>US-7338315-B2</td>\n",
              "      <td>The invention relates to a closure device comp...</td>\n",
              "      <td>FIELD OF THE INVENTION \\n   The invention rela...</td>\n",
              "      <td>1. A closure device comprising:\\n a wall havin...</td>\n",
              "      <td>[the, invention, relates, to, closure, device,...</td>\n",
              "      <td>{'the': 16, 'invention': 2, 'relates': 1, 'to'...</td>\n",
              "    </tr>\n",
              "    <tr>\n",
              "      <th>3</th>\n",
              "      <td>US-6843642-B2</td>\n",
              "      <td>An air compressor with shock-absorption rubber...</td>\n",
              "      <td>BACKGROUND OF THE INVENTION \\n   (a) Field of ...</td>\n",
              "      <td>1. An air compressor with shock-absorption rub...</td>\n",
              "      <td>[an, air, compressor, with, shock, absorption,...</td>\n",
              "      <td>{'an': 2, 'air': 7, 'compressor': 7, 'with': 2...</td>\n",
              "    </tr>\n",
              "    <tr>\n",
              "      <th>4</th>\n",
              "      <td>US-9433212-B2</td>\n",
              "      <td>Provided is a novel plant growth regulator. Th...</td>\n",
              "      <td>TECHNICAL FIELD \\n     The present invention r...</td>\n",
              "      <td>The invention claimed is: \\n     \\n       1. A...</td>\n",
              "      <td>[provided, is, novel, plant, growth, regulator...</td>\n",
              "      <td>{'provided': 1, 'is': 1, 'novel': 1, 'plant': ...</td>\n",
              "    </tr>\n",
              "    <tr>\n",
              "      <th>5</th>\n",
              "      <td>US-5536436-A</td>\n",
              "      <td>A liquid laundry detergent composition contain...</td>\n",
              "      <td>FIELD OF THE INVENTION \\n     The present inve...</td>\n",
              "      <td>What is claimed is: \\n     \\n       1. A heavy...</td>\n",
              "      <td>[liquid, laundry, detergent, composition, cont...</td>\n",
              "      <td>{'liquid': 2, 'laundry': 1, 'detergent': 2, 'c...</td>\n",
              "    </tr>\n",
              "    <tr>\n",
              "      <th>6</th>\n",
              "      <td>US-2015111807-A1</td>\n",
              "      <td>A liquid laundry detergent composition compris...</td>\n",
              "      <td>FIELD OF THE INVENTION \\n     The present inve...</td>\n",
              "      <td>What is claimed is: \\n     \\n         1 . A li...</td>\n",
              "      <td>[liquid, laundry, detergent, composition, comp...</td>\n",
              "      <td>{'liquid': 1, 'laundry': 1, 'detergent': 1, 'c...</td>\n",
              "    </tr>\n",
              "    <tr>\n",
              "      <th>7</th>\n",
              "      <td>US-7605322-B2</td>\n",
              "      <td>As a player inputs a performance of a music pi...</td>\n",
              "      <td>TECHNICAL FIELD \\n   The present invention rel...</td>\n",
              "      <td>1. An apparatus for automatically starting an ...</td>\n",
              "      <td>[as, player, inputs, performance, of, music, p...</td>\n",
              "      <td>{'as': 2, 'player': 2, 'inputs': 1, 'performan...</td>\n",
              "    </tr>\n",
              "    <tr>\n",
              "      <th>8</th>\n",
              "      <td>US-7205268-B2</td>\n",
              "      <td>A low-foaming aqueous liquid laundry detergent...</td>\n",
              "      <td>FIELD OF THE INVENTION \\n     The present inve...</td>\n",
              "      <td>1. A low-foaming aqueous liquid laundry deterg...</td>\n",
              "      <td>[low, foaming, aqueous, liquid, laundry, deter...</td>\n",
              "      <td>{'low': 2, 'foaming': 1, 'aqueous': 1, 'liquid...</td>\n",
              "    </tr>\n",
              "    <tr>\n",
              "      <th>9</th>\n",
              "      <td>US-6910186-B2</td>\n",
              "      <td>A new class of avatars (“organizational avatar...</td>\n",
              "      <td>CROSS-REFERENCE TO APPENDICES ATTACHED HERETO ...</td>\n",
              "      <td>1. A method of communicating between users, th...</td>\n",
              "      <td>[new, class, of, avatars, organizational, avat...</td>\n",
              "      <td>{'new': 1, 'class': 1, 'of': 7, 'avatars': 9, ...</td>\n",
              "    </tr>\n",
              "  </tbody>\n",
              "</table>\n",
              "</div>"
            ],
            "text/plain": [
              "  Publication_Number  ...                              Bag_Of_Words_Abstract\n",
              "0      US-7365259-B2  ...  {'keyboard': 3, 'apparatus': 1, 'is': 3, 'incl...\n",
              "1      US-7556524-B2  ...  {'an': 1, 'easy': 1, 'pull': 1, 'type': 1, 'sw...\n",
              "2      US-7338315-B2  ...  {'the': 16, 'invention': 2, 'relates': 1, 'to'...\n",
              "3      US-6843642-B2  ...  {'an': 2, 'air': 7, 'compressor': 7, 'with': 2...\n",
              "4      US-9433212-B2  ...  {'provided': 1, 'is': 1, 'novel': 1, 'plant': ...\n",
              "5       US-5536436-A  ...  {'liquid': 2, 'laundry': 1, 'detergent': 2, 'c...\n",
              "6   US-2015111807-A1  ...  {'liquid': 1, 'laundry': 1, 'detergent': 1, 'c...\n",
              "7      US-7605322-B2  ...  {'as': 2, 'player': 2, 'inputs': 1, 'performan...\n",
              "8      US-7205268-B2  ...  {'low': 2, 'foaming': 1, 'aqueous': 1, 'liquid...\n",
              "9      US-6910186-B2  ...  {'new': 1, 'class': 1, 'of': 7, 'avatars': 9, ...\n",
              "\n",
              "[10 rows x 6 columns]"
            ]
          },
          "metadata": {
            "tags": []
          },
          "execution_count": 13
        }
      ]
    },
    {
      "cell_type": "markdown",
      "metadata": {
        "id": "pq31gxzPLlb1"
      },
      "source": [
        "Let's try to implement Jaccard_Score similarity</br>\n",
        "I have to first create set representations of BOW instead of dictionary representation"
      ]
    },
    {
      "cell_type": "code",
      "metadata": {
        "id": "EmkFN-jWL36T"
      },
      "source": [
        "def setOfWordize(tokenized_abstract):\n",
        "  a = set()\n",
        "  a.update(tokenized_abstract)\n",
        "  return a\n",
        "\n",
        "dataframe['Set_Representation_Of_Tokenized_Abstract'] = dataframe['Tokenized_Abstract'].apply(setOfWordize)"
      ],
      "execution_count": 16,
      "outputs": []
    },
    {
      "cell_type": "code",
      "metadata": {
        "colab": {
          "base_uri": "https://localhost:8080/",
          "height": 957
        },
        "id": "CqU6-PbpOWpd",
        "outputId": "83c68b95-f7e3-4b47-afde-790039d675b2"
      },
      "source": [
        "dataframe"
      ],
      "execution_count": 17,
      "outputs": [
        {
          "output_type": "execute_result",
          "data": {
            "text/html": [
              "<div>\n",
              "<style scoped>\n",
              "    .dataframe tbody tr th:only-of-type {\n",
              "        vertical-align: middle;\n",
              "    }\n",
              "\n",
              "    .dataframe tbody tr th {\n",
              "        vertical-align: top;\n",
              "    }\n",
              "\n",
              "    .dataframe thead th {\n",
              "        text-align: right;\n",
              "    }\n",
              "</style>\n",
              "<table border=\"1\" class=\"dataframe\">\n",
              "  <thead>\n",
              "    <tr style=\"text-align: right;\">\n",
              "      <th></th>\n",
              "      <th>Publication_Number</th>\n",
              "      <th>Abstract</th>\n",
              "      <th>Description</th>\n",
              "      <th>Claim</th>\n",
              "      <th>Tokenized_Abstract</th>\n",
              "      <th>Bag_Of_Words_Abstract</th>\n",
              "      <th>Set_Representation_Of_Tokenized_Abstract</th>\n",
              "    </tr>\n",
              "  </thead>\n",
              "  <tbody>\n",
              "    <tr>\n",
              "      <th>0</th>\n",
              "      <td>US-7365259-B2</td>\n",
              "      <td>A keyboard apparatus is including a plurality ...</td>\n",
              "      <td>BACKGROUND OF THE INVENTION \\n   1. Field of t...</td>\n",
              "      <td>1. A keyboard apparatus comprising:\\n a suppor...</td>\n",
              "      <td>[keyboard, apparatus, is, including, plurality...</td>\n",
              "      <td>{'keyboard': 3, 'apparatus': 1, 'is': 3, 'incl...</td>\n",
              "      <td>{with, among, end, by, under, at, longitudinal...</td>\n",
              "    </tr>\n",
              "    <tr>\n",
              "      <th>1</th>\n",
              "      <td>US-7556524-B2</td>\n",
              "      <td>An easy-pull type swivel plug includes a body,...</td>\n",
              "      <td>BACKGROUND OF THE INVENTION \\n   1. Field of t...</td>\n",
              "      <td>1. An easy-pull type swivel plug, comprising:\\...</td>\n",
              "      <td>[an, easy, pull, type, swivel, plug, includes,...</td>\n",
              "      <td>{'an': 1, 'easy': 1, 'pull': 1, 'type': 1, 'sw...</td>\n",
              "      <td>{rotatable, one, with, type, opposite, by, unp...</td>\n",
              "    </tr>\n",
              "    <tr>\n",
              "      <th>2</th>\n",
              "      <td>US-7338315-B2</td>\n",
              "      <td>The invention relates to a closure device comp...</td>\n",
              "      <td>FIELD OF THE INVENTION \\n   The invention rela...</td>\n",
              "      <td>1. A closure device comprising:\\n a wall havin...</td>\n",
              "      <td>[the, invention, relates, to, closure, device,...</td>\n",
              "      <td>{'the': 16, 'invention': 2, 'relates': 1, 'to'...</td>\n",
              "      <td>{one, first, flexible, connect, at, comprising...</td>\n",
              "    </tr>\n",
              "    <tr>\n",
              "      <th>3</th>\n",
              "      <td>US-6843642-B2</td>\n",
              "      <td>An air compressor with shock-absorption rubber...</td>\n",
              "      <td>BACKGROUND OF THE INVENTION \\n   (a) Field of ...</td>\n",
              "      <td>1. An air compressor with shock-absorption rub...</td>\n",
              "      <td>[an, air, compressor, with, shock, absorption,...</td>\n",
              "      <td>{'an': 2, 'air': 7, 'compressor': 7, 'with': 2...</td>\n",
              "      <td>{one, with, air, casing, at, plate, actuated, ...</td>\n",
              "    </tr>\n",
              "    <tr>\n",
              "      <th>4</th>\n",
              "      <td>US-9433212-B2</td>\n",
              "      <td>Provided is a novel plant growth regulator. Th...</td>\n",
              "      <td>TECHNICAL FIELD \\n     The present invention r...</td>\n",
              "      <td>The invention claimed is: \\n     \\n       1. A...</td>\n",
              "      <td>[provided, is, novel, plant, growth, regulator...</td>\n",
              "      <td>{'provided': 1, 'is': 1, 'novel': 1, 'plant': ...</td>\n",
              "      <td>{novel, active, is, ingredient, an, as, provid...</td>\n",
              "    </tr>\n",
              "    <tr>\n",
              "      <th>5</th>\n",
              "      <td>US-5536436-A</td>\n",
              "      <td>A liquid laundry detergent composition contain...</td>\n",
              "      <td>FIELD OF THE INVENTION \\n     The present inve...</td>\n",
              "      <td>What is claimed is: \\n     \\n       1. A heavy...</td>\n",
              "      <td>[liquid, laundry, detergent, composition, cont...</td>\n",
              "      <td>{'liquid': 2, 'laundry': 1, 'detergent': 2, 'c...</td>\n",
              "      <td>{by, _NUM_, also, comprising, weight, further,...</td>\n",
              "    </tr>\n",
              "    <tr>\n",
              "      <th>6</th>\n",
              "      <td>US-2015111807-A1</td>\n",
              "      <td>A liquid laundry detergent composition compris...</td>\n",
              "      <td>FIELD OF THE INVENTION \\n     The present inve...</td>\n",
              "      <td>What is claimed is: \\n     \\n         1 . A li...</td>\n",
              "      <td>[liquid, laundry, detergent, composition, comp...</td>\n",
              "      <td>{'liquid': 1, 'laundry': 1, 'detergent': 1, 'c...</td>\n",
              "      <td>{one, imines, amines, consecutive, imides, at,...</td>\n",
              "    </tr>\n",
              "    <tr>\n",
              "      <th>7</th>\n",
              "      <td>US-7605322-B2</td>\n",
              "      <td>As a player inputs a performance of a music pi...</td>\n",
              "      <td>TECHNICAL FIELD \\n   The present invention rel...</td>\n",
              "      <td>1. An apparatus for automatically starting an ...</td>\n",
              "      <td>[as, player, inputs, performance, of, music, p...</td>\n",
              "      <td>{'as': 2, 'player': 2, 'inputs': 1, 'performan...</td>\n",
              "      <td>{progression, with, causes, word, by, under, a...</td>\n",
              "    </tr>\n",
              "    <tr>\n",
              "      <th>8</th>\n",
              "      <td>US-7205268-B2</td>\n",
              "      <td>A low-foaming aqueous liquid laundry detergent...</td>\n",
              "      <td>FIELD OF THE INVENTION \\n     The present inve...</td>\n",
              "      <td>1. A low-foaming aqueous liquid laundry deterg...</td>\n",
              "      <td>[low, foaming, aqueous, liquid, laundry, deter...</td>\n",
              "      <td>{'low': 2, 'foaming': 1, 'aqueous': 1, 'liquid...</td>\n",
              "      <td>{certain, by, _NUM_, comprising, weight, use, ...</td>\n",
              "    </tr>\n",
              "    <tr>\n",
              "      <th>9</th>\n",
              "      <td>US-6910186-B2</td>\n",
              "      <td>A new class of avatars (“organizational avatar...</td>\n",
              "      <td>CROSS-REFERENCE TO APPENDICES ATTACHED HERETO ...</td>\n",
              "      <td>1. A method of communicating between users, th...</td>\n",
              "      <td>[new, class, of, avatars, organizational, avat...</td>\n",
              "      <td>{'new': 1, 'class': 1, 'of': 7, 'avatars': 9, ...</td>\n",
              "      <td>{own, download, organizations, under, to, inve...</td>\n",
              "    </tr>\n",
              "  </tbody>\n",
              "</table>\n",
              "</div>"
            ],
            "text/plain": [
              "  Publication_Number  ...           Set_Representation_Of_Tokenized_Abstract\n",
              "0      US-7365259-B2  ...  {with, among, end, by, under, at, longitudinal...\n",
              "1      US-7556524-B2  ...  {rotatable, one, with, type, opposite, by, unp...\n",
              "2      US-7338315-B2  ...  {one, first, flexible, connect, at, comprising...\n",
              "3      US-6843642-B2  ...  {one, with, air, casing, at, plate, actuated, ...\n",
              "4      US-9433212-B2  ...  {novel, active, is, ingredient, an, as, provid...\n",
              "5       US-5536436-A  ...  {by, _NUM_, also, comprising, weight, further,...\n",
              "6   US-2015111807-A1  ...  {one, imines, amines, consecutive, imides, at,...\n",
              "7      US-7605322-B2  ...  {progression, with, causes, word, by, under, a...\n",
              "8      US-7205268-B2  ...  {certain, by, _NUM_, comprising, weight, use, ...\n",
              "9      US-6910186-B2  ...  {own, download, organizations, under, to, inve...\n",
              "\n",
              "[10 rows x 7 columns]"
            ]
          },
          "metadata": {
            "tags": []
          },
          "execution_count": 17
        }
      ]
    },
    {
      "cell_type": "markdown",
      "metadata": {
        "id": "YAvwbU2BOezs"
      },
      "source": [
        "Now - Jaccard_Similarity Function</br>\n",
        "(I couldnt figure this out with scikit)"
      ]
    },
    {
      "cell_type": "code",
      "metadata": {
        "id": "g-l9vPWpOooD"
      },
      "source": [
        "a = dataframe.at[8,'Set_Representation_Of_Tokenized_Abstract']\n",
        "b = dataframe.at[5,'Set_Representation_Of_Tokenized_Abstract']"
      ],
      "execution_count": 32,
      "outputs": []
    },
    {
      "cell_type": "code",
      "metadata": {
        "id": "3hxtYww1Pq_Y"
      },
      "source": [
        "def jaccard_similarity(list1, list2):\n",
        "  intersectionVar = len(list(set(list1).intersection(list2)))\n",
        "  unionVar = (len(list1)) + len(list2) - intersectionVar\n",
        "  return float(intersectionVar) / unionVar"
      ],
      "execution_count": 21,
      "outputs": []
    },
    {
      "cell_type": "markdown",
      "metadata": {
        "id": "jIiQllXApXCs"
      },
      "source": [
        "This is the Jaccard Similarity for two like patents"
      ]
    },
    {
      "cell_type": "code",
      "metadata": {
        "colab": {
          "base_uri": "https://localhost:8080/"
        },
        "id": "ZX13xi_pQxDp",
        "outputId": "fa0e3ea5-1b0e-40ca-96aa-6dba2b1679c9"
      },
      "source": [
        "jaccard_similarity(a,b)"
      ],
      "execution_count": 33,
      "outputs": [
        {
          "output_type": "execute_result",
          "data": {
            "text/plain": [
              "0.20512820512820512"
            ]
          },
          "metadata": {
            "tags": []
          },
          "execution_count": 33
        }
      ]
    },
    {
      "cell_type": "markdown",
      "metadata": {
        "id": "1yG6jsaxpkSj"
      },
      "source": [
        "Two not similar patents"
      ]
    },
    {
      "cell_type": "code",
      "metadata": {
        "colab": {
          "base_uri": "https://localhost:8080/"
        },
        "id": "RFkS-HMnpoM1",
        "outputId": "14d03b12-41c5-4ae6-c3bd-ce5178307a66"
      },
      "source": [
        "d = dataframe.at[9,'Set_Representation_Of_Tokenized_Abstract']\n",
        "c = dataframe.at[1,'Set_Representation_Of_Tokenized_Abstract']\n",
        "jaccard_similarity(c,d)"
      ],
      "execution_count": 34,
      "outputs": [
        {
          "output_type": "execute_result",
          "data": {
            "text/plain": [
              "0.07333333333333333"
            ]
          },
          "metadata": {
            "tags": []
          },
          "execution_count": 34
        }
      ]
    },
    {
      "cell_type": "markdown",
      "metadata": {
        "id": "SWGXPFr8p35n"
      },
      "source": [
        "See? Much lower than .2"
      ]
    },
    {
      "cell_type": "markdown",
      "metadata": {
        "id": "Vqy-YnguqF40"
      },
      "source": [
        "## Next </br>\n",
        "We'll do cosine similarity"
      ]
    },
    {
      "cell_type": "code",
      "metadata": {
        "id": "eulDqblBrCSk"
      },
      "source": [
        "#Was throwing an error, so I'm leaving it as a comment for now\n",
        "#from sklearn.metrics.pairwise import cosine_similarity\n",
        "#f = dataframe.at[8,'Bag_Of_Words_Abstract']\n",
        "#g = dataframe.at[5,'Bag_Of_Words_Abstract']\n",
        "#cosine_similarity(f,g)"
      ],
      "execution_count": 37,
      "outputs": []
    }
  ]
}