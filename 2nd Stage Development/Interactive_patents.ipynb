{
  "nbformat": 4,
  "nbformat_minor": 0,
  "metadata": {
    "colab": {
      "name": "Interactive patents",
      "provenance": [],
      "collapsed_sections": [],
      "authorship_tag": "ABX9TyPGPMZzpHMFPR4XMb/iB7U3",
      "include_colab_link": true
    },
    "kernelspec": {
      "name": "python3",
      "display_name": "Python 3"
    },
    "language_info": {
      "name": "python"
    }
  },
  "cells": [
    {
      "cell_type": "markdown",
      "metadata": {
        "id": "view-in-github",
        "colab_type": "text"
      },
      "source": [
        "<a href=\"https://colab.research.google.com/github/GabeAspir/Patent-Prior-Art-Finder/blob/main/2nd%20Stage%20Development/Interactive_patents.ipynb\" target=\"_parent\"><img src=\"https://colab.research.google.com/assets/colab-badge.svg\" alt=\"Open In Colab\"/></a>"
      ]
    },
    {
      "cell_type": "code",
      "metadata": {
        "colab": {
          "base_uri": "https://localhost:8080/"
        },
        "id": "eClH_0_7OkK1",
        "outputId": "b2611332-0f7b-4081-a56f-f243130ce8f7"
      },
      "source": [
        "import requests\n",
        "# From https://changhsinlee.com/colab-import-python/\n",
        "# If you are using GitHub, make sure you get the \"Raw\" version of the code\n",
        "url = 'https://raw.githubusercontent.com/GabeAspir/Patent-Prior-Art-Finder/5505804d418d12ee8df208637655a933201b46d3/_DevNLTKPatentPriorArtFinder.py'\n",
        "r = requests.get(url)\n",
        "\n",
        "# make sure your filename is the same as how you want to import \n",
        "with open('_DevNLTKPatentPriorArtFinder.py', 'w') as f:\n",
        "    f.write(r.text)\n",
        "\n",
        "# now we can import\n",
        "from _DevNLTKPatentPriorArtFinder import _DevNLTKPatentPriorArtFinder as paf"
      ],
      "execution_count": null,
      "outputs": [
        {
          "output_type": "stream",
          "text": [
            "[nltk_data] Downloading package punkt to /root/nltk_data...\n",
            "[nltk_data]   Unzipping tokenizers/punkt.zip.\n",
            "[nltk_data] Downloading package stopwords to /root/nltk_data...\n",
            "[nltk_data]   Unzipping corpora/stopwords.zip.\n"
          ],
          "name": "stdout"
        }
      ]
    },
    {
      "cell_type": "code",
      "metadata": {
        "id": "-ZnspkcgDTI5",
        "colab": {
          "base_uri": "https://localhost:8080/"
        },
        "outputId": "362e98cc-b34e-4060-da11-51dfbd29d6da"
      },
      "source": [
        "from google.colab import auth\n",
        "auth.authenticate_user()\n",
        "print('Authenticated')"
      ],
      "execution_count": null,
      "outputs": [
        {
          "output_type": "stream",
          "text": [
            "Authenticated\n"
          ],
          "name": "stdout"
        }
      ]
    },
    {
      "cell_type": "code",
      "metadata": {
        "id": "tTBFdSAzDYVy",
        "colab": {
          "base_uri": "https://localhost:8080/"
        },
        "outputId": "9b47cd97-caad-484c-f4a5-d9288c7a1d5b"
      },
      "source": [
        "patent_Number = 'US-9428454-B2' #@param {type:\"string\"}\n",
        "print(patent_Number)\n",
        "pat= {\"patent_Number\": patent_Number}\n",
        "# Need to validate the patent number"
      ],
      "execution_count": null,
      "outputs": [
        {
          "output_type": "stream",
          "text": [
            "US-9428454-B2\n"
          ],
          "name": "stdout"
        }
      ]
    },
    {
      "cell_type": "code",
      "metadata": {
        "id": "u-7tu2d3DZyn"
      },
      "source": [
        "%%bigquery --project semiotic-garden-315802 pt --params $pat\n",
        "SELECT\n",
        "  publication_number as Publication_Number,\n",
        "  ab.text as Abstract,\n",
        "FROM\n",
        "  patents-public-data.patents.publications,\n",
        "  UNNEST (abstract_localized) AS ab\n",
        "WHERE\n",
        "  publication_number IN (@patent_Number)\n",
        "LIMIT\n",
        "  1"
      ],
      "execution_count": null,
      "outputs": []
    },
    {
      "cell_type": "code",
      "metadata": {
        "colab": {
          "base_uri": "https://localhost:8080/"
        },
        "id": "-cKjYD3Eteve",
        "outputId": "904ec561-816a-4a68-ecca-0fbf7160bed0"
      },
      "source": [
        "print(pt)"
      ],
      "execution_count": null,
      "outputs": [
        {
          "output_type": "stream",
          "text": [
            "  Publication_Number                                           Abstract\n",
            "0      US-9428454-B2  A process for the complete or partial oxygenat...\n"
          ],
          "name": "stdout"
        }
      ]
    },
    {
      "cell_type": "code",
      "metadata": {
        "id": "U3sq12O33D6W"
      },
      "source": [
        ""
      ],
      "execution_count": null,
      "outputs": []
    }
  ]
}